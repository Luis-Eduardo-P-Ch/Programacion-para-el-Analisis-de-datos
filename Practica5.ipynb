{
  "nbformat": 4,
  "nbformat_minor": 0,
  "metadata": {
    "kernelspec": {
      "display_name": "Python 3",
      "language": "python",
      "name": "python3"
    },
    "language_info": {
      "codemirror_mode": {
        "name": "ipython",
        "version": 3
      },
      "file_extension": ".py",
      "mimetype": "text/x-python",
      "name": "python",
      "nbconvert_exporter": "python",
      "pygments_lexer": "ipython3",
      "version": "3.7.3"
    },
    "colab": {
      "provenance": [],
      "include_colab_link": true
    }
  },
  "cells": [
    {
      "cell_type": "markdown",
      "metadata": {
        "id": "view-in-github",
        "colab_type": "text"
      },
      "source": [
        "<a href=\"https://colab.research.google.com/github/Luis-Eduardo-P-Ch/Programacion-para-el-Analisis-de-datos/blob/main/Practica5.ipynb\" target=\"_parent\"><img src=\"https://colab.research.google.com/assets/colab-badge.svg\" alt=\"Open In Colab\"/></a>"
      ]
    },
    {
      "cell_type": "markdown",
      "metadata": {
        "id": "la4FG1m9dFWv"
      },
      "source": [
        "# Programación para Análisis de datos\n",
        "## Práctica 5: Gráficos\n",
        "\n",
        "\n",
        "<b>Nota:</b>\n",
        "Esta practica esta basada en los ejercicios de varios recursos online como:\n",
        "\n"
      ]
    },
    {
      "cell_type": "markdown",
      "metadata": {
        "id": "5XzUPxDHdFWy"
      },
      "source": [
        "1. Importe matplotlib y lo necesario para poder ver los plots en el notebook    "
      ]
    },
    {
      "cell_type": "code",
      "metadata": {
        "id": "SINzzWTmdFWz"
      },
      "source": [
        "import matplotlib.pyplot as plt\n",
        "#Al ejecutar la línea de código %matplotlib inline en una celda de Colab, se habilita \n",
        "#la visualización de gráficos en el notebook de Jupyter que se está utilizando.\n",
        "%matplotlib inline"
      ],
      "execution_count": 1,
      "outputs": []
    },
    {
      "cell_type": "markdown",
      "metadata": {
        "id": "lWQh-Em8dFW4"
      },
      "source": [
        "2. Reproduzca los siguientes gráficos"
      ]
    },
    {
      "cell_type": "markdown",
      "metadata": {
        "id": "2ei3sHNMdFW8"
      },
      "source": [
        "2.1  Reproduzca los siguientes plots (plt.plot)\n",
        "<br> ref: https://matplotlib.org/api/_as_gen/matplotlib.pyplot.plot.html\n",
        "<br><img src='https://drive.google.com/uc?id=1ChwiU0JzKiICDRa-lZZBzPPS52hjXEME'>"
      ]
    },
    {
      "cell_type": "code",
      "source": [
        "x=[1,2,3,4,5]\n",
        "y=[1,2,3,4,5]\n",
        "\n",
        "plt.plot(x,y, label='line 1')\n",
        "\n",
        "\n",
        "plt.xlabel('X Label')\n",
        "plt.title('Title')\n",
        "plt.legend()\n",
        "\n",
        "plt.show()"
      ],
      "metadata": {
        "id": "ILSjLb7BzS-d",
        "outputId": "d56b644d-a16f-44ac-97ce-d4b5deb79065",
        "colab": {
          "base_uri": "https://localhost:8080/",
          "height": 295
        }
      },
      "execution_count": 4,
      "outputs": [
        {
          "output_type": "display_data",
          "data": {
            "text/plain": [
              "<Figure size 432x288 with 1 Axes>"
            ],
            "image/png": "[encoded data removed]"
          },
          "metadata": {
            "needs_background": "light"
          }
        }
      ]
    },
    {
      "cell_type": "markdown",
      "metadata": {
        "id": "krhzua1AdFW9"
      },
      "source": [
        "2.2  Reproduzca los siguientes plots (plt.plot)<br>\n",
        "ref: https://matplotlib.org/3.2.0/api/markers_api.html\n",
        "<br><img src='https://drive.google.com/uc?id=1HiH4vlNdRZr2kGPCHKn8Pf04sZsxuQSZ'>\n"
      ]
    },
    {
      "cell_type": "markdown",
      "metadata": {
        "id": "v6i7QuQxdFW_"
      },
      "source": [
        "2.3  Repoduzca los siguientes plots (plt.plot)<br>\n",
        "ref: https://matplotlib.org/3.2.0/api/markers_api.html <br>\n",
        "hint: color, lw\n",
        "<br><img src='https://drive.google.com/uc?id=1fS6kHDh2AfO2B_L0taYR84MhpNX6XsG2'>\n"
      ]
    },
    {
      "cell_type": "markdown",
      "metadata": {
        "id": "h0ob8WAkdFXA"
      },
      "source": [
        "2.4  Reproduzca los siguientes plots (plt.plot)\n",
        "<br><img src='https://drive.google.com/uc?id=1RhEjSQ3d3E5Hlg8mixWJErXevXJiqHwO'>\n"
      ]
    },
    {
      "cell_type": "markdown",
      "metadata": {
        "id": "-2Wd6d18dFXB"
      },
      "source": [
        "2.5  Reproduzca los siguientes plots (plt.plot)<br>\n",
        "hint: xlabel, ylabel, plt.legend <br>\n",
        "<img src='https://drive.google.com/uc?id=1mbkFW7ZTDAm0E8gH_68OMDcgAIyNzdPj'>\n"
      ]
    },
    {
      "cell_type": "markdown",
      "metadata": {
        "id": "m8Xq1QkrdFXC"
      },
      "source": [
        "3. Scatter <br>\n",
        "ref: https://matplotlib.org/3.2.0/api/_as_gen/matplotlib.pyplot.scatter.html"
      ]
    },
    {
      "cell_type": "markdown",
      "metadata": {
        "id": "0_znncT3dFXD"
      },
      "source": [
        "3.1  Reproduzca los siguientes scatter (plt.scatter)<br>\n",
        "hint: use los campos \"s\" y \"c\", respectivos a size y a color <br>\n",
        "<img src='https://drive.google.com/uc?id=17Wpd_IjN_u9i1qFoyR-Ur8lubBClP3ss'>\n"
      ]
    },
    {
      "cell_type": "markdown",
      "metadata": {
        "id": "eIFuQF1YdFXE"
      },
      "source": [
        "3.2  Reproduzca los siguientes scatter (plt.scatter)<br>\n",
        "hint: tenga en cuenta que el campo \"c\" puede tomar una lista que refiere al tamaño de cada elemento en particular y no solo una constante <br>\n",
        "<img src='https://drive.google.com/uc?id=1zUUaraf2vneU4gpHeFGaoHMjsqTXBMeb'>\n"
      ]
    },
    {
      "cell_type": "markdown",
      "metadata": {
        "id": "yhXqHzT6dFXF"
      },
      "source": [
        "3.3  Reproduzca los siguientes scatter (plt.scatter)<br>\n",
        "hint: Use np.random.normal para crear dos distribuciones normales, con difernte media y varianza para ser usadas como coordenadas del gráfico<br>\n",
        "<img src='https://drive.google.com/uc?id=12pMDUlFCEaCHK8pDAnV6itfqppH9H9fP'>\n"
      ]
    },
    {
      "cell_type": "markdown",
      "metadata": {
        "id": "F_PXSAKjdFXG"
      },
      "source": [
        "3.4  Reproduzca los siguientes scatter (plt.scatter)<br>\n",
        "hint: Use el parametro alpha que modela cuan transparante es cada punto.<br>\n",
        "<img src='https://drive.google.com/uc?id=1jX1ic1AfrRaHJllz-7CwKsoV_9Geri5N'>\n"
      ]
    },
    {
      "cell_type": "markdown",
      "metadata": {
        "id": "UM1m0FNTdFXH"
      },
      "source": [
        "3.5  Reproduzca los siguientes scatter (plt.scatter)<br>\n",
        "hint: Use el campo cmap para cambiar la escala de colores. En el siguiente link puede encontrar diversos motivos https://matplotlib.org/users/colormaps.html <br>\n",
        "<img src='https://drive.google.com/uc?id=1zJQSvQlCD0lCTn_oyg4mJygOx8qDT78b'>\n"
      ]
    },
    {
      "cell_type": "markdown",
      "metadata": {
        "id": "0mnj9hv4dFXI"
      },
      "source": [
        "3.6  Reproduzca los siguientes scatter (plt.scatter)<br>\n",
        "hint: El parametro \"s\" puede tomar una constante y tambien una lista/array<br>\n",
        "<img src='https://drive.google.com/uc?id=1MhI4DjR3-6JagJ91Gdxu0wORCtgGmWON'>\n"
      ]
    },
    {
      "cell_type": "markdown",
      "metadata": {
        "id": "3BD6mNRWdFXJ"
      },
      "source": [
        "4. Pcolor <br>\n",
        "ref: https://matplotlib.org/3.2.0/api/_as_gen/matplotlib.pyplot.pcolor.html"
      ]
    },
    {
      "cell_type": "markdown",
      "metadata": {
        "id": "6ObM7p2NdFXO"
      },
      "source": [
        "4.1  Reproduzca los siguientes pcolor (plt.pcolor)<br>\n",
        "hint: Puede usar nuevamente np.random.normal para crear distribuciones en tantas dimensiones como quiera. Visualice la escala de colores con \"colorbar\" <br>\n",
        "<img src='https://drive.google.com/uc?id=1fujmORhGJstsjBwGwUbUrZ-QLE5fGVTF'>\n"
      ]
    },
    {
      "cell_type": "markdown",
      "metadata": {
        "id": "R9xc5U-XdFXQ"
      },
      "source": [
        "4.2  Reproduzca los siguientes pcolor (plt.pcolor)<br>\n",
        "<img src='https://drive.google.com/uc?id=1PAy7UyCbV6w4BElaE47A2Ckca__KEvL4'>\n"
      ]
    },
    {
      "cell_type": "markdown",
      "metadata": {
        "id": "5AJt6SX-dFXR"
      },
      "source": [
        "4.3  Reproduzca los siguientes pcolor (plt.pcolor)<br>\n",
        "<img src='https://drive.google.com/uc?id=1OrAU70BAeLqZY6Cla5cINQyascqF2Z19'>\n"
      ]
    },
    {
      "cell_type": "markdown",
      "metadata": {
        "id": "qb4cZRqDdFXS"
      },
      "source": [
        "4.4  Reproduzca los siguientes pcolor (plt.pcolor)<br>\n",
        "hint: Cree una matriz como la del ejercicio anterior y luego sumele \"ruido\" es decir numeros random con menor magnitud <br>\n",
        "<img src='https://drive.google.com/uc?id=1fkk9hryYtHCIX5YSQlkytHxhUZkxeE3Y'>\n"
      ]
    },
    {
      "cell_type": "markdown",
      "metadata": {
        "id": "DFwgk9G6dFXT"
      },
      "source": [
        "4.5  Reproduzca los siguientes pcolor (plt.pcolor)<br>\n",
        "hint: use subplots (https://matplotlib.org/api/_as_gen/matplotlib.pyplot.subplots.html) y visualice en una sola figura todas las figuras anteriores<br>\n",
        "<img src='https://drive.google.com/uc?id=1w9mvTIL0HjHlRVgAVTYh5RkZS7_RlstK'>\n"
      ]
    },
    {
      "cell_type": "markdown",
      "metadata": {
        "id": "UIA8RjhEdFXU"
      },
      "source": [
        "5 Usando el dataset de bebidas de la práctica anterior <br>\n",
        "link: https://facuzeta.github.io/udesa/01_programacion/guias/datasets/drinks.csv"
      ]
    },
    {
      "cell_type": "markdown",
      "metadata": {
        "id": "Y8V0tKKUdFXV"
      },
      "source": [
        "5.1 Visualice las diferentes distribuciones de cada tipo de bebida usando histogramas (plt.hist), experimentando con diferentes valores de bins. Piense como el cambio de bins puede afectar las conclusiones que transmiten las figuras (pruebe valores de bins fijos, rangos, etc)\n",
        "ref: https://matplotlib.org/3.2.0/api/_as_gen/matplotlib.pyplot.hist.html"
      ]
    },
    {
      "cell_type": "markdown",
      "metadata": {
        "id": "_Vtku_CWdFXW"
      },
      "source": [
        "6 . Agrupe por continente y visualice con barras las medias de cada bebida (plt.bar). Tambien sumele el desvio standard como medida de dispersion/error. Por ejemplo, para cerveza, deberia verse asi: <br>\n",
        "<img src='https://drive.google.com/uc?id=1dDGS9L3IgK-rnLK7L91PDiEpK9ujQB6p'>\n",
        "\n",
        "Pruebe armar subplots para mostrar todas las bebidas en una misma figura. Tambien experimento con la version horizonal de bar (plt.barh)\n",
        "\n",
        "ref: https://matplotlib.org/3.2.0/api/_as_gen/matplotlib.pyplot.bar.html?highlight=bar#matplotlib.pyplot.bar"
      ]
    },
    {
      "cell_type": "markdown",
      "metadata": {
        "id": "69qN8IxsdFXX"
      },
      "source": [
        "7 . Reporte las distribuciones anteriores, pero en lugar de mostrar solo la media y el desvio standard use boxplots (plt.boxplot). ¿Qué vengajas y desventajas tiene?"
      ]
    },
    {
      "cell_type": "markdown",
      "metadata": {
        "id": "a7IFTouqdFXY"
      },
      "source": [
        "8 . Seaborn <br>\n",
        "8.1 Use jointplot para visualizar las distribuciones conjuntas de wine_servings y beer_servings\n",
        "ref: https://seaborn.pydata.org/examples/hexbin_marginals.html <br>\n",
        "\n",
        "Experimente diferntes valores de kind, ¿Qué ventajas tiene cada uno?<br>\n",
        "<img src='https://drive.google.com/uc?id=1HJ1wbbJGfNXFuW4KYYJ_SyasJlJM04UD'>\n",
        "<img src='https://drive.google.com/uc?id=1sigjHDDUYUW52Zn-p3W0XYMJnjTlSJjG'>"
      ]
    },
    {
      "cell_type": "markdown",
      "metadata": {
        "id": "-gcauc-9dFXZ"
      },
      "source": [
        "9. Experimente con los atributos que no uso hasta entonces para los diferentes tipos de gráficos"
      ]
    },
    {
      "cell_type": "code",
      "metadata": {
        "id": "-W6LL8ZEdFXe"
      },
      "source": [],
      "execution_count": null,
      "outputs": []
    }
  ]
}