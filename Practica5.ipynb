{
  "nbformat": 4,
  "nbformat_minor": 0,
  "metadata": {
    "kernelspec": {
      "display_name": "Python 3",
      "language": "python",
      "name": "python3"
    },
    "language_info": {
      "codemirror_mode": {
        "name": "ipython",
        "version": 3
      },
      "file_extension": ".py",
      "mimetype": "text/x-python",
      "name": "python",
      "nbconvert_exporter": "python",
      "pygments_lexer": "ipython3",
      "version": "3.7.3"
    },
    "colab": {
      "provenance": [],
      "include_colab_link": true
    }
  },
  "cells": [
    {
      "cell_type": "markdown",
      "metadata": {
        "id": "view-in-github",
        "colab_type": "text"
      },
      "source": [
        "<a href=\"https://colab.research.google.com/github/Luis-Eduardo-P-Ch/Programacion-para-el-Analisis-de-datos/blob/main/Practica5.ipynb\" target=\"_parent\"><img src=\"https://colab.research.google.com/assets/colab-badge.svg\" alt=\"Open In Colab\"/></a>"
      ]
    },
    {
      "cell_type": "markdown",
      "metadata": {
        "id": "la4FG1m9dFWv"
      },
      "source": [
        "# Programación para Análisis de datos\n",
        "## Práctica 5: Gráficos\n",
        "\n",
        "\n",
        "<b>Nota:</b>\n",
        "Esta practica esta basada en los ejercicios de varios recursos online como:\n",
        "\n"
      ]
    },
    {
      "cell_type": "markdown",
      "metadata": {
        "id": "5XzUPxDHdFWy"
      },
      "source": [
        "1. Importe matplotlib y lo necesario para poder ver los plots en el notebook    "
      ]
    },
    {
      "cell_type": "code",
      "metadata": {
        "id": "SINzzWTmdFWz"
      },
      "source": [
        "import matplotlib.pyplot as plt\n",
        "#Al ejecutar la línea de código %matplotlib inline en una celda de Colab, se habilita \n",
        "#la visualización de gráficos en el notebook de Jupyter que se está utilizando.\n",
        "%matplotlib inline"
      ],
      "execution_count": null,
      "outputs": []
    },
    {
      "cell_type": "markdown",
      "metadata": {
        "id": "lWQh-Em8dFW4"
      },
      "source": [
        "2. Reproduzca los siguientes gráficos"
      ]
    },
    {
      "cell_type": "markdown",
      "metadata": {
        "id": "2ei3sHNMdFW8"
      },
      "source": [
        "2.1  Reproduzca los siguientes plots (plt.plot)\n",
        "<br> ref: https://matplotlib.org/api/_as_gen/matplotlib.pyplot.plot.html\n",
        "<br><img src='https://drive.google.com/uc?id=1ChwiU0JzKiICDRa-lZZBzPPS52hjXEME'>"
      ]
    },
    {
      "cell_type": "code",
      "source": [
        "x=[1,2,3,4,5]\n",
        "y=[1,2,3,4,5]\n",
        "\n",
        "plt.plot(x,y, label='line 1')\n",
        "\n",
        "\n",
        "plt.xlabel('X Label')\n",
        "plt.title('Title')\n",
        "plt.legend()\n",
        "\n",
        "plt.show()"
      ],
      "metadata": {
        "id": "ILSjLb7BzS-d",
        "outputId": "d56b644d-a16f-44ac-97ce-d4b5deb79065",
        "colab": {
          "base_uri": "https://localhost:8080/",
          "height": 295
        }
      },
      "execution_count": null,
      "outputs": [
        {
          "output_type": "display_data",
          "data": {
            "text/plain": [
              "<Figure size 432x288 with 1 Axes>"
            ],
            "image/png": "[encoded data removed]"
          },
          "metadata": {
            "needs_background": "light"
          }
        }
      ]
    },
    {
      "cell_type": "markdown",
      "metadata": {
        "id": "krhzua1AdFW9"
      },
      "source": [
        "2.2  Reproduzca los siguientes plots (plt.plot)<br>\n",
        "ref: https://matplotlib.org/3.2.0/api/markers_api.html\n",
        "<br><img src='https://drive.google.com/uc?id=1HiH4vlNdRZr2kGPCHKn8Pf04sZsxuQSZ'>\n"
      ]
    },
    {
      "cell_type": "markdown",
      "metadata": {
        "id": "v6i7QuQxdFW_"
      },
      "source": [
        "2.3  Repoduzca los siguientes plots (plt.plot)<br>\n",
        "ref: https://matplotlib.org/3.2.0/api/markers_api.html <br>\n",
        "hint: color, lw\n",
        "<br><img src='https://drive.google.com/uc?id=1fS6kHDh2AfO2B_L0taYR84MhpNX6XsG2'>\n"
      ]
    },
    {
      "cell_type": "markdown",
      "metadata": {
        "id": "h0ob8WAkdFXA"
      },
      "source": [
        "2.4  Reproduzca los siguientes plots (plt.plot)\n",
        "<br><img src='https://drive.google.com/uc?id=1RhEjSQ3d3E5Hlg8mixWJErXevXJiqHwO'>\n"
      ]
    },
    {
      "cell_type": "markdown",
      "metadata": {
        "id": "-2Wd6d18dFXB"
      },
      "source": [
        "2.5  Reproduzca los siguientes plots (plt.plot)<br>\n",
        "hint: xlabel, ylabel, plt.legend <br>\n",
        "<img src='https://drive.google.com/uc?id=1mbkFW7ZTDAm0E8gH_68OMDcgAIyNzdPj'>\n"
      ]
    },
    {
      "cell_type": "markdown",
      "metadata": {
        "id": "m8Xq1QkrdFXC"
      },
      "source": [
        "3. Scatter <br>\n",
        "ref: https://matplotlib.org/3.2.0/api/_as_gen/matplotlib.pyplot.scatter.html"
      ]
    },
    {
      "cell_type": "markdown",
      "metadata": {
        "id": "0_znncT3dFXD"
      },
      "source": [
        "3.1  Reproduzca los siguientes scatter (plt.scatter)<br>\n",
        "hint: use los campos \"s\" y \"c\", respectivos a size y a color <br>\n",
        "<img src='https://drive.google.com/uc?id=17Wpd_IjN_u9i1qFoyR-Ur8lubBClP3ss'>\n"
      ]
    },
    {
      "cell_type": "markdown",
      "metadata": {
        "id": "eIFuQF1YdFXE"
      },
      "source": [
        "3.2  Reproduzca los siguientes scatter (plt.scatter)<br>\n",
        "hint: tenga en cuenta que el campo \"c\" puede tomar una lista que refiere al tamaño de cada elemento en particular y no solo una constante <br>\n",
        "<img src='https://drive.google.com/uc?id=1zUUaraf2vneU4gpHeFGaoHMjsqTXBMeb'>\n"
      ]
    },
    {
      "cell_type": "markdown",
      "metadata": {
        "id": "yhXqHzT6dFXF"
      },
      "source": [
        "3.3  Reproduzca los siguientes scatter (plt.scatter)<br>\n",
        "hint: Use np.random.normal para crear dos distribuciones normales, con difernte media y varianza para ser usadas como coordenadas del gráfico<br>\n",
        "<img src='https://drive.google.com/uc?id=12pMDUlFCEaCHK8pDAnV6itfqppH9H9fP'>\n"
      ]
    },
    {
      "cell_type": "markdown",
      "metadata": {
        "id": "F_PXSAKjdFXG"
      },
      "source": [
        "3.4  Reproduzca los siguientes scatter (plt.scatter)<br>\n",
        "hint: Use el parametro alpha que modela cuan transparante es cada punto.<br>\n",
        "<img src='https://drive.google.com/uc?id=1jX1ic1AfrRaHJllz-7CwKsoV_9Geri5N'>\n"
      ]
    },
    {
      "cell_type": "markdown",
      "metadata": {
        "id": "UM1m0FNTdFXH"
      },
      "source": [
        "3.5  Reproduzca los siguientes scatter (plt.scatter)<br>\n",
        "hint: Use el campo cmap para cambiar la escala de colores. En el siguiente link puede encontrar diversos motivos https://matplotlib.org/users/colormaps.html <br>\n",
        "<img src='https://drive.google.com/uc?id=1zJQSvQlCD0lCTn_oyg4mJygOx8qDT78b'>\n"
      ]
    },
    {
      "cell_type": "markdown",
      "metadata": {
        "id": "0mnj9hv4dFXI"
      },
      "source": [
        "3.6  Reproduzca los siguientes scatter (plt.scatter)<br>\n",
        "hint: El parametro \"s\" puede tomar una constante y tambien una lista/array<br>\n",
        "<img src='https://drive.google.com/uc?id=1MhI4DjR3-6JagJ91Gdxu0wORCtgGmWON'>\n"
      ]
    },
    {
      "cell_type": "markdown",
      "metadata": {
        "id": "3BD6mNRWdFXJ"
      },
      "source": [
        "4. Pcolor <br>\n",
        "ref: https://matplotlib.org/3.2.0/api/_as_gen/matplotlib.pyplot.pcolor.html"
      ]
    },
    {
      "cell_type": "markdown",
      "metadata": {
        "id": "6ObM7p2NdFXO"
      },
      "source": [
        "4.1  Reproduzca los siguientes pcolor (plt.pcolor)<br>\n",
        "hint: Puede usar nuevamente np.random.normal para crear distribuciones en tantas dimensiones como quiera. Visualice la escala de colores con \"colorbar\" <br>\n",
        "<img src='https://drive.google.com/uc?id=1fujmORhGJstsjBwGwUbUrZ-QLE5fGVTF'>\n"
      ]
    },
    {
      "cell_type": "markdown",
      "metadata": {
        "id": "R9xc5U-XdFXQ"
      },
      "source": [
        "4.2  Reproduzca los siguientes pcolor (plt.pcolor)<br>\n",
        "<img src='https://drive.google.com/uc?id=1PAy7UyCbV6w4BElaE47A2Ckca__KEvL4'>\n"
      ]
    },
    {
      "cell_type": "markdown",
      "metadata": {
        "id": "5AJt6SX-dFXR"
      },
      "source": [
        "4.3  Reproduzca los siguientes pcolor (plt.pcolor)<br>\n",
        "<img src='https://drive.google.com/uc?id=1OrAU70BAeLqZY6Cla5cINQyascqF2Z19'>\n"
      ]
    },
    {
      "cell_type": "markdown",
      "metadata": {
        "id": "qb4cZRqDdFXS"
      },
      "source": [
        "4.4  Reproduzca los siguientes pcolor (plt.pcolor)<br>\n",
        "hint: Cree una matriz como la del ejercicio anterior y luego sumele \"ruido\" es decir numeros random con menor magnitud <br>\n",
        "<img src='https://drive.google.com/uc?id=1fkk9hryYtHCIX5YSQlkytHxhUZkxeE3Y'>\n"
      ]
    },
    {
      "cell_type": "markdown",
      "metadata": {
        "id": "DFwgk9G6dFXT"
      },
      "source": [
        "4.5  Reproduzca los siguientes pcolor (plt.pcolor)<br>\n",
        "hint: use subplots (https://matplotlib.org/api/_as_gen/matplotlib.pyplot.subplots.html) y visualice en una sola figura todas las figuras anteriores<br>\n",
        "<img src='https://drive.google.com/uc?id=1w9mvTIL0HjHlRVgAVTYh5RkZS7_RlstK'>\n"
      ]
    },
    {
      "cell_type": "markdown",
      "metadata": {
        "id": "UIA8RjhEdFXU"
      },
      "source": [
        "5 Usando el dataset de bebidas de la práctica anterior <br>\n",
        "link: https://facuzeta.github.io/udesa/01_programacion/guias/datasets/drinks.csv"
      ]
    },
    {
      "cell_type": "code",
      "source": [
        "import pandas as pd"
      ],
      "metadata": {
        "id": "i79HJ4SzOwic"
      },
      "execution_count": 1,
      "outputs": []
    },
    {
      "cell_type": "code",
      "source": [
        "df=pd.read_csv('https://facuzeta.github.io/udesa/01_programacion/guias/datasets/drinks.csv')\n",
        "df"
      ],
      "metadata": {
        "id": "So9SgJ1sPMkc",
        "outputId": "caad781d-c328-4038-c228-b71e462a3f94",
        "colab": {
          "base_uri": "https://localhost:8080/",
          "height": 423
        }
      },
      "execution_count": 3,
      "outputs": [
        {
          "output_type": "execute_result",
          "data": {
            "text/plain": [
              "         country  beer_servings  spirit_servings  wine_servings  \\\n",
              "0    Afghanistan              0                0              0   \n",
              "1        Albania             89              132             54   \n",
              "2        Algeria             25                0             14   \n",
              "3        Andorra            245              138            312   \n",
              "4         Angola            217               57             45   \n",
              "..           ...            ...              ...            ...   \n",
              "188    Venezuela            333              100              3   \n",
              "189      Vietnam            111                2              1   \n",
              "190        Yemen              6                0              0   \n",
              "191       Zambia             32               19              4   \n",
              "192     Zimbabwe             64               18              4   \n",
              "\n",
              "     total_litres_of_pure_alcohol continent  \n",
              "0                             0.0        AS  \n",
              "1                             4.9        EU  \n",
              "2                             0.7        AF  \n",
              "3                            12.4        EU  \n",
              "4                             5.9        AF  \n",
              "..                            ...       ...  \n",
              "188                           7.7        SA  \n",
              "189                           2.0        AS  \n",
              "190                           0.1        AS  \n",
              "191                           2.5        AF  \n",
              "192                           4.7        AF  \n",
              "\n",
              "[193 rows x 6 columns]"
            ],
            "text/html": [
              "\n",
              "  <div id=\"df-4c416436-0957-489a-b6f4-21851ff1d9e4\">\n",
              "    <div class=\"colab-df-container\">\n",
              "      <div>\n",
              "<style scoped>\n",
              "    .dataframe tbody tr th:only-of-type {\n",
              "        vertical-align: middle;\n",
              "    }\n",
              "\n",
              "    .dataframe tbody tr th {\n",
              "        vertical-align: top;\n",
              "    }\n",
              "\n",
              "    .dataframe thead th {\n",
              "        text-align: right;\n",
              "    }\n",
              "</style>\n",
              "<table border=\"1\" class=\"dataframe\">\n",
              "  <thead>\n",
              "    <tr style=\"text-align: right;\">\n",
              "      <th></th>\n",
              "      <th>country</th>\n",
              "      <th>beer_servings</th>\n",
              "      <th>spirit_servings</th>\n",
              "      <th>wine_servings</th>\n",
              "      <th>total_litres_of_pure_alcohol</th>\n",
              "      <th>continent</th>\n",
              "    </tr>\n",
              "  </thead>\n",
              "  <tbody>\n",
              "    <tr>\n",
              "      <th>0</th>\n",
              "      <td>Afghanistan</td>\n",
              "      <td>0</td>\n",
              "      <td>0</td>\n",
              "      <td>0</td>\n",
              "      <td>0.0</td>\n",
              "      <td>AS</td>\n",
              "    </tr>\n",
              "    <tr>\n",
              "      <th>1</th>\n",
              "      <td>Albania</td>\n",
              "      <td>89</td>\n",
              "      <td>132</td>\n",
              "      <td>54</td>\n",
              "      <td>4.9</td>\n",
              "      <td>EU</td>\n",
              "    </tr>\n",
              "    <tr>\n",
              "      <th>2</th>\n",
              "      <td>Algeria</td>\n",
              "      <td>25</td>\n",
              "      <td>0</td>\n",
              "      <td>14</td>\n",
              "      <td>0.7</td>\n",
              "      <td>AF</td>\n",
              "    </tr>\n",
              "    <tr>\n",
              "      <th>3</th>\n",
              "      <td>Andorra</td>\n",
              "      <td>245</td>\n",
              "      <td>138</td>\n",
              "      <td>312</td>\n",
              "      <td>12.4</td>\n",
              "      <td>EU</td>\n",
              "    </tr>\n",
              "    <tr>\n",
              "      <th>4</th>\n",
              "      <td>Angola</td>\n",
              "      <td>217</td>\n",
              "      <td>57</td>\n",
              "      <td>45</td>\n",
              "      <td>5.9</td>\n",
              "      <td>AF</td>\n",
              "    </tr>\n",
              "    <tr>\n",
              "      <th>...</th>\n",
              "      <td>...</td>\n",
              "      <td>...</td>\n",
              "      <td>...</td>\n",
              "      <td>...</td>\n",
              "      <td>...</td>\n",
              "      <td>...</td>\n",
              "    </tr>\n",
              "    <tr>\n",
              "      <th>188</th>\n",
              "      <td>Venezuela</td>\n",
              "      <td>333</td>\n",
              "      <td>100</td>\n",
              "      <td>3</td>\n",
              "      <td>7.7</td>\n",
              "      <td>SA</td>\n",
              "    </tr>\n",
              "    <tr>\n",
              "      <th>189</th>\n",
              "      <td>Vietnam</td>\n",
              "      <td>111</td>\n",
              "      <td>2</td>\n",
              "      <td>1</td>\n",
              "      <td>2.0</td>\n",
              "      <td>AS</td>\n",
              "    </tr>\n",
              "    <tr>\n",
              "      <th>190</th>\n",
              "      <td>Yemen</td>\n",
              "      <td>6</td>\n",
              "      <td>0</td>\n",
              "      <td>0</td>\n",
              "      <td>0.1</td>\n",
              "      <td>AS</td>\n",
              "    </tr>\n",
              "    <tr>\n",
              "      <th>191</th>\n",
              "      <td>Zambia</td>\n",
              "      <td>32</td>\n",
              "      <td>19</td>\n",
              "      <td>4</td>\n",
              "      <td>2.5</td>\n",
              "      <td>AF</td>\n",
              "    </tr>\n",
              "    <tr>\n",
              "      <th>192</th>\n",
              "      <td>Zimbabwe</td>\n",
              "      <td>64</td>\n",
              "      <td>18</td>\n",
              "      <td>4</td>\n",
              "      <td>4.7</td>\n",
              "      <td>AF</td>\n",
              "    </tr>\n",
              "  </tbody>\n",
              "</table>\n",
              "<p>193 rows × 6 columns</p>\n",
              "</div>\n",
              "      <button class=\"colab-df-convert\" onclick=\"convertToInteractive('df-4c416436-0957-489a-b6f4-21851ff1d9e4')\"\n",
              "              title=\"Convert this dataframe to an interactive table.\"\n",
              "              style=\"display:none;\">\n",
              "        \n",
              "  <svg xmlns=\"http://www.w3.org/2000/svg\" height=\"24px\"viewBox=\"0 0 24 24\"\n",
              "       width=\"24px\">\n",
              "    <path d=\"M0 0h24v24H0V0z\" fill=\"none\"/>\n",
              "    <path d=\"M18.56 5.44l.94 2.06.94-2.06 2.06-.94-2.06-.94-.94-2.06-.94 2.06-2.06.94zm-11 1L8.5 8.5l.94-2.06 2.06-.94-2.06-.94L8.5 2.5l-.94 2.06-2.06.94zm10 10l.94 2.06.94-2.06 2.06-.94-2.06-.94-.94-2.06-.94 2.06-2.06.94z\"/><path d=\"M17.41 7.96l-1.37-1.37c-.4-.4-.92-.59-1.43-.59-.52 0-1.04.2-1.43.59L10.3 9.45l-7.72 7.72c-.78.78-.78 2.05 0 2.83L4 21.41c.39.39.9.59 1.41.59.51 0 1.02-.2 1.41-.59l7.78-7.78 2.81-2.81c.8-.78.8-2.07 0-2.86zM5.41 20L4 18.59l7.72-7.72 1.47 1.35L5.41 20z\"/>\n",
              "  </svg>\n",
              "      </button>\n",
              "      \n",
              "  <style>\n",
              "    .colab-df-container {\n",
              "      display:flex;\n",
              "      flex-wrap:wrap;\n",
              "      gap: 12px;\n",
              "    }\n",
              "\n",
              "    .colab-df-convert {\n",
              "      background-color: #E8F0FE;\n",
              "      border: none;\n",
              "      border-radius: 50%;\n",
              "      cursor: pointer;\n",
              "      display: none;\n",
              "      fill: #1967D2;\n",
              "      height: 32px;\n",
              "      padding: 0 0 0 0;\n",
              "      width: 32px;\n",
              "    }\n",
              "\n",
              "    .colab-df-convert:hover {\n",
              "      background-color: #E2EBFA;\n",
              "      box-shadow: 0px 1px 2px rgba(60, 64, 67, 0.3), 0px 1px 3px 1px rgba(60, 64, 67, 0.15);\n",
              "      fill: #174EA6;\n",
              "    }\n",
              "\n",
              "    [theme=dark] .colab-df-convert {\n",
              "      background-color: #3B4455;\n",
              "      fill: #D2E3FC;\n",
              "    }\n",
              "\n",
              "    [theme=dark] .colab-df-convert:hover {\n",
              "      background-color: #434B5C;\n",
              "      box-shadow: 0px 1px 3px 1px rgba(0, 0, 0, 0.15);\n",
              "      filter: drop-shadow(0px 1px 2px rgba(0, 0, 0, 0.3));\n",
              "      fill: #FFFFFF;\n",
              "    }\n",
              "  </style>\n",
              "\n",
              "      <script>\n",
              "        const buttonEl =\n",
              "          document.querySelector('#df-4c416436-0957-489a-b6f4-21851ff1d9e4 button.colab-df-convert');\n",
              "        buttonEl.style.display =\n",
              "          google.colab.kernel.accessAllowed ? 'block' : 'none';\n",
              "\n",
              "        async function convertToInteractive(key) {\n",
              "          const element = document.querySelector('#df-4c416436-0957-489a-b6f4-21851ff1d9e4');\n",
              "          const dataTable =\n",
              "            await google.colab.kernel.invokeFunction('convertToInteractive',\n",
              "                                                     [key], {});\n",
              "          if (!dataTable) return;\n",
              "\n",
              "          const docLinkHtml = 'Like what you see? Visit the ' +\n",
              "            '<a target=\"_blank\" href=https://colab.research.google.com/notebooks/data_table.ipynb>data table notebook</a>'\n",
              "            + ' to learn more about interactive tables.';\n",
              "          element.innerHTML = '';\n",
              "          dataTable['output_type'] = 'display_data';\n",
              "          await google.colab.output.renderOutput(dataTable, element);\n",
              "          const docLink = document.createElement('div');\n",
              "          docLink.innerHTML = docLinkHtml;\n",
              "          element.appendChild(docLink);\n",
              "        }\n",
              "      </script>\n",
              "    </div>\n",
              "  </div>\n",
              "  "
            ]
          },
          "metadata": {},
          "execution_count": 3
        }
      ]
    },
    {
      "cell_type": "code",
      "source": [
        "#Utilizamos value_counts() para obtener el recuento de cada continente\n",
        "counts= df['continent'].value_counts()\n",
        "counts"
      ],
      "metadata": {
        "id": "Asl3RTz-RiVB",
        "outputId": "b2412e58-72ef-46ea-dbfa-6b4b367dcb37",
        "colab": {
          "base_uri": "https://localhost:8080/"
        }
      },
      "execution_count": 4,
      "outputs": [
        {
          "output_type": "execute_result",
          "data": {
            "text/plain": [
              "AF    53\n",
              "EU    45\n",
              "AS    44\n",
              "OC    16\n",
              "SA    12\n",
              "Name: continent, dtype: int64"
            ]
          },
          "metadata": {},
          "execution_count": 4
        }
      ]
    },
    {
      "cell_type": "code",
      "source": [
        "#Agrupar por continente y calcular el promedio de consumo de cerveza\n",
        "cerveza_por_continente=df.groupby('continent')['beer_servings'].mean()\n",
        "\n",
        "#Encontrar el continente con el mayor promedio de consumo de cerveza\n",
        "continente_mayor_cerveza= cerveza_por_continente.idxmax()\n",
        "\n",
        "print(\"Promedio por continente\",cerveza_por_continente, \"El continente que bebe más cerveza en promedio es:\", continente_mayor_cerveza)\n"
      ],
      "metadata": {
        "id": "-owDOy5dSMAO",
        "outputId": "7b9b5f58-5d28-4ce7-d240-4af7e6ac570d",
        "colab": {
          "base_uri": "https://localhost:8080/"
        }
      },
      "execution_count": 7,
      "outputs": [
        {
          "output_type": "stream",
          "name": "stdout",
          "text": [
            "Promedio por continente continent\n",
            "AF     61.471698\n",
            "AS     37.045455\n",
            "EU    193.777778\n",
            "OC     89.687500\n",
            "SA    175.083333\n",
            "Name: beer_servings, dtype: float64 El continente que bebe más cerveza en promedio es: EU\n"
          ]
        }
      ]
    },
    {
      "cell_type": "code",
      "source": [
        "#Agrupar por continente y calcular la media para cada columna\n",
        "media_por_continente=df.groupby('continent').mean()\n",
        "\n",
        "#imprimir el resultado\n",
        "\n",
        "print(media_por_continente)"
      ],
      "metadata": {
        "id": "KsomPn5pUMo8",
        "outputId": "5f9141af-b8c6-499f-be17-126246f214ae",
        "colab": {
          "base_uri": "https://localhost:8080/"
        }
      },
      "execution_count": 8,
      "outputs": [
        {
          "output_type": "stream",
          "name": "stdout",
          "text": [
            "           beer_servings  spirit_servings  wine_servings  \\\n",
            "continent                                                  \n",
            "AF             61.471698        16.339623      16.264151   \n",
            "AS             37.045455        60.840909       9.068182   \n",
            "EU            193.777778       132.555556     142.222222   \n",
            "OC             89.687500        58.437500      35.625000   \n",
            "SA            175.083333       114.750000      62.416667   \n",
            "\n",
            "           total_litres_of_pure_alcohol  \n",
            "continent                                \n",
            "AF                             3.007547  \n",
            "AS                             2.170455  \n",
            "EU                             8.617778  \n",
            "OC                             3.381250  \n",
            "SA                             6.308333  \n"
          ]
        }
      ]
    },
    {
      "cell_type": "markdown",
      "metadata": {
        "id": "Y8V0tKKUdFXV"
      },
      "source": [
        "5.1 Visualice las diferentes distribuciones de cada tipo de bebida usando histogramas (plt.hist), experimentando con diferentes valores de bins. Piense como el cambio de bins puede afectar las conclusiones que transmiten las figuras (pruebe valores de bins fijos, rangos, etc)\n",
        "ref: https://matplotlib.org/3.2.0/api/_as_gen/matplotlib.pyplot.hist.html"
      ]
    },
    {
      "cell_type": "code",
      "source": [
        "import matplotlib.pyplot as plt"
      ],
      "metadata": {
        "id": "bwYPc3UvUfUk"
      },
      "execution_count": 9,
      "outputs": []
    },
    {
      "cell_type": "code",
      "source": [
        "#Ahora veamos  la distribucion de consumo de cerveza en Venezuela:\n",
        "\n",
        "paises=df[df['country']=='Venezuela']\n",
        "paises['beer_servings'].hist()\n",
        "\n",
        "# Como vemos en un histograma no tiene mucho sentido hacer este tipo de graficos porque \n",
        "#estaria mostrando cuantas veces se consumio 333 litros en este caso al ser un solo pais solo aparece 1.\n",
        "# Por lo que tendría mas sentido hacer un histograma analizando el consumo de cerveza en todos los países de Europa,\n",
        "#siendo posible que hayan al menos mas de un país que coindidan sus niveles de consumo  "
      ],
      "metadata": {
        "id": "h00tPmsXdFcW",
        "outputId": "626ef8a9-9943-4cb6-af9b-4c7092f75102",
        "colab": {
          "base_uri": "https://localhost:8080/",
          "height": 283
        }
      },
      "execution_count": 18,
      "outputs": [
        {
          "output_type": "execute_result",
          "data": {
            "text/plain": [
              "<Axes: >"
            ]
          },
          "metadata": {},
          "execution_count": 18
        },
        {
          "output_type": "display_data",
          "data": {
            "text/plain": [
              "<Figure size 432x288 with 1 Axes>"
            ],
            "image/png": "[encoded data removed]"
          },
          "metadata": {
            "needs_background": "light"
          }
        }
      ]
    },
    {
      "cell_type": "code",
      "source": [
        "#Para ver la distribucion de consumo de cerveza en todos los paises de Europa:\n",
        "\n",
        "europa=df[df['continent']=='EU']\n",
        "europa['beer_servings'].hist()"
      ],
      "metadata": {
        "id": "3pIyNphmSMGT",
        "outputId": "80338d01-c001-437c-9919-654f122295b6",
        "colab": {
          "base_uri": "https://localhost:8080/",
          "height": 283
        }
      },
      "execution_count": 10,
      "outputs": [
        {
          "output_type": "execute_result",
          "data": {
            "text/plain": [
              "<Axes: >"
            ]
          },
          "metadata": {},
          "execution_count": 10
        },
        {
          "output_type": "display_data",
          "data": {
            "text/plain": [
              "<Figure size 432x288 with 1 Axes>"
            ],
            "image/png": "[encoded data removed]"
          },
          "metadata": {
            "needs_background": "light"
          }
        }
      ]
    },
    {
      "cell_type": "code",
      "source": [
        "#Aplico diferentes valores de bins a un mismo gráfico \n",
        "#Primero debemos crear un objeto de figura y eje utilizando las funciones subplots()\n",
        "\n",
        "fig, ax= plt.subplots()\n",
        "\n",
        "ax.hist(europa['beer_servings'], bins=5, alpha=0.5, label='5 bins')\n",
        "ax.hist(europa['beer_servings'], bins=20, alpha=0.5, label='20 bins')\n",
        "\n",
        "ax.legend()\n",
        "plt.show()\n",
        "\n",
        "#Observamos que con pocos intervalos podemos ver donde se concentran los mayores niveles de consumo de cerveza\n",
        "#es decir , en este caso alrededor de 250- 300. \n",
        "# Sin embargo una desventaja es que no nos permite visualizar los diferentes niveles de consumo como si se hace \n",
        "# al agregar mayor cantidad de intervalos. "
      ],
      "metadata": {
        "id": "BI4qcILmamC3",
        "outputId": "f8a6a069-8bfc-4d3e-80d3-be99a2e0490f",
        "colab": {
          "base_uri": "https://localhost:8080/",
          "height": 265
        }
      },
      "execution_count": 12,
      "outputs": [
        {
          "output_type": "display_data",
          "data": {
            "text/plain": [
              "<Figure size 432x288 with 1 Axes>"
            ],
            "image/png": "[encoded data removed]"
          },
          "metadata": {
            "needs_background": "light"
          }
        }
      ]
    },
    {
      "cell_type": "code",
      "source": [
        "#Ahora veamos  la distribucion de consumo de vino en todos los paises de Europa:\n",
        "\n",
        "europa=df[df['continent']=='EU']\n",
        "europa['wine_servings'].hist()"
      ],
      "metadata": {
        "id": "hCLufn8TcR2-",
        "outputId": "25c230ff-9ab2-4f0a-f96e-b915d51c301b",
        "colab": {
          "base_uri": "https://localhost:8080/",
          "height": 283
        }
      },
      "execution_count": 13,
      "outputs": [
        {
          "output_type": "execute_result",
          "data": {
            "text/plain": [
              "<Axes: >"
            ]
          },
          "metadata": {},
          "execution_count": 13
        },
        {
          "output_type": "display_data",
          "data": {
            "text/plain": [
              "<Figure size 432x288 with 1 Axes>"
            ],
            "image/png": "[encoded data removed]"
          },
          "metadata": {
            "needs_background": "light"
          }
        }
      ]
    },
    {
      "cell_type": "code",
      "source": [
        "#Aplico diferentes valores de bins a un mismo gráfico \n",
        "#Primero debemos crear un objeto de figura y eje utilizando las funciones subplots()\n",
        "\n",
        "fig, ax= plt.subplots()\n",
        "\n",
        "ax.hist(europa['wine_servings'], bins=5, alpha=0.5, label='5 bins')\n",
        "ax.hist(europa['wine_servings'], bins=20, alpha=0.5, label='20 bins')\n",
        "\n",
        "ax.legend()\n",
        "plt.show()"
      ],
      "metadata": {
        "id": "wrnpFdN4cgmL",
        "outputId": "5bb8e8a6-00a9-4adf-f13d-caa95f06dfae",
        "colab": {
          "base_uri": "https://localhost:8080/",
          "height": 265
        }
      },
      "execution_count": 14,
      "outputs": [
        {
          "output_type": "display_data",
          "data": {
            "text/plain": [
              "<Figure size 432x288 with 1 Axes>"
            ],
            "image/png": "[encoded data removed]"
          },
          "metadata": {
            "needs_background": "light"
          }
        }
      ]
    },
    {
      "cell_type": "markdown",
      "metadata": {
        "id": "_Vtku_CWdFXW"
      },
      "source": [
        "6 . Agrupe por continente y visualice con barras las medias de cada bebida (plt.bar). Tambien sumele el desvio standard como medida de dispersion/error. Por ejemplo, para cerveza, deberia verse asi: <br>\n",
        "<img src='https://drive.google.com/uc?id=1dDGS9L3IgK-rnLK7L91PDiEpK9ujQB6p'>\n",
        "\n",
        "Pruebe armar subplots para mostrar todas las bebidas en una misma figura. Tambien experimento con la version horizonal de bar (plt.barh)\n",
        "\n",
        "ref: https://matplotlib.org/3.2.0/api/_as_gen/matplotlib.pyplot.bar.html?highlight=bar#matplotlib.pyplot.bar"
      ]
    },
    {
      "cell_type": "code",
      "source": [
        "import pandas as pd\n",
        "import matplotlib.pyplot as plt\n",
        "\n",
        "#Agrupo los datos por continente y calculo la media de cada bebida\n",
        "grouped=df.groupby('continent').mean()\n",
        "\n",
        "grouped\n"
      ],
      "metadata": {
        "id": "YyrvJz7Of1Ou",
        "outputId": "4b861e0e-92f0-4f27-de33-90afafe47f05",
        "colab": {
          "base_uri": "https://localhost:8080/",
          "height": 237
        }
      },
      "execution_count": 20,
      "outputs": [
        {
          "output_type": "execute_result",
          "data": {
            "text/plain": [
              "           beer_servings  spirit_servings  wine_servings  \\\n",
              "continent                                                  \n",
              "AF             61.471698        16.339623      16.264151   \n",
              "AS             37.045455        60.840909       9.068182   \n",
              "EU            193.777778       132.555556     142.222222   \n",
              "OC             89.687500        58.437500      35.625000   \n",
              "SA            175.083333       114.750000      62.416667   \n",
              "\n",
              "           total_litres_of_pure_alcohol  \n",
              "continent                                \n",
              "AF                             3.007547  \n",
              "AS                             2.170455  \n",
              "EU                             8.617778  \n",
              "OC                             3.381250  \n",
              "SA                             6.308333  "
            ],
            "text/html": [
              "\n",
              "  <div id=\"df-fe71864e-42e8-42b2-a441-91f97f7feb8d\">\n",
              "    <div class=\"colab-df-container\">\n",
              "      <div>\n",
              "<style scoped>\n",
              "    .dataframe tbody tr th:only-of-type {\n",
              "        vertical-align: middle;\n",
              "    }\n",
              "\n",
              "    .dataframe tbody tr th {\n",
              "        vertical-align: top;\n",
              "    }\n",
              "\n",
              "    .dataframe thead th {\n",
              "        text-align: right;\n",
              "    }\n",
              "</style>\n",
              "<table border=\"1\" class=\"dataframe\">\n",
              "  <thead>\n",
              "    <tr style=\"text-align: right;\">\n",
              "      <th></th>\n",
              "      <th>beer_servings</th>\n",
              "      <th>spirit_servings</th>\n",
              "      <th>wine_servings</th>\n",
              "      <th>total_litres_of_pure_alcohol</th>\n",
              "    </tr>\n",
              "    <tr>\n",
              "      <th>continent</th>\n",
              "      <th></th>\n",
              "      <th></th>\n",
              "      <th></th>\n",
              "      <th></th>\n",
              "    </tr>\n",
              "  </thead>\n",
              "  <tbody>\n",
              "    <tr>\n",
              "      <th>AF</th>\n",
              "      <td>61.471698</td>\n",
              "      <td>16.339623</td>\n",
              "      <td>16.264151</td>\n",
              "      <td>3.007547</td>\n",
              "    </tr>\n",
              "    <tr>\n",
              "      <th>AS</th>\n",
              "      <td>37.045455</td>\n",
              "      <td>60.840909</td>\n",
              "      <td>9.068182</td>\n",
              "      <td>2.170455</td>\n",
              "    </tr>\n",
              "    <tr>\n",
              "      <th>EU</th>\n",
              "      <td>193.777778</td>\n",
              "      <td>132.555556</td>\n",
              "      <td>142.222222</td>\n",
              "      <td>8.617778</td>\n",
              "    </tr>\n",
              "    <tr>\n",
              "      <th>OC</th>\n",
              "      <td>89.687500</td>\n",
              "      <td>58.437500</td>\n",
              "      <td>35.625000</td>\n",
              "      <td>3.381250</td>\n",
              "    </tr>\n",
              "    <tr>\n",
              "      <th>SA</th>\n",
              "      <td>175.083333</td>\n",
              "      <td>114.750000</td>\n",
              "      <td>62.416667</td>\n",
              "      <td>6.308333</td>\n",
              "    </tr>\n",
              "  </tbody>\n",
              "</table>\n",
              "</div>\n",
              "      <button class=\"colab-df-convert\" onclick=\"convertToInteractive('df-fe71864e-42e8-42b2-a441-91f97f7feb8d')\"\n",
              "              title=\"Convert this dataframe to an interactive table.\"\n",
              "              style=\"display:none;\">\n",
              "        \n",
              "  <svg xmlns=\"http://www.w3.org/2000/svg\" height=\"24px\"viewBox=\"0 0 24 24\"\n",
              "       width=\"24px\">\n",
              "    <path d=\"M0 0h24v24H0V0z\" fill=\"none\"/>\n",
              "    <path d=\"M18.56 5.44l.94 2.06.94-2.06 2.06-.94-2.06-.94-.94-2.06-.94 2.06-2.06.94zm-11 1L8.5 8.5l.94-2.06 2.06-.94-2.06-.94L8.5 2.5l-.94 2.06-2.06.94zm10 10l.94 2.06.94-2.06 2.06-.94-2.06-.94-.94-2.06-.94 2.06-2.06.94z\"/><path d=\"M17.41 7.96l-1.37-1.37c-.4-.4-.92-.59-1.43-.59-.52 0-1.04.2-1.43.59L10.3 9.45l-7.72 7.72c-.78.78-.78 2.05 0 2.83L4 21.41c.39.39.9.59 1.41.59.51 0 1.02-.2 1.41-.59l7.78-7.78 2.81-2.81c.8-.78.8-2.07 0-2.86zM5.41 20L4 18.59l7.72-7.72 1.47 1.35L5.41 20z\"/>\n",
              "  </svg>\n",
              "      </button>\n",
              "      \n",
              "  <style>\n",
              "    .colab-df-container {\n",
              "      display:flex;\n",
              "      flex-wrap:wrap;\n",
              "      gap: 12px;\n",
              "    }\n",
              "\n",
              "    .colab-df-convert {\n",
              "      background-color: #E8F0FE;\n",
              "      border: none;\n",
              "      border-radius: 50%;\n",
              "      cursor: pointer;\n",
              "      display: none;\n",
              "      fill: #1967D2;\n",
              "      height: 32px;\n",
              "      padding: 0 0 0 0;\n",
              "      width: 32px;\n",
              "    }\n",
              "\n",
              "    .colab-df-convert:hover {\n",
              "      background-color: #E2EBFA;\n",
              "      box-shadow: 0px 1px 2px rgba(60, 64, 67, 0.3), 0px 1px 3px 1px rgba(60, 64, 67, 0.15);\n",
              "      fill: #174EA6;\n",
              "    }\n",
              "\n",
              "    [theme=dark] .colab-df-convert {\n",
              "      background-color: #3B4455;\n",
              "      fill: #D2E3FC;\n",
              "    }\n",
              "\n",
              "    [theme=dark] .colab-df-convert:hover {\n",
              "      background-color: #434B5C;\n",
              "      box-shadow: 0px 1px 3px 1px rgba(0, 0, 0, 0.15);\n",
              "      filter: drop-shadow(0px 1px 2px rgba(0, 0, 0, 0.3));\n",
              "      fill: #FFFFFF;\n",
              "    }\n",
              "  </style>\n",
              "\n",
              "      <script>\n",
              "        const buttonEl =\n",
              "          document.querySelector('#df-fe71864e-42e8-42b2-a441-91f97f7feb8d button.colab-df-convert');\n",
              "        buttonEl.style.display =\n",
              "          google.colab.kernel.accessAllowed ? 'block' : 'none';\n",
              "\n",
              "        async function convertToInteractive(key) {\n",
              "          const element = document.querySelector('#df-fe71864e-42e8-42b2-a441-91f97f7feb8d');\n",
              "          const dataTable =\n",
              "            await google.colab.kernel.invokeFunction('convertToInteractive',\n",
              "                                                     [key], {});\n",
              "          if (!dataTable) return;\n",
              "\n",
              "          const docLinkHtml = 'Like what you see? Visit the ' +\n",
              "            '<a target=\"_blank\" href=https://colab.research.google.com/notebooks/data_table.ipynb>data table notebook</a>'\n",
              "            + ' to learn more about interactive tables.';\n",
              "          element.innerHTML = '';\n",
              "          dataTable['output_type'] = 'display_data';\n",
              "          await google.colab.output.renderOutput(dataTable, element);\n",
              "          const docLink = document.createElement('div');\n",
              "          docLink.innerHTML = docLinkHtml;\n",
              "          element.appendChild(docLink);\n",
              "        }\n",
              "      </script>\n",
              "    </div>\n",
              "  </div>\n",
              "  "
            ]
          },
          "metadata": {},
          "execution_count": 20
        }
      ]
    },
    {
      "cell_type": "code",
      "source": [
        "#Visualizamos los datos con un grafico de barras\n",
        "grouped.plot(kind='bar')"
      ],
      "metadata": {
        "id": "O_BwfPRdgdl3",
        "outputId": "3b297b28-7f1e-4876-bcd2-3ad838ece9a0",
        "colab": {
          "base_uri": "https://localhost:8080/",
          "height": 302
        }
      },
      "execution_count": 23,
      "outputs": [
        {
          "output_type": "execute_result",
          "data": {
            "text/plain": [
              "<Axes: xlabel='continent'>"
            ]
          },
          "metadata": {},
          "execution_count": 23
        },
        {
          "output_type": "display_data",
          "data": {
            "text/plain": [
              "<Figure size 432x288 with 1 Axes>"
            ],
            "image/png": "[encoded data removed]"
          },
          "metadata": {
            "needs_background": "light"
          }
        }
      ]
    },
    {
      "cell_type": "markdown",
      "metadata": {
        "id": "69qN8IxsdFXX"
      },
      "source": [
        "7 . Reporte las distribuciones anteriores, pero en lugar de mostrar solo la media y el desvio standard use boxplots (plt.boxplot). ¿Qué vengajas y desventajas tiene?"
      ]
    },
    {
      "cell_type": "code",
      "source": [
        "df.boxplot(by='continent', figsize(8, 6))\n",
        "plt.show()"
      ],
      "metadata": {
        "id": "9aBHEnM4g7gm",
        "outputId": "e1b57e59-585d-4540-d2a3-e5201f4210d1",
        "colab": {
          "base_uri": "https://localhost:8080/",
          "height": 134
        }
      },
      "execution_count": 22,
      "outputs": [
        {
          "output_type": "error",
          "ename": "SyntaxError",
          "evalue": "ignored",
          "traceback": [
            "\u001b[0;36m  File \u001b[0;32m\"<ipython-input-22-001e2a40d807>\"\u001b[0;36m, line \u001b[0;32m1\u001b[0m\n\u001b[0;31m    df.boxplot(by='continent', figsize(8, 6))\u001b[0m\n\u001b[0m                                            ^\u001b[0m\n\u001b[0;31mSyntaxError\u001b[0m\u001b[0;31m:\u001b[0m positional argument follows keyword argument\n"
          ]
        }
      ]
    },
    {
      "cell_type": "markdown",
      "metadata": {
        "id": "a7IFTouqdFXY"
      },
      "source": [
        "8 . Seaborn <br>\n",
        "8.1 Use jointplot para visualizar las distribuciones conjuntas de wine_servings y beer_servings\n",
        "ref: https://seaborn.pydata.org/examples/hexbin_marginals.html <br>\n",
        "\n",
        "Experimente diferntes valores de kind, ¿Qué ventajas tiene cada uno?<br>\n",
        "<img src='https://drive.google.com/uc?id=1HJ1wbbJGfNXFuW4KYYJ_SyasJlJM04UD'>\n",
        "<img src='https://drive.google.com/uc?id=1sigjHDDUYUW52Zn-p3W0XYMJnjTlSJjG'>"
      ]
    },
    {
      "cell_type": "markdown",
      "metadata": {
        "id": "-gcauc-9dFXZ"
      },
      "source": [
        "9. Experimente con los atributos que no uso hasta entonces para los diferentes tipos de gráficos"
      ]
    },
    {
      "cell_type": "code",
      "metadata": {
        "id": "-W6LL8ZEdFXe"
      },
      "source": [],
      "execution_count": null,
      "outputs": []
    }
  ]
}