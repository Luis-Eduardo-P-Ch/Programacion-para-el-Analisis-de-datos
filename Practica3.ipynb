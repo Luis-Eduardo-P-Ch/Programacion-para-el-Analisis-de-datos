{
  "nbformat": 4,
  "nbformat_minor": 0,
  "metadata": {
    "kernelspec": {
      "display_name": "Python 3",
      "language": "python",
      "name": "python3"
    },
    "language_info": {
      "codemirror_mode": {
        "name": "ipython",
        "version": 3
      },
      "file_extension": ".py",
      "mimetype": "text/x-python",
      "name": "python",
      "nbconvert_exporter": "python",
      "pygments_lexer": "ipython3",
      "version": "3.7.3"
    },
    "colab": {
      "provenance": [],
      "include_colab_link": true
    }
  },
  "cells": [
    {
      "cell_type": "markdown",
      "metadata": {
        "id": "view-in-github",
        "colab_type": "text"
      },
      "source": [
        "<a href=\"https://colab.research.google.com/github/Luis-Eduardo-P-Ch/Programacion-para-el-Analisis-de-datos/blob/main/Practica3.ipynb\" target=\"_parent\"><img src=\"https://colab.research.google.com/assets/colab-badge.svg\" alt=\"Open In Colab\"/></a>"
      ]
    },
    {
      "cell_type": "markdown",
      "metadata": {
        "id": "9FPYUF_Tp-im"
      },
      "source": [
        "# Programación para Análisis de datos\n",
        "## Práctica 3: Numpy\n",
        "\n",
        "\n",
        "\n",
        "<b>Nota:</b>\n",
        "Esta practica esta basada en los ejercicios presentes en https://github.com/rougier/numpy-100.\n",
        "\n",
        "numpy-100: Version 1.1\n",
        "Nicolas P. Rougier; Jessica B. Hamrick; ibah; Gavin Heverly-Coulson; Dapid; Christoph Deil; Bartosz Telenczuk\n",
        "\n",
        "<hr>"
      ]
    },
    {
      "cell_type": "markdown",
      "metadata": {
        "id": "lOC7lAjUp-ir"
      },
      "source": [
        "#### 1. Import the numpy package under the name `np`"
      ]
    },
    {
      "cell_type": "code",
      "metadata": {
        "id": "ZTBgv03Sp-ir",
        "outputId": "f4a5e3ea-6e8d-47ba-acc8-357e4a4984f8",
        "colab": {
          "base_uri": "https://localhost:8080/"
        }
      },
      "source": [
        "pip install "
      ],
      "execution_count": 1,
      "outputs": [
        {
          "output_type": "stream",
          "name": "stdout",
          "text": [
            "\u001b[31mERROR: You must give at least one requirement to install (see \"pip help install\")\u001b[0m\u001b[31m\n",
            "\u001b[0m"
          ]
        }
      ]
    },
    {
      "cell_type": "code",
      "source": [
        "!pip install numpy"
      ],
      "metadata": {
        "id": "VMS8RVD8sk6W",
        "outputId": "98421f93-8969-4832-af45-ac538ca5b263",
        "colab": {
          "base_uri": "https://localhost:8080/"
        }
      },
      "execution_count": 2,
      "outputs": [
        {
          "output_type": "stream",
          "name": "stdout",
          "text": [
            "Looking in indexes: https://pypi.org/simple, https://us-python.pkg.dev/colab-wheels/public/simple/\n",
            "Requirement already satisfied: numpy in /usr/local/lib/python3.9/dist-packages (1.22.4)\n"
          ]
        }
      ]
    },
    {
      "cell_type": "markdown",
      "source": [
        "La diferencia entre \"pip install\" y \"!pip install\" radica en el entorno de ejecución en el que se ejecutan estos comandos.\n",
        "\n",
        "\"pip install\" es un comando que se utiliza para instalar paquetes de Python en un entorno de Python. Puede ser utilizado dentro de una sesión interactiva de Python o dentro de un archivo de script de Python.\n",
        "\n",
        "Por otro lado, \"!pip install\" es un comando que se utiliza dentro de un notebook de Jupyter o en un entorno de ejecución como Colab. El signo de exclamación (\"!\") es una sintaxis especial que indica que el comando debe ser ejecutado en una terminal o shell en lugar de en el entorno de Python. Esto permite ejecutar comandos de sistema en el notebook o en el entorno de ejecución.\n",
        "\n",
        "En resumen, \"pip install\" es un comando de Python que se ejecuta en un entorno de Python, mientras que \"!pip install\" es un comando que se ejecuta en una terminal o shell en un notebook de Jupyter o entorno de ejecución como Colab."
      ],
      "metadata": {
        "id": "nKVXnyDRs7b8"
      }
    },
    {
      "cell_type": "markdown",
      "source": [
        "No, no es lo mismo usar \"!pip install\" que \"import\".\n",
        "\n",
        "\"!pip install\" es un comando que se utiliza para instalar paquetes de Python en un entorno de ejecución como Colab. Este comando solo se usa una vez para instalar el paquete que se desea utilizar. Por otro lado, \"import\" es un comando de Python que se utiliza para importar un paquete o módulo que ya está instalado en el entorno de Python.\n",
        "\n",
        "En resumen, \"!pip install\" se utiliza para instalar un paquete en el entorno de ejecución, mientras que \"import\" se utiliza para importar un paquete o módulo que ya está instalado en el entorno de Python y se puede utilizar para trabajar con ese paquete o módulo en el código Python.\n",
        "\n",
        "Por lo tanto, necesitas usar \"!pip install\" para instalar un paquete en Colab antes de poder importarlo y usarlo en tu código con el comando \"import\"."
      ],
      "metadata": {
        "id": "bxGQ3AsNt_1D"
      }
    },
    {
      "cell_type": "markdown",
      "metadata": {
        "id": "2ZjSYF83p-ir"
      },
      "source": [
        "#### 2. Print the numpy version and the configuration"
      ]
    },
    {
      "cell_type": "code",
      "metadata": {
        "id": "2eonDCxdp-is",
        "outputId": "563add6f-13ef-4043-9693-ae1c003fb535",
        "colab": {
          "base_uri": "https://localhost:8080/"
        }
      },
      "source": [
        "import numpy as np\n",
        "\n",
        "print(\"Versión de NumPy: \", np.__version__)"
      ],
      "execution_count": 3,
      "outputs": [
        {
          "output_type": "stream",
          "name": "stdout",
          "text": [
            "Versión de NumPy:  1.22.4\n"
          ]
        }
      ]
    },
    {
      "cell_type": "markdown",
      "metadata": {
        "id": "68RedePyp-is"
      },
      "source": [
        "#### 3. Create a null vector of size 10"
      ]
    },
    {
      "cell_type": "code",
      "metadata": {
        "id": "vBSKQHozp-is",
        "outputId": "171c719d-9b7e-4836-83b5-3dbba2b6dcbc",
        "colab": {
          "base_uri": "https://localhost:8080/"
        }
      },
      "source": [
        "import numpy as np\n",
        "\n",
        "vector_nulo=np.zeros(10)\n",
        "\n",
        "print(vector_nulo)"
      ],
      "execution_count": 4,
      "outputs": [
        {
          "output_type": "stream",
          "name": "stdout",
          "text": [
            "[0. 0. 0. 0. 0. 0. 0. 0. 0. 0.]\n"
          ]
        }
      ]
    },
    {
      "cell_type": "markdown",
      "metadata": {
        "id": "zUeDJwKcp-is"
      },
      "source": [
        "#### 4. How to find the memory size of any array"
      ]
    },
    {
      "cell_type": "code",
      "metadata": {
        "id": "C-t_jGSZp-is",
        "outputId": "027f69e9-7773-4cad-99e1-3c70894ba4fb",
        "colab": {
          "base_uri": "https://localhost:8080/"
        }
      },
      "source": [
        "import numpy as np\n",
        "\n",
        "#Crear un array de ejemplo\n",
        "array_ejemplo=np.zeros((3,4))\n",
        "\n",
        "#Encontrar el tamaño de memoria del array\n",
        "tamaño_memoria=array_ejemplo.nbytes\n",
        "\n",
        "#Imprimir el tamaño de memoria del array en bytes\n",
        "print(\"El tamañ de memoria del array es: \", tamaño_memoria, \"bytes\")"
      ],
      "execution_count": 5,
      "outputs": [
        {
          "output_type": "stream",
          "name": "stdout",
          "text": [
            "El tamañ de memoria del array es:  96 bytes\n"
          ]
        }
      ]
    },
    {
      "cell_type": "markdown",
      "metadata": {
        "id": "-P13DeMBp-it"
      },
      "source": [
        "#### 5. How to get the documentation of the numpy add function from the command line?"
      ]
    },
    {
      "cell_type": "code",
      "metadata": {
        "id": "hmLUXBRpp-it",
        "outputId": "3b1425e4-4dab-44a6-eeef-8eaa764432aa",
        "colab": {
          "base_uri": "https://localhost:8080/"
        }
      },
      "source": [
        "import numpy as pd\n",
        "\n",
        "help(np.add)"
      ],
      "execution_count": 8,
      "outputs": [
        {
          "output_type": "stream",
          "name": "stdout",
          "text": [
            "Help on ufunc:\n",
            "\n",
            "add = <ufunc 'add'>\n",
            "    add(x1, x2, /, out=None, *, where=True, casting='same_kind', order='K', dtype=None, subok=True[, signature, extobj])\n",
            "    \n",
            "    Add arguments element-wise.\n",
            "    \n",
            "    Parameters\n",
            "    ----------\n",
            "    x1, x2 : array_like\n",
            "        The arrays to be added.\n",
            "        If ``x1.shape != x2.shape``, they must be broadcastable to a common\n",
            "        shape (which becomes the shape of the output).\n",
            "    out : ndarray, None, or tuple of ndarray and None, optional\n",
            "        A location into which the result is stored. If provided, it must have\n",
            "        a shape that the inputs broadcast to. If not provided or None,\n",
            "        a freshly-allocated array is returned. A tuple (possible only as a\n",
            "        keyword argument) must have length equal to the number of outputs.\n",
            "    where : array_like, optional\n",
            "        This condition is broadcast over the input. At locations where the\n",
            "        condition is True, the `out` array will be set to the ufunc result.\n",
            "        Elsewhere, the `out` array will retain its original value.\n",
            "        Note that if an uninitialized `out` array is created via the default\n",
            "        ``out=None``, locations within it where the condition is False will\n",
            "        remain uninitialized.\n",
            "    **kwargs\n",
            "        For other keyword-only arguments, see the\n",
            "        :ref:`ufunc docs <ufuncs.kwargs>`.\n",
            "    \n",
            "    Returns\n",
            "    -------\n",
            "    add : ndarray or scalar\n",
            "        The sum of `x1` and `x2`, element-wise.\n",
            "        This is a scalar if both `x1` and `x2` are scalars.\n",
            "    \n",
            "    Notes\n",
            "    -----\n",
            "    Equivalent to `x1` + `x2` in terms of array broadcasting.\n",
            "    \n",
            "    Examples\n",
            "    --------\n",
            "    >>> np.add(1.0, 4.0)\n",
            "    5.0\n",
            "    >>> x1 = np.arange(9.0).reshape((3, 3))\n",
            "    >>> x2 = np.arange(3.0)\n",
            "    >>> np.add(x1, x2)\n",
            "    array([[  0.,   2.,   4.],\n",
            "           [  3.,   5.,   7.],\n",
            "           [  6.,   8.,  10.]])\n",
            "    \n",
            "    The ``+`` operator can be used as a shorthand for ``np.add`` on ndarrays.\n",
            "    \n",
            "    >>> x1 = np.arange(9.0).reshape((3, 3))\n",
            "    >>> x2 = np.arange(3.0)\n",
            "    >>> x1 + x2\n",
            "    array([[ 0.,  2.,  4.],\n",
            "           [ 3.,  5.,  7.],\n",
            "           [ 6.,  8., 10.]])\n",
            "\n"
          ]
        }
      ]
    },
    {
      "cell_type": "markdown",
      "metadata": {
        "id": "bxTNMiZEp-it"
      },
      "source": [
        "#### 6. Create a null vector of size 10 but the fifth value which is 1"
      ]
    },
    {
      "cell_type": "code",
      "metadata": {
        "id": "r8HaOcigp-iu",
        "outputId": "402d6605-e3dd-48d8-eac0-fe4a86f6c4ad",
        "colab": {
          "base_uri": "https://localhost:8080/"
        }
      },
      "source": [
        "import numpy as np\n",
        "#Crear un vector nulo de tamaño 10\n",
        "vector=np.zeros(10)\n",
        "\n",
        "#asignar el valor de 1 en la quinta posición\n",
        "vector[4]=1\n",
        "\n",
        "#Imprimir el vector resultante\n",
        "print(vector)"
      ],
      "execution_count": 9,
      "outputs": [
        {
          "output_type": "stream",
          "name": "stdout",
          "text": [
            "[0. 0. 0. 0. 1. 0. 0. 0. 0. 0.]\n"
          ]
        }
      ]
    },
    {
      "cell_type": "code",
      "source": [
        "import numpy as np\n",
        "#crear una matriz identidad de tamaño 10*10\n",
        "matrix=np.eye(10)\n",
        "\n",
        "#Selecionar la quinta columna de la matriz identidad\n",
        "vector=matrix[:,4]\n",
        "\n",
        "#imprimir el vector resultante\n",
        "\n",
        "print(vector)"
      ],
      "metadata": {
        "id": "e8QQWHo7yYQv",
        "outputId": "513b5535-7026-4911-f89f-caf6fa4ed31d",
        "colab": {
          "base_uri": "https://localhost:8080/"
        }
      },
      "execution_count": 17,
      "outputs": [
        {
          "output_type": "stream",
          "name": "stdout",
          "text": [
            "[0. 0. 0. 0. 1. 0. 0. 0. 0. 0.]\n"
          ]
        }
      ]
    },
    {
      "cell_type": "markdown",
      "metadata": {
        "id": "C7WsYQ0yp-iv"
      },
      "source": [
        "#### 7. Create a vector with values ranging from 10 to 49"
      ]
    },
    {
      "cell_type": "code",
      "metadata": {
        "id": "fxwiF-vyp-iv",
        "outputId": "2465fd97-b361-4978-ac69-75b173e133ea",
        "colab": {
          "base_uri": "https://localhost:8080/"
        }
      },
      "source": [
        "import numpy as np\n",
        "\n",
        "#Crear un vector con Valores que van desde 10 a 49\n",
        "vector=np.arange(10, 50)\n",
        "\n",
        "#Imprimir el vector resultante\n",
        "print(vector)"
      ],
      "execution_count": 18,
      "outputs": [
        {
          "output_type": "stream",
          "name": "stdout",
          "text": [
            "[10 11 12 13 14 15 16 17 18 19 20 21 22 23 24 25 26 27 28 29 30 31 32 33\n",
            " 34 35 36 37 38 39 40 41 42 43 44 45 46 47 48 49]\n"
          ]
        }
      ]
    },
    {
      "cell_type": "markdown",
      "metadata": {
        "id": "psa_1RmWp-iv"
      },
      "source": [
        "#### 8. Reverse a vector (first element becomes last)"
      ]
    },
    {
      "cell_type": "code",
      "metadata": {
        "id": "tYN0LFwxp-iv",
        "outputId": "21106242-f46a-4232-e5e2-c3f25ce7d7e0",
        "colab": {
          "base_uri": "https://localhost:8080/"
        }
      },
      "source": [
        "import numpy as np\n",
        "\n",
        "#Crear un vector de ejemplo\n",
        "\n",
        "vector=np.array([1, 2, 3, 4, 5])\n",
        "\n",
        "#Invertir el vector utilizando la notación de índices\n",
        "vector_invertido= vector[::-1]\n",
        "\n",
        "#Imprimiir el vector resultante\n",
        "print(vector_invertido)"
      ],
      "execution_count": 19,
      "outputs": [
        {
          "output_type": "stream",
          "name": "stdout",
          "text": [
            "[5 4 3 2 1]\n"
          ]
        }
      ]
    },
    {
      "cell_type": "code",
      "source": [
        "import numpy as np\n",
        "\n",
        "#Crear un Vector de ejemplo\n",
        "vector=np.array([1, 2, 3, 4, 5])\n",
        "\n",
        "#Invertir el vector utilizando la notación de Indices y asignar al vector original\n",
        "vector[:]= vector[::-1]\n",
        "\n",
        "#Imprimir el vector resultante\n",
        "print(vector)"
      ],
      "metadata": {
        "id": "fOWvjp0X2a0T",
        "outputId": "8011dd30-5d55-4cdb-a5f2-6f5f8728d2bb",
        "colab": {
          "base_uri": "https://localhost:8080/"
        }
      },
      "execution_count": 23,
      "outputs": [
        {
          "output_type": "stream",
          "name": "stdout",
          "text": [
            "[5 4 3 2 1]\n"
          ]
        }
      ]
    },
    {
      "cell_type": "markdown",
      "metadata": {
        "id": "cqmzNROqp-iv"
      },
      "source": [
        "#### 9. Create a 3x3 matrix with values ranging from 0 to 8"
      ]
    },
    {
      "cell_type": "code",
      "metadata": {
        "id": "AedOl8IHp-iv"
      },
      "source": [],
      "execution_count": null,
      "outputs": []
    },
    {
      "cell_type": "markdown",
      "metadata": {
        "id": "1FJblbKxp-iw"
      },
      "source": [
        "#### 10. Find indices of non-zero elements from [1,2,0,0,4,0]"
      ]
    },
    {
      "cell_type": "code",
      "metadata": {
        "id": "Q7t9PSXYp-iw"
      },
      "source": [],
      "execution_count": null,
      "outputs": []
    },
    {
      "cell_type": "markdown",
      "metadata": {
        "id": "R5RcCUmPp-iw"
      },
      "source": [
        "#### 11. Create a 3x3 identity matrix"
      ]
    },
    {
      "cell_type": "code",
      "metadata": {
        "id": "EzXLUV5Hp-iw"
      },
      "source": [],
      "execution_count": null,
      "outputs": []
    },
    {
      "cell_type": "markdown",
      "metadata": {
        "id": "Cw7gYB_fp-iw"
      },
      "source": [
        "#### 12. Create a 3x3x3 array with random values"
      ]
    },
    {
      "cell_type": "code",
      "metadata": {
        "id": "AZNUBc3Dp-iw"
      },
      "source": [],
      "execution_count": null,
      "outputs": []
    },
    {
      "cell_type": "markdown",
      "metadata": {
        "id": "nMH9QmKop-iw"
      },
      "source": [
        "#### 13. Create a 10x10 array with random values and find the minimum and maximum values"
      ]
    },
    {
      "cell_type": "code",
      "metadata": {
        "id": "XX4TAPN7p-iw"
      },
      "source": [],
      "execution_count": null,
      "outputs": []
    },
    {
      "cell_type": "markdown",
      "metadata": {
        "id": "CsL3hfzgp-iw"
      },
      "source": [
        "#### 14. Create a random vector of size 30 and find the mean value"
      ]
    },
    {
      "cell_type": "code",
      "metadata": {
        "id": "F3CxkJPhp-ix"
      },
      "source": [],
      "execution_count": null,
      "outputs": []
    },
    {
      "cell_type": "markdown",
      "metadata": {
        "id": "vS4dGd7jp-ix"
      },
      "source": [
        "#### 15. Create a 2d array with 1 on the border and 0 inside"
      ]
    },
    {
      "cell_type": "code",
      "metadata": {
        "id": "1v6qeX5_p-ix"
      },
      "source": [],
      "execution_count": null,
      "outputs": []
    },
    {
      "cell_type": "markdown",
      "metadata": {
        "id": "g_m6embOp-ix"
      },
      "source": [
        "#### 16. How to add a border (filled with 0's) around an existing array?"
      ]
    },
    {
      "cell_type": "code",
      "metadata": {
        "id": "z65ba79Np-ix"
      },
      "source": [],
      "execution_count": null,
      "outputs": []
    },
    {
      "cell_type": "markdown",
      "metadata": {
        "id": "wEt3hHFNp-ix"
      },
      "source": [
        "#### 17. What is the result of the following expression?\n",
        "```python\n",
        "0 * np.nan\n",
        "np.nan == np.nan\n",
        "np.inf > np.nan\n",
        "np.nan - np.nan\n",
        "np.nan in set([np.nan])\n",
        "0.3 == 3 * 0.1\n",
        "```"
      ]
    },
    {
      "cell_type": "code",
      "metadata": {
        "id": "zu8DX7jNp-ix"
      },
      "source": [],
      "execution_count": null,
      "outputs": []
    },
    {
      "cell_type": "markdown",
      "metadata": {
        "id": "M-kVXQFqp-iy"
      },
      "source": [
        "#### 18. Create a 5x5 matrix with values 1,2,3,4 just below the diagonal"
      ]
    },
    {
      "cell_type": "code",
      "metadata": {
        "id": "SzGgmNQcp-iy"
      },
      "source": [],
      "execution_count": null,
      "outputs": []
    },
    {
      "cell_type": "markdown",
      "metadata": {
        "id": "jHAxa3CTp-iy"
      },
      "source": [
        "#### 19. Create a 8x8 matrix and fill it with a checkerboard pattern"
      ]
    },
    {
      "cell_type": "code",
      "metadata": {
        "id": "NflBPVcRp-iy"
      },
      "source": [],
      "execution_count": null,
      "outputs": []
    },
    {
      "cell_type": "markdown",
      "metadata": {
        "id": "LLwCXB9Op-iy"
      },
      "source": [
        "#### 20. Consider a (6,7,8) shape array, what is the index (x,y,z) of the 100th element?"
      ]
    },
    {
      "cell_type": "code",
      "metadata": {
        "id": "L5g2l_Svp-iy"
      },
      "source": [],
      "execution_count": null,
      "outputs": []
    },
    {
      "cell_type": "markdown",
      "metadata": {
        "id": "JS1x3Wrxp-iy"
      },
      "source": [
        "#### 21. Create a checkerboard 8x8 matrix using the tile function"
      ]
    },
    {
      "cell_type": "code",
      "metadata": {
        "id": "QYS_DrSgp-iy"
      },
      "source": [],
      "execution_count": null,
      "outputs": []
    },
    {
      "cell_type": "markdown",
      "metadata": {
        "id": "4mhz7Gvup-iy"
      },
      "source": [
        "#### 22. Normalize a 5x5 random matrix"
      ]
    },
    {
      "cell_type": "code",
      "metadata": {
        "id": "KWlk9DLTp-iz"
      },
      "source": [],
      "execution_count": null,
      "outputs": []
    },
    {
      "cell_type": "markdown",
      "metadata": {
        "id": "qbD4C1F0p-iz"
      },
      "source": [
        "#### 23. Create a custom dtype that describes a color as four unsigned bytes (RGBA)"
      ]
    },
    {
      "cell_type": "code",
      "metadata": {
        "id": "VZnMgrdsp-iz"
      },
      "source": [],
      "execution_count": null,
      "outputs": []
    },
    {
      "cell_type": "markdown",
      "metadata": {
        "id": "BO8F4MOyp-iz"
      },
      "source": [
        "#### 24. Multiply a 5x3 matrix by a 3x2 matrix (real matrix product)"
      ]
    },
    {
      "cell_type": "code",
      "metadata": {
        "id": "_l3lm_erp-iz"
      },
      "source": [],
      "execution_count": null,
      "outputs": []
    },
    {
      "cell_type": "markdown",
      "metadata": {
        "id": "BjRPSk9wp-iz"
      },
      "source": [
        "#### 25. Given a 1D array, negate all elements which are between 3 and 8, in place."
      ]
    },
    {
      "cell_type": "code",
      "metadata": {
        "id": "HxhmSx_Up-iz"
      },
      "source": [],
      "execution_count": null,
      "outputs": []
    },
    {
      "cell_type": "markdown",
      "metadata": {
        "id": "AmwFtM96p-iz"
      },
      "source": [
        "#### 26. What is the output of the following script?\n",
        "```python\n",
        "# Author: Jake VanderPlas\n",
        "\n",
        "print(sum(range(5),-1))\n",
        "from numpy import *\n",
        "print(sum(range(5),-1))\n",
        "```"
      ]
    },
    {
      "cell_type": "code",
      "metadata": {
        "id": "jdb58eKfp-i0"
      },
      "source": [],
      "execution_count": null,
      "outputs": []
    },
    {
      "cell_type": "markdown",
      "metadata": {
        "id": "7bPZWC-Fp-i0"
      },
      "source": [
        "#### 27. Consider an integer vector Z, which of these expressions are legal?\n",
        "```python\n",
        "Z**Z\n",
        "2 << Z >> 2\n",
        "Z <- Z\n",
        "1j*Z\n",
        "Z/1/1\n",
        "Z<Z>Z\n",
        "```"
      ]
    },
    {
      "cell_type": "code",
      "metadata": {
        "id": "p1K2B056p-i0"
      },
      "source": [],
      "execution_count": null,
      "outputs": []
    },
    {
      "cell_type": "markdown",
      "metadata": {
        "id": "1I9nGAgop-i0"
      },
      "source": [
        "#### 28. What are the result of the following expressions?\n",
        "```python\n",
        "np.array(0) / np.array(0)\n",
        "np.array(0) // np.array(0)\n",
        "np.array([np.nan]).astype(int).astype(float)\n",
        "```"
      ]
    },
    {
      "cell_type": "code",
      "metadata": {
        "id": "8xKFa8D5p-i0"
      },
      "source": [],
      "execution_count": null,
      "outputs": []
    },
    {
      "cell_type": "markdown",
      "metadata": {
        "id": "y1iGNHqdp-i0"
      },
      "source": [
        "#### 29. How to round away from zero a float array ?"
      ]
    },
    {
      "cell_type": "code",
      "metadata": {
        "id": "lEZHXKQDp-i0"
      },
      "source": [],
      "execution_count": null,
      "outputs": []
    },
    {
      "cell_type": "markdown",
      "metadata": {
        "id": "r8uGbwa6p-i0"
      },
      "source": [
        "#### 30. How to find common values between two arrays?"
      ]
    },
    {
      "cell_type": "code",
      "metadata": {
        "id": "sZADbOD4p-i0"
      },
      "source": [],
      "execution_count": null,
      "outputs": []
    },
    {
      "cell_type": "markdown",
      "metadata": {
        "id": "V_-JI3Bvp-i1"
      },
      "source": [
        "#### 31. How to ignore all numpy warnings (not recommended)?"
      ]
    },
    {
      "cell_type": "code",
      "metadata": {
        "id": "zT12-jKHp-i1"
      },
      "source": [],
      "execution_count": null,
      "outputs": []
    },
    {
      "cell_type": "markdown",
      "metadata": {
        "id": "oyJrzsT5p-i1"
      },
      "source": [
        "#### 32. Is the following expressions true?\n",
        "```python\n",
        "np.sqrt(-1) == np.emath.sqrt(-1)\n",
        "```"
      ]
    },
    {
      "cell_type": "code",
      "metadata": {
        "id": "idmThXZ-p-i1"
      },
      "source": [],
      "execution_count": null,
      "outputs": []
    },
    {
      "cell_type": "markdown",
      "metadata": {
        "id": "8tsd5bQ_p-i1"
      },
      "source": [
        "#### 33. How to get the dates of yesterday, today and tomorrow?"
      ]
    },
    {
      "cell_type": "code",
      "metadata": {
        "id": "PzfzCs7Cp-i1"
      },
      "source": [],
      "execution_count": null,
      "outputs": []
    },
    {
      "cell_type": "markdown",
      "metadata": {
        "id": "OZeMe_svp-i1"
      },
      "source": [
        "#### 34. How to get all the dates corresponding to the month of July 2016? "
      ]
    },
    {
      "cell_type": "code",
      "metadata": {
        "id": "MQSUNprXp-i1"
      },
      "source": [],
      "execution_count": null,
      "outputs": []
    },
    {
      "cell_type": "markdown",
      "metadata": {
        "id": "XEnF5VPvp-i2"
      },
      "source": [
        "#### 35. How to compute ((A+B)*(-A/2)) in place (without copy)? "
      ]
    },
    {
      "cell_type": "code",
      "metadata": {
        "id": "9XeQPe_Gp-i2"
      },
      "source": [],
      "execution_count": null,
      "outputs": []
    },
    {
      "cell_type": "markdown",
      "metadata": {
        "id": "KS8F0Tx8p-i2"
      },
      "source": [
        "#### 36. Extract the integer part of a random array using 5 different methods "
      ]
    },
    {
      "cell_type": "code",
      "metadata": {
        "id": "mDiO8TTfp-i2"
      },
      "source": [],
      "execution_count": null,
      "outputs": []
    },
    {
      "cell_type": "markdown",
      "metadata": {
        "id": "BVEnoXAup-i2"
      },
      "source": [
        "#### 37. Create a 5x5 matrix with row values ranging from 0 to 4 "
      ]
    },
    {
      "cell_type": "code",
      "metadata": {
        "id": "t7wEAdrup-i2"
      },
      "source": [],
      "execution_count": null,
      "outputs": []
    },
    {
      "cell_type": "markdown",
      "metadata": {
        "id": "XhPsQRQBp-i2"
      },
      "source": [
        "#### 38. Consider a generator function that generates 10 integers and use it to build an array"
      ]
    },
    {
      "cell_type": "code",
      "metadata": {
        "id": "IOA0P_MQp-i2"
      },
      "source": [],
      "execution_count": null,
      "outputs": []
    },
    {
      "cell_type": "markdown",
      "metadata": {
        "id": "Mr0bLmIHp-i2"
      },
      "source": [
        "#### 39. Create a vector of size 10 with values ranging from 0 to 1, both excluded "
      ]
    },
    {
      "cell_type": "code",
      "metadata": {
        "id": "VhNuGDm8p-i3"
      },
      "source": [],
      "execution_count": null,
      "outputs": []
    },
    {
      "cell_type": "markdown",
      "metadata": {
        "id": "g8R85Pg6p-i3"
      },
      "source": [
        "#### 40. Create a random vector of size 10 and sort it "
      ]
    },
    {
      "cell_type": "code",
      "metadata": {
        "id": "Fn9CHgE1p-i3"
      },
      "source": [],
      "execution_count": null,
      "outputs": []
    },
    {
      "cell_type": "markdown",
      "metadata": {
        "id": "a_Zj-Ifep-i3"
      },
      "source": [
        "#### 41. How to sum a small array faster than np.sum? "
      ]
    },
    {
      "cell_type": "code",
      "metadata": {
        "id": "xetTK9rgp-i3"
      },
      "source": [],
      "execution_count": null,
      "outputs": []
    },
    {
      "cell_type": "markdown",
      "metadata": {
        "id": "Rv2WcA3Up-i3"
      },
      "source": [
        "#### 42. Consider two random array A and B, check if they are equal "
      ]
    },
    {
      "cell_type": "code",
      "metadata": {
        "id": "WS1sA2xLp-i4"
      },
      "source": [],
      "execution_count": null,
      "outputs": []
    },
    {
      "cell_type": "markdown",
      "metadata": {
        "id": "IW9JAeERp-i4"
      },
      "source": [
        "#### 43. Make an array immutable (read-only) "
      ]
    },
    {
      "cell_type": "code",
      "metadata": {
        "id": "QOeMmmqlp-i4"
      },
      "source": [],
      "execution_count": null,
      "outputs": []
    },
    {
      "cell_type": "markdown",
      "metadata": {
        "id": "lZxAr9UAp-i4"
      },
      "source": [
        "#### 44. Consider a random 10x2 matrix representing cartesian coordinates, convert them to polar coordinates "
      ]
    },
    {
      "cell_type": "code",
      "metadata": {
        "id": "L7d6LoGKp-i4"
      },
      "source": [],
      "execution_count": null,
      "outputs": []
    },
    {
      "cell_type": "markdown",
      "metadata": {
        "id": "onY5Eq8zp-i4"
      },
      "source": [
        "#### 45. Create random vector of size 10 and replace the maximum value by 0 "
      ]
    },
    {
      "cell_type": "code",
      "metadata": {
        "id": "acBMnH2op-i5"
      },
      "source": [],
      "execution_count": null,
      "outputs": []
    },
    {
      "cell_type": "markdown",
      "metadata": {
        "id": "A9z9sGP0p-i5"
      },
      "source": [
        "#### 46. Create a structured array with `x` and `y` coordinates covering the [0,1]x[0,1] area "
      ]
    },
    {
      "cell_type": "code",
      "metadata": {
        "id": "9KADjDZsp-i5"
      },
      "source": [],
      "execution_count": null,
      "outputs": []
    },
    {
      "cell_type": "markdown",
      "metadata": {
        "id": "p_V5hFJlp-i5"
      },
      "source": [
        "#### 47. Given two arrays, X and Y, construct the Cauchy matrix C (Cij =1/(xi - yj))"
      ]
    },
    {
      "cell_type": "code",
      "metadata": {
        "id": "EEhRMJtxp-i5"
      },
      "source": [],
      "execution_count": null,
      "outputs": []
    },
    {
      "cell_type": "markdown",
      "metadata": {
        "id": "lVk8bDDdp-i5"
      },
      "source": [
        "#### 48. Print the minimum and maximum representable value for each numpy scalar type "
      ]
    },
    {
      "cell_type": "code",
      "metadata": {
        "id": "anvjMTa4p-i5"
      },
      "source": [],
      "execution_count": null,
      "outputs": []
    },
    {
      "cell_type": "markdown",
      "metadata": {
        "id": "rguOB3bzp-i5"
      },
      "source": [
        "#### 49. How to print all the values of an array? "
      ]
    },
    {
      "cell_type": "code",
      "metadata": {
        "id": "_Uvu4Wkwp-i5"
      },
      "source": [],
      "execution_count": null,
      "outputs": []
    },
    {
      "cell_type": "markdown",
      "metadata": {
        "id": "WCOmUiJop-i6"
      },
      "source": [
        "#### 50. How to find the closest value (to a given scalar) in a vector? "
      ]
    },
    {
      "cell_type": "code",
      "metadata": {
        "id": "75WfETObp-i6"
      },
      "source": [],
      "execution_count": null,
      "outputs": []
    },
    {
      "cell_type": "markdown",
      "metadata": {
        "id": "Ne_0G30rp-i6"
      },
      "source": [
        "#### 51. Create a structured array representing a position (x,y) and a color (r,g,b) "
      ]
    },
    {
      "cell_type": "code",
      "metadata": {
        "id": "1MqRv2obp-i6"
      },
      "source": [],
      "execution_count": null,
      "outputs": []
    },
    {
      "cell_type": "markdown",
      "metadata": {
        "id": "7q8lpgtnp-i6"
      },
      "source": [
        "#### 52. Consider a random vector with shape (100,2) representing coordinates, find point by point distances "
      ]
    },
    {
      "cell_type": "code",
      "metadata": {
        "id": "FxbXpQrSp-i6"
      },
      "source": [],
      "execution_count": null,
      "outputs": []
    },
    {
      "cell_type": "markdown",
      "metadata": {
        "id": "f2rNrodqp-i6"
      },
      "source": [
        "#### 53. How to convert a float (32 bits) array into an integer (32 bits) in place?"
      ]
    },
    {
      "cell_type": "code",
      "metadata": {
        "id": "_hOL-pMrp-i6"
      },
      "source": [],
      "execution_count": null,
      "outputs": []
    },
    {
      "cell_type": "markdown",
      "metadata": {
        "id": "aZ483n0Wp-i7"
      },
      "source": [
        "#### 54. How to read the following file? \n",
        "```\n",
        "1, 2, 3, 4, 5\n",
        "6,  ,  , 7, 8\n",
        " ,  , 9,10,11\n",
        "```"
      ]
    },
    {
      "cell_type": "code",
      "metadata": {
        "id": "CTg0jPuup-i7"
      },
      "source": [],
      "execution_count": null,
      "outputs": []
    },
    {
      "cell_type": "markdown",
      "metadata": {
        "id": "JA1QuJf1p-i7"
      },
      "source": [
        "#### 55. What is the equivalent of enumerate for numpy arrays? "
      ]
    },
    {
      "cell_type": "code",
      "metadata": {
        "id": "3VXEpr_hp-i7"
      },
      "source": [],
      "execution_count": null,
      "outputs": []
    },
    {
      "cell_type": "markdown",
      "metadata": {
        "id": "beHnBFsnp-i7"
      },
      "source": [
        "#### 56. Generate a generic 2D Gaussian-like array "
      ]
    },
    {
      "cell_type": "code",
      "metadata": {
        "id": "QCZBBkN7p-i7"
      },
      "source": [],
      "execution_count": null,
      "outputs": []
    },
    {
      "cell_type": "markdown",
      "metadata": {
        "id": "haV8WTUBp-i7"
      },
      "source": [
        "#### 57. How to randomly place p elements in a 2D array? "
      ]
    },
    {
      "cell_type": "code",
      "metadata": {
        "id": "GhZOU4Svp-i7"
      },
      "source": [],
      "execution_count": null,
      "outputs": []
    },
    {
      "cell_type": "markdown",
      "metadata": {
        "id": "44k7RSYYp-i7"
      },
      "source": [
        "#### 58. Subtract the mean of each row of a matrix "
      ]
    },
    {
      "cell_type": "code",
      "metadata": {
        "id": "lKL5ImK0p-i7"
      },
      "source": [],
      "execution_count": null,
      "outputs": []
    },
    {
      "cell_type": "markdown",
      "metadata": {
        "id": "aKXPC8yWp-i8"
      },
      "source": [
        "#### 59. How to sort an array by the nth column? "
      ]
    },
    {
      "cell_type": "code",
      "metadata": {
        "id": "wmz9D0WYp-i8"
      },
      "source": [],
      "execution_count": null,
      "outputs": []
    },
    {
      "cell_type": "markdown",
      "metadata": {
        "id": "hLT3BkkAp-i8"
      },
      "source": [
        "#### 60. How to tell if a given 2D array has null columns? "
      ]
    },
    {
      "cell_type": "code",
      "metadata": {
        "id": "cP-lezeRp-i8"
      },
      "source": [],
      "execution_count": null,
      "outputs": []
    },
    {
      "cell_type": "markdown",
      "metadata": {
        "id": "u9T5DcCHp-i8"
      },
      "source": [
        "#### 61. Find the nearest value from a given value in an array "
      ]
    },
    {
      "cell_type": "code",
      "metadata": {
        "id": "64sJeyNNp-i8"
      },
      "source": [],
      "execution_count": null,
      "outputs": []
    },
    {
      "cell_type": "markdown",
      "metadata": {
        "id": "GjGqbQeTp-i8"
      },
      "source": [
        "#### 62. Considering two arrays with shape (1,3) and (3,1), how to compute their sum using an iterator? "
      ]
    },
    {
      "cell_type": "code",
      "metadata": {
        "id": "Q5ydlgO8p-i8"
      },
      "source": [],
      "execution_count": null,
      "outputs": []
    },
    {
      "cell_type": "markdown",
      "metadata": {
        "id": "et2cPCpSp-i8"
      },
      "source": [
        "#### 63. Create an array class that has a name attribute "
      ]
    },
    {
      "cell_type": "code",
      "metadata": {
        "id": "2RsWyVDfp-i9"
      },
      "source": [],
      "execution_count": null,
      "outputs": []
    },
    {
      "cell_type": "markdown",
      "metadata": {
        "id": "9D7LegYUp-i9"
      },
      "source": [
        "#### 64. Consider a given vector, how to add 1 to each element indexed by a second vector (be careful with repeated indices)?"
      ]
    },
    {
      "cell_type": "code",
      "metadata": {
        "id": "VM1YYV1Bp-i9"
      },
      "source": [],
      "execution_count": null,
      "outputs": []
    },
    {
      "cell_type": "markdown",
      "metadata": {
        "id": "3iq68gmZp-i9"
      },
      "source": [
        "#### 65. How to accumulate elements of a vector (X) to an array (F) based on an index list (I)?"
      ]
    },
    {
      "cell_type": "code",
      "metadata": {
        "id": "y8T5U2cDp-i9"
      },
      "source": [],
      "execution_count": null,
      "outputs": []
    },
    {
      "cell_type": "markdown",
      "metadata": {
        "id": "CTEr2CYzp-i9"
      },
      "source": [
        "#### 66. Considering a (w,h,3) image of (dtype=ubyte), compute the number of unique colors"
      ]
    },
    {
      "cell_type": "code",
      "metadata": {
        "id": "ou4RF8Yrp-i9"
      },
      "source": [],
      "execution_count": null,
      "outputs": []
    },
    {
      "cell_type": "markdown",
      "metadata": {
        "id": "dVebknrnp-i9"
      },
      "source": [
        "#### 67. Considering a four dimensions array, how to get sum over the last two axis at once?"
      ]
    },
    {
      "cell_type": "code",
      "metadata": {
        "id": "1V0O2Chnp-i9"
      },
      "source": [],
      "execution_count": null,
      "outputs": []
    },
    {
      "cell_type": "markdown",
      "metadata": {
        "id": "CPxgChU2p-i_"
      },
      "source": [
        "#### 68. Considering a one-dimensional vector D, how to compute means of subsets of D using a vector S of same size describing subset  indices?"
      ]
    },
    {
      "cell_type": "code",
      "metadata": {
        "id": "t3zAgr10p-jA"
      },
      "source": [],
      "execution_count": null,
      "outputs": []
    },
    {
      "cell_type": "markdown",
      "metadata": {
        "id": "tXqA-rbYp-jA"
      },
      "source": [
        "#### 69. How to get the diagonal of a dot product?"
      ]
    },
    {
      "cell_type": "code",
      "metadata": {
        "id": "6a6ILfuBp-jA"
      },
      "source": [],
      "execution_count": null,
      "outputs": []
    },
    {
      "cell_type": "markdown",
      "metadata": {
        "id": "ZAMbpinzp-jA"
      },
      "source": [
        "#### 70. Consider the vector [1, 2, 3, 4, 5], how to build a new vector with 3 consecutive zeros interleaved between each value?"
      ]
    },
    {
      "cell_type": "code",
      "metadata": {
        "id": "jDtmK55pp-jA"
      },
      "source": [],
      "execution_count": null,
      "outputs": []
    },
    {
      "cell_type": "markdown",
      "metadata": {
        "id": "sRmNJOBbp-jA"
      },
      "source": [
        "#### 71. Consider an array of dimension (5,5,3), how to mulitply it by an array with dimensions (5,5)?"
      ]
    },
    {
      "cell_type": "code",
      "metadata": {
        "id": "Q3a-YO3Vp-jA"
      },
      "source": [],
      "execution_count": null,
      "outputs": []
    },
    {
      "cell_type": "markdown",
      "metadata": {
        "id": "gFPE1EtUp-jA"
      },
      "source": [
        "#### 72. How to swap two rows of an array?"
      ]
    },
    {
      "cell_type": "code",
      "metadata": {
        "id": "iEf1UIeOp-jB"
      },
      "source": [],
      "execution_count": null,
      "outputs": []
    },
    {
      "cell_type": "markdown",
      "metadata": {
        "id": "OWvbd1Lxp-jB"
      },
      "source": [
        "#### 73. Consider a set of 10 triplets describing 10 triangles (with shared vertices), find the set of unique line segments composing all the  triangles"
      ]
    },
    {
      "cell_type": "code",
      "metadata": {
        "id": "dCk13vBop-jB"
      },
      "source": [],
      "execution_count": null,
      "outputs": []
    },
    {
      "cell_type": "markdown",
      "metadata": {
        "id": "z4Fgwwa3p-jB"
      },
      "source": [
        "#### 74. Given an array C that is a bincount, how to produce an array A such that np.bincount(A) == C?"
      ]
    },
    {
      "cell_type": "code",
      "metadata": {
        "id": "wc7Zkt4Zp-jB"
      },
      "source": [],
      "execution_count": null,
      "outputs": []
    },
    {
      "cell_type": "markdown",
      "metadata": {
        "id": "KDRym4Nxp-jB"
      },
      "source": [
        "#### 75. How to compute averages using a sliding window over an array?"
      ]
    },
    {
      "cell_type": "code",
      "metadata": {
        "id": "Y8casen_p-jB"
      },
      "source": [],
      "execution_count": null,
      "outputs": []
    },
    {
      "cell_type": "markdown",
      "metadata": {
        "id": "MgTneJ_mp-jB"
      },
      "source": [
        "#### 76. Consider a one-dimensional array Z, build a two-dimensional array whose first row is (Z[0],Z[1],Z[2]) and each subsequent row is  shifted by 1 (last row should be (Z[-3],Z[-2],Z[-1])"
      ]
    },
    {
      "cell_type": "code",
      "metadata": {
        "id": "RSesXHlep-jB"
      },
      "source": [],
      "execution_count": null,
      "outputs": []
    },
    {
      "cell_type": "markdown",
      "metadata": {
        "id": "yLMUkUt8p-jC"
      },
      "source": [
        "#### 77. How to negate a boolean, or to change the sign of a float inplace?"
      ]
    },
    {
      "cell_type": "code",
      "metadata": {
        "id": "enKgxhtfp-jC"
      },
      "source": [],
      "execution_count": null,
      "outputs": []
    },
    {
      "cell_type": "markdown",
      "metadata": {
        "id": "iKP9VGvSp-jC"
      },
      "source": [
        "#### 78. Consider 2 sets of points P0,P1 describing lines (2d) and a point p, how to compute distance from p to each line i (P0[i],P1[i])?"
      ]
    },
    {
      "cell_type": "code",
      "metadata": {
        "id": "FRsmueGAp-jC"
      },
      "source": [],
      "execution_count": null,
      "outputs": []
    },
    {
      "cell_type": "markdown",
      "metadata": {
        "id": "dA9tbto8p-jC"
      },
      "source": [
        "#### 79. Consider 2 sets of points P0,P1 describing lines (2d) and a set of points P, how to compute distance from each point j (P[j]) to each line i (P0[i],P1[i])?"
      ]
    },
    {
      "cell_type": "code",
      "metadata": {
        "id": "jBwFfDTTp-jC"
      },
      "source": [],
      "execution_count": null,
      "outputs": []
    },
    {
      "cell_type": "markdown",
      "metadata": {
        "id": "dSY7rIpfp-jC"
      },
      "source": [
        "#### 80. Consider an arbitrary array, write a function that extract a subpart with a fixed shape and centered on a given element (pad with a `fill` value when necessary)"
      ]
    },
    {
      "cell_type": "code",
      "metadata": {
        "id": "UUC4v8Ssp-jD"
      },
      "source": [],
      "execution_count": null,
      "outputs": []
    },
    {
      "cell_type": "markdown",
      "metadata": {
        "id": "jhsFKVtxp-jD"
      },
      "source": [
        "#### 81. Consider an array Z = [1,2,3,4,5,6,7,8,9,10,11,12,13,14], how to generate an array R = [[1,2,3,4], [2,3,4,5], [3,4,5,6], ..., [11,12,13,14]]?"
      ]
    },
    {
      "cell_type": "code",
      "metadata": {
        "id": "LH11g-HXp-jD"
      },
      "source": [],
      "execution_count": null,
      "outputs": []
    },
    {
      "cell_type": "markdown",
      "metadata": {
        "id": "LMei8DNTp-jD"
      },
      "source": [
        "#### 82. Compute a matrix rank"
      ]
    },
    {
      "cell_type": "code",
      "metadata": {
        "id": "xKtZb36wp-jD"
      },
      "source": [],
      "execution_count": null,
      "outputs": []
    },
    {
      "cell_type": "markdown",
      "metadata": {
        "id": "XNQysF64p-jD"
      },
      "source": [
        "#### 83. How to find the most frequent value in an array?"
      ]
    },
    {
      "cell_type": "code",
      "metadata": {
        "id": "lmCv6oD3p-jD"
      },
      "source": [],
      "execution_count": null,
      "outputs": []
    },
    {
      "cell_type": "markdown",
      "metadata": {
        "id": "ifDe6mPsp-jD"
      },
      "source": [
        "#### 84. Extract all the contiguous 3x3 blocks from a random 10x10 matrix"
      ]
    },
    {
      "cell_type": "code",
      "metadata": {
        "id": "gh6PsR9xp-jD"
      },
      "source": [],
      "execution_count": null,
      "outputs": []
    },
    {
      "cell_type": "markdown",
      "metadata": {
        "id": "nVbv5rW7p-jD"
      },
      "source": [
        "#### 85. Create a 2D array subclass such that Z[i,j] == Z[j,i]"
      ]
    },
    {
      "cell_type": "code",
      "metadata": {
        "id": "_l1afQgSp-jE"
      },
      "source": [],
      "execution_count": null,
      "outputs": []
    },
    {
      "cell_type": "markdown",
      "metadata": {
        "id": "0QaCP9v8p-jE"
      },
      "source": [
        "#### 86. Consider a set of p matrices wich shape (n,n) and a set of p vectors with shape (n,1). How to compute the sum of of the p matrix products at once? (result has shape (n,1))"
      ]
    },
    {
      "cell_type": "code",
      "metadata": {
        "id": "gr3Xa_Bvp-jE"
      },
      "source": [],
      "execution_count": null,
      "outputs": []
    },
    {
      "cell_type": "markdown",
      "metadata": {
        "id": "EMH3atm6p-jE"
      },
      "source": [
        "#### 87. Consider a 16x16 array, how to get the block-sum (block size is 4x4)?"
      ]
    },
    {
      "cell_type": "code",
      "metadata": {
        "id": "zBuWIpfnp-jE"
      },
      "source": [],
      "execution_count": null,
      "outputs": []
    },
    {
      "cell_type": "markdown",
      "metadata": {
        "id": "3UpCMDZ2p-jE"
      },
      "source": [
        "#### 88. How to implement the Game of Life using numpy arrays?"
      ]
    },
    {
      "cell_type": "code",
      "metadata": {
        "id": "YOwWfNSZp-jE"
      },
      "source": [],
      "execution_count": null,
      "outputs": []
    },
    {
      "cell_type": "markdown",
      "metadata": {
        "id": "Vjthnd4Yp-jE"
      },
      "source": [
        "#### 89. How to get the n largest values of an array"
      ]
    },
    {
      "cell_type": "code",
      "metadata": {
        "id": "hQCFa-F-p-jE"
      },
      "source": [],
      "execution_count": null,
      "outputs": []
    },
    {
      "cell_type": "markdown",
      "metadata": {
        "id": "CtbKyR7lp-jE"
      },
      "source": [
        "#### 90. Given an arbitrary number of vectors, build the cartesian product (every combinations of every item)"
      ]
    },
    {
      "cell_type": "code",
      "metadata": {
        "id": "e6bqMCOQp-jF"
      },
      "source": [],
      "execution_count": null,
      "outputs": []
    },
    {
      "cell_type": "markdown",
      "metadata": {
        "id": "46JCwKaNp-jF"
      },
      "source": [
        "#### 91. How to create a record array from a regular array?"
      ]
    },
    {
      "cell_type": "code",
      "metadata": {
        "id": "oamVY2b8p-jF"
      },
      "source": [],
      "execution_count": null,
      "outputs": []
    },
    {
      "cell_type": "markdown",
      "metadata": {
        "id": "9LKmPvmgp-jF"
      },
      "source": [
        "#### 92. Consider a large vector Z, compute Z to the power of 3 using 3 different methods"
      ]
    },
    {
      "cell_type": "code",
      "metadata": {
        "id": "MOaZ4_Thp-jF"
      },
      "source": [],
      "execution_count": null,
      "outputs": []
    },
    {
      "cell_type": "markdown",
      "metadata": {
        "id": "eQzpeQHWp-jF"
      },
      "source": [
        "#### 93. Consider two arrays A and B of shape (8,3) and (2,2). How to find rows of A that contain elements of each row of B regardless of the order of the elements in B?"
      ]
    },
    {
      "cell_type": "code",
      "metadata": {
        "id": "dEon4TXFp-jF"
      },
      "source": [],
      "execution_count": null,
      "outputs": []
    },
    {
      "cell_type": "markdown",
      "metadata": {
        "id": "JbryE5L2p-jF"
      },
      "source": [
        "#### 94. Considering a 10x3 matrix, extract rows with unequal values (e.g. [2,2,3])"
      ]
    },
    {
      "cell_type": "code",
      "metadata": {
        "id": "rg-TAwXtp-jF"
      },
      "source": [],
      "execution_count": null,
      "outputs": []
    },
    {
      "cell_type": "markdown",
      "metadata": {
        "id": "7tiAHlrxp-jF"
      },
      "source": [
        "#### 95. Convert a vector of ints into a matrix binary representation"
      ]
    },
    {
      "cell_type": "code",
      "metadata": {
        "id": "JdhfbpWSp-jG"
      },
      "source": [],
      "execution_count": null,
      "outputs": []
    },
    {
      "cell_type": "markdown",
      "metadata": {
        "id": "aEjNNvLdp-jG"
      },
      "source": [
        "#### 96. Given a two dimensional array, how to extract unique rows?"
      ]
    },
    {
      "cell_type": "code",
      "metadata": {
        "id": "zC5yzkddp-jG"
      },
      "source": [],
      "execution_count": null,
      "outputs": []
    },
    {
      "cell_type": "markdown",
      "metadata": {
        "id": "wGzXUNCJp-jG"
      },
      "source": [
        "#### 97. Considering 2 vectors A & B, write the einsum equivalent of inner, outer, sum, and mul function"
      ]
    },
    {
      "cell_type": "code",
      "metadata": {
        "id": "A2MPwvfyp-jG"
      },
      "source": [],
      "execution_count": null,
      "outputs": []
    },
    {
      "cell_type": "markdown",
      "metadata": {
        "id": "jU1gzacQp-jG"
      },
      "source": [
        "#### 98. Considering a path described by two vectors (X,Y), how to sample it using equidistant samples?"
      ]
    },
    {
      "cell_type": "code",
      "metadata": {
        "id": "ABgm3bG2p-jG"
      },
      "source": [],
      "execution_count": null,
      "outputs": []
    },
    {
      "cell_type": "markdown",
      "metadata": {
        "id": "7_vhJfRQp-jG"
      },
      "source": [
        "#### 99. Given an integer n and a 2D array X, select from X the rows which can be interpreted as draws from a multinomial distribution with n degrees, i.e., the rows which only contain integers and which sum to n."
      ]
    },
    {
      "cell_type": "code",
      "metadata": {
        "id": "k99dGThNp-jH"
      },
      "source": [],
      "execution_count": null,
      "outputs": []
    },
    {
      "cell_type": "markdown",
      "metadata": {
        "id": "qyy1Zz_Bp-jH"
      },
      "source": [
        "#### 100. Compute bootstrapped 95% confidence intervals for the mean of a 1D array X (i.e., resample the elements of an array with replacement N times, compute the mean of each sample, and then compute percentiles over the means)."
      ]
    },
    {
      "cell_type": "code",
      "metadata": {
        "id": "YIn6zn_bp-jH"
      },
      "source": [],
      "execution_count": null,
      "outputs": []
    }
  ]
}