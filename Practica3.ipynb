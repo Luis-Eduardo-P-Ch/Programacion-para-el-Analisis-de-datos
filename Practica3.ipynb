{
  "nbformat": 4,
  "nbformat_minor": 0,
  "metadata": {
    "kernelspec": {
      "display_name": "Python 3",
      "language": "python",
      "name": "python3"
    },
    "language_info": {
      "codemirror_mode": {
        "name": "ipython",
        "version": 3
      },
      "file_extension": ".py",
      "mimetype": "text/x-python",
      "name": "python",
      "nbconvert_exporter": "python",
      "pygments_lexer": "ipython3",
      "version": "3.7.3"
    },
    "colab": {
      "provenance": [],
      "include_colab_link": true
    }
  },
  "cells": [
    {
      "cell_type": "markdown",
      "metadata": {
        "id": "view-in-github",
        "colab_type": "text"
      },
      "source": [
        "<a href=\"https://colab.research.google.com/github/Luis-Eduardo-P-Ch/Programacion-para-el-Analisis-de-datos/blob/main/Practica3.ipynb\" target=\"_parent\"><img src=\"https://colab.research.google.com/assets/colab-badge.svg\" alt=\"Open In Colab\"/></a>"
      ]
    },
    {
      "cell_type": "markdown",
      "metadata": {
        "id": "9FPYUF_Tp-im"
      },
      "source": [
        "# Programación para Análisis de datos\n",
        "## Práctica 3: Numpy\n",
        "\n",
        "\n",
        "\n",
        "<b>Nota:</b>\n",
        "Esta practica esta basada en los ejercicios presentes en https://github.com/rougier/numpy-100.\n",
        "\n",
        "numpy-100: Version 1.1\n",
        "Nicolas P. Rougier; Jessica B. Hamrick; ibah; Gavin Heverly-Coulson; Dapid; Christoph Deil; Bartosz Telenczuk\n",
        "\n",
        "<hr>"
      ]
    },
    {
      "cell_type": "markdown",
      "metadata": {
        "id": "lOC7lAjUp-ir"
      },
      "source": [
        "#### 1. Import the numpy package under the name `np`"
      ]
    },
    {
      "cell_type": "code",
      "metadata": {
        "id": "ZTBgv03Sp-ir",
        "outputId": "f4a5e3ea-6e8d-47ba-acc8-357e4a4984f8",
        "colab": {
          "base_uri": "https://localhost:8080/"
        }
      },
      "source": [
        "pip install "
      ],
      "execution_count": null,
      "outputs": [
        {
          "output_type": "stream",
          "name": "stdout",
          "text": [
            "\u001b[31mERROR: You must give at least one requirement to install (see \"pip help install\")\u001b[0m\u001b[31m\n",
            "\u001b[0m"
          ]
        }
      ]
    },
    {
      "cell_type": "code",
      "source": [
        "!pip install numpy"
      ],
      "metadata": {
        "id": "VMS8RVD8sk6W",
        "outputId": "98421f93-8969-4832-af45-ac538ca5b263",
        "colab": {
          "base_uri": "https://localhost:8080/"
        }
      },
      "execution_count": null,
      "outputs": [
        {
          "output_type": "stream",
          "name": "stdout",
          "text": [
            "Looking in indexes: https://pypi.org/simple, https://us-python.pkg.dev/colab-wheels/public/simple/\n",
            "Requirement already satisfied: numpy in /usr/local/lib/python3.9/dist-packages (1.22.4)\n"
          ]
        }
      ]
    },
    {
      "cell_type": "markdown",
      "source": [
        "La diferencia entre \"pip install\" y \"!pip install\" radica en el entorno de ejecución en el que se ejecutan estos comandos.\n",
        "\n",
        "\"pip install\" es un comando que se utiliza para instalar paquetes de Python en un entorno de Python. Puede ser utilizado dentro de una sesión interactiva de Python o dentro de un archivo de script de Python.\n",
        "\n",
        "Por otro lado, \"!pip install\" es un comando que se utiliza dentro de un notebook de Jupyter o en un entorno de ejecución como Colab. El signo de exclamación (\"!\") es una sintaxis especial que indica que el comando debe ser ejecutado en una terminal o shell en lugar de en el entorno de Python. Esto permite ejecutar comandos de sistema en el notebook o en el entorno de ejecución.\n",
        "\n",
        "En resumen, \"pip install\" es un comando de Python que se ejecuta en un entorno de Python, mientras que \"!pip install\" es un comando que se ejecuta en una terminal o shell en un notebook de Jupyter o entorno de ejecución como Colab."
      ],
      "metadata": {
        "id": "nKVXnyDRs7b8"
      }
    },
    {
      "cell_type": "markdown",
      "source": [
        "No, no es lo mismo usar \"!pip install\" que \"import\".\n",
        "\n",
        "\"!pip install\" es un comando que se utiliza para instalar paquetes de Python en un entorno de ejecución como Colab. Este comando solo se usa una vez para instalar el paquete que se desea utilizar. Por otro lado, \"import\" es un comando de Python que se utiliza para importar un paquete o módulo que ya está instalado en el entorno de Python.\n",
        "\n",
        "En resumen, \"!pip install\" se utiliza para instalar un paquete en el entorno de ejecución, mientras que \"import\" se utiliza para importar un paquete o módulo que ya está instalado en el entorno de Python y se puede utilizar para trabajar con ese paquete o módulo en el código Python.\n",
        "\n",
        "Por lo tanto, necesitas usar \"!pip install\" para instalar un paquete en Colab antes de poder importarlo y usarlo en tu código con el comando \"import\"."
      ],
      "metadata": {
        "id": "bxGQ3AsNt_1D"
      }
    },
    {
      "cell_type": "markdown",
      "metadata": {
        "id": "2ZjSYF83p-ir"
      },
      "source": [
        "#### 2. Print the numpy version and the configuration"
      ]
    },
    {
      "cell_type": "code",
      "metadata": {
        "id": "2eonDCxdp-is",
        "outputId": "563add6f-13ef-4043-9693-ae1c003fb535",
        "colab": {
          "base_uri": "https://localhost:8080/"
        }
      },
      "source": [
        "import numpy as np\n",
        "\n",
        "print(\"Versión de NumPy: \", np.__version__)"
      ],
      "execution_count": null,
      "outputs": [
        {
          "output_type": "stream",
          "name": "stdout",
          "text": [
            "Versión de NumPy:  1.22.4\n"
          ]
        }
      ]
    },
    {
      "cell_type": "markdown",
      "metadata": {
        "id": "68RedePyp-is"
      },
      "source": [
        "#### 3. Create a null vector of size 10"
      ]
    },
    {
      "cell_type": "code",
      "metadata": {
        "id": "vBSKQHozp-is",
        "outputId": "171c719d-9b7e-4836-83b5-3dbba2b6dcbc",
        "colab": {
          "base_uri": "https://localhost:8080/"
        }
      },
      "source": [
        "import numpy as np\n",
        "\n",
        "vector_nulo=np.zeros(10)\n",
        "\n",
        "print(vector_nulo)"
      ],
      "execution_count": null,
      "outputs": [
        {
          "output_type": "stream",
          "name": "stdout",
          "text": [
            "[0. 0. 0. 0. 0. 0. 0. 0. 0. 0.]\n"
          ]
        }
      ]
    },
    {
      "cell_type": "markdown",
      "metadata": {
        "id": "zUeDJwKcp-is"
      },
      "source": [
        "#### 4. How to find the memory size of any array"
      ]
    },
    {
      "cell_type": "code",
      "metadata": {
        "id": "C-t_jGSZp-is",
        "outputId": "027f69e9-7773-4cad-99e1-3c70894ba4fb",
        "colab": {
          "base_uri": "https://localhost:8080/"
        }
      },
      "source": [
        "import numpy as np\n",
        "\n",
        "#Crear un array de ejemplo\n",
        "array_ejemplo=np.zeros((3,4))\n",
        "\n",
        "#Encontrar el tamaño de memoria del array\n",
        "tamaño_memoria=array_ejemplo.nbytes\n",
        "\n",
        "#Imprimir el tamaño de memoria del array en bytes\n",
        "print(\"El tamañ de memoria del array es: \", tamaño_memoria, \"bytes\")"
      ],
      "execution_count": null,
      "outputs": [
        {
          "output_type": "stream",
          "name": "stdout",
          "text": [
            "El tamañ de memoria del array es:  96 bytes\n"
          ]
        }
      ]
    },
    {
      "cell_type": "markdown",
      "metadata": {
        "id": "-P13DeMBp-it"
      },
      "source": [
        "#### 5. How to get the documentation of the numpy add function from the command line?"
      ]
    },
    {
      "cell_type": "code",
      "metadata": {
        "id": "hmLUXBRpp-it",
        "outputId": "3b1425e4-4dab-44a6-eeef-8eaa764432aa",
        "colab": {
          "base_uri": "https://localhost:8080/"
        }
      },
      "source": [
        "import numpy as pd\n",
        "\n",
        "help(np.add)"
      ],
      "execution_count": null,
      "outputs": [
        {
          "output_type": "stream",
          "name": "stdout",
          "text": [
            "Help on ufunc:\n",
            "\n",
            "add = <ufunc 'add'>\n",
            "    add(x1, x2, /, out=None, *, where=True, casting='same_kind', order='K', dtype=None, subok=True[, signature, extobj])\n",
            "    \n",
            "    Add arguments element-wise.\n",
            "    \n",
            "    Parameters\n",
            "    ----------\n",
            "    x1, x2 : array_like\n",
            "        The arrays to be added.\n",
            "        If ``x1.shape != x2.shape``, they must be broadcastable to a common\n",
            "        shape (which becomes the shape of the output).\n",
            "    out : ndarray, None, or tuple of ndarray and None, optional\n",
            "        A location into which the result is stored. If provided, it must have\n",
            "        a shape that the inputs broadcast to. If not provided or None,\n",
            "        a freshly-allocated array is returned. A tuple (possible only as a\n",
            "        keyword argument) must have length equal to the number of outputs.\n",
            "    where : array_like, optional\n",
            "        This condition is broadcast over the input. At locations where the\n",
            "        condition is True, the `out` array will be set to the ufunc result.\n",
            "        Elsewhere, the `out` array will retain its original value.\n",
            "        Note that if an uninitialized `out` array is created via the default\n",
            "        ``out=None``, locations within it where the condition is False will\n",
            "        remain uninitialized.\n",
            "    **kwargs\n",
            "        For other keyword-only arguments, see the\n",
            "        :ref:`ufunc docs <ufuncs.kwargs>`.\n",
            "    \n",
            "    Returns\n",
            "    -------\n",
            "    add : ndarray or scalar\n",
            "        The sum of `x1` and `x2`, element-wise.\n",
            "        This is a scalar if both `x1` and `x2` are scalars.\n",
            "    \n",
            "    Notes\n",
            "    -----\n",
            "    Equivalent to `x1` + `x2` in terms of array broadcasting.\n",
            "    \n",
            "    Examples\n",
            "    --------\n",
            "    >>> np.add(1.0, 4.0)\n",
            "    5.0\n",
            "    >>> x1 = np.arange(9.0).reshape((3, 3))\n",
            "    >>> x2 = np.arange(3.0)\n",
            "    >>> np.add(x1, x2)\n",
            "    array([[  0.,   2.,   4.],\n",
            "           [  3.,   5.,   7.],\n",
            "           [  6.,   8.,  10.]])\n",
            "    \n",
            "    The ``+`` operator can be used as a shorthand for ``np.add`` on ndarrays.\n",
            "    \n",
            "    >>> x1 = np.arange(9.0).reshape((3, 3))\n",
            "    >>> x2 = np.arange(3.0)\n",
            "    >>> x1 + x2\n",
            "    array([[ 0.,  2.,  4.],\n",
            "           [ 3.,  5.,  7.],\n",
            "           [ 6.,  8., 10.]])\n",
            "\n"
          ]
        }
      ]
    },
    {
      "cell_type": "markdown",
      "metadata": {
        "id": "bxTNMiZEp-it"
      },
      "source": [
        "#### 6. Create a null vector of size 10 but the fifth value which is 1"
      ]
    },
    {
      "cell_type": "code",
      "metadata": {
        "id": "r8HaOcigp-iu",
        "outputId": "402d6605-e3dd-48d8-eac0-fe4a86f6c4ad",
        "colab": {
          "base_uri": "https://localhost:8080/"
        }
      },
      "source": [
        "import numpy as np\n",
        "#Crear un vector nulo de tamaño 10\n",
        "vector=np.zeros(10)\n",
        "\n",
        "#asignar el valor de 1 en la quinta posición\n",
        "vector[4]=1\n",
        "\n",
        "#Imprimir el vector resultante\n",
        "print(vector)"
      ],
      "execution_count": null,
      "outputs": [
        {
          "output_type": "stream",
          "name": "stdout",
          "text": [
            "[0. 0. 0. 0. 1. 0. 0. 0. 0. 0.]\n"
          ]
        }
      ]
    },
    {
      "cell_type": "code",
      "source": [
        "import numpy as np\n",
        "#crear una matriz identidad de tamaño 10*10\n",
        "matrix=np.eye(10)\n",
        "\n",
        "#Selecionar la quinta columna de la matriz identidad\n",
        "vector=matrix[:,4]\n",
        "\n",
        "#imprimir el vector resultante\n",
        "\n",
        "print(vector)"
      ],
      "metadata": {
        "id": "e8QQWHo7yYQv",
        "outputId": "513b5535-7026-4911-f89f-caf6fa4ed31d",
        "colab": {
          "base_uri": "https://localhost:8080/"
        }
      },
      "execution_count": null,
      "outputs": [
        {
          "output_type": "stream",
          "name": "stdout",
          "text": [
            "[0. 0. 0. 0. 1. 0. 0. 0. 0. 0.]\n"
          ]
        }
      ]
    },
    {
      "cell_type": "markdown",
      "metadata": {
        "id": "C7WsYQ0yp-iv"
      },
      "source": [
        "#### 7. Create a vector with values ranging from 10 to 49"
      ]
    },
    {
      "cell_type": "code",
      "metadata": {
        "id": "fxwiF-vyp-iv",
        "outputId": "2465fd97-b361-4978-ac69-75b173e133ea",
        "colab": {
          "base_uri": "https://localhost:8080/"
        }
      },
      "source": [
        "import numpy as np\n",
        "\n",
        "#Crear un vector con Valores que van desde 10 a 49\n",
        "vector=np.arange(10, 50)\n",
        "\n",
        "#Imprimir el vector resultante\n",
        "print(vector)"
      ],
      "execution_count": null,
      "outputs": [
        {
          "output_type": "stream",
          "name": "stdout",
          "text": [
            "[10 11 12 13 14 15 16 17 18 19 20 21 22 23 24 25 26 27 28 29 30 31 32 33\n",
            " 34 35 36 37 38 39 40 41 42 43 44 45 46 47 48 49]\n"
          ]
        }
      ]
    },
    {
      "cell_type": "markdown",
      "metadata": {
        "id": "psa_1RmWp-iv"
      },
      "source": [
        "#### 8. Reverse a vector (first element becomes last)"
      ]
    },
    {
      "cell_type": "code",
      "metadata": {
        "id": "tYN0LFwxp-iv",
        "outputId": "21106242-f46a-4232-e5e2-c3f25ce7d7e0",
        "colab": {
          "base_uri": "https://localhost:8080/"
        }
      },
      "source": [
        "import numpy as np\n",
        "\n",
        "#Crear un vector de ejemplo\n",
        "\n",
        "vector=np.array([1, 2, 3, 4, 5])\n",
        "\n",
        "#Invertir el vector utilizando la notación de índices\n",
        "vector_invertido= vector[::-1]\n",
        "\n",
        "#Imprimiir el vector resultante\n",
        "print(vector_invertido)"
      ],
      "execution_count": null,
      "outputs": [
        {
          "output_type": "stream",
          "name": "stdout",
          "text": [
            "[5 4 3 2 1]\n"
          ]
        }
      ]
    },
    {
      "cell_type": "code",
      "source": [
        "import numpy as np\n",
        "\n",
        "#Crear un Vector de ejemplo\n",
        "vector=np.array([1, 2, 3, 4, 5])\n",
        "\n",
        "#Invertir el vector utilizando la notación de Indices y asignar al vector original\n",
        "vector[:]= vector[::-1]\n",
        "\n",
        "#Imprimir el vector resultante\n",
        "print(vector)"
      ],
      "metadata": {
        "id": "fOWvjp0X2a0T",
        "outputId": "8011dd30-5d55-4cdb-a5f2-6f5f8728d2bb",
        "colab": {
          "base_uri": "https://localhost:8080/"
        }
      },
      "execution_count": null,
      "outputs": [
        {
          "output_type": "stream",
          "name": "stdout",
          "text": [
            "[5 4 3 2 1]\n"
          ]
        }
      ]
    },
    {
      "cell_type": "markdown",
      "metadata": {
        "id": "cqmzNROqp-iv"
      },
      "source": [
        "#### 9. Create a 3x3 matrix with values ranging from 0 to 8"
      ]
    },
    {
      "cell_type": "code",
      "metadata": {
        "id": "AedOl8IHp-iv",
        "outputId": "40476cd7-d630-4cc8-bab5-e9ff2f20e885",
        "colab": {
          "base_uri": "https://localhost:8080/"
        }
      },
      "source": [
        "import numpy as np\n",
        "#Crear un arreglo Numpy de 3*3 con ceros\n",
        "matriz=np.zeros((3,3))\n",
        "\n",
        "#Generar una secuencia de números de 0 a 8\n",
        "valores=np.arange(0,9)\n",
        "\n",
        "#Darle forma de 3*3 al arreglo de valores\n",
        "valores= valores.reshape((3, 3))\n",
        "\n",
        "\n",
        "#Asignar los valores a la matriz\n",
        "matriz= valores\n",
        "\n",
        "print(matriz)"
      ],
      "execution_count": null,
      "outputs": [
        {
          "output_type": "stream",
          "name": "stdout",
          "text": [
            "[[0 1 2]\n",
            " [3 4 5]\n",
            " [6 7 8]]\n"
          ]
        }
      ]
    },
    {
      "cell_type": "markdown",
      "metadata": {
        "id": "1FJblbKxp-iw"
      },
      "source": [
        "#### 10. Find indices of non-zero elements from [1,2,0,0,4,0]"
      ]
    },
    {
      "cell_type": "code",
      "metadata": {
        "id": "Q7t9PSXYp-iw",
        "outputId": "9f392269-b46b-4c50-da5f-b41b61bd4dd1",
        "colab": {
          "base_uri": "https://localhost:8080/"
        }
      },
      "source": [
        "lista=[1, 2, 0, 0, 4, 0]\n",
        "indices=[]\n",
        "\n",
        "#Recorrer la lista y comprobar si cada elemento es distinto de cero\n",
        "\n",
        "for i in range(len(lista)):\n",
        "  if lista[i] !=0:\n",
        "    indices.append(i)\n",
        "print(indices)"
      ],
      "execution_count": null,
      "outputs": [
        {
          "output_type": "stream",
          "name": "stdout",
          "text": [
            "[0, 1, 4]\n"
          ]
        }
      ]
    },
    {
      "cell_type": "markdown",
      "metadata": {
        "id": "R5RcCUmPp-iw"
      },
      "source": [
        "#### 11. Create a 3x3 identity matrix"
      ]
    },
    {
      "cell_type": "code",
      "metadata": {
        "id": "EzXLUV5Hp-iw",
        "outputId": "307558ae-39c8-477a-c705-68fa511e3374",
        "colab": {
          "base_uri": "https://localhost:8080/"
        }
      },
      "source": [
        "import numpy as np\n",
        "\n",
        "# Crear na matriz identidad de 3*3\n",
        "matriz_identidad=np.identity(3)\n",
        "\n",
        "print(matriz_identidad)"
      ],
      "execution_count": null,
      "outputs": [
        {
          "output_type": "stream",
          "name": "stdout",
          "text": [
            "[[1. 0. 0.]\n",
            " [0. 1. 0.]\n",
            " [0. 0. 1.]]\n"
          ]
        }
      ]
    },
    {
      "cell_type": "markdown",
      "metadata": {
        "id": "Cw7gYB_fp-iw"
      },
      "source": [
        "#### 12. Create a 3x3x3 array with random values"
      ]
    },
    {
      "cell_type": "code",
      "metadata": {
        "id": "AZNUBc3Dp-iw",
        "outputId": "3b9979ea-b2cd-4cde-8d5b-c14321f7f317",
        "colab": {
          "base_uri": "https://localhost:8080/"
        }
      },
      "source": [
        "import numpy as np\n",
        "\n",
        "#Crear una matriz de 3*3*3 con valores aleatorios\n",
        "\n",
        "matriz_aleatoria=np.random.rand(3, 3, 3)\n",
        "\n",
        "print(matriz_aleatoria)"
      ],
      "execution_count": null,
      "outputs": [
        {
          "output_type": "stream",
          "name": "stdout",
          "text": [
            "[[[6.34922896e-01 5.68116134e-01 7.75763385e-01]\n",
            "  [5.93665162e-01 9.02457849e-01 7.83259379e-01]\n",
            "  [7.49998201e-04 4.05427207e-01 5.86584467e-01]]\n",
            "\n",
            " [[4.32177363e-01 4.02547871e-01 3.94583945e-01]\n",
            "  [4.33147314e-01 2.11310756e-01 5.99640455e-01]\n",
            "  [7.72952005e-01 6.67541440e-02 7.69456121e-01]]\n",
            "\n",
            " [[7.75637048e-01 5.89431926e-01 6.63039162e-01]\n",
            "  [8.18808858e-01 5.07534334e-01 1.65621650e-01]\n",
            "  [1.76254061e-01 6.92020339e-01 1.94579147e-01]]]\n"
          ]
        }
      ]
    },
    {
      "cell_type": "markdown",
      "metadata": {
        "id": "nMH9QmKop-iw"
      },
      "source": [
        "#### 13. Create a 10x10 array with random values and find the minimum and maximum values"
      ]
    },
    {
      "cell_type": "code",
      "metadata": {
        "id": "XX4TAPN7p-iw",
        "outputId": "f09efdcd-76f9-45dc-c1e1-51a9e1b0d446",
        "colab": {
          "base_uri": "https://localhost:8080/"
        }
      },
      "source": [
        "import numpy as np\n",
        "\n",
        "# Crear una matriz de 10*10 con valores aleatorios\n",
        "matriz_aleatoria=np.random.rand(10,10)\n",
        "\n",
        "#Encontrar el valor minimo y el valor máximo de la matriz\n",
        "valor_minimo=np.min(matriz_aleatoria)\n",
        "valor_maximo= np.max(matriz_aleatoria)\n",
        "\n",
        "print(\"matriz aleatoria:\")\n",
        "print(matriz_aleatoria)\n",
        "print(\"Valor mínimo:\", valor_minimo)\n",
        "print(\"Valor máximo:\", valor_maximo)"
      ],
      "execution_count": null,
      "outputs": [
        {
          "output_type": "stream",
          "name": "stdout",
          "text": [
            "matriz aleatoria:\n",
            "[[0.56476361 0.31852391 0.93268225 0.80361594 0.2056231  0.71242543\n",
            "  0.98981644 0.32044578 0.47124292 0.99646601]\n",
            " [0.83038285 0.22718839 0.3041835  0.24371791 0.05681253 0.73362443\n",
            "  0.76565586 0.30431667 0.6594878  0.04946378]\n",
            " [0.55085225 0.62886716 0.84584389 0.84577677 0.59517093 0.64598479\n",
            "  0.03434006 0.36045763 0.74074011 0.20134802]\n",
            " [0.5240747  0.02463128 0.0107314  0.30079198 0.46439479 0.8976309\n",
            "  0.95986099 0.93353059 0.21643233 0.88520224]\n",
            " [0.5036528  0.89171279 0.5514514  0.4698113  0.28853872 0.69443916\n",
            "  0.7516785  0.84515178 0.61314978 0.35342786]\n",
            " [0.32710684 0.10744226 0.69824899 0.92792237 0.82083552 0.93481095\n",
            "  0.46190438 0.39077299 0.97150381 0.63662744]\n",
            " [0.86073556 0.17610446 0.63347564 0.06611302 0.79416864 0.32847135\n",
            "  0.89844417 0.88195308 0.27265855 0.7405223 ]\n",
            " [0.61794636 0.24083674 0.63301943 0.58089528 0.4384992  0.22673392\n",
            "  0.47454204 0.36090496 0.18496788 0.657466  ]\n",
            " [0.01809534 0.04412209 0.96964818 0.78695143 0.14106067 0.54490939\n",
            "  0.40870388 0.01127054 0.83406122 0.60853703]\n",
            " [0.14389664 0.84146298 0.19872074 0.2788102  0.28190079 0.45347617\n",
            "  0.32330833 0.15068801 0.48134068 0.65710954]]\n",
            "Valor mínimo: 0.010731403689635766\n",
            "Valor máximo: 0.9964660136010682\n"
          ]
        }
      ]
    },
    {
      "cell_type": "markdown",
      "metadata": {
        "id": "CsL3hfzgp-iw"
      },
      "source": [
        "#### 14. Create a random vector of size 30 and find the mean value"
      ]
    },
    {
      "cell_type": "code",
      "metadata": {
        "id": "F3CxkJPhp-ix",
        "outputId": "ae0750a3-cc49-49aa-d5ea-e5bf2c4c4f4b",
        "colab": {
          "base_uri": "https://localhost:8080/"
        }
      },
      "source": [
        "import numpy as np\n",
        "\n",
        "#Crear un vector de 30 valores aleatoios\n",
        "vector_aleatorio=np.random.rand(1,30)\n",
        "\n",
        "#Encontrar el valor medio del vector\n",
        "valor_medio=np.mean(vector_aleatorio)\n",
        "\n",
        "print(\"Vector aleatorio:\")\n",
        "print(vector_aleatorio)\n",
        "print(\"valor medio: \", valor_medio)\n"
      ],
      "execution_count": null,
      "outputs": [
        {
          "output_type": "stream",
          "name": "stdout",
          "text": [
            "Vector aleatorio:\n",
            "[[0.57291188 0.82050745 0.72821455 0.85307017 0.8479507  0.93871675\n",
            "  0.85326141 0.52177569 0.97098906 0.21054297 0.44594836 0.84135229\n",
            "  0.14678619 0.35461587 0.64497202 0.49042242 0.17278906 0.66013596\n",
            "  0.24551298 0.39509084 0.81722908 0.40896539 0.45495039 0.62240089\n",
            "  0.96371009 0.54607743 0.58147109 0.19290633 0.89735553 0.40579344]]\n",
            "valor medio:  0.5868808775510813\n"
          ]
        }
      ]
    },
    {
      "cell_type": "markdown",
      "metadata": {
        "id": "vS4dGd7jp-ix"
      },
      "source": [
        "#### 15. Create a 2d array with 1 on the border and 0 inside"
      ]
    },
    {
      "cell_type": "code",
      "metadata": {
        "id": "1v6qeX5_p-ix",
        "outputId": "61653629-d228-41fd-c808-9d3542db7c02",
        "colab": {
          "base_uri": "https://localhost:8080/"
        }
      },
      "source": [
        "import numpy as np\n",
        "\n",
        "#Definir las dimensiones de la matriz\n",
        "filas=5\n",
        "columnas=5\n",
        "\n",
        "# Crear una matriz llena de ceros\n",
        "matriz=np.zeros((filas, columnas))\n",
        "\n",
        "#Establecer los bordes con unos\n",
        "matriz[0, :]=1\n",
        "matriz[filas-1,:]=1   #ultima fila\n",
        "matriz[:, 0]=1\n",
        "matriz[:, columnas-1]=1\n",
        "\n",
        "#imprimir la matriz resultante\n",
        "print(matriz)"
      ],
      "execution_count": null,
      "outputs": [
        {
          "output_type": "stream",
          "name": "stdout",
          "text": [
            "[[1. 1. 1. 1. 1.]\n",
            " [1. 0. 0. 0. 1.]\n",
            " [1. 0. 0. 0. 1.]\n",
            " [1. 0. 0. 0. 1.]\n",
            " [1. 1. 1. 1. 1.]]\n"
          ]
        }
      ]
    },
    {
      "cell_type": "markdown",
      "metadata": {
        "id": "g_m6embOp-ix"
      },
      "source": [
        "#### 16. How to add a border (filled with 0's) around an existing array?"
      ]
    },
    {
      "cell_type": "code",
      "metadata": {
        "id": "z65ba79Np-ix",
        "outputId": "1449243d-05f8-4550-b2bf-9f014140485d",
        "colab": {
          "base_uri": "https://localhost:8080/"
        }
      },
      "source": [
        "import numpy as np\n",
        "\n",
        "# Definir la matriz original\n",
        "matriz_original=np.array([[1, 2, 3], [4, 5, 6], [ 7, 8, 9]])\n",
        "\n",
        "# Agregar un borde lleno de ceros alrededor de la matriz\n",
        "matriz_con_borde= np.pad(matriz_original, 1, mode='constant', constant_values=0)\n",
        "\n",
        "print(matriz_con_borde)"
      ],
      "execution_count": null,
      "outputs": [
        {
          "output_type": "stream",
          "name": "stdout",
          "text": [
            "[[0 0 0 0 0]\n",
            " [0 1 2 3 0]\n",
            " [0 4 5 6 0]\n",
            " [0 7 8 9 0]\n",
            " [0 0 0 0 0]]\n"
          ]
        }
      ]
    },
    {
      "cell_type": "markdown",
      "metadata": {
        "id": "wEt3hHFNp-ix"
      },
      "source": [
        "#### 17. What is the result of the following expression?\n",
        "```python\n",
        "0 * np.nan\n",
        "np.nan == np.nan\n",
        "np.inf > np.nan\n",
        "np.nan - np.nan\n",
        "np.nan in set([np.nan])\n",
        "0.3 == 3 * 0.1\n",
        "```"
      ]
    },
    {
      "cell_type": "code",
      "metadata": {
        "id": "zu8DX7jNp-ix",
        "outputId": "e85666a6-4fc1-44b5-aa53-e6cf7c5098fa",
        "colab": {
          "base_uri": "https://localhost:8080/"
        }
      },
      "source": [
        "0 * np.nan   # nan\n",
        "np.nan == np.nan   # False (nan no es igual a ningún valor, ni siquiera a otro nan)\n",
        "np.inf > np.nan   # False (cualquier número, incluso infinito, no puede ser mayor que nan)\n",
        "np.nan - np.nan   # nan (restar dos valores indefinidos da como resultado indefinido)\n",
        "np.nan in set([np.nan])   # True (un conjunto puede contener valores indefinidos)\n",
        "0.3 == 3 * 0.1   # False (debido a errores de redondeo en la representación de números de punto flotante)"
      ],
      "execution_count": null,
      "outputs": [
        {
          "output_type": "execute_result",
          "data": {
            "text/plain": [
              "False"
            ]
          },
          "metadata": {},
          "execution_count": 19
        }
      ]
    },
    {
      "cell_type": "markdown",
      "source": [
        "En resumen, la expresión arrojaría valores indefinidos (nan) y falsos debido a la naturaleza indefinida de los números no definidos. Además, debido a errores de redondeo en la representación de números de punto flotante, la igualdad entre 0.3 y 3 * 0.1 también arrojaría un resultado falso."
      ],
      "metadata": {
        "id": "XzQnDYYZgE8j"
      }
    },
    {
      "cell_type": "markdown",
      "metadata": {
        "id": "M-kVXQFqp-iy"
      },
      "source": [
        "#### 18. Create a 5x5 matrix with values 1,2,3,4 just below the diagonal"
      ]
    },
    {
      "cell_type": "code",
      "source": [
        "import numpy as np\n",
        "\n",
        "#Crear matriz de ceros de 5*5\n",
        "matriz=np.zeros((5, 5))\n",
        "\n",
        "#Establecer los valores debajo de la diagonal en 1, 2, 3, 4\n",
        "for i in range(1, 5):\n",
        "  matriz[i:(i+1), 0:i]=i\n",
        "#Imprimir la matriz resultante\n",
        "print(matriz)"
      ],
      "metadata": {
        "id": "fWz4RvXHjKmE",
        "outputId": "38478a33-6c6c-4d99-8842-307251f4d7f9",
        "colab": {
          "base_uri": "https://localhost:8080/"
        }
      },
      "execution_count": null,
      "outputs": [
        {
          "output_type": "stream",
          "name": "stdout",
          "text": [
            "[[0. 0. 0. 0. 0.]\n",
            " [1. 0. 0. 0. 0.]\n",
            " [2. 2. 0. 0. 0.]\n",
            " [3. 3. 3. 0. 0.]\n",
            " [4. 4. 4. 4. 0.]]\n"
          ]
        }
      ]
    },
    {
      "cell_type": "markdown",
      "metadata": {
        "id": "jHAxa3CTp-iy"
      },
      "source": [
        "#### 19. Create a 8x8 matrix and fill it with a checkerboard pattern"
      ]
    },
    {
      "cell_type": "code",
      "metadata": {
        "id": "NflBPVcRp-iy",
        "outputId": "730f7660-196f-40b6-e5ad-35a7eb52da49",
        "colab": {
          "base_uri": "https://localhost:8080/"
        }
      },
      "source": [
        "import numpy as np\n",
        "\n",
        "#Crear una matriz de 8*8 llena de ceros\n",
        "matriz= np.zeros((8, 8))\n",
        "\n",
        "#Rellenar la matriz con el patron de ajedrez utilizando el operador módulo\n",
        "\n",
        "for i in range(8):\n",
        "  for j in range(8):\n",
        "    if (i+j)%2==0:\n",
        "      matriz[i][j]=1\n",
        "#imprimir la matriz resultante\n",
        "print(matriz)"
      ],
      "execution_count": null,
      "outputs": [
        {
          "output_type": "stream",
          "name": "stdout",
          "text": [
            "[[1. 0. 1. 0. 1. 0. 1. 0.]\n",
            " [0. 1. 0. 1. 0. 1. 0. 1.]\n",
            " [1. 0. 1. 0. 1. 0. 1. 0.]\n",
            " [0. 1. 0. 1. 0. 1. 0. 1.]\n",
            " [1. 0. 1. 0. 1. 0. 1. 0.]\n",
            " [0. 1. 0. 1. 0. 1. 0. 1.]\n",
            " [1. 0. 1. 0. 1. 0. 1. 0.]\n",
            " [0. 1. 0. 1. 0. 1. 0. 1.]]\n"
          ]
        }
      ]
    },
    {
      "cell_type": "markdown",
      "metadata": {
        "id": "LLwCXB9Op-iy"
      },
      "source": [
        "#### 20. Consider a (6,7,8) shape array, what is the index (x,y,z) of the 100th element?"
      ]
    },
    {
      "cell_type": "code",
      "metadata": {
        "id": "L5g2l_Svp-iy",
        "outputId": "645bb055-ef3d-4c29-96cd-42118b187d8c",
        "colab": {
          "base_uri": "https://localhost:8080/"
        }
      },
      "source": [
        "import numpy as mp\n",
        "\n",
        "#Crear una matriz de forma (6, 7, 8) con valores aleatorios\n",
        "matriz=np.random.rand(6, 7, 8)\n",
        "\n",
        "# Encontrar el indice(x, y, z) del elemento numero 100\n",
        "\n",
        "indice= np.unravel_index(100, matriz.shape)\n",
        "#imprimir el indice resultante\n",
        "\n",
        "print(indice)"
      ],
      "execution_count": null,
      "outputs": [
        {
          "output_type": "stream",
          "name": "stdout",
          "text": [
            "(1, 5, 4)\n"
          ]
        }
      ]
    },
    {
      "cell_type": "markdown",
      "metadata": {
        "id": "JS1x3Wrxp-iy"
      },
      "source": [
        "#### 21. Create a checkerboard 8x8 matrix using the tile function"
      ]
    },
    {
      "cell_type": "code",
      "metadata": {
        "id": "QYS_DrSgp-iy",
        "outputId": "6c50ab2b-05f8-4690-fcd0-9a5084c8c4ab",
        "colab": {
          "base_uri": "https://localhost:8080/"
        }
      },
      "source": [
        "import numpy as np\n",
        "\n",
        "#matriz de colores de las casillas negras\n",
        "black= np.zeros([4, 4])\n",
        "\n",
        "black[1::2,::2]=1    # [1::2, es la fila 1 pasado una fila poner =1 ; la otra parte del corchete ::2] quiere decir desde la coluna 0 pasado una columna poner 1.\n",
        "black[::2, 1::2]=1  # En este caso desde la fila 0 pasando 1 fila y desde la columna 1 pasando una columna poner=1\n",
        "\n",
        "# matriz de colores de las casillas blancas\n",
        "white= np.ones([4, 4])\n",
        "white[1::2, ::2]=0\n",
        "white[::2, 1::2]=0\n",
        "\n",
        "#Utilice la función de mosaico de Numpy para crear una matriz de 8*8\n",
        "\n",
        "board= np.tile(np.block([[white, black], [black, white]]), (4,4))\n",
        "\n",
        "print(board)\n"
      ],
      "execution_count": null,
      "outputs": [
        {
          "output_type": "stream",
          "name": "stdout",
          "text": [
            "[[1. 0. 1. ... 1. 0. 1.]\n",
            " [0. 1. 0. ... 0. 1. 0.]\n",
            " [1. 0. 1. ... 1. 0. 1.]\n",
            " ...\n",
            " [1. 0. 1. ... 1. 0. 1.]\n",
            " [0. 1. 0. ... 0. 1. 0.]\n",
            " [1. 0. 1. ... 1. 0. 1.]]\n"
          ]
        }
      ]
    },
    {
      "cell_type": "code",
      "source": [],
      "metadata": {
        "id": "Xnxoby7gqKVE",
        "outputId": "a6f34f34-61a2-4e97-ee50-4a26df9ed901",
        "colab": {
          "base_uri": "https://localhost:8080/"
        }
      },
      "execution_count": null,
      "outputs": [
        {
          "output_type": "stream",
          "name": "stdout",
          "text": [
            "[[0. 1. 0. 1.]\n",
            " [1. 0. 1. 0.]\n",
            " [0. 1. 0. 1.]\n",
            " [1. 0. 1. 0.]]\n"
          ]
        }
      ]
    },
    {
      "cell_type": "markdown",
      "metadata": {
        "id": "4mhz7Gvup-iy"
      },
      "source": [
        "#### 22. Normalize a 5x5 random matrix"
      ]
    },
    {
      "cell_type": "code",
      "metadata": {
        "id": "KWlk9DLTp-iz",
        "outputId": "ec4fb787-ceb1-4636-91a3-56e3dee44713",
        "colab": {
          "base_uri": "https://localhost:8080/"
        }
      },
      "source": [
        "import numpy as np\n",
        "\n",
        "matriz_aleatoria= np.random.rand(5,5)\n",
        "\n",
        "#Calcule la media y la desviación estándar de la matriz utilizando las \n",
        "#funciones \"np.mean()\" y \"np.std()\" de NumPy.\n",
        "\n",
        "media=np.mean(matriz_aleatoria)\n",
        "desviacion_estandar= np.std(matriz_aleatoria)\n",
        "\n",
        "#Normalizar la matriz restando la media y dividiendo por la desviación estandar\n",
        "\n",
        "matriz_normalizada= (matriz_aleatoria - media) / desviacion_estandar\n",
        "\n",
        "print(matriz_normalizada)"
      ],
      "execution_count": null,
      "outputs": [
        {
          "output_type": "stream",
          "name": "stdout",
          "text": [
            "[[-0.33616017 -0.36513149 -0.36620737  0.6712382   1.63625594]\n",
            " [-1.00271466 -0.99829986 -0.14421699 -1.31352934  1.55769246]\n",
            " [-1.34094371 -0.14468261  1.35161194  1.51462178  0.80550455]\n",
            " [-1.3666614  -0.26184334  1.22979889 -0.39252852 -1.24813036]\n",
            " [ 1.0500024   0.05347889 -1.3882817   0.07123081  0.72789566]]\n"
          ]
        }
      ]
    },
    {
      "cell_type": "markdown",
      "metadata": {
        "id": "qbD4C1F0p-iz"
      },
      "source": [
        "#### 23. Create a custom dtype that describes a color as four unsigned bytes (RGBA)"
      ]
    },
    {
      "cell_type": "code",
      "metadata": {
        "id": "VZnMgrdsp-iz",
        "outputId": "6f33ff72-2853-4677-d1b6-957a36a9f73b",
        "colab": {
          "base_uri": "https://localhost:8080/"
        }
      },
      "source": [
        "import numpy as np\n",
        "\n",
        "# Crear un dtype personalizado para un color\n",
        "color_dtype = np.dtype([('r', np.uint8), ('g', np.uint8), ('b', np.uint8), ('a', np.uint8)])\n",
        "\n",
        "# Crear un array de colores utilizando el dtype personalizado\n",
        "colors = np.array([(255, 0, 0, 255), (0, 255, 0, 255), (0, 0, 255, 255)], dtype=color_dtype)\n",
        "\n",
        "# Imprimir el array de colores\n",
        "print(colors)"
      ],
      "execution_count": 1,
      "outputs": [
        {
          "output_type": "stream",
          "name": "stdout",
          "text": [
            "[(255,   0,   0, 255) (  0, 255,   0, 255) (  0,   0, 255, 255)]\n"
          ]
        }
      ]
    },
    {
      "cell_type": "markdown",
      "metadata": {
        "id": "BO8F4MOyp-iz"
      },
      "source": [
        "#### 24. Multiply a 5x3 matrix by a 3x2 matrix (real matrix product)"
      ]
    },
    {
      "cell_type": "code",
      "metadata": {
        "id": "_l3lm_erp-iz",
        "outputId": "f752de8e-d2b7-4c0d-a19f-0b705e924a05",
        "colab": {
          "base_uri": "https://localhost:8080/"
        }
      },
      "source": [
        "import numpy as np\n",
        "\n",
        "# Crear la primera matriz de 5x3\n",
        "matriz1 = np.array([[1, 2, 3], [4, 5, 6], [7, 8, 9], [10, 11, 12], [13, 14, 15]])\n",
        "\n",
        "# Crear la segunda matriz de 3x2\n",
        "matriz2 = np.array([[1, 2], [3, 4], [5, 6]])\n",
        "\n",
        "# Multiplicar las dos matrices utilizando numpy.dot()\n",
        "resultado = np.dot(matriz1, matriz2)\n",
        "\n",
        "# Imprimir el resultado\n",
        "print(resultado)"
      ],
      "execution_count": 2,
      "outputs": [
        {
          "output_type": "stream",
          "name": "stdout",
          "text": [
            "[[ 22  28]\n",
            " [ 49  64]\n",
            " [ 76 100]\n",
            " [103 136]\n",
            " [130 172]]\n"
          ]
        }
      ]
    },
    {
      "cell_type": "markdown",
      "metadata": {
        "id": "BjRPSk9wp-iz"
      },
      "source": [
        "#### 25. Given a 1D array, negate all elements which are between 3 and 8, in place."
      ]
    },
    {
      "cell_type": "code",
      "metadata": {
        "id": "HxhmSx_Up-iz",
        "outputId": "e5dc3cab-7fa0-402e-eddb-c00adcb82d21",
        "colab": {
          "base_uri": "https://localhost:8080/"
        }
      },
      "source": [
        "import numpy as np\n",
        "\n",
        "# Crear una matriz de 1 dimensión\n",
        "matriz = np.array([1, 2, 3, 4, 5, 6, 7, 8, 9, 10])\n",
        "\n",
        "# Negar los elementos que están entre 3 y 8\n",
        "matriz_nueva = np.where((matriz >= 3) & (matriz <= 8), -matriz, matriz)\n",
        "\n",
        "# Imprimir la matriz resultante\n",
        "print(matriz_nueva)"
      ],
      "execution_count": 3,
      "outputs": [
        {
          "output_type": "stream",
          "name": "stdout",
          "text": [
            "[ 1  2 -3 -4 -5 -6 -7 -8  9 10]\n"
          ]
        }
      ]
    },
    {
      "cell_type": "markdown",
      "metadata": {
        "id": "AmwFtM96p-iz"
      },
      "source": [
        "#### 26. What is the output of the following script?\n",
        "```python\n",
        "# Author: Jake VanderPlas\n",
        "\n",
        "print(sum(range(5),-1))\n",
        "from numpy import *\n",
        "print(sum(range(5),-1))\n",
        "```"
      ]
    },
    {
      "cell_type": "code",
      "metadata": {
        "id": "jdb58eKfp-i0",
        "outputId": "6c59f9d5-23cc-4859-ca21-46e28c6d356e",
        "colab": {
          "base_uri": "https://localhost:8080/"
        }
      },
      "source": [
        "print(sum(range(5),-1))\n",
        "from numpy import *\n",
        "print(sum(range(5),-1))\n",
        "\n",
        "#La salida del siguiente script es 9. La primera línea de código utiliza la función sum() \n",
        "#para sumar los elementos de un rango de números del 0 al 4, y se le resta -1. \n",
        "#El rango de números del 0 al 4 es [0, 1, 2, 3, 4], y la suma de estos números es 10. \n",
        "#Al restar -1, el resultado final es 9. La segunda línea de código importa la biblioteca \n",
        "#NumPy y utiliza la función sum() para sumar los elementos de un rango de números del 0 al 4,\n",
        "# y se le resta -1. Sin embargo, la sintaxis de la función sum() en NumPy es diferente a la\n",
        "# función sum() de Python. En NumPy, el primer argumento de la función sum() es el array que \n",
        "#se quiere sumar, y el segundo argumento es el eje a lo largo del cual se quiere sumar. \n",
        "#En este caso, el segundo argumento es -1, lo que significa que se quiere sumar a lo largo \n",
        "#del último eje. Como el rango de números del 0 al 4 es un array de 1 dimensión, el último \n",
        "#eje es el único eje, y la suma de los elementos es 10. Al restar -1, el resultado final es 11.\n",
        "\n"
      ],
      "execution_count": 4,
      "outputs": [
        {
          "output_type": "stream",
          "name": "stdout",
          "text": [
            "9\n",
            "10\n"
          ]
        }
      ]
    },
    {
      "cell_type": "markdown",
      "metadata": {
        "id": "7bPZWC-Fp-i0"
      },
      "source": [
        "#### 27. Consider an integer vector Z, which of these expressions are legal?\n",
        "```python\n",
        "Z**Z\n",
        "2 << Z >> 2\n",
        "Z <- Z\n",
        "1j*Z\n",
        "Z/1/1\n",
        "Z<Z>Z\n",
        "```"
      ]
    },
    {
      "cell_type": "code",
      "metadata": {
        "id": "p1K2B056p-i0"
      },
      "source": [
        "#La única expresión legal en Python es z**z. Esta expresión eleva cada elemento del vector `z` a la potencia de sí mismo. Las otras expresiones no son legales en Python y arrojarán errores de sintaxis o de tipo.\n",
        "#• 2 << z >> 2 es una expresión ilegal porque no se puede realizar un desplazamiento a la izquierda y a la derecha con dos operandos. Se debe especificar la cantidad de bits a desplazar.\n",
        "#• z <- z es una expresión ilegal porque el operador < no se puede utilizar con dos operandos del mismo tipo.\n",
        "#• 1j*z es una expresión ilegal porque el operador * no se puede utilizar con un número complejo y un vector entero.\n",
        "#• z/1/1 es una expresión ilegal porque no se puede dividir un vector entero por un número entero.\n",
        "#• z<z>z es una expresión ilegal porque el operador < no se puede utilizar con dos operandos del mismo tipo."
      ],
      "execution_count": null,
      "outputs": []
    },
    {
      "cell_type": "markdown",
      "metadata": {
        "id": "1I9nGAgop-i0"
      },
      "source": [
        "#### 28. What are the result of the following expressions?\n",
        "```python\n",
        "np.array(0) / np.array(0)\n",
        "np.array(0) // np.array(0)\n",
        "np.array([np.nan]).astype(int).astype(float)\n",
        "```"
      ]
    },
    {
      "cell_type": "code",
      "source": [
        "np.array(0) / np.array(0)\n",
        "\n",
        "np.array(0) // np.array(0)\n",
        "\n",
        "#La expresión np.array(0) / np.array(0) devuelve nan (Not a Number) en NumPy. Esto se debe a que la división por cero no está definida y NumPy devuelve nan en lugar de arrojar un error.\n",
        "#La expresión np.array(0) // np.array(0) devuelve un error de división por cero. En Python, la división entera por cero no está definida y arroja un error."
      ],
      "metadata": {
        "id": "eCISR5LRSKrd",
        "outputId": "ccb8e7c2-03a5-4ba3-c475-ab7d4283799a",
        "colab": {
          "base_uri": "https://localhost:8080/"
        }
      },
      "execution_count": 6,
      "outputs": [
        {
          "output_type": "stream",
          "name": "stderr",
          "text": [
            "<ipython-input-6-19d0e8decd47>:1: RuntimeWarning: invalid value encountered in true_divide\n",
            "  np.array(0) / np.array(0)\n",
            "<ipython-input-6-19d0e8decd47>:2: RuntimeWarning: divide by zero encountered in floor_divide\n",
            "  np.array(0) // np.array(0)\n"
          ]
        },
        {
          "output_type": "execute_result",
          "data": {
            "text/plain": [
              "0"
            ]
          },
          "metadata": {},
          "execution_count": 6
        }
      ]
    },
    {
      "cell_type": "code",
      "metadata": {
        "id": "8xKFa8D5p-i0",
        "outputId": "7238b8cb-e8c9-41a8-daeb-8f3184efdda2",
        "colab": {
          "base_uri": "https://localhost:8080/"
        }
      },
      "source": [
        "np.array([np.nan]).astype(int).astype(float)\n",
        "\n",
        "#La expresión np.array([np.nan]).astype(int).astype(float) devuelve array([-9.22337204e+18]). \n",
        "#Primero, se convierte el valor `nan` a un entero utilizando la función astype(int), lo que devuelve -922337204. \n",
        "#Luego, se convierte este entero a un flotante utilizando la función astype(float), lo que devuelve -9.22337204e+18.\n"
      ],
      "execution_count": 5,
      "outputs": [
        {
          "output_type": "execute_result",
          "data": {
            "text/plain": [
              "array([-9.22337204e+18])"
            ]
          },
          "metadata": {},
          "execution_count": 5
        }
      ]
    },
    {
      "cell_type": "markdown",
      "metadata": {
        "id": "y1iGNHqdp-i0"
      },
      "source": [
        "#### 29. How to round away from zero a float array ?"
      ]
    },
    {
      "cell_type": "code",
      "metadata": {
        "id": "lEZHXKQDp-i0"
      },
      "source": [],
      "execution_count": null,
      "outputs": []
    },
    {
      "cell_type": "markdown",
      "metadata": {
        "id": "r8uGbwa6p-i0"
      },
      "source": [
        "#### 30. How to find common values between two arrays?"
      ]
    },
    {
      "cell_type": "code",
      "metadata": {
        "id": "sZADbOD4p-i0"
      },
      "source": [],
      "execution_count": null,
      "outputs": []
    },
    {
      "cell_type": "markdown",
      "metadata": {
        "id": "V_-JI3Bvp-i1"
      },
      "source": [
        "#### 31. How to ignore all numpy warnings (not recommended)?"
      ]
    },
    {
      "cell_type": "code",
      "metadata": {
        "id": "zT12-jKHp-i1"
      },
      "source": [],
      "execution_count": null,
      "outputs": []
    },
    {
      "cell_type": "markdown",
      "metadata": {
        "id": "oyJrzsT5p-i1"
      },
      "source": [
        "#### 32. Is the following expressions true?\n",
        "```python\n",
        "np.sqrt(-1) == np.emath.sqrt(-1)\n",
        "```"
      ]
    },
    {
      "cell_type": "code",
      "metadata": {
        "id": "idmThXZ-p-i1"
      },
      "source": [],
      "execution_count": null,
      "outputs": []
    },
    {
      "cell_type": "markdown",
      "metadata": {
        "id": "8tsd5bQ_p-i1"
      },
      "source": [
        "#### 33. How to get the dates of yesterday, today and tomorrow?"
      ]
    },
    {
      "cell_type": "code",
      "metadata": {
        "id": "PzfzCs7Cp-i1"
      },
      "source": [],
      "execution_count": null,
      "outputs": []
    },
    {
      "cell_type": "markdown",
      "metadata": {
        "id": "OZeMe_svp-i1"
      },
      "source": [
        "#### 34. How to get all the dates corresponding to the month of July 2016? "
      ]
    },
    {
      "cell_type": "code",
      "metadata": {
        "id": "MQSUNprXp-i1"
      },
      "source": [],
      "execution_count": null,
      "outputs": []
    },
    {
      "cell_type": "markdown",
      "metadata": {
        "id": "XEnF5VPvp-i2"
      },
      "source": [
        "#### 35. How to compute ((A+B)*(-A/2)) in place (without copy)? "
      ]
    },
    {
      "cell_type": "code",
      "metadata": {
        "id": "9XeQPe_Gp-i2"
      },
      "source": [],
      "execution_count": null,
      "outputs": []
    },
    {
      "cell_type": "markdown",
      "metadata": {
        "id": "KS8F0Tx8p-i2"
      },
      "source": [
        "#### 36. Extract the integer part of a random array using 5 different methods "
      ]
    },
    {
      "cell_type": "code",
      "metadata": {
        "id": "mDiO8TTfp-i2"
      },
      "source": [],
      "execution_count": null,
      "outputs": []
    },
    {
      "cell_type": "markdown",
      "metadata": {
        "id": "BVEnoXAup-i2"
      },
      "source": [
        "#### 37. Create a 5x5 matrix with row values ranging from 0 to 4 "
      ]
    },
    {
      "cell_type": "code",
      "metadata": {
        "id": "t7wEAdrup-i2"
      },
      "source": [],
      "execution_count": null,
      "outputs": []
    },
    {
      "cell_type": "markdown",
      "metadata": {
        "id": "XhPsQRQBp-i2"
      },
      "source": [
        "#### 38. Consider a generator function that generates 10 integers and use it to build an array"
      ]
    },
    {
      "cell_type": "code",
      "metadata": {
        "id": "IOA0P_MQp-i2"
      },
      "source": [],
      "execution_count": null,
      "outputs": []
    },
    {
      "cell_type": "markdown",
      "metadata": {
        "id": "Mr0bLmIHp-i2"
      },
      "source": [
        "#### 39. Create a vector of size 10 with values ranging from 0 to 1, both excluded "
      ]
    },
    {
      "cell_type": "code",
      "metadata": {
        "id": "VhNuGDm8p-i3"
      },
      "source": [],
      "execution_count": null,
      "outputs": []
    },
    {
      "cell_type": "markdown",
      "metadata": {
        "id": "g8R85Pg6p-i3"
      },
      "source": [
        "#### 40. Create a random vector of size 10 and sort it "
      ]
    },
    {
      "cell_type": "code",
      "metadata": {
        "id": "Fn9CHgE1p-i3"
      },
      "source": [],
      "execution_count": null,
      "outputs": []
    },
    {
      "cell_type": "markdown",
      "metadata": {
        "id": "a_Zj-Ifep-i3"
      },
      "source": [
        "#### 41. How to sum a small array faster than np.sum? "
      ]
    },
    {
      "cell_type": "code",
      "metadata": {
        "id": "xetTK9rgp-i3"
      },
      "source": [],
      "execution_count": null,
      "outputs": []
    },
    {
      "cell_type": "markdown",
      "metadata": {
        "id": "Rv2WcA3Up-i3"
      },
      "source": [
        "#### 42. Consider two random array A and B, check if they are equal "
      ]
    },
    {
      "cell_type": "code",
      "metadata": {
        "id": "WS1sA2xLp-i4"
      },
      "source": [],
      "execution_count": null,
      "outputs": []
    },
    {
      "cell_type": "markdown",
      "metadata": {
        "id": "IW9JAeERp-i4"
      },
      "source": [
        "#### 43. Make an array immutable (read-only) "
      ]
    },
    {
      "cell_type": "code",
      "metadata": {
        "id": "QOeMmmqlp-i4"
      },
      "source": [],
      "execution_count": null,
      "outputs": []
    },
    {
      "cell_type": "markdown",
      "metadata": {
        "id": "lZxAr9UAp-i4"
      },
      "source": [
        "#### 44. Consider a random 10x2 matrix representing cartesian coordinates, convert them to polar coordinates "
      ]
    },
    {
      "cell_type": "code",
      "metadata": {
        "id": "L7d6LoGKp-i4"
      },
      "source": [],
      "execution_count": null,
      "outputs": []
    },
    {
      "cell_type": "markdown",
      "metadata": {
        "id": "onY5Eq8zp-i4"
      },
      "source": [
        "#### 45. Create random vector of size 10 and replace the maximum value by 0 "
      ]
    },
    {
      "cell_type": "code",
      "metadata": {
        "id": "acBMnH2op-i5"
      },
      "source": [],
      "execution_count": null,
      "outputs": []
    },
    {
      "cell_type": "markdown",
      "metadata": {
        "id": "A9z9sGP0p-i5"
      },
      "source": [
        "#### 46. Create a structured array with `x` and `y` coordinates covering the [0,1]x[0,1] area "
      ]
    },
    {
      "cell_type": "code",
      "metadata": {
        "id": "9KADjDZsp-i5"
      },
      "source": [],
      "execution_count": null,
      "outputs": []
    },
    {
      "cell_type": "markdown",
      "metadata": {
        "id": "p_V5hFJlp-i5"
      },
      "source": [
        "#### 47. Given two arrays, X and Y, construct the Cauchy matrix C (Cij =1/(xi - yj))"
      ]
    },
    {
      "cell_type": "code",
      "metadata": {
        "id": "EEhRMJtxp-i5"
      },
      "source": [],
      "execution_count": null,
      "outputs": []
    },
    {
      "cell_type": "markdown",
      "metadata": {
        "id": "lVk8bDDdp-i5"
      },
      "source": [
        "#### 48. Print the minimum and maximum representable value for each numpy scalar type "
      ]
    },
    {
      "cell_type": "code",
      "metadata": {
        "id": "anvjMTa4p-i5"
      },
      "source": [],
      "execution_count": null,
      "outputs": []
    },
    {
      "cell_type": "markdown",
      "metadata": {
        "id": "rguOB3bzp-i5"
      },
      "source": [
        "#### 49. How to print all the values of an array? "
      ]
    },
    {
      "cell_type": "code",
      "metadata": {
        "id": "_Uvu4Wkwp-i5"
      },
      "source": [],
      "execution_count": null,
      "outputs": []
    },
    {
      "cell_type": "markdown",
      "metadata": {
        "id": "WCOmUiJop-i6"
      },
      "source": [
        "#### 50. How to find the closest value (to a given scalar) in a vector? "
      ]
    },
    {
      "cell_type": "code",
      "metadata": {
        "id": "75WfETObp-i6"
      },
      "source": [],
      "execution_count": null,
      "outputs": []
    },
    {
      "cell_type": "markdown",
      "metadata": {
        "id": "Ne_0G30rp-i6"
      },
      "source": [
        "#### 51. Create a structured array representing a position (x,y) and a color (r,g,b) "
      ]
    },
    {
      "cell_type": "code",
      "metadata": {
        "id": "1MqRv2obp-i6"
      },
      "source": [],
      "execution_count": null,
      "outputs": []
    },
    {
      "cell_type": "markdown",
      "metadata": {
        "id": "7q8lpgtnp-i6"
      },
      "source": [
        "#### 52. Consider a random vector with shape (100,2) representing coordinates, find point by point distances "
      ]
    },
    {
      "cell_type": "code",
      "metadata": {
        "id": "FxbXpQrSp-i6"
      },
      "source": [],
      "execution_count": null,
      "outputs": []
    },
    {
      "cell_type": "markdown",
      "metadata": {
        "id": "f2rNrodqp-i6"
      },
      "source": [
        "#### 53. How to convert a float (32 bits) array into an integer (32 bits) in place?"
      ]
    },
    {
      "cell_type": "code",
      "metadata": {
        "id": "_hOL-pMrp-i6"
      },
      "source": [],
      "execution_count": null,
      "outputs": []
    },
    {
      "cell_type": "markdown",
      "metadata": {
        "id": "aZ483n0Wp-i7"
      },
      "source": [
        "#### 54. How to read the following file? \n",
        "```\n",
        "1, 2, 3, 4, 5\n",
        "6,  ,  , 7, 8\n",
        " ,  , 9,10,11\n",
        "```"
      ]
    },
    {
      "cell_type": "code",
      "metadata": {
        "id": "CTg0jPuup-i7"
      },
      "source": [],
      "execution_count": null,
      "outputs": []
    },
    {
      "cell_type": "markdown",
      "metadata": {
        "id": "JA1QuJf1p-i7"
      },
      "source": [
        "#### 55. What is the equivalent of enumerate for numpy arrays? "
      ]
    },
    {
      "cell_type": "code",
      "metadata": {
        "id": "3VXEpr_hp-i7"
      },
      "source": [],
      "execution_count": null,
      "outputs": []
    },
    {
      "cell_type": "markdown",
      "metadata": {
        "id": "beHnBFsnp-i7"
      },
      "source": [
        "#### 56. Generate a generic 2D Gaussian-like array "
      ]
    },
    {
      "cell_type": "code",
      "metadata": {
        "id": "QCZBBkN7p-i7"
      },
      "source": [],
      "execution_count": null,
      "outputs": []
    },
    {
      "cell_type": "markdown",
      "metadata": {
        "id": "haV8WTUBp-i7"
      },
      "source": [
        "#### 57. How to randomly place p elements in a 2D array? "
      ]
    },
    {
      "cell_type": "code",
      "metadata": {
        "id": "GhZOU4Svp-i7"
      },
      "source": [],
      "execution_count": null,
      "outputs": []
    },
    {
      "cell_type": "markdown",
      "metadata": {
        "id": "44k7RSYYp-i7"
      },
      "source": [
        "#### 58. Subtract the mean of each row of a matrix "
      ]
    },
    {
      "cell_type": "code",
      "metadata": {
        "id": "lKL5ImK0p-i7"
      },
      "source": [],
      "execution_count": null,
      "outputs": []
    },
    {
      "cell_type": "markdown",
      "metadata": {
        "id": "aKXPC8yWp-i8"
      },
      "source": [
        "#### 59. How to sort an array by the nth column? "
      ]
    },
    {
      "cell_type": "code",
      "metadata": {
        "id": "wmz9D0WYp-i8"
      },
      "source": [],
      "execution_count": null,
      "outputs": []
    },
    {
      "cell_type": "markdown",
      "metadata": {
        "id": "hLT3BkkAp-i8"
      },
      "source": [
        "#### 60. How to tell if a given 2D array has null columns? "
      ]
    },
    {
      "cell_type": "code",
      "metadata": {
        "id": "cP-lezeRp-i8"
      },
      "source": [],
      "execution_count": null,
      "outputs": []
    },
    {
      "cell_type": "markdown",
      "metadata": {
        "id": "u9T5DcCHp-i8"
      },
      "source": [
        "#### 61. Find the nearest value from a given value in an array "
      ]
    },
    {
      "cell_type": "code",
      "metadata": {
        "id": "64sJeyNNp-i8"
      },
      "source": [],
      "execution_count": null,
      "outputs": []
    },
    {
      "cell_type": "markdown",
      "metadata": {
        "id": "GjGqbQeTp-i8"
      },
      "source": [
        "#### 62. Considering two arrays with shape (1,3) and (3,1), how to compute their sum using an iterator? "
      ]
    },
    {
      "cell_type": "code",
      "metadata": {
        "id": "Q5ydlgO8p-i8"
      },
      "source": [],
      "execution_count": null,
      "outputs": []
    },
    {
      "cell_type": "markdown",
      "metadata": {
        "id": "et2cPCpSp-i8"
      },
      "source": [
        "#### 63. Create an array class that has a name attribute "
      ]
    },
    {
      "cell_type": "code",
      "metadata": {
        "id": "2RsWyVDfp-i9"
      },
      "source": [],
      "execution_count": null,
      "outputs": []
    },
    {
      "cell_type": "markdown",
      "metadata": {
        "id": "9D7LegYUp-i9"
      },
      "source": [
        "#### 64. Consider a given vector, how to add 1 to each element indexed by a second vector (be careful with repeated indices)?"
      ]
    },
    {
      "cell_type": "code",
      "metadata": {
        "id": "VM1YYV1Bp-i9"
      },
      "source": [],
      "execution_count": null,
      "outputs": []
    },
    {
      "cell_type": "markdown",
      "metadata": {
        "id": "3iq68gmZp-i9"
      },
      "source": [
        "#### 65. How to accumulate elements of a vector (X) to an array (F) based on an index list (I)?"
      ]
    },
    {
      "cell_type": "code",
      "metadata": {
        "id": "y8T5U2cDp-i9"
      },
      "source": [],
      "execution_count": null,
      "outputs": []
    },
    {
      "cell_type": "markdown",
      "metadata": {
        "id": "CTEr2CYzp-i9"
      },
      "source": [
        "#### 66. Considering a (w,h,3) image of (dtype=ubyte), compute the number of unique colors"
      ]
    },
    {
      "cell_type": "code",
      "metadata": {
        "id": "ou4RF8Yrp-i9"
      },
      "source": [],
      "execution_count": null,
      "outputs": []
    },
    {
      "cell_type": "markdown",
      "metadata": {
        "id": "dVebknrnp-i9"
      },
      "source": [
        "#### 67. Considering a four dimensions array, how to get sum over the last two axis at once?"
      ]
    },
    {
      "cell_type": "code",
      "metadata": {
        "id": "1V0O2Chnp-i9"
      },
      "source": [],
      "execution_count": null,
      "outputs": []
    },
    {
      "cell_type": "markdown",
      "metadata": {
        "id": "CPxgChU2p-i_"
      },
      "source": [
        "#### 68. Considering a one-dimensional vector D, how to compute means of subsets of D using a vector S of same size describing subset  indices?"
      ]
    },
    {
      "cell_type": "code",
      "metadata": {
        "id": "t3zAgr10p-jA"
      },
      "source": [],
      "execution_count": null,
      "outputs": []
    },
    {
      "cell_type": "markdown",
      "metadata": {
        "id": "tXqA-rbYp-jA"
      },
      "source": [
        "#### 69. How to get the diagonal of a dot product?"
      ]
    },
    {
      "cell_type": "code",
      "metadata": {
        "id": "6a6ILfuBp-jA"
      },
      "source": [],
      "execution_count": null,
      "outputs": []
    },
    {
      "cell_type": "markdown",
      "metadata": {
        "id": "ZAMbpinzp-jA"
      },
      "source": [
        "#### 70. Consider the vector [1, 2, 3, 4, 5], how to build a new vector with 3 consecutive zeros interleaved between each value?"
      ]
    },
    {
      "cell_type": "code",
      "metadata": {
        "id": "jDtmK55pp-jA"
      },
      "source": [],
      "execution_count": null,
      "outputs": []
    },
    {
      "cell_type": "markdown",
      "metadata": {
        "id": "sRmNJOBbp-jA"
      },
      "source": [
        "#### 71. Consider an array of dimension (5,5,3), how to mulitply it by an array with dimensions (5,5)?"
      ]
    },
    {
      "cell_type": "code",
      "metadata": {
        "id": "Q3a-YO3Vp-jA"
      },
      "source": [],
      "execution_count": null,
      "outputs": []
    },
    {
      "cell_type": "markdown",
      "metadata": {
        "id": "gFPE1EtUp-jA"
      },
      "source": [
        "#### 72. How to swap two rows of an array?"
      ]
    },
    {
      "cell_type": "code",
      "metadata": {
        "id": "iEf1UIeOp-jB"
      },
      "source": [],
      "execution_count": null,
      "outputs": []
    },
    {
      "cell_type": "markdown",
      "metadata": {
        "id": "OWvbd1Lxp-jB"
      },
      "source": [
        "#### 73. Consider a set of 10 triplets describing 10 triangles (with shared vertices), find the set of unique line segments composing all the  triangles"
      ]
    },
    {
      "cell_type": "code",
      "metadata": {
        "id": "dCk13vBop-jB"
      },
      "source": [],
      "execution_count": null,
      "outputs": []
    },
    {
      "cell_type": "markdown",
      "metadata": {
        "id": "z4Fgwwa3p-jB"
      },
      "source": [
        "#### 74. Given an array C that is a bincount, how to produce an array A such that np.bincount(A) == C?"
      ]
    },
    {
      "cell_type": "code",
      "metadata": {
        "id": "wc7Zkt4Zp-jB"
      },
      "source": [],
      "execution_count": null,
      "outputs": []
    },
    {
      "cell_type": "markdown",
      "metadata": {
        "id": "KDRym4Nxp-jB"
      },
      "source": [
        "#### 75. How to compute averages using a sliding window over an array?"
      ]
    },
    {
      "cell_type": "code",
      "metadata": {
        "id": "Y8casen_p-jB"
      },
      "source": [],
      "execution_count": null,
      "outputs": []
    },
    {
      "cell_type": "markdown",
      "metadata": {
        "id": "MgTneJ_mp-jB"
      },
      "source": [
        "#### 76. Consider a one-dimensional array Z, build a two-dimensional array whose first row is (Z[0],Z[1],Z[2]) and each subsequent row is  shifted by 1 (last row should be (Z[-3],Z[-2],Z[-1])"
      ]
    },
    {
      "cell_type": "code",
      "metadata": {
        "id": "RSesXHlep-jB"
      },
      "source": [],
      "execution_count": null,
      "outputs": []
    },
    {
      "cell_type": "markdown",
      "metadata": {
        "id": "yLMUkUt8p-jC"
      },
      "source": [
        "#### 77. How to negate a boolean, or to change the sign of a float inplace?"
      ]
    },
    {
      "cell_type": "code",
      "metadata": {
        "id": "enKgxhtfp-jC"
      },
      "source": [],
      "execution_count": null,
      "outputs": []
    },
    {
      "cell_type": "markdown",
      "metadata": {
        "id": "iKP9VGvSp-jC"
      },
      "source": [
        "#### 78. Consider 2 sets of points P0,P1 describing lines (2d) and a point p, how to compute distance from p to each line i (P0[i],P1[i])?"
      ]
    },
    {
      "cell_type": "code",
      "metadata": {
        "id": "FRsmueGAp-jC"
      },
      "source": [],
      "execution_count": null,
      "outputs": []
    },
    {
      "cell_type": "markdown",
      "metadata": {
        "id": "dA9tbto8p-jC"
      },
      "source": [
        "#### 79. Consider 2 sets of points P0,P1 describing lines (2d) and a set of points P, how to compute distance from each point j (P[j]) to each line i (P0[i],P1[i])?"
      ]
    },
    {
      "cell_type": "code",
      "metadata": {
        "id": "jBwFfDTTp-jC"
      },
      "source": [],
      "execution_count": null,
      "outputs": []
    },
    {
      "cell_type": "markdown",
      "metadata": {
        "id": "dSY7rIpfp-jC"
      },
      "source": [
        "#### 80. Consider an arbitrary array, write a function that extract a subpart with a fixed shape and centered on a given element (pad with a `fill` value when necessary)"
      ]
    },
    {
      "cell_type": "code",
      "metadata": {
        "id": "UUC4v8Ssp-jD"
      },
      "source": [],
      "execution_count": null,
      "outputs": []
    },
    {
      "cell_type": "markdown",
      "metadata": {
        "id": "jhsFKVtxp-jD"
      },
      "source": [
        "#### 81. Consider an array Z = [1,2,3,4,5,6,7,8,9,10,11,12,13,14], how to generate an array R = [[1,2,3,4], [2,3,4,5], [3,4,5,6], ..., [11,12,13,14]]?"
      ]
    },
    {
      "cell_type": "code",
      "metadata": {
        "id": "LH11g-HXp-jD"
      },
      "source": [],
      "execution_count": null,
      "outputs": []
    },
    {
      "cell_type": "markdown",
      "metadata": {
        "id": "LMei8DNTp-jD"
      },
      "source": [
        "#### 82. Compute a matrix rank"
      ]
    },
    {
      "cell_type": "code",
      "metadata": {
        "id": "xKtZb36wp-jD"
      },
      "source": [],
      "execution_count": null,
      "outputs": []
    },
    {
      "cell_type": "markdown",
      "metadata": {
        "id": "XNQysF64p-jD"
      },
      "source": [
        "#### 83. How to find the most frequent value in an array?"
      ]
    },
    {
      "cell_type": "code",
      "metadata": {
        "id": "lmCv6oD3p-jD"
      },
      "source": [],
      "execution_count": null,
      "outputs": []
    },
    {
      "cell_type": "markdown",
      "metadata": {
        "id": "ifDe6mPsp-jD"
      },
      "source": [
        "#### 84. Extract all the contiguous 3x3 blocks from a random 10x10 matrix"
      ]
    },
    {
      "cell_type": "code",
      "metadata": {
        "id": "gh6PsR9xp-jD"
      },
      "source": [],
      "execution_count": null,
      "outputs": []
    },
    {
      "cell_type": "markdown",
      "metadata": {
        "id": "nVbv5rW7p-jD"
      },
      "source": [
        "#### 85. Create a 2D array subclass such that Z[i,j] == Z[j,i]"
      ]
    },
    {
      "cell_type": "code",
      "metadata": {
        "id": "_l1afQgSp-jE"
      },
      "source": [],
      "execution_count": null,
      "outputs": []
    },
    {
      "cell_type": "markdown",
      "metadata": {
        "id": "0QaCP9v8p-jE"
      },
      "source": [
        "#### 86. Consider a set of p matrices wich shape (n,n) and a set of p vectors with shape (n,1). How to compute the sum of of the p matrix products at once? (result has shape (n,1))"
      ]
    },
    {
      "cell_type": "code",
      "metadata": {
        "id": "gr3Xa_Bvp-jE"
      },
      "source": [],
      "execution_count": null,
      "outputs": []
    },
    {
      "cell_type": "markdown",
      "metadata": {
        "id": "EMH3atm6p-jE"
      },
      "source": [
        "#### 87. Consider a 16x16 array, how to get the block-sum (block size is 4x4)?"
      ]
    },
    {
      "cell_type": "code",
      "metadata": {
        "id": "zBuWIpfnp-jE"
      },
      "source": [],
      "execution_count": null,
      "outputs": []
    },
    {
      "cell_type": "markdown",
      "metadata": {
        "id": "3UpCMDZ2p-jE"
      },
      "source": [
        "#### 88. How to implement the Game of Life using numpy arrays?"
      ]
    },
    {
      "cell_type": "code",
      "metadata": {
        "id": "YOwWfNSZp-jE"
      },
      "source": [],
      "execution_count": null,
      "outputs": []
    },
    {
      "cell_type": "markdown",
      "metadata": {
        "id": "Vjthnd4Yp-jE"
      },
      "source": [
        "#### 89. How to get the n largest values of an array"
      ]
    },
    {
      "cell_type": "code",
      "metadata": {
        "id": "hQCFa-F-p-jE"
      },
      "source": [],
      "execution_count": null,
      "outputs": []
    },
    {
      "cell_type": "markdown",
      "metadata": {
        "id": "CtbKyR7lp-jE"
      },
      "source": [
        "#### 90. Given an arbitrary number of vectors, build the cartesian product (every combinations of every item)"
      ]
    },
    {
      "cell_type": "code",
      "metadata": {
        "id": "e6bqMCOQp-jF"
      },
      "source": [],
      "execution_count": null,
      "outputs": []
    },
    {
      "cell_type": "markdown",
      "metadata": {
        "id": "46JCwKaNp-jF"
      },
      "source": [
        "#### 91. How to create a record array from a regular array?"
      ]
    },
    {
      "cell_type": "code",
      "metadata": {
        "id": "oamVY2b8p-jF"
      },
      "source": [],
      "execution_count": null,
      "outputs": []
    },
    {
      "cell_type": "markdown",
      "metadata": {
        "id": "9LKmPvmgp-jF"
      },
      "source": [
        "#### 92. Consider a large vector Z, compute Z to the power of 3 using 3 different methods"
      ]
    },
    {
      "cell_type": "code",
      "metadata": {
        "id": "MOaZ4_Thp-jF"
      },
      "source": [],
      "execution_count": null,
      "outputs": []
    },
    {
      "cell_type": "markdown",
      "metadata": {
        "id": "eQzpeQHWp-jF"
      },
      "source": [
        "#### 93. Consider two arrays A and B of shape (8,3) and (2,2). How to find rows of A that contain elements of each row of B regardless of the order of the elements in B?"
      ]
    },
    {
      "cell_type": "code",
      "metadata": {
        "id": "dEon4TXFp-jF"
      },
      "source": [],
      "execution_count": null,
      "outputs": []
    },
    {
      "cell_type": "markdown",
      "metadata": {
        "id": "JbryE5L2p-jF"
      },
      "source": [
        "#### 94. Considering a 10x3 matrix, extract rows with unequal values (e.g. [2,2,3])"
      ]
    },
    {
      "cell_type": "code",
      "metadata": {
        "id": "rg-TAwXtp-jF"
      },
      "source": [],
      "execution_count": null,
      "outputs": []
    },
    {
      "cell_type": "markdown",
      "metadata": {
        "id": "7tiAHlrxp-jF"
      },
      "source": [
        "#### 95. Convert a vector of ints into a matrix binary representation"
      ]
    },
    {
      "cell_type": "code",
      "metadata": {
        "id": "JdhfbpWSp-jG"
      },
      "source": [],
      "execution_count": null,
      "outputs": []
    },
    {
      "cell_type": "markdown",
      "metadata": {
        "id": "aEjNNvLdp-jG"
      },
      "source": [
        "#### 96. Given a two dimensional array, how to extract unique rows?"
      ]
    },
    {
      "cell_type": "code",
      "metadata": {
        "id": "zC5yzkddp-jG"
      },
      "source": [],
      "execution_count": null,
      "outputs": []
    },
    {
      "cell_type": "markdown",
      "metadata": {
        "id": "wGzXUNCJp-jG"
      },
      "source": [
        "#### 97. Considering 2 vectors A & B, write the einsum equivalent of inner, outer, sum, and mul function"
      ]
    },
    {
      "cell_type": "code",
      "metadata": {
        "id": "A2MPwvfyp-jG"
      },
      "source": [],
      "execution_count": null,
      "outputs": []
    },
    {
      "cell_type": "markdown",
      "metadata": {
        "id": "jU1gzacQp-jG"
      },
      "source": [
        "#### 98. Considering a path described by two vectors (X,Y), how to sample it using equidistant samples?"
      ]
    },
    {
      "cell_type": "code",
      "metadata": {
        "id": "ABgm3bG2p-jG"
      },
      "source": [],
      "execution_count": null,
      "outputs": []
    },
    {
      "cell_type": "markdown",
      "metadata": {
        "id": "7_vhJfRQp-jG"
      },
      "source": [
        "#### 99. Given an integer n and a 2D array X, select from X the rows which can be interpreted as draws from a multinomial distribution with n degrees, i.e., the rows which only contain integers and which sum to n."
      ]
    },
    {
      "cell_type": "code",
      "metadata": {
        "id": "k99dGThNp-jH"
      },
      "source": [],
      "execution_count": null,
      "outputs": []
    },
    {
      "cell_type": "markdown",
      "metadata": {
        "id": "qyy1Zz_Bp-jH"
      },
      "source": [
        "#### 100. Compute bootstrapped 95% confidence intervals for the mean of a 1D array X (i.e., resample the elements of an array with replacement N times, compute the mean of each sample, and then compute percentiles over the means)."
      ]
    },
    {
      "cell_type": "code",
      "metadata": {
        "id": "YIn6zn_bp-jH"
      },
      "source": [],
      "execution_count": null,
      "outputs": []
    }
  ]
}