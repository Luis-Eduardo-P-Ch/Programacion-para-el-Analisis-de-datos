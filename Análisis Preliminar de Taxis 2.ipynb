{
  "nbformat": 4,
  "nbformat_minor": 0,
  "metadata": {
    "colab": {
      "provenance": [],
      "authorship_tag": "ABX9TyOVYz/ySRTpq8wMl9T8wc6Z",
      "include_colab_link": true
    },
    "kernelspec": {
      "name": "python3",
      "display_name": "Python 3"
    },
    "language_info": {
      "name": "python"
    }
  },
  "cells": [
    {
      "cell_type": "markdown",
      "metadata": {
        "id": "view-in-github",
        "colab_type": "text"
      },
      "source": [
        "<a href=\"https://colab.research.google.com/github/Luis-Eduardo-P-Ch/Programacion-para-el-Analisis-de-datos/blob/main/An%C3%A1lisis%20Preliminar%20de%20Taxis%202.ipynb\" target=\"_parent\"><img src=\"https://colab.research.google.com/assets/colab-badge.svg\" alt=\"Open In Colab\"/></a>"
      ]
    },
    {
      "cell_type": "code",
      "execution_count": 1,
      "metadata": {
        "id": "icL3efKW3Su7"
      },
      "outputs": [],
      "source": [
        "import pandas as pd\n",
        "import matplotlib.pyplot as plt\n",
        "import seaborn as sns\n",
        "import numpy as np"
      ]
    },
    {
      "cell_type": "markdown",
      "source": [
        "#MUESTREO DE DATOS"
      ],
      "metadata": {
        "id": "DcRyrVmt3btL"
      }
    },
    {
      "cell_type": "markdown",
      "source": [
        "cargamos todo los datos de enero"
      ],
      "metadata": {
        "id": "n2iyFGJx3egB"
      }
    },
    {
      "cell_type": "code",
      "source": [
        "df = pd.read_parquet('https://d37ci6vzurychx.cloudfront.net/trip-data/yellow_tripdata_2016-06.parquet')\n",
        "df = df.sample(frac=0.01, random_state=434)"
      ],
      "metadata": {
        "id": "i6QvUiKO3cKy"
      },
      "execution_count": 2,
      "outputs": []
    },
    {
      "cell_type": "code",
      "source": [
        "#Análisis descriptivo\n",
        "df.describe()"
      ],
      "metadata": {
        "colab": {
          "base_uri": "https://localhost:8080/",
          "height": 364
        },
        "id": "NqeGPckw5BYJ",
        "outputId": "3bc2b002-2751-4430-fe64-8b15c4f07832"
      },
      "execution_count": 3,
      "outputs": [
        {
          "output_type": "execute_result",
          "data": {
            "text/plain": [
              "            VendorID  passenger_count  trip_distance     RatecodeID  \\\n",
              "count  111316.000000    111316.000000  111316.000000  111316.000000   \n",
              "mean        1.530678         1.659806       3.039761       1.045896   \n",
              "std         0.499366         1.304249       3.735814       0.720990   \n",
              "min         1.000000         0.000000       0.000000       1.000000   \n",
              "25%         1.000000         1.000000       1.000000       1.000000   \n",
              "50%         2.000000         1.000000       1.720000       1.000000   \n",
              "75%         2.000000         2.000000       3.250000       1.000000   \n",
              "max         3.000000         7.000000      90.450000      99.000000   \n",
              "\n",
              "        PULocationID   DOLocationID   payment_type    fare_amount  \\\n",
              "count  111316.000000  111316.000000  111316.000000  111316.000000   \n",
              "mean      162.193440     159.465153       1.350534      13.357783   \n",
              "std        67.087582      70.809321       0.496189      11.696421   \n",
              "min         1.000000       1.000000       1.000000    -100.000000   \n",
              "25%       113.000000     107.000000       1.000000       6.500000   \n",
              "50%       162.000000     162.000000       1.000000      10.000000   \n",
              "75%       233.000000     233.000000       2.000000      15.500000   \n",
              "max       265.000000     265.000000       4.000000     750.000000   \n",
              "\n",
              "               extra        mta_tax     tip_amount   tolls_amount  \\\n",
              "count  111316.000000  111316.000000  111316.000000  111316.000000   \n",
              "mean        0.338171       0.497139       1.856166       0.337755   \n",
              "std         0.451132       0.040969       3.698258       1.489640   \n",
              "min        -4.500000      -0.500000     -10.560000       0.000000   \n",
              "25%         0.000000       0.500000       0.000000       0.000000   \n",
              "50%         0.000000       0.500000       1.320000       0.000000   \n",
              "75%         0.500000       0.500000       2.460000       0.000000   \n",
              "max         4.500000       0.500000     843.820000      42.800000   \n",
              "\n",
              "       improvement_surcharge   total_amount  \n",
              "count          111316.000000  111316.000000  \n",
              "mean                0.299644      16.689664  \n",
              "std                 0.014156      14.608348  \n",
              "min                -0.300000    -100.800000  \n",
              "25%                 0.300000       8.800000  \n",
              "50%                 0.300000      12.300000  \n",
              "75%                 0.300000      18.500000  \n",
              "max                 0.300000     849.120000  "
            ],
            "text/html": [
              "\n",
              "  <div id=\"df-15512fae-e366-41d9-9dc9-9b7bb59df880\">\n",
              "    <div class=\"colab-df-container\">\n",
              "      <div>\n",
              "<style scoped>\n",
              "    .dataframe tbody tr th:only-of-type {\n",
              "        vertical-align: middle;\n",
              "    }\n",
              "\n",
              "    .dataframe tbody tr th {\n",
              "        vertical-align: top;\n",
              "    }\n",
              "\n",
              "    .dataframe thead th {\n",
              "        text-align: right;\n",
              "    }\n",
              "</style>\n",
              "<table border=\"1\" class=\"dataframe\">\n",
              "  <thead>\n",
              "    <tr style=\"text-align: right;\">\n",
              "      <th></th>\n",
              "      <th>VendorID</th>\n",
              "      <th>passenger_count</th>\n",
              "      <th>trip_distance</th>\n",
              "      <th>RatecodeID</th>\n",
              "      <th>PULocationID</th>\n",
              "      <th>DOLocationID</th>\n",
              "      <th>payment_type</th>\n",
              "      <th>fare_amount</th>\n",
              "      <th>extra</th>\n",
              "      <th>mta_tax</th>\n",
              "      <th>tip_amount</th>\n",
              "      <th>tolls_amount</th>\n",
              "      <th>improvement_surcharge</th>\n",
              "      <th>total_amount</th>\n",
              "    </tr>\n",
              "  </thead>\n",
              "  <tbody>\n",
              "    <tr>\n",
              "      <th>count</th>\n",
              "      <td>111316.000000</td>\n",
              "      <td>111316.000000</td>\n",
              "      <td>111316.000000</td>\n",
              "      <td>111316.000000</td>\n",
              "      <td>111316.000000</td>\n",
              "      <td>111316.000000</td>\n",
              "      <td>111316.000000</td>\n",
              "      <td>111316.000000</td>\n",
              "      <td>111316.000000</td>\n",
              "      <td>111316.000000</td>\n",
              "      <td>111316.000000</td>\n",
              "      <td>111316.000000</td>\n",
              "      <td>111316.000000</td>\n",
              "      <td>111316.000000</td>\n",
              "    </tr>\n",
              "    <tr>\n",
              "      <th>mean</th>\n",
              "      <td>1.530678</td>\n",
              "      <td>1.659806</td>\n",
              "      <td>3.039761</td>\n",
              "      <td>1.045896</td>\n",
              "      <td>162.193440</td>\n",
              "      <td>159.465153</td>\n",
              "      <td>1.350534</td>\n",
              "      <td>13.357783</td>\n",
              "      <td>0.338171</td>\n",
              "      <td>0.497139</td>\n",
              "      <td>1.856166</td>\n",
              "      <td>0.337755</td>\n",
              "      <td>0.299644</td>\n",
              "      <td>16.689664</td>\n",
              "    </tr>\n",
              "    <tr>\n",
              "      <th>std</th>\n",
              "      <td>0.499366</td>\n",
              "      <td>1.304249</td>\n",
              "      <td>3.735814</td>\n",
              "      <td>0.720990</td>\n",
              "      <td>67.087582</td>\n",
              "      <td>70.809321</td>\n",
              "      <td>0.496189</td>\n",
              "      <td>11.696421</td>\n",
              "      <td>0.451132</td>\n",
              "      <td>0.040969</td>\n",
              "      <td>3.698258</td>\n",
              "      <td>1.489640</td>\n",
              "      <td>0.014156</td>\n",
              "      <td>14.608348</td>\n",
              "    </tr>\n",
              "    <tr>\n",
              "      <th>min</th>\n",
              "      <td>1.000000</td>\n",
              "      <td>0.000000</td>\n",
              "      <td>0.000000</td>\n",
              "      <td>1.000000</td>\n",
              "      <td>1.000000</td>\n",
              "      <td>1.000000</td>\n",
              "      <td>1.000000</td>\n",
              "      <td>-100.000000</td>\n",
              "      <td>-4.500000</td>\n",
              "      <td>-0.500000</td>\n",
              "      <td>-10.560000</td>\n",
              "      <td>0.000000</td>\n",
              "      <td>-0.300000</td>\n",
              "      <td>-100.800000</td>\n",
              "    </tr>\n",
              "    <tr>\n",
              "      <th>25%</th>\n",
              "      <td>1.000000</td>\n",
              "      <td>1.000000</td>\n",
              "      <td>1.000000</td>\n",
              "      <td>1.000000</td>\n",
              "      <td>113.000000</td>\n",
              "      <td>107.000000</td>\n",
              "      <td>1.000000</td>\n",
              "      <td>6.500000</td>\n",
              "      <td>0.000000</td>\n",
              "      <td>0.500000</td>\n",
              "      <td>0.000000</td>\n",
              "      <td>0.000000</td>\n",
              "      <td>0.300000</td>\n",
              "      <td>8.800000</td>\n",
              "    </tr>\n",
              "    <tr>\n",
              "      <th>50%</th>\n",
              "      <td>2.000000</td>\n",
              "      <td>1.000000</td>\n",
              "      <td>1.720000</td>\n",
              "      <td>1.000000</td>\n",
              "      <td>162.000000</td>\n",
              "      <td>162.000000</td>\n",
              "      <td>1.000000</td>\n",
              "      <td>10.000000</td>\n",
              "      <td>0.000000</td>\n",
              "      <td>0.500000</td>\n",
              "      <td>1.320000</td>\n",
              "      <td>0.000000</td>\n",
              "      <td>0.300000</td>\n",
              "      <td>12.300000</td>\n",
              "    </tr>\n",
              "    <tr>\n",
              "      <th>75%</th>\n",
              "      <td>2.000000</td>\n",
              "      <td>2.000000</td>\n",
              "      <td>3.250000</td>\n",
              "      <td>1.000000</td>\n",
              "      <td>233.000000</td>\n",
              "      <td>233.000000</td>\n",
              "      <td>2.000000</td>\n",
              "      <td>15.500000</td>\n",
              "      <td>0.500000</td>\n",
              "      <td>0.500000</td>\n",
              "      <td>2.460000</td>\n",
              "      <td>0.000000</td>\n",
              "      <td>0.300000</td>\n",
              "      <td>18.500000</td>\n",
              "    </tr>\n",
              "    <tr>\n",
              "      <th>max</th>\n",
              "      <td>3.000000</td>\n",
              "      <td>7.000000</td>\n",
              "      <td>90.450000</td>\n",
              "      <td>99.000000</td>\n",
              "      <td>265.000000</td>\n",
              "      <td>265.000000</td>\n",
              "      <td>4.000000</td>\n",
              "      <td>750.000000</td>\n",
              "      <td>4.500000</td>\n",
              "      <td>0.500000</td>\n",
              "      <td>843.820000</td>\n",
              "      <td>42.800000</td>\n",
              "      <td>0.300000</td>\n",
              "      <td>849.120000</td>\n",
              "    </tr>\n",
              "  </tbody>\n",
              "</table>\n",
              "</div>\n",
              "      <button class=\"colab-df-convert\" onclick=\"convertToInteractive('df-15512fae-e366-41d9-9dc9-9b7bb59df880')\"\n",
              "              title=\"Convert this dataframe to an interactive table.\"\n",
              "              style=\"display:none;\">\n",
              "        \n",
              "  <svg xmlns=\"http://www.w3.org/2000/svg\" height=\"24px\"viewBox=\"0 0 24 24\"\n",
              "       width=\"24px\">\n",
              "    <path d=\"M0 0h24v24H0V0z\" fill=\"none\"/>\n",
              "    <path d=\"M18.56 5.44l.94 2.06.94-2.06 2.06-.94-2.06-.94-.94-2.06-.94 2.06-2.06.94zm-11 1L8.5 8.5l.94-2.06 2.06-.94-2.06-.94L8.5 2.5l-.94 2.06-2.06.94zm10 10l.94 2.06.94-2.06 2.06-.94-2.06-.94-.94-2.06-.94 2.06-2.06.94z\"/><path d=\"M17.41 7.96l-1.37-1.37c-.4-.4-.92-.59-1.43-.59-.52 0-1.04.2-1.43.59L10.3 9.45l-7.72 7.72c-.78.78-.78 2.05 0 2.83L4 21.41c.39.39.9.59 1.41.59.51 0 1.02-.2 1.41-.59l7.78-7.78 2.81-2.81c.8-.78.8-2.07 0-2.86zM5.41 20L4 18.59l7.72-7.72 1.47 1.35L5.41 20z\"/>\n",
              "  </svg>\n",
              "      </button>\n",
              "      \n",
              "  <style>\n",
              "    .colab-df-container {\n",
              "      display:flex;\n",
              "      flex-wrap:wrap;\n",
              "      gap: 12px;\n",
              "    }\n",
              "\n",
              "    .colab-df-convert {\n",
              "      background-color: #E8F0FE;\n",
              "      border: none;\n",
              "      border-radius: 50%;\n",
              "      cursor: pointer;\n",
              "      display: none;\n",
              "      fill: #1967D2;\n",
              "      height: 32px;\n",
              "      padding: 0 0 0 0;\n",
              "      width: 32px;\n",
              "    }\n",
              "\n",
              "    .colab-df-convert:hover {\n",
              "      background-color: #E2EBFA;\n",
              "      box-shadow: 0px 1px 2px rgba(60, 64, 67, 0.3), 0px 1px 3px 1px rgba(60, 64, 67, 0.15);\n",
              "      fill: #174EA6;\n",
              "    }\n",
              "\n",
              "    [theme=dark] .colab-df-convert {\n",
              "      background-color: #3B4455;\n",
              "      fill: #D2E3FC;\n",
              "    }\n",
              "\n",
              "    [theme=dark] .colab-df-convert:hover {\n",
              "      background-color: #434B5C;\n",
              "      box-shadow: 0px 1px 3px 1px rgba(0, 0, 0, 0.15);\n",
              "      filter: drop-shadow(0px 1px 2px rgba(0, 0, 0, 0.3));\n",
              "      fill: #FFFFFF;\n",
              "    }\n",
              "  </style>\n",
              "\n",
              "      <script>\n",
              "        const buttonEl =\n",
              "          document.querySelector('#df-15512fae-e366-41d9-9dc9-9b7bb59df880 button.colab-df-convert');\n",
              "        buttonEl.style.display =\n",
              "          google.colab.kernel.accessAllowed ? 'block' : 'none';\n",
              "\n",
              "        async function convertToInteractive(key) {\n",
              "          const element = document.querySelector('#df-15512fae-e366-41d9-9dc9-9b7bb59df880');\n",
              "          const dataTable =\n",
              "            await google.colab.kernel.invokeFunction('convertToInteractive',\n",
              "                                                     [key], {});\n",
              "          if (!dataTable) return;\n",
              "\n",
              "          const docLinkHtml = 'Like what you see? Visit the ' +\n",
              "            '<a target=\"_blank\" href=https://colab.research.google.com/notebooks/data_table.ipynb>data table notebook</a>'\n",
              "            + ' to learn more about interactive tables.';\n",
              "          element.innerHTML = '';\n",
              "          dataTable['output_type'] = 'display_data';\n",
              "          await google.colab.output.renderOutput(dataTable, element);\n",
              "          const docLink = document.createElement('div');\n",
              "          docLink.innerHTML = docLinkHtml;\n",
              "          element.appendChild(docLink);\n",
              "        }\n",
              "      </script>\n",
              "    </div>\n",
              "  </div>\n",
              "  "
            ]
          },
          "metadata": {},
          "execution_count": 3
        }
      ]
    },
    {
      "cell_type": "code",
      "source": [
        "df.head()"
      ],
      "metadata": {
        "colab": {
          "base_uri": "https://localhost:8080/",
          "height": 270
        },
        "id": "_ZjW3QBl5QdR",
        "outputId": "c8e9191e-f09f-463e-db16-01b407e8969f"
      },
      "execution_count": 4,
      "outputs": [
        {
          "output_type": "execute_result",
          "data": {
            "text/plain": [
              "         VendorID tpep_pickup_datetime tpep_dropoff_datetime  passenger_count  \\\n",
              "1163679         2  2016-06-04 00:41:41   2016-06-04 01:12:57                1   \n",
              "5973883         2  2016-06-16 20:07:44   2016-06-16 20:24:48                2   \n",
              "2680778         2  2016-06-08 00:40:36   2016-06-08 00:45:27                2   \n",
              "4651542         2  2016-06-13 10:06:50   2016-06-13 10:24:34                1   \n",
              "8404656         1  2016-06-23 14:52:37   2016-06-23 15:23:30                1   \n",
              "\n",
              "         trip_distance  RatecodeID store_and_fwd_flag  PULocationID  \\\n",
              "1163679           5.29           1                  N           255   \n",
              "5973883           3.93           1                  N            79   \n",
              "2680778           1.57           1                  N           162   \n",
              "4651542           2.30           1                  N           143   \n",
              "8404656           3.70           1                  N           161   \n",
              "\n",
              "         DOLocationID  payment_type  fare_amount  extra  mta_tax  tip_amount  \\\n",
              "1163679           181             1         23.0    0.5      0.5        4.86   \n",
              "5973883           263             2         15.0    0.5      0.5        0.00   \n",
              "2680778           107             1          6.5    0.5      0.5        1.00   \n",
              "4651542           140             1         13.0    0.0      0.5        3.45   \n",
              "8404656           125             1         20.5    0.0      0.5        4.25   \n",
              "\n",
              "         tolls_amount  improvement_surcharge  total_amount  \\\n",
              "1163679           0.0                    0.3         29.16   \n",
              "5973883           0.0                    0.3         16.30   \n",
              "2680778           0.0                    0.3          8.80   \n",
              "4651542           0.0                    0.3         17.25   \n",
              "8404656           0.0                    0.3         25.55   \n",
              "\n",
              "        congestion_surcharge airport_fee  \n",
              "1163679                 None        None  \n",
              "5973883                 None        None  \n",
              "2680778                 None        None  \n",
              "4651542                 None        None  \n",
              "8404656                 None        None  "
            ],
            "text/html": [
              "\n",
              "  <div id=\"df-d642550b-b740-4c23-a11d-174d90fa3587\">\n",
              "    <div class=\"colab-df-container\">\n",
              "      <div>\n",
              "<style scoped>\n",
              "    .dataframe tbody tr th:only-of-type {\n",
              "        vertical-align: middle;\n",
              "    }\n",
              "\n",
              "    .dataframe tbody tr th {\n",
              "        vertical-align: top;\n",
              "    }\n",
              "\n",
              "    .dataframe thead th {\n",
              "        text-align: right;\n",
              "    }\n",
              "</style>\n",
              "<table border=\"1\" class=\"dataframe\">\n",
              "  <thead>\n",
              "    <tr style=\"text-align: right;\">\n",
              "      <th></th>\n",
              "      <th>VendorID</th>\n",
              "      <th>tpep_pickup_datetime</th>\n",
              "      <th>tpep_dropoff_datetime</th>\n",
              "      <th>passenger_count</th>\n",
              "      <th>trip_distance</th>\n",
              "      <th>RatecodeID</th>\n",
              "      <th>store_and_fwd_flag</th>\n",
              "      <th>PULocationID</th>\n",
              "      <th>DOLocationID</th>\n",
              "      <th>payment_type</th>\n",
              "      <th>fare_amount</th>\n",
              "      <th>extra</th>\n",
              "      <th>mta_tax</th>\n",
              "      <th>tip_amount</th>\n",
              "      <th>tolls_amount</th>\n",
              "      <th>improvement_surcharge</th>\n",
              "      <th>total_amount</th>\n",
              "      <th>congestion_surcharge</th>\n",
              "      <th>airport_fee</th>\n",
              "    </tr>\n",
              "  </thead>\n",
              "  <tbody>\n",
              "    <tr>\n",
              "      <th>1163679</th>\n",
              "      <td>2</td>\n",
              "      <td>2016-06-04 00:41:41</td>\n",
              "      <td>2016-06-04 01:12:57</td>\n",
              "      <td>1</td>\n",
              "      <td>5.29</td>\n",
              "      <td>1</td>\n",
              "      <td>N</td>\n",
              "      <td>255</td>\n",
              "      <td>181</td>\n",
              "      <td>1</td>\n",
              "      <td>23.0</td>\n",
              "      <td>0.5</td>\n",
              "      <td>0.5</td>\n",
              "      <td>4.86</td>\n",
              "      <td>0.0</td>\n",
              "      <td>0.3</td>\n",
              "      <td>29.16</td>\n",
              "      <td>None</td>\n",
              "      <td>None</td>\n",
              "    </tr>\n",
              "    <tr>\n",
              "      <th>5973883</th>\n",
              "      <td>2</td>\n",
              "      <td>2016-06-16 20:07:44</td>\n",
              "      <td>2016-06-16 20:24:48</td>\n",
              "      <td>2</td>\n",
              "      <td>3.93</td>\n",
              "      <td>1</td>\n",
              "      <td>N</td>\n",
              "      <td>79</td>\n",
              "      <td>263</td>\n",
              "      <td>2</td>\n",
              "      <td>15.0</td>\n",
              "      <td>0.5</td>\n",
              "      <td>0.5</td>\n",
              "      <td>0.00</td>\n",
              "      <td>0.0</td>\n",
              "      <td>0.3</td>\n",
              "      <td>16.30</td>\n",
              "      <td>None</td>\n",
              "      <td>None</td>\n",
              "    </tr>\n",
              "    <tr>\n",
              "      <th>2680778</th>\n",
              "      <td>2</td>\n",
              "      <td>2016-06-08 00:40:36</td>\n",
              "      <td>2016-06-08 00:45:27</td>\n",
              "      <td>2</td>\n",
              "      <td>1.57</td>\n",
              "      <td>1</td>\n",
              "      <td>N</td>\n",
              "      <td>162</td>\n",
              "      <td>107</td>\n",
              "      <td>1</td>\n",
              "      <td>6.5</td>\n",
              "      <td>0.5</td>\n",
              "      <td>0.5</td>\n",
              "      <td>1.00</td>\n",
              "      <td>0.0</td>\n",
              "      <td>0.3</td>\n",
              "      <td>8.80</td>\n",
              "      <td>None</td>\n",
              "      <td>None</td>\n",
              "    </tr>\n",
              "    <tr>\n",
              "      <th>4651542</th>\n",
              "      <td>2</td>\n",
              "      <td>2016-06-13 10:06:50</td>\n",
              "      <td>2016-06-13 10:24:34</td>\n",
              "      <td>1</td>\n",
              "      <td>2.30</td>\n",
              "      <td>1</td>\n",
              "      <td>N</td>\n",
              "      <td>143</td>\n",
              "      <td>140</td>\n",
              "      <td>1</td>\n",
              "      <td>13.0</td>\n",
              "      <td>0.0</td>\n",
              "      <td>0.5</td>\n",
              "      <td>3.45</td>\n",
              "      <td>0.0</td>\n",
              "      <td>0.3</td>\n",
              "      <td>17.25</td>\n",
              "      <td>None</td>\n",
              "      <td>None</td>\n",
              "    </tr>\n",
              "    <tr>\n",
              "      <th>8404656</th>\n",
              "      <td>1</td>\n",
              "      <td>2016-06-23 14:52:37</td>\n",
              "      <td>2016-06-23 15:23:30</td>\n",
              "      <td>1</td>\n",
              "      <td>3.70</td>\n",
              "      <td>1</td>\n",
              "      <td>N</td>\n",
              "      <td>161</td>\n",
              "      <td>125</td>\n",
              "      <td>1</td>\n",
              "      <td>20.5</td>\n",
              "      <td>0.0</td>\n",
              "      <td>0.5</td>\n",
              "      <td>4.25</td>\n",
              "      <td>0.0</td>\n",
              "      <td>0.3</td>\n",
              "      <td>25.55</td>\n",
              "      <td>None</td>\n",
              "      <td>None</td>\n",
              "    </tr>\n",
              "  </tbody>\n",
              "</table>\n",
              "</div>\n",
              "      <button class=\"colab-df-convert\" onclick=\"convertToInteractive('df-d642550b-b740-4c23-a11d-174d90fa3587')\"\n",
              "              title=\"Convert this dataframe to an interactive table.\"\n",
              "              style=\"display:none;\">\n",
              "        \n",
              "  <svg xmlns=\"http://www.w3.org/2000/svg\" height=\"24px\"viewBox=\"0 0 24 24\"\n",
              "       width=\"24px\">\n",
              "    <path d=\"M0 0h24v24H0V0z\" fill=\"none\"/>\n",
              "    <path d=\"M18.56 5.44l.94 2.06.94-2.06 2.06-.94-2.06-.94-.94-2.06-.94 2.06-2.06.94zm-11 1L8.5 8.5l.94-2.06 2.06-.94-2.06-.94L8.5 2.5l-.94 2.06-2.06.94zm10 10l.94 2.06.94-2.06 2.06-.94-2.06-.94-.94-2.06-.94 2.06-2.06.94z\"/><path d=\"M17.41 7.96l-1.37-1.37c-.4-.4-.92-.59-1.43-.59-.52 0-1.04.2-1.43.59L10.3 9.45l-7.72 7.72c-.78.78-.78 2.05 0 2.83L4 21.41c.39.39.9.59 1.41.59.51 0 1.02-.2 1.41-.59l7.78-7.78 2.81-2.81c.8-.78.8-2.07 0-2.86zM5.41 20L4 18.59l7.72-7.72 1.47 1.35L5.41 20z\"/>\n",
              "  </svg>\n",
              "      </button>\n",
              "      \n",
              "  <style>\n",
              "    .colab-df-container {\n",
              "      display:flex;\n",
              "      flex-wrap:wrap;\n",
              "      gap: 12px;\n",
              "    }\n",
              "\n",
              "    .colab-df-convert {\n",
              "      background-color: #E8F0FE;\n",
              "      border: none;\n",
              "      border-radius: 50%;\n",
              "      cursor: pointer;\n",
              "      display: none;\n",
              "      fill: #1967D2;\n",
              "      height: 32px;\n",
              "      padding: 0 0 0 0;\n",
              "      width: 32px;\n",
              "    }\n",
              "\n",
              "    .colab-df-convert:hover {\n",
              "      background-color: #E2EBFA;\n",
              "      box-shadow: 0px 1px 2px rgba(60, 64, 67, 0.3), 0px 1px 3px 1px rgba(60, 64, 67, 0.15);\n",
              "      fill: #174EA6;\n",
              "    }\n",
              "\n",
              "    [theme=dark] .colab-df-convert {\n",
              "      background-color: #3B4455;\n",
              "      fill: #D2E3FC;\n",
              "    }\n",
              "\n",
              "    [theme=dark] .colab-df-convert:hover {\n",
              "      background-color: #434B5C;\n",
              "      box-shadow: 0px 1px 3px 1px rgba(0, 0, 0, 0.15);\n",
              "      filter: drop-shadow(0px 1px 2px rgba(0, 0, 0, 0.3));\n",
              "      fill: #FFFFFF;\n",
              "    }\n",
              "  </style>\n",
              "\n",
              "      <script>\n",
              "        const buttonEl =\n",
              "          document.querySelector('#df-d642550b-b740-4c23-a11d-174d90fa3587 button.colab-df-convert');\n",
              "        buttonEl.style.display =\n",
              "          google.colab.kernel.accessAllowed ? 'block' : 'none';\n",
              "\n",
              "        async function convertToInteractive(key) {\n",
              "          const element = document.querySelector('#df-d642550b-b740-4c23-a11d-174d90fa3587');\n",
              "          const dataTable =\n",
              "            await google.colab.kernel.invokeFunction('convertToInteractive',\n",
              "                                                     [key], {});\n",
              "          if (!dataTable) return;\n",
              "\n",
              "          const docLinkHtml = 'Like what you see? Visit the ' +\n",
              "            '<a target=\"_blank\" href=https://colab.research.google.com/notebooks/data_table.ipynb>data table notebook</a>'\n",
              "            + ' to learn more about interactive tables.';\n",
              "          element.innerHTML = '';\n",
              "          dataTable['output_type'] = 'display_data';\n",
              "          await google.colab.output.renderOutput(dataTable, element);\n",
              "          const docLink = document.createElement('div');\n",
              "          docLink.innerHTML = docLinkHtml;\n",
              "          element.appendChild(docLink);\n",
              "        }\n",
              "      </script>\n",
              "    </div>\n",
              "  </div>\n",
              "  "
            ]
          },
          "metadata": {},
          "execution_count": 4
        }
      ]
    },
    {
      "cell_type": "code",
      "source": [
        "# Filtro el dataframe para quedarme solo con el pago de tarjeta de credito\n",
        "df_credit_card = df[df['payment_type'] == 1]\n",
        "\n",
        "df_credit_card.head()"
      ],
      "metadata": {
        "colab": {
          "base_uri": "https://localhost:8080/",
          "height": 270
        },
        "id": "KqdoGaYp5qPh",
        "outputId": "a94c94e8-2a21-4bcb-c99e-f210c6acd4b5"
      },
      "execution_count": 7,
      "outputs": [
        {
          "output_type": "execute_result",
          "data": {
            "text/plain": [
              "          VendorID tpep_pickup_datetime tpep_dropoff_datetime  \\\n",
              "1163679          2  2016-06-04 00:41:41   2016-06-04 01:12:57   \n",
              "2680778          2  2016-06-08 00:40:36   2016-06-08 00:45:27   \n",
              "4651542          2  2016-06-13 10:06:50   2016-06-13 10:24:34   \n",
              "8404656          1  2016-06-23 14:52:37   2016-06-23 15:23:30   \n",
              "11061032         1  2016-06-30 20:04:57   2016-06-30 20:38:13   \n",
              "\n",
              "          passenger_count  trip_distance  RatecodeID store_and_fwd_flag  \\\n",
              "1163679                 1           5.29           1                  N   \n",
              "2680778                 2           1.57           1                  N   \n",
              "4651542                 1           2.30           1                  N   \n",
              "8404656                 1           3.70           1                  N   \n",
              "11061032                1           3.40           1                  N   \n",
              "\n",
              "          PULocationID  DOLocationID  payment_type  fare_amount  extra  \\\n",
              "1163679            255           181             1         23.0    0.5   \n",
              "2680778            162           107             1          6.5    0.5   \n",
              "4651542            143           140             1         13.0    0.0   \n",
              "8404656            161           125             1         20.5    0.0   \n",
              "11061032           233           144             1         21.0    0.5   \n",
              "\n",
              "          mta_tax  tip_amount  tolls_amount  improvement_surcharge  \\\n",
              "1163679       0.5        4.86           0.0                    0.3   \n",
              "2680778       0.5        1.00           0.0                    0.3   \n",
              "4651542       0.5        3.45           0.0                    0.3   \n",
              "8404656       0.5        4.25           0.0                    0.3   \n",
              "11061032      0.5        4.45           0.0                    0.3   \n",
              "\n",
              "          total_amount congestion_surcharge airport_fee  \n",
              "1163679          29.16                 None        None  \n",
              "2680778           8.80                 None        None  \n",
              "4651542          17.25                 None        None  \n",
              "8404656          25.55                 None        None  \n",
              "11061032         26.75                 None        None  "
            ],
            "text/html": [
              "\n",
              "  <div id=\"df-7509f91f-0e74-4521-83ea-c1fef5271ae9\">\n",
              "    <div class=\"colab-df-container\">\n",
              "      <div>\n",
              "<style scoped>\n",
              "    .dataframe tbody tr th:only-of-type {\n",
              "        vertical-align: middle;\n",
              "    }\n",
              "\n",
              "    .dataframe tbody tr th {\n",
              "        vertical-align: top;\n",
              "    }\n",
              "\n",
              "    .dataframe thead th {\n",
              "        text-align: right;\n",
              "    }\n",
              "</style>\n",
              "<table border=\"1\" class=\"dataframe\">\n",
              "  <thead>\n",
              "    <tr style=\"text-align: right;\">\n",
              "      <th></th>\n",
              "      <th>VendorID</th>\n",
              "      <th>tpep_pickup_datetime</th>\n",
              "      <th>tpep_dropoff_datetime</th>\n",
              "      <th>passenger_count</th>\n",
              "      <th>trip_distance</th>\n",
              "      <th>RatecodeID</th>\n",
              "      <th>store_and_fwd_flag</th>\n",
              "      <th>PULocationID</th>\n",
              "      <th>DOLocationID</th>\n",
              "      <th>payment_type</th>\n",
              "      <th>fare_amount</th>\n",
              "      <th>extra</th>\n",
              "      <th>mta_tax</th>\n",
              "      <th>tip_amount</th>\n",
              "      <th>tolls_amount</th>\n",
              "      <th>improvement_surcharge</th>\n",
              "      <th>total_amount</th>\n",
              "      <th>congestion_surcharge</th>\n",
              "      <th>airport_fee</th>\n",
              "    </tr>\n",
              "  </thead>\n",
              "  <tbody>\n",
              "    <tr>\n",
              "      <th>1163679</th>\n",
              "      <td>2</td>\n",
              "      <td>2016-06-04 00:41:41</td>\n",
              "      <td>2016-06-04 01:12:57</td>\n",
              "      <td>1</td>\n",
              "      <td>5.29</td>\n",
              "      <td>1</td>\n",
              "      <td>N</td>\n",
              "      <td>255</td>\n",
              "      <td>181</td>\n",
              "      <td>1</td>\n",
              "      <td>23.0</td>\n",
              "      <td>0.5</td>\n",
              "      <td>0.5</td>\n",
              "      <td>4.86</td>\n",
              "      <td>0.0</td>\n",
              "      <td>0.3</td>\n",
              "      <td>29.16</td>\n",
              "      <td>None</td>\n",
              "      <td>None</td>\n",
              "    </tr>\n",
              "    <tr>\n",
              "      <th>2680778</th>\n",
              "      <td>2</td>\n",
              "      <td>2016-06-08 00:40:36</td>\n",
              "      <td>2016-06-08 00:45:27</td>\n",
              "      <td>2</td>\n",
              "      <td>1.57</td>\n",
              "      <td>1</td>\n",
              "      <td>N</td>\n",
              "      <td>162</td>\n",
              "      <td>107</td>\n",
              "      <td>1</td>\n",
              "      <td>6.5</td>\n",
              "      <td>0.5</td>\n",
              "      <td>0.5</td>\n",
              "      <td>1.00</td>\n",
              "      <td>0.0</td>\n",
              "      <td>0.3</td>\n",
              "      <td>8.80</td>\n",
              "      <td>None</td>\n",
              "      <td>None</td>\n",
              "    </tr>\n",
              "    <tr>\n",
              "      <th>4651542</th>\n",
              "      <td>2</td>\n",
              "      <td>2016-06-13 10:06:50</td>\n",
              "      <td>2016-06-13 10:24:34</td>\n",
              "      <td>1</td>\n",
              "      <td>2.30</td>\n",
              "      <td>1</td>\n",
              "      <td>N</td>\n",
              "      <td>143</td>\n",
              "      <td>140</td>\n",
              "      <td>1</td>\n",
              "      <td>13.0</td>\n",
              "      <td>0.0</td>\n",
              "      <td>0.5</td>\n",
              "      <td>3.45</td>\n",
              "      <td>0.0</td>\n",
              "      <td>0.3</td>\n",
              "      <td>17.25</td>\n",
              "      <td>None</td>\n",
              "      <td>None</td>\n",
              "    </tr>\n",
              "    <tr>\n",
              "      <th>8404656</th>\n",
              "      <td>1</td>\n",
              "      <td>2016-06-23 14:52:37</td>\n",
              "      <td>2016-06-23 15:23:30</td>\n",
              "      <td>1</td>\n",
              "      <td>3.70</td>\n",
              "      <td>1</td>\n",
              "      <td>N</td>\n",
              "      <td>161</td>\n",
              "      <td>125</td>\n",
              "      <td>1</td>\n",
              "      <td>20.5</td>\n",
              "      <td>0.0</td>\n",
              "      <td>0.5</td>\n",
              "      <td>4.25</td>\n",
              "      <td>0.0</td>\n",
              "      <td>0.3</td>\n",
              "      <td>25.55</td>\n",
              "      <td>None</td>\n",
              "      <td>None</td>\n",
              "    </tr>\n",
              "    <tr>\n",
              "      <th>11061032</th>\n",
              "      <td>1</td>\n",
              "      <td>2016-06-30 20:04:57</td>\n",
              "      <td>2016-06-30 20:38:13</td>\n",
              "      <td>1</td>\n",
              "      <td>3.40</td>\n",
              "      <td>1</td>\n",
              "      <td>N</td>\n",
              "      <td>233</td>\n",
              "      <td>144</td>\n",
              "      <td>1</td>\n",
              "      <td>21.0</td>\n",
              "      <td>0.5</td>\n",
              "      <td>0.5</td>\n",
              "      <td>4.45</td>\n",
              "      <td>0.0</td>\n",
              "      <td>0.3</td>\n",
              "      <td>26.75</td>\n",
              "      <td>None</td>\n",
              "      <td>None</td>\n",
              "    </tr>\n",
              "  </tbody>\n",
              "</table>\n",
              "</div>\n",
              "      <button class=\"colab-df-convert\" onclick=\"convertToInteractive('df-7509f91f-0e74-4521-83ea-c1fef5271ae9')\"\n",
              "              title=\"Convert this dataframe to an interactive table.\"\n",
              "              style=\"display:none;\">\n",
              "        \n",
              "  <svg xmlns=\"http://www.w3.org/2000/svg\" height=\"24px\"viewBox=\"0 0 24 24\"\n",
              "       width=\"24px\">\n",
              "    <path d=\"M0 0h24v24H0V0z\" fill=\"none\"/>\n",
              "    <path d=\"M18.56 5.44l.94 2.06.94-2.06 2.06-.94-2.06-.94-.94-2.06-.94 2.06-2.06.94zm-11 1L8.5 8.5l.94-2.06 2.06-.94-2.06-.94L8.5 2.5l-.94 2.06-2.06.94zm10 10l.94 2.06.94-2.06 2.06-.94-2.06-.94-.94-2.06-.94 2.06-2.06.94z\"/><path d=\"M17.41 7.96l-1.37-1.37c-.4-.4-.92-.59-1.43-.59-.52 0-1.04.2-1.43.59L10.3 9.45l-7.72 7.72c-.78.78-.78 2.05 0 2.83L4 21.41c.39.39.9.59 1.41.59.51 0 1.02-.2 1.41-.59l7.78-7.78 2.81-2.81c.8-.78.8-2.07 0-2.86zM5.41 20L4 18.59l7.72-7.72 1.47 1.35L5.41 20z\"/>\n",
              "  </svg>\n",
              "      </button>\n",
              "      \n",
              "  <style>\n",
              "    .colab-df-container {\n",
              "      display:flex;\n",
              "      flex-wrap:wrap;\n",
              "      gap: 12px;\n",
              "    }\n",
              "\n",
              "    .colab-df-convert {\n",
              "      background-color: #E8F0FE;\n",
              "      border: none;\n",
              "      border-radius: 50%;\n",
              "      cursor: pointer;\n",
              "      display: none;\n",
              "      fill: #1967D2;\n",
              "      height: 32px;\n",
              "      padding: 0 0 0 0;\n",
              "      width: 32px;\n",
              "    }\n",
              "\n",
              "    .colab-df-convert:hover {\n",
              "      background-color: #E2EBFA;\n",
              "      box-shadow: 0px 1px 2px rgba(60, 64, 67, 0.3), 0px 1px 3px 1px rgba(60, 64, 67, 0.15);\n",
              "      fill: #174EA6;\n",
              "    }\n",
              "\n",
              "    [theme=dark] .colab-df-convert {\n",
              "      background-color: #3B4455;\n",
              "      fill: #D2E3FC;\n",
              "    }\n",
              "\n",
              "    [theme=dark] .colab-df-convert:hover {\n",
              "      background-color: #434B5C;\n",
              "      box-shadow: 0px 1px 3px 1px rgba(0, 0, 0, 0.15);\n",
              "      filter: drop-shadow(0px 1px 2px rgba(0, 0, 0, 0.3));\n",
              "      fill: #FFFFFF;\n",
              "    }\n",
              "  </style>\n",
              "\n",
              "      <script>\n",
              "        const buttonEl =\n",
              "          document.querySelector('#df-7509f91f-0e74-4521-83ea-c1fef5271ae9 button.colab-df-convert');\n",
              "        buttonEl.style.display =\n",
              "          google.colab.kernel.accessAllowed ? 'block' : 'none';\n",
              "\n",
              "        async function convertToInteractive(key) {\n",
              "          const element = document.querySelector('#df-7509f91f-0e74-4521-83ea-c1fef5271ae9');\n",
              "          const dataTable =\n",
              "            await google.colab.kernel.invokeFunction('convertToInteractive',\n",
              "                                                     [key], {});\n",
              "          if (!dataTable) return;\n",
              "\n",
              "          const docLinkHtml = 'Like what you see? Visit the ' +\n",
              "            '<a target=\"_blank\" href=https://colab.research.google.com/notebooks/data_table.ipynb>data table notebook</a>'\n",
              "            + ' to learn more about interactive tables.';\n",
              "          element.innerHTML = '';\n",
              "          dataTable['output_type'] = 'display_data';\n",
              "          await google.colab.output.renderOutput(dataTable, element);\n",
              "          const docLink = document.createElement('div');\n",
              "          docLink.innerHTML = docLinkHtml;\n",
              "          element.appendChild(docLink);\n",
              "        }\n",
              "      </script>\n",
              "    </div>\n",
              "  </div>\n",
              "  "
            ]
          },
          "metadata": {},
          "execution_count": 7
        }
      ]
    },
    {
      "cell_type": "code",
      "source": [
        "#Análisis descriptivo\n",
        "df.describe()"
      ],
      "metadata": {
        "colab": {
          "base_uri": "https://localhost:8080/",
          "height": 364
        },
        "id": "JWwuMYpq6HbS",
        "outputId": "3c9c4feb-3588-4c1a-9887-e217ca16a619"
      },
      "execution_count": 8,
      "outputs": [
        {
          "output_type": "execute_result",
          "data": {
            "text/plain": [
              "            VendorID  passenger_count  trip_distance     RatecodeID  \\\n",
              "count  111316.000000    111316.000000  111316.000000  111316.000000   \n",
              "mean        1.530678         1.659806       3.039761       1.045896   \n",
              "std         0.499366         1.304249       3.735814       0.720990   \n",
              "min         1.000000         0.000000       0.000000       1.000000   \n",
              "25%         1.000000         1.000000       1.000000       1.000000   \n",
              "50%         2.000000         1.000000       1.720000       1.000000   \n",
              "75%         2.000000         2.000000       3.250000       1.000000   \n",
              "max         3.000000         7.000000      90.450000      99.000000   \n",
              "\n",
              "        PULocationID   DOLocationID   payment_type    fare_amount  \\\n",
              "count  111316.000000  111316.000000  111316.000000  111316.000000   \n",
              "mean      162.193440     159.465153       1.350534      13.357783   \n",
              "std        67.087582      70.809321       0.496189      11.696421   \n",
              "min         1.000000       1.000000       1.000000    -100.000000   \n",
              "25%       113.000000     107.000000       1.000000       6.500000   \n",
              "50%       162.000000     162.000000       1.000000      10.000000   \n",
              "75%       233.000000     233.000000       2.000000      15.500000   \n",
              "max       265.000000     265.000000       4.000000     750.000000   \n",
              "\n",
              "               extra        mta_tax     tip_amount   tolls_amount  \\\n",
              "count  111316.000000  111316.000000  111316.000000  111316.000000   \n",
              "mean        0.338171       0.497139       1.856166       0.337755   \n",
              "std         0.451132       0.040969       3.698258       1.489640   \n",
              "min        -4.500000      -0.500000     -10.560000       0.000000   \n",
              "25%         0.000000       0.500000       0.000000       0.000000   \n",
              "50%         0.000000       0.500000       1.320000       0.000000   \n",
              "75%         0.500000       0.500000       2.460000       0.000000   \n",
              "max         4.500000       0.500000     843.820000      42.800000   \n",
              "\n",
              "       improvement_surcharge   total_amount  \n",
              "count          111316.000000  111316.000000  \n",
              "mean                0.299644      16.689664  \n",
              "std                 0.014156      14.608348  \n",
              "min                -0.300000    -100.800000  \n",
              "25%                 0.300000       8.800000  \n",
              "50%                 0.300000      12.300000  \n",
              "75%                 0.300000      18.500000  \n",
              "max                 0.300000     849.120000  "
            ],
            "text/html": [
              "\n",
              "  <div id=\"df-ac629f4a-ed5d-4350-92ca-187ee97cd73c\">\n",
              "    <div class=\"colab-df-container\">\n",
              "      <div>\n",
              "<style scoped>\n",
              "    .dataframe tbody tr th:only-of-type {\n",
              "        vertical-align: middle;\n",
              "    }\n",
              "\n",
              "    .dataframe tbody tr th {\n",
              "        vertical-align: top;\n",
              "    }\n",
              "\n",
              "    .dataframe thead th {\n",
              "        text-align: right;\n",
              "    }\n",
              "</style>\n",
              "<table border=\"1\" class=\"dataframe\">\n",
              "  <thead>\n",
              "    <tr style=\"text-align: right;\">\n",
              "      <th></th>\n",
              "      <th>VendorID</th>\n",
              "      <th>passenger_count</th>\n",
              "      <th>trip_distance</th>\n",
              "      <th>RatecodeID</th>\n",
              "      <th>PULocationID</th>\n",
              "      <th>DOLocationID</th>\n",
              "      <th>payment_type</th>\n",
              "      <th>fare_amount</th>\n",
              "      <th>extra</th>\n",
              "      <th>mta_tax</th>\n",
              "      <th>tip_amount</th>\n",
              "      <th>tolls_amount</th>\n",
              "      <th>improvement_surcharge</th>\n",
              "      <th>total_amount</th>\n",
              "    </tr>\n",
              "  </thead>\n",
              "  <tbody>\n",
              "    <tr>\n",
              "      <th>count</th>\n",
              "      <td>111316.000000</td>\n",
              "      <td>111316.000000</td>\n",
              "      <td>111316.000000</td>\n",
              "      <td>111316.000000</td>\n",
              "      <td>111316.000000</td>\n",
              "      <td>111316.000000</td>\n",
              "      <td>111316.000000</td>\n",
              "      <td>111316.000000</td>\n",
              "      <td>111316.000000</td>\n",
              "      <td>111316.000000</td>\n",
              "      <td>111316.000000</td>\n",
              "      <td>111316.000000</td>\n",
              "      <td>111316.000000</td>\n",
              "      <td>111316.000000</td>\n",
              "    </tr>\n",
              "    <tr>\n",
              "      <th>mean</th>\n",
              "      <td>1.530678</td>\n",
              "      <td>1.659806</td>\n",
              "      <td>3.039761</td>\n",
              "      <td>1.045896</td>\n",
              "      <td>162.193440</td>\n",
              "      <td>159.465153</td>\n",
              "      <td>1.350534</td>\n",
              "      <td>13.357783</td>\n",
              "      <td>0.338171</td>\n",
              "      <td>0.497139</td>\n",
              "      <td>1.856166</td>\n",
              "      <td>0.337755</td>\n",
              "      <td>0.299644</td>\n",
              "      <td>16.689664</td>\n",
              "    </tr>\n",
              "    <tr>\n",
              "      <th>std</th>\n",
              "      <td>0.499366</td>\n",
              "      <td>1.304249</td>\n",
              "      <td>3.735814</td>\n",
              "      <td>0.720990</td>\n",
              "      <td>67.087582</td>\n",
              "      <td>70.809321</td>\n",
              "      <td>0.496189</td>\n",
              "      <td>11.696421</td>\n",
              "      <td>0.451132</td>\n",
              "      <td>0.040969</td>\n",
              "      <td>3.698258</td>\n",
              "      <td>1.489640</td>\n",
              "      <td>0.014156</td>\n",
              "      <td>14.608348</td>\n",
              "    </tr>\n",
              "    <tr>\n",
              "      <th>min</th>\n",
              "      <td>1.000000</td>\n",
              "      <td>0.000000</td>\n",
              "      <td>0.000000</td>\n",
              "      <td>1.000000</td>\n",
              "      <td>1.000000</td>\n",
              "      <td>1.000000</td>\n",
              "      <td>1.000000</td>\n",
              "      <td>-100.000000</td>\n",
              "      <td>-4.500000</td>\n",
              "      <td>-0.500000</td>\n",
              "      <td>-10.560000</td>\n",
              "      <td>0.000000</td>\n",
              "      <td>-0.300000</td>\n",
              "      <td>-100.800000</td>\n",
              "    </tr>\n",
              "    <tr>\n",
              "      <th>25%</th>\n",
              "      <td>1.000000</td>\n",
              "      <td>1.000000</td>\n",
              "      <td>1.000000</td>\n",
              "      <td>1.000000</td>\n",
              "      <td>113.000000</td>\n",
              "      <td>107.000000</td>\n",
              "      <td>1.000000</td>\n",
              "      <td>6.500000</td>\n",
              "      <td>0.000000</td>\n",
              "      <td>0.500000</td>\n",
              "      <td>0.000000</td>\n",
              "      <td>0.000000</td>\n",
              "      <td>0.300000</td>\n",
              "      <td>8.800000</td>\n",
              "    </tr>\n",
              "    <tr>\n",
              "      <th>50%</th>\n",
              "      <td>2.000000</td>\n",
              "      <td>1.000000</td>\n",
              "      <td>1.720000</td>\n",
              "      <td>1.000000</td>\n",
              "      <td>162.000000</td>\n",
              "      <td>162.000000</td>\n",
              "      <td>1.000000</td>\n",
              "      <td>10.000000</td>\n",
              "      <td>0.000000</td>\n",
              "      <td>0.500000</td>\n",
              "      <td>1.320000</td>\n",
              "      <td>0.000000</td>\n",
              "      <td>0.300000</td>\n",
              "      <td>12.300000</td>\n",
              "    </tr>\n",
              "    <tr>\n",
              "      <th>75%</th>\n",
              "      <td>2.000000</td>\n",
              "      <td>2.000000</td>\n",
              "      <td>3.250000</td>\n",
              "      <td>1.000000</td>\n",
              "      <td>233.000000</td>\n",
              "      <td>233.000000</td>\n",
              "      <td>2.000000</td>\n",
              "      <td>15.500000</td>\n",
              "      <td>0.500000</td>\n",
              "      <td>0.500000</td>\n",
              "      <td>2.460000</td>\n",
              "      <td>0.000000</td>\n",
              "      <td>0.300000</td>\n",
              "      <td>18.500000</td>\n",
              "    </tr>\n",
              "    <tr>\n",
              "      <th>max</th>\n",
              "      <td>3.000000</td>\n",
              "      <td>7.000000</td>\n",
              "      <td>90.450000</td>\n",
              "      <td>99.000000</td>\n",
              "      <td>265.000000</td>\n",
              "      <td>265.000000</td>\n",
              "      <td>4.000000</td>\n",
              "      <td>750.000000</td>\n",
              "      <td>4.500000</td>\n",
              "      <td>0.500000</td>\n",
              "      <td>843.820000</td>\n",
              "      <td>42.800000</td>\n",
              "      <td>0.300000</td>\n",
              "      <td>849.120000</td>\n",
              "    </tr>\n",
              "  </tbody>\n",
              "</table>\n",
              "</div>\n",
              "      <button class=\"colab-df-convert\" onclick=\"convertToInteractive('df-ac629f4a-ed5d-4350-92ca-187ee97cd73c')\"\n",
              "              title=\"Convert this dataframe to an interactive table.\"\n",
              "              style=\"display:none;\">\n",
              "        \n",
              "  <svg xmlns=\"http://www.w3.org/2000/svg\" height=\"24px\"viewBox=\"0 0 24 24\"\n",
              "       width=\"24px\">\n",
              "    <path d=\"M0 0h24v24H0V0z\" fill=\"none\"/>\n",
              "    <path d=\"M18.56 5.44l.94 2.06.94-2.06 2.06-.94-2.06-.94-.94-2.06-.94 2.06-2.06.94zm-11 1L8.5 8.5l.94-2.06 2.06-.94-2.06-.94L8.5 2.5l-.94 2.06-2.06.94zm10 10l.94 2.06.94-2.06 2.06-.94-2.06-.94-.94-2.06-.94 2.06-2.06.94z\"/><path d=\"M17.41 7.96l-1.37-1.37c-.4-.4-.92-.59-1.43-.59-.52 0-1.04.2-1.43.59L10.3 9.45l-7.72 7.72c-.78.78-.78 2.05 0 2.83L4 21.41c.39.39.9.59 1.41.59.51 0 1.02-.2 1.41-.59l7.78-7.78 2.81-2.81c.8-.78.8-2.07 0-2.86zM5.41 20L4 18.59l7.72-7.72 1.47 1.35L5.41 20z\"/>\n",
              "  </svg>\n",
              "      </button>\n",
              "      \n",
              "  <style>\n",
              "    .colab-df-container {\n",
              "      display:flex;\n",
              "      flex-wrap:wrap;\n",
              "      gap: 12px;\n",
              "    }\n",
              "\n",
              "    .colab-df-convert {\n",
              "      background-color: #E8F0FE;\n",
              "      border: none;\n",
              "      border-radius: 50%;\n",
              "      cursor: pointer;\n",
              "      display: none;\n",
              "      fill: #1967D2;\n",
              "      height: 32px;\n",
              "      padding: 0 0 0 0;\n",
              "      width: 32px;\n",
              "    }\n",
              "\n",
              "    .colab-df-convert:hover {\n",
              "      background-color: #E2EBFA;\n",
              "      box-shadow: 0px 1px 2px rgba(60, 64, 67, 0.3), 0px 1px 3px 1px rgba(60, 64, 67, 0.15);\n",
              "      fill: #174EA6;\n",
              "    }\n",
              "\n",
              "    [theme=dark] .colab-df-convert {\n",
              "      background-color: #3B4455;\n",
              "      fill: #D2E3FC;\n",
              "    }\n",
              "\n",
              "    [theme=dark] .colab-df-convert:hover {\n",
              "      background-color: #434B5C;\n",
              "      box-shadow: 0px 1px 3px 1px rgba(0, 0, 0, 0.15);\n",
              "      filter: drop-shadow(0px 1px 2px rgba(0, 0, 0, 0.3));\n",
              "      fill: #FFFFFF;\n",
              "    }\n",
              "  </style>\n",
              "\n",
              "      <script>\n",
              "        const buttonEl =\n",
              "          document.querySelector('#df-ac629f4a-ed5d-4350-92ca-187ee97cd73c button.colab-df-convert');\n",
              "        buttonEl.style.display =\n",
              "          google.colab.kernel.accessAllowed ? 'block' : 'none';\n",
              "\n",
              "        async function convertToInteractive(key) {\n",
              "          const element = document.querySelector('#df-ac629f4a-ed5d-4350-92ca-187ee97cd73c');\n",
              "          const dataTable =\n",
              "            await google.colab.kernel.invokeFunction('convertToInteractive',\n",
              "                                                     [key], {});\n",
              "          if (!dataTable) return;\n",
              "\n",
              "          const docLinkHtml = 'Like what you see? Visit the ' +\n",
              "            '<a target=\"_blank\" href=https://colab.research.google.com/notebooks/data_table.ipynb>data table notebook</a>'\n",
              "            + ' to learn more about interactive tables.';\n",
              "          element.innerHTML = '';\n",
              "          dataTable['output_type'] = 'display_data';\n",
              "          await google.colab.output.renderOutput(dataTable, element);\n",
              "          const docLink = document.createElement('div');\n",
              "          docLink.innerHTML = docLinkHtml;\n",
              "          element.appendChild(docLink);\n",
              "        }\n",
              "      </script>\n",
              "    </div>\n",
              "  </div>\n",
              "  "
            ]
          },
          "metadata": {},
          "execution_count": 8
        }
      ]
    },
    {
      "cell_type": "code",
      "source": [
        "#Cuantos tipos de proveedores hay\n",
        "vendorid_counts = df['VendorID'].value_counts()\n",
        "vendorid_counts\n"
      ],
      "metadata": {
        "colab": {
          "base_uri": "https://localhost:8080/"
        },
        "id": "Kaqz9d0x6QW5",
        "outputId": "c4fcdd2e-12e5-487c-b1a7-f86290e2c6e3"
      },
      "execution_count": 10,
      "outputs": [
        {
          "output_type": "execute_result",
          "data": {
            "text/plain": [
              "2    59039\n",
              "1    52260\n",
              "3       17\n",
              "Name: VendorID, dtype: int64"
            ]
          },
          "metadata": {},
          "execution_count": 10
        }
      ]
    },
    {
      "cell_type": "code",
      "source": [
        "#Elimino todas las filas donde VendorID es igual a 3\n",
        "df = df[df['VendorID'] != 3]\n",
        "\n",
        "df.describe()\n"
      ],
      "metadata": {
        "colab": {
          "base_uri": "https://localhost:8080/",
          "height": 364
        },
        "id": "AeWs5ejb6mW5",
        "outputId": "ec1315e8-420b-4adf-ec2c-818383dd17ba"
      },
      "execution_count": 12,
      "outputs": [
        {
          "output_type": "execute_result",
          "data": {
            "text/plain": [
              "            VendorID  passenger_count  trip_distance     RatecodeID  \\\n",
              "count  111299.000000    111299.000000  111299.000000  111299.000000   \n",
              "mean        1.530454         1.659907       3.039708       1.045903   \n",
              "std         0.499074         1.304323       3.735768       0.721045   \n",
              "min         1.000000         0.000000       0.000000       1.000000   \n",
              "25%         1.000000         1.000000       1.000000       1.000000   \n",
              "50%         2.000000         1.000000       1.720000       1.000000   \n",
              "75%         2.000000         2.000000       3.250000       1.000000   \n",
              "max         2.000000         7.000000      90.450000      99.000000   \n",
              "\n",
              "        PULocationID   DOLocationID   payment_type    fare_amount  \\\n",
              "count  111299.000000  111299.000000  111299.000000  111299.000000   \n",
              "mean      162.200757     159.462313       1.350515      13.357563   \n",
              "std        67.087678      70.810392       0.496187      11.696213   \n",
              "min         1.000000       1.000000       1.000000    -100.000000   \n",
              "25%       113.000000     107.000000       1.000000       6.500000   \n",
              "50%       162.000000     162.000000       1.000000      10.000000   \n",
              "75%       233.000000     233.000000       2.000000      15.500000   \n",
              "max       265.000000     265.000000       4.000000     750.000000   \n",
              "\n",
              "               extra        mta_tax     tip_amount   tolls_amount  \\\n",
              "count  111299.000000  111299.000000  111299.000000  111299.000000   \n",
              "mean        0.338168       0.497138       1.856323       0.337807   \n",
              "std         0.451147       0.040972       3.698483       1.489748   \n",
              "min        -4.500000      -0.500000     -10.560000       0.000000   \n",
              "25%         0.000000       0.500000       0.000000       0.000000   \n",
              "50%         0.000000       0.500000       1.320000       0.000000   \n",
              "75%         0.500000       0.500000       2.460000       0.000000   \n",
              "max         4.500000       0.500000     843.820000      42.800000   \n",
              "\n",
              "       improvement_surcharge   total_amount  \n",
              "count          111299.000000  111299.000000  \n",
              "mean                0.299644      16.689650  \n",
              "std                 0.014157      14.608525  \n",
              "min                -0.300000    -100.800000  \n",
              "25%                 0.300000       8.800000  \n",
              "50%                 0.300000      12.300000  \n",
              "75%                 0.300000      18.500000  \n",
              "max                 0.300000     849.120000  "
            ],
            "text/html": [
              "\n",
              "  <div id=\"df-7dc8a622-0723-467c-be22-5b7badc53b7d\">\n",
              "    <div class=\"colab-df-container\">\n",
              "      <div>\n",
              "<style scoped>\n",
              "    .dataframe tbody tr th:only-of-type {\n",
              "        vertical-align: middle;\n",
              "    }\n",
              "\n",
              "    .dataframe tbody tr th {\n",
              "        vertical-align: top;\n",
              "    }\n",
              "\n",
              "    .dataframe thead th {\n",
              "        text-align: right;\n",
              "    }\n",
              "</style>\n",
              "<table border=\"1\" class=\"dataframe\">\n",
              "  <thead>\n",
              "    <tr style=\"text-align: right;\">\n",
              "      <th></th>\n",
              "      <th>VendorID</th>\n",
              "      <th>passenger_count</th>\n",
              "      <th>trip_distance</th>\n",
              "      <th>RatecodeID</th>\n",
              "      <th>PULocationID</th>\n",
              "      <th>DOLocationID</th>\n",
              "      <th>payment_type</th>\n",
              "      <th>fare_amount</th>\n",
              "      <th>extra</th>\n",
              "      <th>mta_tax</th>\n",
              "      <th>tip_amount</th>\n",
              "      <th>tolls_amount</th>\n",
              "      <th>improvement_surcharge</th>\n",
              "      <th>total_amount</th>\n",
              "    </tr>\n",
              "  </thead>\n",
              "  <tbody>\n",
              "    <tr>\n",
              "      <th>count</th>\n",
              "      <td>111299.000000</td>\n",
              "      <td>111299.000000</td>\n",
              "      <td>111299.000000</td>\n",
              "      <td>111299.000000</td>\n",
              "      <td>111299.000000</td>\n",
              "      <td>111299.000000</td>\n",
              "      <td>111299.000000</td>\n",
              "      <td>111299.000000</td>\n",
              "      <td>111299.000000</td>\n",
              "      <td>111299.000000</td>\n",
              "      <td>111299.000000</td>\n",
              "      <td>111299.000000</td>\n",
              "      <td>111299.000000</td>\n",
              "      <td>111299.000000</td>\n",
              "    </tr>\n",
              "    <tr>\n",
              "      <th>mean</th>\n",
              "      <td>1.530454</td>\n",
              "      <td>1.659907</td>\n",
              "      <td>3.039708</td>\n",
              "      <td>1.045903</td>\n",
              "      <td>162.200757</td>\n",
              "      <td>159.462313</td>\n",
              "      <td>1.350515</td>\n",
              "      <td>13.357563</td>\n",
              "      <td>0.338168</td>\n",
              "      <td>0.497138</td>\n",
              "      <td>1.856323</td>\n",
              "      <td>0.337807</td>\n",
              "      <td>0.299644</td>\n",
              "      <td>16.689650</td>\n",
              "    </tr>\n",
              "    <tr>\n",
              "      <th>std</th>\n",
              "      <td>0.499074</td>\n",
              "      <td>1.304323</td>\n",
              "      <td>3.735768</td>\n",
              "      <td>0.721045</td>\n",
              "      <td>67.087678</td>\n",
              "      <td>70.810392</td>\n",
              "      <td>0.496187</td>\n",
              "      <td>11.696213</td>\n",
              "      <td>0.451147</td>\n",
              "      <td>0.040972</td>\n",
              "      <td>3.698483</td>\n",
              "      <td>1.489748</td>\n",
              "      <td>0.014157</td>\n",
              "      <td>14.608525</td>\n",
              "    </tr>\n",
              "    <tr>\n",
              "      <th>min</th>\n",
              "      <td>1.000000</td>\n",
              "      <td>0.000000</td>\n",
              "      <td>0.000000</td>\n",
              "      <td>1.000000</td>\n",
              "      <td>1.000000</td>\n",
              "      <td>1.000000</td>\n",
              "      <td>1.000000</td>\n",
              "      <td>-100.000000</td>\n",
              "      <td>-4.500000</td>\n",
              "      <td>-0.500000</td>\n",
              "      <td>-10.560000</td>\n",
              "      <td>0.000000</td>\n",
              "      <td>-0.300000</td>\n",
              "      <td>-100.800000</td>\n",
              "    </tr>\n",
              "    <tr>\n",
              "      <th>25%</th>\n",
              "      <td>1.000000</td>\n",
              "      <td>1.000000</td>\n",
              "      <td>1.000000</td>\n",
              "      <td>1.000000</td>\n",
              "      <td>113.000000</td>\n",
              "      <td>107.000000</td>\n",
              "      <td>1.000000</td>\n",
              "      <td>6.500000</td>\n",
              "      <td>0.000000</td>\n",
              "      <td>0.500000</td>\n",
              "      <td>0.000000</td>\n",
              "      <td>0.000000</td>\n",
              "      <td>0.300000</td>\n",
              "      <td>8.800000</td>\n",
              "    </tr>\n",
              "    <tr>\n",
              "      <th>50%</th>\n",
              "      <td>2.000000</td>\n",
              "      <td>1.000000</td>\n",
              "      <td>1.720000</td>\n",
              "      <td>1.000000</td>\n",
              "      <td>162.000000</td>\n",
              "      <td>162.000000</td>\n",
              "      <td>1.000000</td>\n",
              "      <td>10.000000</td>\n",
              "      <td>0.000000</td>\n",
              "      <td>0.500000</td>\n",
              "      <td>1.320000</td>\n",
              "      <td>0.000000</td>\n",
              "      <td>0.300000</td>\n",
              "      <td>12.300000</td>\n",
              "    </tr>\n",
              "    <tr>\n",
              "      <th>75%</th>\n",
              "      <td>2.000000</td>\n",
              "      <td>2.000000</td>\n",
              "      <td>3.250000</td>\n",
              "      <td>1.000000</td>\n",
              "      <td>233.000000</td>\n",
              "      <td>233.000000</td>\n",
              "      <td>2.000000</td>\n",
              "      <td>15.500000</td>\n",
              "      <td>0.500000</td>\n",
              "      <td>0.500000</td>\n",
              "      <td>2.460000</td>\n",
              "      <td>0.000000</td>\n",
              "      <td>0.300000</td>\n",
              "      <td>18.500000</td>\n",
              "    </tr>\n",
              "    <tr>\n",
              "      <th>max</th>\n",
              "      <td>2.000000</td>\n",
              "      <td>7.000000</td>\n",
              "      <td>90.450000</td>\n",
              "      <td>99.000000</td>\n",
              "      <td>265.000000</td>\n",
              "      <td>265.000000</td>\n",
              "      <td>4.000000</td>\n",
              "      <td>750.000000</td>\n",
              "      <td>4.500000</td>\n",
              "      <td>0.500000</td>\n",
              "      <td>843.820000</td>\n",
              "      <td>42.800000</td>\n",
              "      <td>0.300000</td>\n",
              "      <td>849.120000</td>\n",
              "    </tr>\n",
              "  </tbody>\n",
              "</table>\n",
              "</div>\n",
              "      <button class=\"colab-df-convert\" onclick=\"convertToInteractive('df-7dc8a622-0723-467c-be22-5b7badc53b7d')\"\n",
              "              title=\"Convert this dataframe to an interactive table.\"\n",
              "              style=\"display:none;\">\n",
              "        \n",
              "  <svg xmlns=\"http://www.w3.org/2000/svg\" height=\"24px\"viewBox=\"0 0 24 24\"\n",
              "       width=\"24px\">\n",
              "    <path d=\"M0 0h24v24H0V0z\" fill=\"none\"/>\n",
              "    <path d=\"M18.56 5.44l.94 2.06.94-2.06 2.06-.94-2.06-.94-.94-2.06-.94 2.06-2.06.94zm-11 1L8.5 8.5l.94-2.06 2.06-.94-2.06-.94L8.5 2.5l-.94 2.06-2.06.94zm10 10l.94 2.06.94-2.06 2.06-.94-2.06-.94-.94-2.06-.94 2.06-2.06.94z\"/><path d=\"M17.41 7.96l-1.37-1.37c-.4-.4-.92-.59-1.43-.59-.52 0-1.04.2-1.43.59L10.3 9.45l-7.72 7.72c-.78.78-.78 2.05 0 2.83L4 21.41c.39.39.9.59 1.41.59.51 0 1.02-.2 1.41-.59l7.78-7.78 2.81-2.81c.8-.78.8-2.07 0-2.86zM5.41 20L4 18.59l7.72-7.72 1.47 1.35L5.41 20z\"/>\n",
              "  </svg>\n",
              "      </button>\n",
              "      \n",
              "  <style>\n",
              "    .colab-df-container {\n",
              "      display:flex;\n",
              "      flex-wrap:wrap;\n",
              "      gap: 12px;\n",
              "    }\n",
              "\n",
              "    .colab-df-convert {\n",
              "      background-color: #E8F0FE;\n",
              "      border: none;\n",
              "      border-radius: 50%;\n",
              "      cursor: pointer;\n",
              "      display: none;\n",
              "      fill: #1967D2;\n",
              "      height: 32px;\n",
              "      padding: 0 0 0 0;\n",
              "      width: 32px;\n",
              "    }\n",
              "\n",
              "    .colab-df-convert:hover {\n",
              "      background-color: #E2EBFA;\n",
              "      box-shadow: 0px 1px 2px rgba(60, 64, 67, 0.3), 0px 1px 3px 1px rgba(60, 64, 67, 0.15);\n",
              "      fill: #174EA6;\n",
              "    }\n",
              "\n",
              "    [theme=dark] .colab-df-convert {\n",
              "      background-color: #3B4455;\n",
              "      fill: #D2E3FC;\n",
              "    }\n",
              "\n",
              "    [theme=dark] .colab-df-convert:hover {\n",
              "      background-color: #434B5C;\n",
              "      box-shadow: 0px 1px 3px 1px rgba(0, 0, 0, 0.15);\n",
              "      filter: drop-shadow(0px 1px 2px rgba(0, 0, 0, 0.3));\n",
              "      fill: #FFFFFF;\n",
              "    }\n",
              "  </style>\n",
              "\n",
              "      <script>\n",
              "        const buttonEl =\n",
              "          document.querySelector('#df-7dc8a622-0723-467c-be22-5b7badc53b7d button.colab-df-convert');\n",
              "        buttonEl.style.display =\n",
              "          google.colab.kernel.accessAllowed ? 'block' : 'none';\n",
              "\n",
              "        async function convertToInteractive(key) {\n",
              "          const element = document.querySelector('#df-7dc8a622-0723-467c-be22-5b7badc53b7d');\n",
              "          const dataTable =\n",
              "            await google.colab.kernel.invokeFunction('convertToInteractive',\n",
              "                                                     [key], {});\n",
              "          if (!dataTable) return;\n",
              "\n",
              "          const docLinkHtml = 'Like what you see? Visit the ' +\n",
              "            '<a target=\"_blank\" href=https://colab.research.google.com/notebooks/data_table.ipynb>data table notebook</a>'\n",
              "            + ' to learn more about interactive tables.';\n",
              "          element.innerHTML = '';\n",
              "          dataTable['output_type'] = 'display_data';\n",
              "          await google.colab.output.renderOutput(dataTable, element);\n",
              "          const docLink = document.createElement('div');\n",
              "          docLink.innerHTML = docLinkHtml;\n",
              "          element.appendChild(docLink);\n",
              "        }\n",
              "      </script>\n",
              "    </div>\n",
              "  </div>\n",
              "  "
            ]
          },
          "metadata": {},
          "execution_count": 12
        }
      ]
    },
    {
      "cell_type": "code",
      "source": [
        "#Identificamos los outliers de tip amount\n",
        "sns.boxplot(x=df[\"tip_amount\"])"
      ],
      "metadata": {
        "colab": {
          "base_uri": "https://localhost:8080/",
          "height": 298
        },
        "id": "FO9Ebxo47Gyy",
        "outputId": "53616c89-b605-4e19-9622-df6d04a325f0"
      },
      "execution_count": 13,
      "outputs": [
        {
          "output_type": "execute_result",
          "data": {
            "text/plain": [
              "<Axes: xlabel='tip_amount'>"
            ]
          },
          "metadata": {},
          "execution_count": 13
        },
        {
          "output_type": "display_data",
          "data": {
            "text/plain": [
              "<Figure size 432x288 with 1 Axes>"
            ],
            "image/png": "[encoded data removed]"
          },
          "metadata": {
            "needs_background": "light"
          }
        }
      ]
    },
    {
      "cell_type": "code",
      "source": [
        "top_tip_amount= np.percentile(df[\"tip_amount\"], 99) * 1.2\n",
        "top_tip_amount"
      ],
      "metadata": {
        "colab": {
          "base_uri": "https://localhost:8080/"
        },
        "id": "8PLtOUmb7Yps",
        "outputId": "2681f805-cb7a-4df4-9e5a-bc5b30affc6c"
      },
      "execution_count": 15,
      "outputs": [
        {
          "output_type": "execute_result",
          "data": {
            "text/plain": [
              "14.004"
            ]
          },
          "metadata": {},
          "execution_count": 15
        }
      ]
    },
    {
      "cell_type": "code",
      "source": [
        "#filtramos el dataset por propina mayor a cero y menor a al percentil 99."
      ],
      "metadata": {
        "id": "5uAZAgGY74Cy"
      },
      "execution_count": null,
      "outputs": []
    },
    {
      "cell_type": "code",
      "source": [
        "df = df[(df['tip_amount'] < top_tip_amount ) & (df['tip_amount'] >= 0) ]\n",
        "\n",
        "#Identificamos los outliers de tip amount una vez aplicado el filtro\n",
        "sns.boxplot(x=df[\"tip_amount\"])"
      ],
      "metadata": {
        "colab": {
          "base_uri": "https://localhost:8080/",
          "height": 298
        },
        "id": "PWd4nQSf77dK",
        "outputId": "543452e5-c428-4022-e0e0-51fb0b188c85"
      },
      "execution_count": 18,
      "outputs": [
        {
          "output_type": "execute_result",
          "data": {
            "text/plain": [
              "<Axes: xlabel='tip_amount'>"
            ]
          },
          "metadata": {},
          "execution_count": 18
        },
        {
          "output_type": "display_data",
          "data": {
            "text/plain": [
              "<Figure size 432x288 with 1 Axes>"
            ],
            "image/png": "[encoded data removed]"
          },
          "metadata": {
            "needs_background": "light"
          }
        }
      ]
    },
    {
      "cell_type": "code",
      "source": [
        "# Revisamos los outliers de la distancia \n",
        "sns.boxplot(x=df[\"trip_distance\"])"
      ],
      "metadata": {
        "colab": {
          "base_uri": "https://localhost:8080/",
          "height": 298
        },
        "id": "qKlNLRtM8dUK",
        "outputId": "1bfb60fb-87cf-4479-b848-43a01505a929"
      },
      "execution_count": 19,
      "outputs": [
        {
          "output_type": "execute_result",
          "data": {
            "text/plain": [
              "<Axes: xlabel='trip_distance'>"
            ]
          },
          "metadata": {},
          "execution_count": 19
        },
        {
          "output_type": "display_data",
          "data": {
            "text/plain": [
              "<Figure size 432x288 with 1 Axes>"
            ],
            "image/png": "[encoded data removed]"
          },
          "metadata": {
            "needs_background": "light"
          }
        }
      ]
    },
    {
      "cell_type": "code",
      "source": [
        "# Vemos cual es la maxima distancia recorrida\n",
        "top_distance =  np.percentile(df[\"trip_distance\"],99) * 1.2\n",
        "top_distance"
      ],
      "metadata": {
        "colab": {
          "base_uri": "https://localhost:8080/"
        },
        "id": "HAV3Mu3a8nNy",
        "outputId": "76e85e0d-ded0-42d6-8c67-ca24177a471d"
      },
      "execution_count": 21,
      "outputs": [
        {
          "output_type": "execute_result",
          "data": {
            "text/plain": [
              "22.088280000000026"
            ]
          },
          "metadata": {},
          "execution_count": 21
        }
      ]
    },
    {
      "cell_type": "code",
      "source": [
        "#filtramos los datos con trip distance mayores a cero y menor a variable_percentil_99\n",
        "df = df[(df['trip_distance'] < top_distance) & (df['trip_distance'] > 0) ]"
      ],
      "metadata": {
        "id": "Xp8TGniQ8uQt"
      },
      "execution_count": 22,
      "outputs": []
    },
    {
      "cell_type": "code",
      "source": [
        "#calculamos una columna nueva que sea el tiempo de viaje\n",
        "df[\"trip_time\"] = df[\"tpep_dropoff_datetime\"] - df[\"tpep_pickup_datetime\"]"
      ],
      "metadata": {
        "id": "X9JDIKJl87gK"
      },
      "execution_count": 23,
      "outputs": []
    },
    {
      "cell_type": "code",
      "source": [
        "#filtramos por tiempo de viaje mayor a cero y menor a variable_parcentil_99 hs (porque el percentil 95 indica 1946 segundos)\n",
        "top_time = np.percentile(df['trip_time'].astype('timedelta64[s]'),99) * 1.2\n",
        "\n",
        "df = df[(df['trip_time'].dt.total_seconds() > 0) & (df['trip_time'].dt.total_seconds() < top_time) ]"
      ],
      "metadata": {
        "id": "TXAaJ7RX9Dvt"
      },
      "execution_count": 25,
      "outputs": []
    },
    {
      "cell_type": "code",
      "source": [
        "#Revisamos si persiste algun outliers en el tiempo de viaje en minutos \n",
        "sns.boxplot(x=df['trip_time'].astype('timedelta64[m]'))"
      ],
      "metadata": {
        "colab": {
          "base_uri": "https://localhost:8080/",
          "height": 298
        },
        "id": "RyY8v-Q49SvD",
        "outputId": "018e9446-45ae-4bb3-97b9-a07f5c27ea4d"
      },
      "execution_count": 26,
      "outputs": [
        {
          "output_type": "execute_result",
          "data": {
            "text/plain": [
              "<Axes: xlabel='trip_time'>"
            ]
          },
          "metadata": {},
          "execution_count": 26
        },
        {
          "output_type": "display_data",
          "data": {
            "text/plain": [
              "<Figure size 432x288 with 1 Axes>"
            ],
            "image/png": "[encoded data removed]"
          },
          "metadata": {
            "needs_background": "light"
          }
        }
      ]
    },
    {
      "cell_type": "code",
      "source": [
        "# Revisamos algun outliers en el monto total de la tarifa\n",
        "sns.boxplot(x=df['total_amount'])"
      ],
      "metadata": {
        "colab": {
          "base_uri": "https://localhost:8080/",
          "height": 298
        },
        "id": "y0fL4pg-9ebi",
        "outputId": "6d8e24bc-bc79-4a20-d1d0-3cb9c8aba1b4"
      },
      "execution_count": 27,
      "outputs": [
        {
          "output_type": "execute_result",
          "data": {
            "text/plain": [
              "<Axes: xlabel='total_amount'>"
            ]
          },
          "metadata": {},
          "execution_count": 27
        },
        {
          "output_type": "display_data",
          "data": {
            "text/plain": [
              "<Figure size 432x288 with 1 Axes>"
            ],
            "image/png": "[encoded data removed]"
          },
          "metadata": {
            "needs_background": "light"
          }
        }
      ]
    },
    {
      "cell_type": "code",
      "source": [
        "#Revisamos el monto maximo de pago de tarifa\n",
        "top_amount = np.percentile(df['total_amount'],99) *1.20"
      ],
      "metadata": {
        "id": "EHYeXbhk9r-c"
      },
      "execution_count": 28,
      "outputs": []
    },
    {
      "cell_type": "code",
      "source": [
        "#filtramos los datos por total_amount mayor a cero y menor a variable_percentil_99 dolares\n",
        "df = df[(df['total_amount'] < top_amount) & (df['total_amount'] > 0) ]\n",
        "\n",
        "# Revisamos algun outliers en el monto total de la tarifa\n",
        "sns.boxplot(x=df['total_amount'])"
      ],
      "metadata": {
        "colab": {
          "base_uri": "https://localhost:8080/",
          "height": 298
        },
        "id": "Rhs7rxKS90n6",
        "outputId": "0cf25fbf-de37-416c-b798-320ab39d9f79"
      },
      "execution_count": 30,
      "outputs": [
        {
          "output_type": "execute_result",
          "data": {
            "text/plain": [
              "<Axes: xlabel='total_amount'>"
            ]
          },
          "metadata": {},
          "execution_count": 30
        },
        {
          "output_type": "display_data",
          "data": {
            "text/plain": [
              "<Figure size 432x288 with 1 Axes>"
            ],
            "image/png": "[encoded data removed]"
          },
          "metadata": {
            "needs_background": "light"
          }
        }
      ]
    },
    {
      "cell_type": "code",
      "source": [
        "#Ahora obtenemos las estadisticas basicas\n",
        "df[[\"trip_distance\", \"tip_amount\",\"total_amount\",\"trip_time\"]].agg([\"min\", \"max\",\"mean\",\"std\", \"median\"])"
      ],
      "metadata": {
        "colab": {
          "base_uri": "https://localhost:8080/",
          "height": 206
        },
        "id": "QuIC6Lfd97c7",
        "outputId": "61400d7f-5e76-4dcc-a243-033b161c35d8"
      },
      "execution_count": 31,
      "outputs": [
        {
          "output_type": "execute_result",
          "data": {
            "text/plain": [
              "        trip_distance  tip_amount  total_amount                 trip_time\n",
              "min          0.010000    0.000000      0.300000           0 days 00:00:01\n",
              "max         22.060000   14.000000     78.350000           0 days 01:12:11\n",
              "mean         2.896416    1.746800     15.967176 0 days 00:14:25.850262240\n",
              "std          3.330103    2.157995     11.838482 0 days 00:10:44.938486708\n",
              "median       1.700000    1.320000     12.300000           0 days 00:11:31"
            ],
            "text/html": [
              "\n",
              "  <div id=\"df-8b593d54-fb9b-42dd-872f-3de3d7e9e900\">\n",
              "    <div class=\"colab-df-container\">\n",
              "      <div>\n",
              "<style scoped>\n",
              "    .dataframe tbody tr th:only-of-type {\n",
              "        vertical-align: middle;\n",
              "    }\n",
              "\n",
              "    .dataframe tbody tr th {\n",
              "        vertical-align: top;\n",
              "    }\n",
              "\n",
              "    .dataframe thead th {\n",
              "        text-align: right;\n",
              "    }\n",
              "</style>\n",
              "<table border=\"1\" class=\"dataframe\">\n",
              "  <thead>\n",
              "    <tr style=\"text-align: right;\">\n",
              "      <th></th>\n",
              "      <th>trip_distance</th>\n",
              "      <th>tip_amount</th>\n",
              "      <th>total_amount</th>\n",
              "      <th>trip_time</th>\n",
              "    </tr>\n",
              "  </thead>\n",
              "  <tbody>\n",
              "    <tr>\n",
              "      <th>min</th>\n",
              "      <td>0.010000</td>\n",
              "      <td>0.000000</td>\n",
              "      <td>0.300000</td>\n",
              "      <td>0 days 00:00:01</td>\n",
              "    </tr>\n",
              "    <tr>\n",
              "      <th>max</th>\n",
              "      <td>22.060000</td>\n",
              "      <td>14.000000</td>\n",
              "      <td>78.350000</td>\n",
              "      <td>0 days 01:12:11</td>\n",
              "    </tr>\n",
              "    <tr>\n",
              "      <th>mean</th>\n",
              "      <td>2.896416</td>\n",
              "      <td>1.746800</td>\n",
              "      <td>15.967176</td>\n",
              "      <td>0 days 00:14:25.850262240</td>\n",
              "    </tr>\n",
              "    <tr>\n",
              "      <th>std</th>\n",
              "      <td>3.330103</td>\n",
              "      <td>2.157995</td>\n",
              "      <td>11.838482</td>\n",
              "      <td>0 days 00:10:44.938486708</td>\n",
              "    </tr>\n",
              "    <tr>\n",
              "      <th>median</th>\n",
              "      <td>1.700000</td>\n",
              "      <td>1.320000</td>\n",
              "      <td>12.300000</td>\n",
              "      <td>0 days 00:11:31</td>\n",
              "    </tr>\n",
              "  </tbody>\n",
              "</table>\n",
              "</div>\n",
              "      <button class=\"colab-df-convert\" onclick=\"convertToInteractive('df-8b593d54-fb9b-42dd-872f-3de3d7e9e900')\"\n",
              "              title=\"Convert this dataframe to an interactive table.\"\n",
              "              style=\"display:none;\">\n",
              "        \n",
              "  <svg xmlns=\"http://www.w3.org/2000/svg\" height=\"24px\"viewBox=\"0 0 24 24\"\n",
              "       width=\"24px\">\n",
              "    <path d=\"M0 0h24v24H0V0z\" fill=\"none\"/>\n",
              "    <path d=\"M18.56 5.44l.94 2.06.94-2.06 2.06-.94-2.06-.94-.94-2.06-.94 2.06-2.06.94zm-11 1L8.5 8.5l.94-2.06 2.06-.94-2.06-.94L8.5 2.5l-.94 2.06-2.06.94zm10 10l.94 2.06.94-2.06 2.06-.94-2.06-.94-.94-2.06-.94 2.06-2.06.94z\"/><path d=\"M17.41 7.96l-1.37-1.37c-.4-.4-.92-.59-1.43-.59-.52 0-1.04.2-1.43.59L10.3 9.45l-7.72 7.72c-.78.78-.78 2.05 0 2.83L4 21.41c.39.39.9.59 1.41.59.51 0 1.02-.2 1.41-.59l7.78-7.78 2.81-2.81c.8-.78.8-2.07 0-2.86zM5.41 20L4 18.59l7.72-7.72 1.47 1.35L5.41 20z\"/>\n",
              "  </svg>\n",
              "      </button>\n",
              "      \n",
              "  <style>\n",
              "    .colab-df-container {\n",
              "      display:flex;\n",
              "      flex-wrap:wrap;\n",
              "      gap: 12px;\n",
              "    }\n",
              "\n",
              "    .colab-df-convert {\n",
              "      background-color: #E8F0FE;\n",
              "      border: none;\n",
              "      border-radius: 50%;\n",
              "      cursor: pointer;\n",
              "      display: none;\n",
              "      fill: #1967D2;\n",
              "      height: 32px;\n",
              "      padding: 0 0 0 0;\n",
              "      width: 32px;\n",
              "    }\n",
              "\n",
              "    .colab-df-convert:hover {\n",
              "      background-color: #E2EBFA;\n",
              "      box-shadow: 0px 1px 2px rgba(60, 64, 67, 0.3), 0px 1px 3px 1px rgba(60, 64, 67, 0.15);\n",
              "      fill: #174EA6;\n",
              "    }\n",
              "\n",
              "    [theme=dark] .colab-df-convert {\n",
              "      background-color: #3B4455;\n",
              "      fill: #D2E3FC;\n",
              "    }\n",
              "\n",
              "    [theme=dark] .colab-df-convert:hover {\n",
              "      background-color: #434B5C;\n",
              "      box-shadow: 0px 1px 3px 1px rgba(0, 0, 0, 0.15);\n",
              "      filter: drop-shadow(0px 1px 2px rgba(0, 0, 0, 0.3));\n",
              "      fill: #FFFFFF;\n",
              "    }\n",
              "  </style>\n",
              "\n",
              "      <script>\n",
              "        const buttonEl =\n",
              "          document.querySelector('#df-8b593d54-fb9b-42dd-872f-3de3d7e9e900 button.colab-df-convert');\n",
              "        buttonEl.style.display =\n",
              "          google.colab.kernel.accessAllowed ? 'block' : 'none';\n",
              "\n",
              "        async function convertToInteractive(key) {\n",
              "          const element = document.querySelector('#df-8b593d54-fb9b-42dd-872f-3de3d7e9e900');\n",
              "          const dataTable =\n",
              "            await google.colab.kernel.invokeFunction('convertToInteractive',\n",
              "                                                     [key], {});\n",
              "          if (!dataTable) return;\n",
              "\n",
              "          const docLinkHtml = 'Like what you see? Visit the ' +\n",
              "            '<a target=\"_blank\" href=https://colab.research.google.com/notebooks/data_table.ipynb>data table notebook</a>'\n",
              "            + ' to learn more about interactive tables.';\n",
              "          element.innerHTML = '';\n",
              "          dataTable['output_type'] = 'display_data';\n",
              "          await google.colab.output.renderOutput(dataTable, element);\n",
              "          const docLink = document.createElement('div');\n",
              "          docLink.innerHTML = docLinkHtml;\n",
              "          element.appendChild(docLink);\n",
              "        }\n",
              "      </script>\n",
              "    </div>\n",
              "  </div>\n",
              "  "
            ]
          },
          "metadata": {},
          "execution_count": 31
        }
      ]
    },
    {
      "cell_type": "code",
      "source": [
        "#Distribución  de la distancia recorrida de viaje.\n",
        "plt.hist(df['trip_distance'], bins=50)\n",
        "plt.xlabel('Trip Distance')\n",
        "plt.ylabel('Frequency')\n",
        "plt.title('Histogram of Trip Distances')\n",
        "plt.show()"
      ],
      "metadata": {
        "colab": {
          "base_uri": "https://localhost:8080/",
          "height": 295
        },
        "id": "iMpShI1A-lHb",
        "outputId": "b2076b6b-422e-427a-83e1-7f6debdd4b7c"
      },
      "execution_count": 32,
      "outputs": [
        {
          "output_type": "display_data",
          "data": {
            "text/plain": [
              "<Figure size 432x288 with 1 Axes>"
            ],
            "image/png": "[encoded data removed]"
          },
          "metadata": {
            "needs_background": "light"
          }
        }
      ]
    },
    {
      "cell_type": "code",
      "source": [
        "#Distribucion de la cantidad de pasajeros respecto al monto de la tarifa\n",
        "sns.boxplot(x='passenger_count', y='fare_amount', data=df)\n",
        "plt.xlabel('Passenger Count')\n",
        "plt.ylabel('Fare Amount')\n",
        "plt.title('Boxplot of Passenger Counts')\n",
        "plt.show()"
      ],
      "metadata": {
        "colab": {
          "base_uri": "https://localhost:8080/",
          "height": 295
        },
        "id": "fTSM-mh4_gg7",
        "outputId": "3eaed1bd-e4ec-45d6-db31-a735996decea"
      },
      "execution_count": 33,
      "outputs": [
        {
          "output_type": "display_data",
          "data": {
            "text/plain": [
              "<Figure size 432x288 with 1 Axes>"
            ],
            "image/png": "[encoded data removed]"
          },
          "metadata": {
            "needs_background": "light"
          }
        }
      ]
    },
    {
      "cell_type": "code",
      "source": [
        "# Encontrar el numero máximo de pasajeros\n",
        "max_passengers = df['passenger_count'].max()\n",
        "max_passengers"
      ],
      "metadata": {
        "colab": {
          "base_uri": "https://localhost:8080/"
        },
        "id": "7gkBNjzZAIVl",
        "outputId": "7fc99dde-479c-464d-b3fd-37c42f9f95c0"
      },
      "execution_count": 35,
      "outputs": [
        {
          "output_type": "execute_result",
          "data": {
            "text/plain": [
              "6"
            ]
          },
          "metadata": {},
          "execution_count": 35
        }
      ]
    },
    {
      "cell_type": "code",
      "source": [
        "# Filtramos la base para quedarnos con los pasajeros entre 1 y 6. \n",
        "df= df[(df['passenger_count'] > 1) & (df['passenger_count'] <= 6)]"
      ],
      "metadata": {
        "id": "Ho9wfxpKAQ5r"
      },
      "execution_count": 36,
      "outputs": []
    },
    {
      "cell_type": "code",
      "source": [
        "#Distribucion de la propina respecto a la cantidad de pasajeros\n",
        "sns.boxplot(x='passenger_count', y='tip_amount', data=df)\n",
        "plt.xlabel('Passenger Count')\n",
        "plt.ylabel('Tip Amount')\n",
        "plt.title('Boxplot of Passenger Counts')\n",
        "plt.show()"
      ],
      "metadata": {
        "colab": {
          "base_uri": "https://localhost:8080/",
          "height": 295
        },
        "id": "Y2TMK-vrCTZ_",
        "outputId": "fd1968b2-2676-4cb0-cf7a-c59cc803d019"
      },
      "execution_count": 40,
      "outputs": [
        {
          "output_type": "display_data",
          "data": {
            "text/plain": [
              "<Figure size 432x288 with 1 Axes>"
            ],
            "image/png": "[encoded data removed]"
          },
          "metadata": {
            "needs_background": "light"
          }
        }
      ]
    },
    {
      "cell_type": "code",
      "source": [
        "#Distribución  de la distancia recorrida de viaje.\n",
        "plt.hist(df['trip_distance'], bins=50)\n",
        "plt.xlabel('Trip Distance')\n",
        "plt.ylabel('Frequency')\n",
        "plt.title('Histogram of Trip Distances')\n",
        "plt.show()"
      ],
      "metadata": {
        "colab": {
          "base_uri": "https://localhost:8080/",
          "height": 295
        },
        "id": "T5lNHaq2AvNr",
        "outputId": "fb76832d-cb66-42e9-a7ea-581c56d843a8"
      },
      "execution_count": 37,
      "outputs": [
        {
          "output_type": "display_data",
          "data": {
            "text/plain": [
              "<Figure size 432x288 with 1 Axes>"
            ],
            "image/png": "[encoded data removed]"
          },
          "metadata": {
            "needs_background": "light"
          }
        }
      ]
    },
    {
      "cell_type": "code",
      "source": [
        "#Relacion entre la distacia del vaije y el monto de la tarifa\n",
        "sns.scatterplot(x='trip_distance', y='fare_amount', data=df)\n",
        "plt.xlabel('Trip Distance')\n",
        "plt.ylabel('Fare Amount')\n",
        "plt.title('Scatter Plot of Trip Distance vs Fare Amount')\n",
        "plt.show()\n"
      ],
      "metadata": {
        "colab": {
          "base_uri": "https://localhost:8080/",
          "height": 295
        },
        "id": "0qgidpJKBLgT",
        "outputId": "82c87e6b-0dde-4fd5-8e05-730c3d0ab03f"
      },
      "execution_count": 38,
      "outputs": [
        {
          "output_type": "display_data",
          "data": {
            "text/plain": [
              "<Figure size 432x288 with 1 Axes>"
            ],
            "image/png": "[encoded data removed]"
          },
          "metadata": {
            "needs_background": "light"
          }
        }
      ]
    },
    {
      "cell_type": "code",
      "source": [
        "#Relacion entre la distacia del vaije y la propina del viaje\n",
        "sns.scatterplot(x='trip_distance', y='tip_amount', data=df)\n",
        "plt.xlabel('Trip Distance')\n",
        "plt.ylabel('Tip Amount')\n",
        "plt.title('Scatter Plot of Trip Distance vs Tip Amount')\n",
        "plt.show()"
      ],
      "metadata": {
        "colab": {
          "base_uri": "https://localhost:8080/",
          "height": 295
        },
        "id": "SW3hK9O3BoM7",
        "outputId": "bbbdc404-c4ab-4bec-b5f6-c47d5dad6c20"
      },
      "execution_count": 39,
      "outputs": [
        {
          "output_type": "display_data",
          "data": {
            "text/plain": [
              "<Figure size 432x288 with 1 Axes>"
            ],
            "image/png": "[encoded data removed]"
          },
          "metadata": {
            "needs_background": "light"
          }
        }
      ]
    },
    {
      "cell_type": "code",
      "source": [
        "df['trip_time']=pd.to_numeric(df['trip_time'])"
      ],
      "metadata": {
        "id": "vsCkS9oREmRb"
      },
      "execution_count": 48,
      "outputs": []
    },
    {
      "cell_type": "code",
      "source": [
        "#Relacion entre la tiempo del vaije y la propina del viaje\n",
        "sns.scatterplot(x='trip_time', y='tip_amount', data=df)\n",
        "plt.xlabel('Trip Time')\n",
        "plt.ylabel('Tip Amount')\n",
        "plt.title('Scatter Plot of Trip Distance vs Tip Amount')\n",
        "plt.show()"
      ],
      "metadata": {
        "colab": {
          "base_uri": "https://localhost:8080/",
          "height": 295
        },
        "id": "LphlRVE-EGpN",
        "outputId": "671bae1a-6bd4-413a-bf23-77fb6458c475"
      },
      "execution_count": 49,
      "outputs": [
        {
          "output_type": "display_data",
          "data": {
            "text/plain": [
              "<Figure size 432x288 with 1 Axes>"
            ],
            "image/png": "[encoded data removed]"
          },
          "metadata": {
            "needs_background": "light"
          }
        }
      ]
    },
    {
      "cell_type": "code",
      "source": [
        "#Grafico para comparar la frecuencia de los tipos de pagos\n",
        "\n",
        "sns.countplot(x='payment_type', data=df)\n",
        "plt.xlabel('Payment Type')\n",
        "plt.ylabel('Frequency')\n",
        "plt.title('Bar Plot of Payment Types')\n",
        "plt.show()"
      ],
      "metadata": {
        "colab": {
          "base_uri": "https://localhost:8080/",
          "height": 295
        },
        "id": "fqp-1hJ9DNld",
        "outputId": "964591b7-5c1c-48e7-f507-03bc1328f8c9"
      },
      "execution_count": 41,
      "outputs": [
        {
          "output_type": "display_data",
          "data": {
            "text/plain": [
              "<Figure size 432x288 with 1 Axes>"
            ],
            "image/png": "[encoded data removed]"
          },
          "metadata": {
            "needs_background": "light"
          }
        }
      ]
    },
    {
      "cell_type": "code",
      "source": [
        "# Que tipo de pago recibe mas propina\n",
        "sns.boxplot(x='payment_type', y='tip_amount', data=df)\n",
        "plt.xlabel('Payment Type')\n",
        "plt.ylabel('Tip Amount')\n",
        "plt.title('Box Plot of Payment Types vs Tip Amounts')\n",
        "plt.show()"
      ],
      "metadata": {
        "colab": {
          "base_uri": "https://localhost:8080/",
          "height": 295
        },
        "id": "DME39isaDnBD",
        "outputId": "38f5d5a4-a5c0-4f32-ac4a-e79caafa2f3f"
      },
      "execution_count": 42,
      "outputs": [
        {
          "output_type": "display_data",
          "data": {
            "text/plain": [
              "<Figure size 432x288 with 1 Axes>"
            ],
            "image/png": "[encoded data removed]"
          },
          "metadata": {
            "needs_background": "light"
          }
        }
      ]
    },
    {
      "cell_type": "code",
      "source": [
        "df.head(3)"
      ],
      "metadata": {
        "colab": {
          "base_uri": "https://localhost:8080/",
          "height": 207
        },
        "id": "1gZ3crnoGxHF",
        "outputId": "464b0968-8749-43aa-da70-fddd42108d4a"
      },
      "execution_count": 51,
      "outputs": [
        {
          "output_type": "execute_result",
          "data": {
            "text/plain": [
              "         VendorID tpep_pickup_datetime tpep_dropoff_datetime  passenger_count  \\\n",
              "5973883         2  2016-06-16 20:07:44   2016-06-16 20:24:48                2   \n",
              "2680778         2  2016-06-08 00:40:36   2016-06-08 00:45:27                2   \n",
              "2882958         2  2016-06-08 15:24:19   2016-06-08 15:44:49                5   \n",
              "\n",
              "         trip_distance  RatecodeID store_and_fwd_flag  PULocationID  \\\n",
              "5973883           3.93           1                  N            79   \n",
              "2680778           1.57           1                  N           162   \n",
              "2882958           2.16           1                  N           211   \n",
              "\n",
              "         DOLocationID  payment_type  fare_amount  extra  mta_tax  tip_amount  \\\n",
              "5973883           263             2         15.0    0.5      0.5        0.00   \n",
              "2680778           107             1          6.5    0.5      0.5        1.00   \n",
              "2882958           246             1         14.0    0.0      0.5        2.96   \n",
              "\n",
              "         tolls_amount  improvement_surcharge  total_amount  \\\n",
              "5973883           0.0                    0.3         16.30   \n",
              "2680778           0.0                    0.3          8.80   \n",
              "2882958           0.0                    0.3         17.76   \n",
              "\n",
              "        congestion_surcharge airport_fee      trip_time  \n",
              "5973883                 None        None  1024000000000  \n",
              "2680778                 None        None   291000000000  \n",
              "2882958                 None        None  1230000000000  "
            ],
            "text/html": [
              "\n",
              "  <div id=\"df-3d0e1f62-c8a0-4029-ba1e-89d537b58f85\">\n",
              "    <div class=\"colab-df-container\">\n",
              "      <div>\n",
              "<style scoped>\n",
              "    .dataframe tbody tr th:only-of-type {\n",
              "        vertical-align: middle;\n",
              "    }\n",
              "\n",
              "    .dataframe tbody tr th {\n",
              "        vertical-align: top;\n",
              "    }\n",
              "\n",
              "    .dataframe thead th {\n",
              "        text-align: right;\n",
              "    }\n",
              "</style>\n",
              "<table border=\"1\" class=\"dataframe\">\n",
              "  <thead>\n",
              "    <tr style=\"text-align: right;\">\n",
              "      <th></th>\n",
              "      <th>VendorID</th>\n",
              "      <th>tpep_pickup_datetime</th>\n",
              "      <th>tpep_dropoff_datetime</th>\n",
              "      <th>passenger_count</th>\n",
              "      <th>trip_distance</th>\n",
              "      <th>RatecodeID</th>\n",
              "      <th>store_and_fwd_flag</th>\n",
              "      <th>PULocationID</th>\n",
              "      <th>DOLocationID</th>\n",
              "      <th>payment_type</th>\n",
              "      <th>fare_amount</th>\n",
              "      <th>extra</th>\n",
              "      <th>mta_tax</th>\n",
              "      <th>tip_amount</th>\n",
              "      <th>tolls_amount</th>\n",
              "      <th>improvement_surcharge</th>\n",
              "      <th>total_amount</th>\n",
              "      <th>congestion_surcharge</th>\n",
              "      <th>airport_fee</th>\n",
              "      <th>trip_time</th>\n",
              "    </tr>\n",
              "  </thead>\n",
              "  <tbody>\n",
              "    <tr>\n",
              "      <th>5973883</th>\n",
              "      <td>2</td>\n",
              "      <td>2016-06-16 20:07:44</td>\n",
              "      <td>2016-06-16 20:24:48</td>\n",
              "      <td>2</td>\n",
              "      <td>3.93</td>\n",
              "      <td>1</td>\n",
              "      <td>N</td>\n",
              "      <td>79</td>\n",
              "      <td>263</td>\n",
              "      <td>2</td>\n",
              "      <td>15.0</td>\n",
              "      <td>0.5</td>\n",
              "      <td>0.5</td>\n",
              "      <td>0.00</td>\n",
              "      <td>0.0</td>\n",
              "      <td>0.3</td>\n",
              "      <td>16.30</td>\n",
              "      <td>None</td>\n",
              "      <td>None</td>\n",
              "      <td>1024000000000</td>\n",
              "    </tr>\n",
              "    <tr>\n",
              "      <th>2680778</th>\n",
              "      <td>2</td>\n",
              "      <td>2016-06-08 00:40:36</td>\n",
              "      <td>2016-06-08 00:45:27</td>\n",
              "      <td>2</td>\n",
              "      <td>1.57</td>\n",
              "      <td>1</td>\n",
              "      <td>N</td>\n",
              "      <td>162</td>\n",
              "      <td>107</td>\n",
              "      <td>1</td>\n",
              "      <td>6.5</td>\n",
              "      <td>0.5</td>\n",
              "      <td>0.5</td>\n",
              "      <td>1.00</td>\n",
              "      <td>0.0</td>\n",
              "      <td>0.3</td>\n",
              "      <td>8.80</td>\n",
              "      <td>None</td>\n",
              "      <td>None</td>\n",
              "      <td>291000000000</td>\n",
              "    </tr>\n",
              "    <tr>\n",
              "      <th>2882958</th>\n",
              "      <td>2</td>\n",
              "      <td>2016-06-08 15:24:19</td>\n",
              "      <td>2016-06-08 15:44:49</td>\n",
              "      <td>5</td>\n",
              "      <td>2.16</td>\n",
              "      <td>1</td>\n",
              "      <td>N</td>\n",
              "      <td>211</td>\n",
              "      <td>246</td>\n",
              "      <td>1</td>\n",
              "      <td>14.0</td>\n",
              "      <td>0.0</td>\n",
              "      <td>0.5</td>\n",
              "      <td>2.96</td>\n",
              "      <td>0.0</td>\n",
              "      <td>0.3</td>\n",
              "      <td>17.76</td>\n",
              "      <td>None</td>\n",
              "      <td>None</td>\n",
              "      <td>1230000000000</td>\n",
              "    </tr>\n",
              "  </tbody>\n",
              "</table>\n",
              "</div>\n",
              "      <button class=\"colab-df-convert\" onclick=\"convertToInteractive('df-3d0e1f62-c8a0-4029-ba1e-89d537b58f85')\"\n",
              "              title=\"Convert this dataframe to an interactive table.\"\n",
              "              style=\"display:none;\">\n",
              "        \n",
              "  <svg xmlns=\"http://www.w3.org/2000/svg\" height=\"24px\"viewBox=\"0 0 24 24\"\n",
              "       width=\"24px\">\n",
              "    <path d=\"M0 0h24v24H0V0z\" fill=\"none\"/>\n",
              "    <path d=\"M18.56 5.44l.94 2.06.94-2.06 2.06-.94-2.06-.94-.94-2.06-.94 2.06-2.06.94zm-11 1L8.5 8.5l.94-2.06 2.06-.94-2.06-.94L8.5 2.5l-.94 2.06-2.06.94zm10 10l.94 2.06.94-2.06 2.06-.94-2.06-.94-.94-2.06-.94 2.06-2.06.94z\"/><path d=\"M17.41 7.96l-1.37-1.37c-.4-.4-.92-.59-1.43-.59-.52 0-1.04.2-1.43.59L10.3 9.45l-7.72 7.72c-.78.78-.78 2.05 0 2.83L4 21.41c.39.39.9.59 1.41.59.51 0 1.02-.2 1.41-.59l7.78-7.78 2.81-2.81c.8-.78.8-2.07 0-2.86zM5.41 20L4 18.59l7.72-7.72 1.47 1.35L5.41 20z\"/>\n",
              "  </svg>\n",
              "      </button>\n",
              "      \n",
              "  <style>\n",
              "    .colab-df-container {\n",
              "      display:flex;\n",
              "      flex-wrap:wrap;\n",
              "      gap: 12px;\n",
              "    }\n",
              "\n",
              "    .colab-df-convert {\n",
              "      background-color: #E8F0FE;\n",
              "      border: none;\n",
              "      border-radius: 50%;\n",
              "      cursor: pointer;\n",
              "      display: none;\n",
              "      fill: #1967D2;\n",
              "      height: 32px;\n",
              "      padding: 0 0 0 0;\n",
              "      width: 32px;\n",
              "    }\n",
              "\n",
              "    .colab-df-convert:hover {\n",
              "      background-color: #E2EBFA;\n",
              "      box-shadow: 0px 1px 2px rgba(60, 64, 67, 0.3), 0px 1px 3px 1px rgba(60, 64, 67, 0.15);\n",
              "      fill: #174EA6;\n",
              "    }\n",
              "\n",
              "    [theme=dark] .colab-df-convert {\n",
              "      background-color: #3B4455;\n",
              "      fill: #D2E3FC;\n",
              "    }\n",
              "\n",
              "    [theme=dark] .colab-df-convert:hover {\n",
              "      background-color: #434B5C;\n",
              "      box-shadow: 0px 1px 3px 1px rgba(0, 0, 0, 0.15);\n",
              "      filter: drop-shadow(0px 1px 2px rgba(0, 0, 0, 0.3));\n",
              "      fill: #FFFFFF;\n",
              "    }\n",
              "  </style>\n",
              "\n",
              "      <script>\n",
              "        const buttonEl =\n",
              "          document.querySelector('#df-3d0e1f62-c8a0-4029-ba1e-89d537b58f85 button.colab-df-convert');\n",
              "        buttonEl.style.display =\n",
              "          google.colab.kernel.accessAllowed ? 'block' : 'none';\n",
              "\n",
              "        async function convertToInteractive(key) {\n",
              "          const element = document.querySelector('#df-3d0e1f62-c8a0-4029-ba1e-89d537b58f85');\n",
              "          const dataTable =\n",
              "            await google.colab.kernel.invokeFunction('convertToInteractive',\n",
              "                                                     [key], {});\n",
              "          if (!dataTable) return;\n",
              "\n",
              "          const docLinkHtml = 'Like what you see? Visit the ' +\n",
              "            '<a target=\"_blank\" href=https://colab.research.google.com/notebooks/data_table.ipynb>data table notebook</a>'\n",
              "            + ' to learn more about interactive tables.';\n",
              "          element.innerHTML = '';\n",
              "          dataTable['output_type'] = 'display_data';\n",
              "          await google.colab.output.renderOutput(dataTable, element);\n",
              "          const docLink = document.createElement('div');\n",
              "          docLink.innerHTML = docLinkHtml;\n",
              "          element.appendChild(docLink);\n",
              "        }\n",
              "      </script>\n",
              "    </div>\n",
              "  </div>\n",
              "  "
            ]
          },
          "metadata": {},
          "execution_count": 51
        }
      ]
    },
    {
      "cell_type": "code",
      "source": [
        "# Como sabemos en que dias se pagaron mas propinas\n",
        "\n",
        "# Convert pickup datetime column to datetime type\n",
        "df['pickup_datetime'] = pd.to_datetime(df['tpep_pickup_datetime'])\n",
        "\n",
        "# Create a new column for day of the week\n",
        "df['day_of_week'] = df['tpep_pickup_datetime'].dt.day_name()\n",
        "\n",
        "# Define order of days of the week\n",
        "\n",
        "days_order = ['Monday', 'Tuesday', 'Wednesday', 'Thursday', 'Friday', 'Saturday', 'Sunday']\n",
        "\n",
        "# Create a bar plot of tips versus day of the week with sorted days\n",
        "sns.barplot(x='day_of_week', y='tip_amount', data=df, order=days_order)\n",
        "plt.xlabel('Day of Week')\n",
        "plt.ylabel('Tip Amount')\n",
        "plt.title('Bar Plot of Tips vs Day of Week (Sorted)')\n",
        "plt.show()"
      ],
      "metadata": {
        "colab": {
          "base_uri": "https://localhost:8080/",
          "height": 295
        },
        "id": "Bx4y5tbYGs_t",
        "outputId": "e511370a-5644-4fc5-9369-57af9120c94a"
      },
      "execution_count": 53,
      "outputs": [
        {
          "output_type": "display_data",
          "data": {
            "text/plain": [
              "<Figure size 432x288 with 1 Axes>"
            ],
            "image/png": "[encoded data removed]"
          },
          "metadata": {
            "needs_background": "light"
          }
        }
      ]
    },
    {
      "cell_type": "code",
      "source": [
        "# Como sabemos en que horarios se pagaron más propinas\n",
        "\n",
        "# Convert pickup datetime column to datetime type\n",
        "df['pickup_datetime'] = pd.to_datetime(df['tpep_pickup_datetime'])\n",
        "\n",
        "# Create a new column for hour of the day\n",
        "df['hour_of_day'] = df['tpep_pickup_datetime'].dt.hour\n",
        "\n",
        "# Create a line plot of tips versus hour of the day\n",
        "sns.lineplot(x='hour_of_day', y='tip_amount', data=df)\n",
        "plt.xlabel('Hour of Day')\n",
        "plt.ylabel('Tip Amount')\n",
        "plt.title('Line Plot of Tips vs Hour of Day')\n",
        "plt.show()\n"
      ],
      "metadata": {
        "colab": {
          "base_uri": "https://localhost:8080/",
          "height": 295
        },
        "id": "aAwojt8SHtP0",
        "outputId": "8c4a245a-745d-41ab-8159-bfcd6b989263"
      },
      "execution_count": 54,
      "outputs": [
        {
          "output_type": "display_data",
          "data": {
            "text/plain": [
              "<Figure size 432x288 with 1 Axes>"
            ],
            "image/png": "[encoded data removed]"
          },
          "metadata": {
            "needs_background": "light"
          }
        }
      ]
    }
  ]
}