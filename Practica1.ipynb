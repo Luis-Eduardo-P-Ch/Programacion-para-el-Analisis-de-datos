{
  "nbformat": 4,
  "nbformat_minor": 0,
  "metadata": {
    "kernelspec": {
      "display_name": "Python 3",
      "language": "python",
      "name": "python3"
    },
    "language_info": {
      "codemirror_mode": {
        "name": "ipython",
        "version": 3
      },
      "file_extension": ".py",
      "mimetype": "text/x-python",
      "name": "python",
      "nbconvert_exporter": "python",
      "pygments_lexer": "ipython3",
      "version": "3.7.3"
    },
    "colab": {
      "provenance": [],
      "include_colab_link": true
    }
  },
  "cells": [
    {
      "cell_type": "markdown",
      "metadata": {
        "id": "view-in-github",
        "colab_type": "text"
      },
      "source": [
        "<a href=\"https://colab.research.google.com/github/Luis-Eduardo-P-Ch/Programacion-para-el-Analisis-de-datos/blob/main/Practica1.ipynb\" target=\"_parent\"><img src=\"https://colab.research.google.com/assets/colab-badge.svg\" alt=\"Open In Colab\"/></a>"
      ]
    },
    {
      "cell_type": "markdown",
      "metadata": {
        "id": "ZGdwGkZQ96na"
      },
      "source": [
        "# Programación para Analisis de datos\n",
        "## Práctica 1: Introducción a Python I\n",
        "## Índice:\n",
        "\n",
        "1. [Ejercicios sobre números](#Ejercicios-sobre-números)\n",
        "2. [Ejercicios sobre strings](#Ejercicios-sobre-Strings)\n",
        "3. [Ejercicios sobre listas y diccionarios](#Ejercicios-sobre-listas-y-diccionarios)\n",
        "\n",
        "<b>Nota:</b>\n",
        "Esta práctica contiene ejercicios que cubren los diferentes temas vistos en la intrudicción de Python como lenguaje de programación. En las celdas de código, donde vea $<CODIGO>$, debera completar con el código que resuelva lo que se pide. En la mayoria de los ejercicios se debera recurrir a las referencias técnicas para resolver los enunciados. Bajo cada seccion esta el link a las referencias oficiales de python, sin embargo no dude en usar otras fuentes.\n",
        "\n",
        "<hr>\n",
        "\n",
        "\n",
        "\n"
      ]
    },
    {
      "cell_type": "markdown",
      "source": [
        "## Ejercicios sobre números</b>\n",
        "referencia: https://docs.python.org/3/library/stdtypes.html#numeric-types-int-float-complex\n",
        "\n"
      ],
      "metadata": {
        "id": "2TcIPPfImz_y"
      }
    },
    {
      "cell_type": "markdown",
      "metadata": {
        "id": "4a5VZ3Uf96nj"
      },
      "source": [
        "2. Calcule el producto de todos los numeros del 1 a 10\n"
      ]
    },
    {
      "cell_type": "code",
      "metadata": {
        "id": "O77achr_96nk",
        "colab": {
          "base_uri": "https://localhost:8080/"
        },
        "outputId": "9ebd01f0-0911-46a1-f746-74d33b345025"
      },
      "source": [
        "# complete con productos\n",
        "res = 1\n",
        "for i in range(1,11):\n",
        "    res *=i\n",
        "print('el producto es: ',res)"
      ],
      "execution_count": null,
      "outputs": [
        {
          "output_type": "stream",
          "name": "stdout",
          "text": [
            "el producto es:  3628800\n"
          ]
        }
      ]
    },
    {
      "cell_type": "markdown",
      "metadata": {
        "id": "n9vhWl0796nk"
      },
      "source": [
        "3. Escriba el codigo para calcular el cuadrado de un numero <i>x</i> y la raiz cuadrada de un número <i>y</i>. Prueba variar el valor de <i>x</i> y de <i>y</i>"
      ]
    },
    {
      "cell_type": "code",
      "metadata": {
        "id": "XdtrFopj96nl",
        "colab": {
          "base_uri": "https://localhost:8080/"
        },
        "outputId": "4e850c88-ebc2-4ad6-d47a-448014b296fb"
      },
      "source": [
        "x = 8\n",
        "cuadrado_de_x = x*x\n",
        "print('El cuadrado de x es: ',cuadrado_de_x)\n"
      ],
      "execution_count": null,
      "outputs": [
        {
          "output_type": "stream",
          "name": "stdout",
          "text": [
            "El cuadrado de x es:  64\n"
          ]
        }
      ]
    },
    {
      "cell_type": "code",
      "source": [
        "import math \n",
        "y = 49\n",
        "raiz_de_y = math.sqrt(y)\n",
        "print('La raiz cuadrada de y es: ',raiz_de_y)"
      ],
      "metadata": {
        "id": "fI22G9OxzSl1",
        "outputId": "d54d0dd3-5241-4b0e-ca0b-9b6f851b2646",
        "colab": {
          "base_uri": "https://localhost:8080/"
        }
      },
      "execution_count": null,
      "outputs": [
        {
          "output_type": "stream",
          "name": "stdout",
          "text": [
            "La raiz cuadrada de y es:  7.0\n"
          ]
        }
      ]
    },
    {
      "cell_type": "markdown",
      "metadata": {
        "id": "ZpiENSZt96nl"
      },
      "source": [
        "4. Convierta el valor del entero $x$ en un número decimal y  el valor de un decimal $y$ en un número entero"
      ]
    },
    {
      "cell_type": "markdown",
      "source": [
        "4.1. Resp. Se puede convertir el valor del entero  x  en un número decimal mediante 2 formas:"
      ],
      "metadata": {
        "id": "uxnwX8A72EOS"
      }
    },
    {
      "cell_type": "code",
      "source": [
        "x = 42\n",
        "x_en_decimal= x/1.0\n",
        "\n",
        "print(x_en_decimal)\n",
        "print('El tipo de x es:',type(x))\n",
        "print('El tipo de x_en_decimal es:',type(x_en_decimal))"
      ],
      "metadata": {
        "id": "wZytyQo_2SJj",
        "outputId": "94a55f42-9ec9-4b54-8ab4-386034ef9c10",
        "colab": {
          "base_uri": "https://localhost:8080/"
        }
      },
      "execution_count": null,
      "outputs": [
        {
          "output_type": "stream",
          "name": "stdout",
          "text": [
            "42.0\n",
            "El tipo de x es: <class 'int'>\n",
            "El tipo de x_en_decimal es: <class 'float'>\n"
          ]
        }
      ]
    },
    {
      "cell_type": "code",
      "source": [
        "x = 42\n",
        "x_en_decimal= float(x)\n",
        "\n",
        "print(x_en_decimal)\n",
        "print('El tipo de x es:',type(x))\n",
        "print('El tipo de x_en_decimal es:',type(x_en_decimal))"
      ],
      "metadata": {
        "id": "BFJPrhnJ23pz",
        "outputId": "f1d96bf5-63e4-4fca-a857-2ffbe51ec503",
        "colab": {
          "base_uri": "https://localhost:8080/"
        }
      },
      "execution_count": null,
      "outputs": [
        {
          "output_type": "stream",
          "name": "stdout",
          "text": [
            "42.0\n",
            "El tipo de x es: <class 'int'>\n",
            "El tipo de x_en_decimal es: <class 'float'>\n"
          ]
        }
      ]
    },
    {
      "cell_type": "markdown",
      "source": [
        "4.2. Resp. Se puede convertir el valor de un decimal  y  en un número entero mediante 2 formas:"
      ],
      "metadata": {
        "id": "hKIfxkwd3cti"
      }
    },
    {
      "cell_type": "code",
      "source": [
        "y = 88.0\n",
        "y_en_entero = int(y)\n",
        "\n",
        "print(y_en_entero)\n",
        "print(' el tipo de dato de y es:',type(y))\n",
        "print('el tipo de dato de y_en_entero es:',type(y_en_entero))"
      ],
      "metadata": {
        "id": "wop_BWJ64NjR",
        "outputId": "5fdc619b-d69e-4d32-bbd6-fd004b5cc71d",
        "colab": {
          "base_uri": "https://localhost:8080/"
        }
      },
      "execution_count": null,
      "outputs": [
        {
          "output_type": "stream",
          "name": "stdout",
          "text": [
            "88\n",
            " el tipo de dato de y es: <class 'float'>\n",
            "el tipo de dato de y_en_entero es: <class 'int'>\n"
          ]
        }
      ]
    },
    {
      "cell_type": "code",
      "source": [
        "y = 88.0\n",
        "redondeado= round(y)\n",
        "y_en_entero = int(redondeado)\n",
        "\n",
        "print(y_en_entero)\n",
        "print(' el tipo de dato de y es:',type(y))\n",
        "print('el tipo de dato de y_en_entero es:',type(y_en_entero))"
      ],
      "metadata": {
        "id": "AVDTqdQ34joy",
        "outputId": "fc68eebf-bd59-4446-c8a7-6936a79a09e6",
        "colab": {
          "base_uri": "https://localhost:8080/"
        }
      },
      "execution_count": null,
      "outputs": [
        {
          "output_type": "stream",
          "name": "stdout",
          "text": [
            "88\n",
            " el tipo de dato de y es: <class 'float'>\n",
            "el tipo de dato de y_en_entero es: <class 'int'>\n"
          ]
        }
      ]
    },
    {
      "cell_type": "markdown",
      "source": [
        "Conclusión: Podriamos todo en una sola linea de codigo"
      ],
      "metadata": {
        "id": "JdDWv-1f4IeL"
      }
    },
    {
      "cell_type": "code",
      "metadata": {
        "id": "qfBH2jRm96nm",
        "outputId": "f8f22753-1046-498c-c968-fc358fb7c430",
        "colab": {
          "base_uri": "https://localhost:8080/"
        }
      },
      "source": [
        "x = 42\n",
        "y = 88.0\n",
        "x_en_decimal = float(x)\n",
        "y_en_entero = int(y)\n",
        "\n",
        "print('El tipo de x es:',type(x),', el tipo de dato de y es:',type(y))\n",
        "print('El tipo de x_en_decimal es:',type(x_en_decimal),', el tipo de dato de y_en_entero es:',type(y_en_entero))"
      ],
      "execution_count": null,
      "outputs": [
        {
          "output_type": "stream",
          "name": "stdout",
          "text": [
            "El tipo de x es: <class 'int'> , el tipo de dato de y es: <class 'float'>\n",
            "El tipo de x_en_decimal es: <class 'float'> , el tipo de dato de y_en_entero es: <class 'int'>\n"
          ]
        }
      ]
    },
    {
      "cell_type": "code",
      "source": [],
      "metadata": {
        "id": "6VMEkuwZ2DlT"
      },
      "execution_count": null,
      "outputs": []
    },
    {
      "cell_type": "markdown",
      "metadata": {
        "id": "oQybFzXJ96nm"
      },
      "source": [
        "5. \n",
        "\n",
        "I. Sea $a,b,c$ los factores de un poliniomio de orden 2 ($ax^2+bx+c$). Complete el código para encontrar las raices del polinomio. Encuentra algún problema en su código? Prueba cambiar los valores de $a,b$ y $c$ para testear que su algoritmo funciona. En caso de no funcionar, piense para que valores de los factores no funciona."
      ]
    },
    {
      "cell_type": "code",
      "source": [
        "num=5\n",
        "if num>10:\n",
        "  print(\"El numero es posicitvo\")\n",
        "else:\n",
        "  print(\"el numero es negativo\")"
      ],
      "metadata": {
        "id": "Cc2cmcMIrewg",
        "outputId": "cfdf3383-f433-4e26-f0ee-eca9533c8ee3",
        "colab": {
          "base_uri": "https://localhost:8080/"
        }
      },
      "execution_count": null,
      "outputs": [
        {
          "output_type": "stream",
          "name": "stdout",
          "text": [
            "el numero es negativo\n"
          ]
        }
      ]
    },
    {
      "cell_type": "code",
      "metadata": {
        "id": "hre04nSf96nm",
        "outputId": "3c91ced8-1862-401b-e316-2264764463f5",
        "colab": {
          "base_uri": "https://localhost:8080/"
        }
      },
      "source": [
        "import math\n",
        "a = 2\n",
        "b = 4\n",
        "c = -10\n",
        "#calculamos el discriminante\n",
        "discriminante= b**2-4*a*c\n",
        "raiz_1 =(-b + math.sqrt(discriminante)) / (2*a)  \n",
        "raiz_2 =(-b - math.sqrt(discriminante)) / (2*a)\n",
        "#verificamos si hay raices reales o complejas\n",
        "if discriminante <0:\n",
        " print(\"El polinomio no tiene raíces reales\")\n",
        "else:\n",
        "# Calculamos las raíces\n",
        " print('La raiz 1 es: ',raiz_1)\n",
        " print('La raiz 2 es: ',raiz_2)"
      ],
      "execution_count": null,
      "outputs": [
        {
          "output_type": "stream",
          "name": "stdout",
          "text": [
            "La raiz 1 es:  1.4494897427831779\n",
            "La raiz 2 es:  -3.449489742783178\n"
          ]
        }
      ]
    },
    {
      "cell_type": "markdown",
      "source": [
        "Otra forma de Hacerlo podria ser:"
      ],
      "metadata": {
        "id": "dNPFA2JRtT_F"
      }
    },
    {
      "cell_type": "code",
      "source": [
        "import math\n",
        "#definimos los factores del polinomio\n",
        "a=1\n",
        "b=-4\n",
        "c=4\n",
        "#calculamos el discriminante\n",
        "discriminante=b**2 - 4*a*c\n",
        "#Verificamos si el discriminante es positivo, negativo o cero\n",
        "if discriminante > 0:\n",
        "  raiz_1 =(-b + math.sqrt(discriminante)) / (2*a)  \n",
        "  raiz_2 =(-b - math.sqrt(discriminante)) / (2*a)\n",
        "  print(\"Las raíces del polinomio son:\", raiz_1, \"y\", raiz_2)\n",
        "elif discriminante==0:\n",
        "  x=-b/(2*a)\n",
        "  print(\"El polinomio tiene una única raiz\", x)\n",
        "else:\n",
        "  print(\"El polinomio no tiene raíces reales\")\n",
        "\n"
      ],
      "metadata": {
        "id": "-d_B7KOYtTFW",
        "outputId": "13581d6c-c3e0-4999-ddaa-56ff20b90216",
        "colab": {
          "base_uri": "https://localhost:8080/"
        }
      },
      "execution_count": null,
      "outputs": [
        {
          "output_type": "stream",
          "name": "stdout",
          "text": [
            "El polinomio tiene una única raiz 2.0\n"
          ]
        }
      ]
    },
    {
      "cell_type": "markdown",
      "metadata": {
        "id": "CR_FFag396nn"
      },
      "source": [
        "5. II. Escriba un codigo para chequear que los valores de las raices computados anteriormente son correctos (HINT:Piense como puede reemplazarlos en la formula de un polinimio)."
      ]
    },
    {
      "cell_type": "code",
      "metadata": {
        "id": "K-JpDMP796nn",
        "outputId": "aa0e5f53-5ca1-4516-b9dd-cdfb22f31ac6",
        "colab": {
          "base_uri": "https://localhost:8080/",
          "height": 130
        }
      },
      "source": [
        "raiz_1_es_correcta = <CODIGO>\n",
        "raiz_2_es_correcta = <CODIGO>\n",
        "print('La raiz 1 es correcta:',raiz_1_es_correcta)\n",
        "print('La raiz 2 es correcta:',raiz_2_es_correcta)"
      ],
      "execution_count": null,
      "outputs": [
        {
          "output_type": "error",
          "ename": "SyntaxError",
          "evalue": "ignored",
          "traceback": [
            "\u001b[0;36m  File \u001b[0;32m\"<ipython-input-13-e1697354b295>\"\u001b[0;36m, line \u001b[0;32m1\u001b[0m\n\u001b[0;31m    raiz_1_es_correcta = <CODIGO>\u001b[0m\n\u001b[0m                         ^\u001b[0m\n\u001b[0;31mSyntaxError\u001b[0m\u001b[0;31m:\u001b[0m invalid syntax\n"
          ]
        }
      ]
    },
    {
      "cell_type": "markdown",
      "metadata": {
        "id": "LgzqBfwu96nn"
      },
      "source": [
        "6. Calcule el resto de una divisíon entre 2 enteros $a$ y $b$, sin usar el operador división entera de Python. Prueba diferentes valores de $a$ y $b$. Compare sus respuestas con el operador resto ($a$ % $b$)"
      ]
    },
    {
      "cell_type": "code",
      "metadata": {
        "id": "uJKSLdgG96nn"
      },
      "source": [
        "a = 7\n",
        "b = 2\n",
        "resto = a%b\n",
        "print('El resto es:',resto)"
      ],
      "execution_count": null,
      "outputs": []
    },
    {
      "cell_type": "code",
      "source": [
        "a=7\n",
        "b=2\n",
        "#calculamos la division entre a y b\n",
        "division= int((a/b))\n",
        "#calculamos la resta entre a y b\n",
        "resta= a-division*b\n",
        "print(\"La resta de la división de\", a, \"entre\", b, \"es:\", resta)"
      ],
      "metadata": {
        "id": "rutm2a6jw_nk"
      },
      "execution_count": null,
      "outputs": []
    },
    {
      "cell_type": "markdown",
      "metadata": {
        "id": "nrAH58eb96no"
      },
      "source": [
        "7. Cree que la siguiente igualdad es verdadera o falsa. De no obtener el valor esperado, piense que puede estar fallando. Como lo arreglaria?"
      ]
    },
    {
      "cell_type": "code",
      "metadata": {
        "id": "0XIfwIvS96no"
      },
      "source": [
        " (0.1 + 0.1 + 0.1 ) == 0.3"
      ],
      "execution_count": null,
      "outputs": []
    },
    {
      "cell_type": "code",
      "source": [
        "#sumamos los tres numeros\n",
        "suma= 0.1+0.1+0.1\n",
        "#comparamos con tolerancia\n",
        "tolerancia=0.00001\n",
        "if abs(suma-0.3)<tolerancia:\n",
        "  print(\"la suma es aproximadamente igual a 0.3\")\n",
        "else:\n",
        "  print(\"la suma no es igual a 0.3\")\n"
      ],
      "metadata": {
        "id": "Gwlm9JzNzvbC"
      },
      "execution_count": null,
      "outputs": []
    },
    {
      "cell_type": "markdown",
      "metadata": {
        "id": "WJ89H2R496no"
      },
      "source": [
        "## Ejercicios sobre Strings\n",
        "referencia https://docs.python.org/3/library/stdtypes.html#text-sequence-type-str"
      ]
    },
    {
      "cell_type": "markdown",
      "metadata": {
        "id": "OeRMdIRG96no"
      },
      "source": [
        "8. Convierta el siguiente string en minuscula y mayuscula"
      ]
    },
    {
      "cell_type": "code",
      "metadata": {
        "id": "vjAHAwmb96no"
      },
      "source": [
        "texto = 'HoLa CoMo EsTaS?'\n",
        "texto_todo_minuscula = texto.lower()\n",
        "print('El texto en minuscula es: ',texto_todo_minuscula)\n"
      ],
      "execution_count": null,
      "outputs": []
    },
    {
      "cell_type": "code",
      "source": [
        "texto = 'HoLa CoMo EsTaS?'\n",
        "texto_todo_en_mayuscula = texto.upper()\n",
        "print('El texto en mayuscula es:',texto_todo_en_mayuscula)\n"
      ],
      "metadata": {
        "id": "B3XS3tER03mZ"
      },
      "execution_count": null,
      "outputs": []
    },
    {
      "cell_type": "markdown",
      "metadata": {
        "id": "pV_mLS1796np"
      },
      "source": [
        "9. Separe el siguiente texto en frases, usando comas como caracter para partir"
      ]
    },
    {
      "cell_type": "code",
      "metadata": {
        "id": "Mko4tuYU96np"
      },
      "source": [
        "# para definir un string multilinea usamos tres comillas seguidas en vez de una\n",
        "preambulo = \"\"\"Nos, los representantes del pueblo de la Nación Argentina, reunidos\n",
        " en Congreso General Constituyente por voluntad y elección de las provincias \n",
        " que la componen, en cumplimiento de pactos preexistentes, con el objeto de \n",
        " constituir la unión nacional, afianzar la justicia, consolidar la paz \n",
        " interior, proveer a la defensa común, promover el bienestar general, y \n",
        " asegurar los beneficios de la libertad, para nosotros, para nuestra \n",
        " posteridad, y para todos los hombres del mundo que quieran habitar en el\n",
        " suelo argentino: invocando la protección de Dios, fuente de toda razón y\n",
        " justicia: ordenamos, decretamos y establecemos esta Constitución, para la\n",
        " Nación Argentina.\"\"\"\n",
        "\n",
        "texto_separado_por_comas = preambulo.split(',')\n",
        "print('El texto separado por comas es:',texto_separado_por_comas)"
      ],
      "execution_count": null,
      "outputs": []
    },
    {
      "cell_type": "markdown",
      "metadata": {
        "id": "lXpXvP1196np"
      },
      "source": [
        "10. Cuente la cantidad de palabras el preambulo"
      ]
    },
    {
      "cell_type": "code",
      "metadata": {
        "id": "WGOEAF5p96nr"
      },
      "source": [
        "palabras=preambulo.split()\n",
        "cantidad_de_palabras = len(palabras)\n",
        "\n",
        "print('La cantidad de palabras son:',cantidad_de_palabras)"
      ],
      "execution_count": null,
      "outputs": []
    },
    {
      "cell_type": "markdown",
      "metadata": {
        "id": "HKDcdHXL96nr"
      },
      "source": [
        "11. Cree un nuevo string que resulte de reemplazar cada apariación de palabra \"de\" en el preambulo por dos arrobas"
      ]
    },
    {
      "cell_type": "code",
      "metadata": {
        "id": "reI8MsPB96nr"
      },
      "source": [
        "nuevo_preambulo = preambulo.replace(\"de\", \"@@\")\n",
        "print('El preambulo cambiado con arrobas es: ',nuevo_preambulo)"
      ],
      "execution_count": null,
      "outputs": []
    },
    {
      "cell_type": "markdown",
      "metadata": {
        "id": "DCK_3HbA96nr"
      },
      "source": [
        "## Ejercicios sobre listas y diccionarios\n",
        "referencias: \n",
        "* https://docs.python.org/3/library/stdtypes.html#sequence-types-list-tuple-range \n",
        "* https://docs.python.org/3/library/stdtypes.html#mapping-types-dict"
      ]
    },
    {
      "cell_type": "markdown",
      "metadata": {
        "id": "vZOjaWDS96nr"
      },
      "source": [
        "12. Cree una lista vacia, agregarle 10 valores y muestra por pantalla (usando la función print) el 3 elemento"
      ]
    },
    {
      "cell_type": "markdown",
      "source": [
        "Dos caminos para resolver el ejercicio 12:"
      ],
      "metadata": {
        "id": "U6qk6xLI4jbn"
      }
    },
    {
      "cell_type": "code",
      "source": [
        "#crear lista vacia\n",
        "mi_lista=[]\n",
        "#agregar valores\n",
        "mi_lista.append(1)\n",
        "mi_lista.append(2)\n",
        "mi_lista.append(3)\n",
        "mi_lista.append(4)\n",
        "mi_lista.append(5)\n",
        "mi_lista.append(6)\n",
        "mi_lista.append(7)\n",
        "mi_lista.append(8)\n",
        "mi_lista.append(9)\n",
        "mi_lista.append(10)\n",
        "#mostrar el tercer elemento\n",
        "print(mi_lista[2])\n"
      ],
      "metadata": {
        "id": "tkVRi-qX4mn2"
      },
      "execution_count": null,
      "outputs": []
    },
    {
      "cell_type": "code",
      "source": [
        "#crear lista con valores del 1 al 10\n",
        "mi_lista=[i for i in range(1,11)]\n",
        "#mostrar el tercer elemento\n",
        "print(mi_lista[2])"
      ],
      "metadata": {
        "id": "k0a-u7bn46d_"
      },
      "execution_count": null,
      "outputs": []
    },
    {
      "cell_type": "markdown",
      "metadata": {
        "id": "lzz2GuoQ96ns"
      },
      "source": [
        "13. Obtenga el intervalo de la lista desde la posición 3 hasta la 5 incluida"
      ]
    },
    {
      "cell_type": "code",
      "metadata": {
        "id": "-mqvBcXn96ns"
      },
      "source": [
        "intervalo=mi_lista[3:6]\n",
        "print(intervalo)"
      ],
      "execution_count": null,
      "outputs": []
    },
    {
      "cell_type": "markdown",
      "metadata": {
        "id": "0EZKZaSq96ns"
      },
      "source": [
        "14. Complete el codigo para saber si un elemento pertenece a la lista"
      ]
    },
    {
      "cell_type": "code",
      "metadata": {
        "id": "foR0AMMd96ns"
      },
      "source": [
        "lista = [4,'3',3,6,7,4,3,False,'323',3,3,5,6,3]\n",
        "e = 5\n",
        "pertenece = e in lista \n",
        "print('El elemento pertenece a la lista: ',pertenece)"
      ],
      "execution_count": null,
      "outputs": []
    },
    {
      "cell_type": "markdown",
      "metadata": {
        "id": "ZFBaOnUw96ns"
      },
      "source": [
        "15. Complete el codigo para obtener una lista solo con los elementos en las posiciones pares respetando el orden original de la lista. Calcule tambien la cantidad de elementos de esa lista."
      ]
    },
    {
      "cell_type": "markdown",
      "source": [
        "Dos Formas de resolverlo: "
      ],
      "metadata": {
        "id": "E6idfIgQsA1h"
      }
    },
    {
      "cell_type": "code",
      "metadata": {
        "id": "svQXgB0_96nt",
        "outputId": "5ef643d3-e643-4219-c92e-3a34b2272313",
        "colab": {
          "base_uri": "https://localhost:8080/"
        }
      },
      "source": [
        "lista = [0, 1, 2, 3, 4, 5, 6, 7, 8, 9]\n",
        "lista_solo_elementos_en_posiciones_pares = [] \n",
        "for i in range(0, len(lista), 2):\n",
        "   lista_solo_elementos_en_posiciones_pares.append(lista[i])\n",
        "print('La lista en posiciones pares es: ',lista_solo_elementos_en_posiciones_pares)\n",
        "print('La cantidad de elementos en la lista es: ', len(lista_solo_elementos_en_posiciones_pares))"
      ],
      "execution_count": null,
      "outputs": [
        {
          "output_type": "stream",
          "name": "stdout",
          "text": [
            "La lista en posiciones pares es:  [0, 2, 4, 6, 8]\n",
            "La cantidad de elementos en la lista es:  5\n"
          ]
        }
      ]
    },
    {
      "cell_type": "code",
      "source": [
        "lista = [-2,0, 1, 2, 3, 4, 5, 6, 7, 8, 9]\n",
        "lista_solo_elementos_en_posiciones_pares = lista[::2] \n",
        "\n",
        "print('La lista en posiciones pares es: ',lista_solo_elementos_en_posiciones_pares)\n",
        "print('La cantidad de elementos en la lista es: ', len(lista_solo_elementos_en_posiciones_pares))"
      ],
      "metadata": {
        "id": "TT7jvncgsrdA",
        "outputId": "576d58bb-a311-48e5-e757-25527c9e47b1",
        "colab": {
          "base_uri": "https://localhost:8080/"
        }
      },
      "execution_count": null,
      "outputs": [
        {
          "output_type": "stream",
          "name": "stdout",
          "text": [
            "La lista en posiciones pares es:  [-2, 1, 3, 5, 7, 9]\n",
            "La cantidad de elementos en la lista es:  6\n"
          ]
        }
      ]
    },
    {
      "cell_type": "markdown",
      "metadata": {
        "id": "ut5823_U96nt"
      },
      "source": [
        "16. Imprima por pantalla la posición de la primaria aparición del emento e, la cantidad de veces que aparece. Prueba diferentes valores de $e$. ¿Qué sucede si el valor de $e$ no esta presente en la lista?"
      ]
    },
    {
      "cell_type": "markdown",
      "source": [
        "Tres formas de hacerlo, pero hay muchas mas "
      ],
      "metadata": {
        "id": "IirPJkz8xwed"
      }
    },
    {
      "cell_type": "code",
      "metadata": {
        "id": "KCmx1jTz96nt",
        "outputId": "6fbe5925-ee81-4ea0-a1a4-307a6b10c3d6",
        "colab": {
          "base_uri": "https://localhost:8080/"
        }
      },
      "source": [
        "e = 7\n",
        "lista = [36, 52, 14, 100, 31, 37, 84, 80, 93, 18, 96, 15, 28, 65, 32, 36, 17, 74, 31, 57, 11, 33, 47,\n",
        "         42, 11, 30, 7, 22, 47, 75, 52, 65, 84, 52, 68, 30, 7, 9, 59, 75, 28,]\n",
        "try:\n",
        "   primera_posicion_e=lista.index(e)\n",
        "   cantidad_apariciones_e=lista.count(e)\n",
        "   print('La primera posición de', e, 'es:', primera_posicion_e)\n",
        "   print('El elemento', e, 'aparece', cantidad_apariciones_e, 'veces en la lista.')\n",
        "except ValueError:\n",
        "   print('El elemento', e,' no está presente en la lista')"
      ],
      "execution_count": null,
      "outputs": [
        {
          "output_type": "stream",
          "name": "stdout",
          "text": [
            "La primera posición de 7 es: 26\n",
            "El elemento 7 aparece 2 veces en la lista.\n"
          ]
        }
      ]
    },
    {
      "cell_type": "markdown",
      "source": [
        "En este código, utilizamos index(e) para obtener la posición de la primera aparición de e en la lista, y count(e) para obtener la cantidad de veces que aparece. Si el valor de e no está presente en la lista, el bloque except manejará la excepción generada por index(e) e imprimirá un mensaje indicando que el elemento no está presente.\n",
        "\n",
        "Para probar diferentes valores de e, podemos simplemente cambiar el valor de la variable e al principio del código. Si e no está presente en la lista, se imprimirá un mensaje de error en lugar de la posición y cantidad de apariciones."
      ],
      "metadata": {
        "id": "jqyXahICzO_9"
      }
    },
    {
      "cell_type": "code",
      "source": [
        "e = 7\n",
        "lista = [36, 52, 14, 100, 31, 37, 84, 80, 93, 18, 96, 15, 28, 65, 32, 36, 17, 74, 31, 57, 11, 33, 47,\n",
        "         42, 11, 30, 7, 22, 47, 75, 52, 65, 84, 52, 68, 30, 7, 9, 59, 75, 28,]\n",
        "posicion_e=-1\n",
        "apariciones_e=0\n",
        "for i, valor in enumerate(lista):\n",
        "  if valor==e:\n",
        "    if posicion_e==-1:\n",
        "      posicion_e=i\n",
        "    apariciones_e +=1\n",
        "\n",
        "if posicion_e==-1:\n",
        "  print('El elemento', e , 'no está presente en la lista') \n",
        "else:\n",
        "  print('La primera posición de', e, 'es:', posicion_e)\n",
        "  print('El elemento',e,' aparece',apariciones_e, 'veces en la lista')"
      ],
      "metadata": {
        "id": "FqcaTKpbyE00",
        "outputId": "642b2da0-2f02-4b12-f37a-b2a541a6451a",
        "colab": {
          "base_uri": "https://localhost:8080/"
        }
      },
      "execution_count": null,
      "outputs": [
        {
          "output_type": "stream",
          "name": "stdout",
          "text": [
            "La primera posición de 7 es: 26\n",
            "El elemento 7  aparece 2 veces en la lista\n"
          ]
        }
      ]
    },
    {
      "cell_type": "markdown",
      "source": [
        "En este código, utilizamos una iteración for para recorrer la lista y encontrar la posición de la primera aparición de e y la cantidad de veces que aparece. La variable posicion_e se inicializa en -1 y se actualiza a medida que encontramos el primer elemento igual a e. La variable apariciones_e se inicializa en 0 y se incrementa cada vez que encontramos un elemento igual a e. Si posicion_e sigue siendo -1 después de la iteración, significa que e no está presente en la lista y se imprime un mensaje de error. De lo contrario, se imprimen la posición y cantidad de apariciones.\n",
        "\n",
        "Esta es solo una de las muchas formas de resolver el problema, pero todas utilizan la misma idea básica: buscar el elemento e en la lista y contar sus apariciones"
      ],
      "metadata": {
        "id": "geO0zrjX0cb7"
      }
    },
    {
      "cell_type": "code",
      "source": [
        "e = 7\n",
        "lista = [36, 52, 14, 100, 31, 37, 84, 80, 93, 18, 96, 15, 28, 65, 32, 36, 17, 74, 31, 57, 11, 33, 47,\n",
        "         42, 11, 30, 7, 22, 47, 75, 52, 65, 84, 52, 68, 30, 7, 9, 59, 75, 28,]\n",
        "\n",
        "if e in lista:\n",
        "  primera_posicion_e=lista.index(e)\n",
        "  cantidad_apariciones_e=lista.count(e)\n",
        "  print('La primera posición de', e, 'es:', primera_posicion_e)\n",
        "  print('El elemento',e,' aparece',cantidad_apariciones_e, 'veces en la lista')\n",
        "else:\n",
        "  print('El elemento', e, ' no está presente en la lista')"
      ],
      "metadata": {
        "id": "9vNxxnYxyE-r",
        "outputId": "9e48bdb1-3a84-4625-c85a-31bf059160ab",
        "colab": {
          "base_uri": "https://localhost:8080/"
        }
      },
      "execution_count": null,
      "outputs": [
        {
          "output_type": "stream",
          "name": "stdout",
          "text": [
            "La primera posición de 7 es: 26\n",
            "El elemento 7  aparece 2 veces en la lista\n"
          ]
        }
      ]
    },
    {
      "cell_type": "markdown",
      "source": [
        "En este código, verificamos si el elemento e está presente en la lista utilizando el operador in. Si e está en la lista, utilizamos el método index() para encontrar la posición de la primera aparición de e, y el método count() para contar el número de veces que e aparece en la lista. Finalmente, imprimimos la posición y cantidad de apariciones. Si e no está presente en la lista, imprimimos un mensaje de error.\n",
        "\n",
        "Es importante tener en cuenta que el método index() solo devuelve la posición de la primera aparición de e. Si e aparece varias veces en la lista, es posible que desees utilizar una solución diferente para encontrar todas las posiciones en las que aparece."
      ],
      "metadata": {
        "id": "vnDwyXrT1gij"
      }
    },
    {
      "cell_type": "markdown",
      "metadata": {
        "id": "3Uooib2a96nt"
      },
      "source": [
        "17. Cree un diccionario con alemnos 5 elementos, donde las claves sean DNIs y los significados apellidos"
      ]
    },
    {
      "cell_type": "code",
      "metadata": {
        "id": "vU4lRqRi96nt",
        "outputId": "c6599686-fe1b-4949-c392-28f47230f2c6",
        "colab": {
          "base_uri": "https://localhost:8080/"
        }
      },
      "source": [
        "dic_dni_apellido = {\n",
        "    \"1234356\": \"Gonzalez\",\n",
        "    \"2345677\": \"Rodriguez\",\n",
        "    \"3456789\": \"Perez\",\n",
        "    \"1234321\": \"Fernandez\"\n",
        "}\n",
        "print('Diccionario DNI-APELLIDO: ',dic_dni_apellido)"
      ],
      "execution_count": null,
      "outputs": [
        {
          "output_type": "stream",
          "name": "stdout",
          "text": [
            "Diccionario DNI-APELLIDO:  {'1234356': 'Gonzalez', '2345677': 'Rodriguez', '3456789': 'Perez', '1234321': 'Fernandez'}\n"
          ]
        }
      ]
    },
    {
      "cell_type": "markdown",
      "metadata": {
        "id": "rvQ8ua2596nt"
      },
      "source": [
        "18. Cree otro diccionario con la misma información pero donde las claves sean apellidos y los significados DNIs."
      ]
    },
    {
      "cell_type": "markdown",
      "source": [
        "Dos formas de hacerlo:"
      ],
      "metadata": {
        "id": "iLfeXojihDdY"
      }
    },
    {
      "cell_type": "code",
      "metadata": {
        "id": "tDkUKAQS96nt",
        "outputId": "a42b6dc4-34f4-4495-a4dc-8cf55a7c6bef",
        "colab": {
          "base_uri": "https://localhost:8080/"
        }
      },
      "source": [
        "dic_dni_apellido = {\n",
        "    \"1234356\": \"Gonzalez\",\n",
        "    \"2345677\": \"Rodriguez\",\n",
        "    \"3456789\": \"Perez\",\n",
        "    \"1234321\": \"Fernandez\"\n",
        "}\n",
        "dic_apellido_dni= {}\n",
        "\n",
        "for dni, apellido in dic_dni_apellido.items():\n",
        "    dic_apellido_dni[apellido]=dni\n",
        "print('Diccionario APELLIDO-DNI: ',dic_apellido_dni)"
      ],
      "execution_count": null,
      "outputs": [
        {
          "output_type": "stream",
          "name": "stdout",
          "text": [
            "Diccionario APELLIDO-DNI:  {'Gonzalez': '1234356', 'Rodriguez': '2345677', 'Perez': '3456789', 'Fernandez': '1234321'}\n"
          ]
        }
      ]
    },
    {
      "cell_type": "code",
      "source": [
        "dic_dni_apellido = {\n",
        "    \"1234356\": \"Gonzalez\",\n",
        "    \"2345677\": \"Rodriguez\",\n",
        "    \"3456789\": \"Perez\",\n",
        "    \"1234321\": \"Fernandez\"\n",
        "}\n",
        "dic_apellido_dni= {apellido: dni for dni, apellido in dic_dni_apellido.items()}\n",
        "\n",
        "print('Diccionario APELLIDO-DNI: ',dic_apellido_dni)"
      ],
      "metadata": {
        "id": "F76aMtFIldnv",
        "outputId": "55c192af-8ed0-4ff4-859d-20cfde8eb452",
        "colab": {
          "base_uri": "https://localhost:8080/"
        }
      },
      "execution_count": null,
      "outputs": [
        {
          "output_type": "stream",
          "name": "stdout",
          "text": [
            "Diccionario APELLIDO-DNI:  {'Gonzalez': '1234356', 'Rodriguez': '2345677', 'Perez': '3456789', 'Fernandez': '1234321'}\n"
          ]
        }
      ]
    },
    {
      "cell_type": "markdown",
      "metadata": {
        "id": "qVGNaN_Z96nu"
      },
      "source": [
        "19. Escriba código para chequar si el apellido que viene en la variable apellido pertence o no al diccionario del ejercicio 6. Escriba otro código para saber si pertenece al diccionario del ejercicio 7. Prueba diferentes apellidos para chequear todos los casos (donde esten en uno y no en otro, etc)"
      ]
    },
    {
      "cell_type": "markdown",
      "source": [
        "Dos posibles formas de hacerlo"
      ],
      "metadata": {
        "id": "ekLlOWnun3VT"
      }
    },
    {
      "cell_type": "code",
      "metadata": {
        "id": "tPszY5cP96nu",
        "outputId": "3f7b1702-a87e-4e3b-e0b8-b9c6807ecfc4",
        "colab": {
          "base_uri": "https://localhost:8080/"
        }
      },
      "source": [
        "#chequear si el apellido pertenece al diccionario de DNI y Apellidos\n",
        "apellido = 'Perez'\n",
        "dni= None\n",
        "\n",
        "for key, value in dic_dni_apellido.items():\n",
        "  if value== apellido:\n",
        "    dni=key\n",
        "    break\n",
        "\n",
        "if dni is not None:\n",
        "  print(\"El apellido\", apellido, \"pertenece al DNI\", dni)\n",
        "else:\n",
        "  print(\"El apellido\", apellido, \" no está en el diccionario de DNI y apellidos\")\n"
      ],
      "execution_count": 26,
      "outputs": [
        {
          "output_type": "stream",
          "name": "stdout",
          "text": [
            "El apellido Perez pertenece al DNI 3456789\n"
          ]
        }
      ]
    },
    {
      "cell_type": "markdown",
      "source": [
        "En este ejemplo, estamos asignando el apellido \"González\" a la variable apellido y luego recorriendo los elementos del diccionario de DNIs y apellidos para buscar el apellido. Si encontramos el apellido, guardamos la clave correspondiente (el DNI) en la variable dni. Si no encontramos el apellido, la variable dni se queda como None. Luego, verificamos si la variable dni tiene un valor asignado (es decir, si encontramos el apellido en el diccionario) y imprimimos un mensaje correspondiente."
      ],
      "metadata": {
        "id": "FQnyaVjDqOVi"
      }
    },
    {
      "cell_type": "code",
      "source": [
        "# Chequear si el apellido pertenece al diccionario de DNIs y apellidos\n",
        "apellido=\"Gonzalez\"\n",
        "\n",
        "if apellido in dic_dni_apellido.values():\n",
        "  print(\" El apellido\", apellido, \" si esta en el diccionario de apellidos y DNI\")\n",
        "else:\n",
        "  print(\" El apellido\", apellido, \"no esta en el diccionario de apellidos y DNI\")"
      ],
      "metadata": {
        "id": "3kEFJvGMn2v0",
        "outputId": "2eb0efff-a75d-48bb-e302-274919d46511",
        "colab": {
          "base_uri": "https://localhost:8080/"
        }
      },
      "execution_count": 29,
      "outputs": [
        {
          "output_type": "stream",
          "name": "stdout",
          "text": [
            " El apellido Gonzalez  si esta en el diccionario de apellidos y DNI\n"
          ]
        }
      ]
    },
    {
      "cell_type": "markdown",
      "source": [
        "Para el primer diccionario (donde las claves son DNIs y los valores son apellidos), puedes usar el método values() del diccionario para obtener una lista de todos los valores (es decir, los apellidos) y luego usar el operador in para chequear si el apellido está en esa lista. "
      ],
      "metadata": {
        "id": "xQhImv3WrunC"
      }
    },
    {
      "cell_type": "markdown",
      "source": [
        "Para el segundo diccionario (donde las claves son apellidos y los valores son DNIs) \"dic_apellido_dni\", puedes usar el método get() del diccionario para obtener el valor correspondiente al apellido. Si el valor es None, eso significa que el apellido no está en el diccionario. Aquí te muestro cómo hacerlo:"
      ],
      "metadata": {
        "id": "GAt-m_fyrzLB"
      }
    },
    {
      "cell_type": "code",
      "source": [
        "apellido= \"Gonzalez\"\n",
        "\n",
        "dni= dic_apellido_dni.get(apellido)\n",
        "\n",
        "if dni is not None:\n",
        "  print(\" El apellido\", apellido, \" pertenece al DNI\", dni)\n",
        "else:\n",
        "  print(\"El apellido\", apellido, \"No está en el diccionario de Dnis-apellidos \") "
      ],
      "metadata": {
        "id": "wYSfudw1sAVZ",
        "outputId": "997f813e-4cde-4238-e80a-19db33c432de",
        "colab": {
          "base_uri": "https://localhost:8080/"
        }
      },
      "execution_count": 33,
      "outputs": [
        {
          "output_type": "stream",
          "name": "stdout",
          "text": [
            " El apellido Gonzalez  pertenece al DNI 1234356\n"
          ]
        }
      ]
    },
    {
      "cell_type": "markdown",
      "metadata": {
        "id": "JF58fHxH96nu"
      },
      "source": [
        "20. Borre algun elemento de los diccionarios y prueba reemplazar algun valor ya definido, ¿Qué pasa con el diccionario?"
      ]
    },
    {
      "cell_type": "code",
      "metadata": {
        "id": "s8FmWfuX96nu",
        "outputId": "b64028c8-7e53-41ef-a3cf-62b6f90e0993",
        "colab": {
          "base_uri": "https://localhost:8080/"
        }
      },
      "source": [
        "dic_dni_apellido = {\n",
        "    \"1234356\": \"Gonzalez\",\n",
        "    \"2345677\": \"Rodriguez\",\n",
        "    \"3456789\": \"Perez\",\n",
        "    \"1234321\": \"Fernandez\"\n",
        "}\n",
        "#Eliminar el elemento \"123456\"\n",
        "del dic_dni_apellido[\"1234356\"]\n",
        "#Reemplazar el elemento eliminado con un nuevo Dni y Apellido\n",
        "dic_dni_apellido[\"8765432\"]= \"Camelli\"\n",
        "\n",
        "print(dic_dni_apellido)\n",
        "\n"
      ],
      "execution_count": 41,
      "outputs": [
        {
          "output_type": "stream",
          "name": "stdout",
          "text": [
            "{'2345677': 'Rodriguez', '3456789': 'Perez', '1234321': 'Fernandez', '8765432': 'Camelli'}\n"
          ]
        }
      ]
    }
  ]
}