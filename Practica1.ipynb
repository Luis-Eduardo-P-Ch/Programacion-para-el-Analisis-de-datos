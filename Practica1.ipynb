{
  "nbformat": 4,
  "nbformat_minor": 0,
  "metadata": {
    "kernelspec": {
      "display_name": "Python 3",
      "language": "python",
      "name": "python3"
    },
    "language_info": {
      "codemirror_mode": {
        "name": "ipython",
        "version": 3
      },
      "file_extension": ".py",
      "mimetype": "text/x-python",
      "name": "python",
      "nbconvert_exporter": "python",
      "pygments_lexer": "ipython3",
      "version": "3.7.3"
    },
    "colab": {
      "provenance": [],
      "include_colab_link": true
    }
  },
  "cells": [
    {
      "cell_type": "markdown",
      "metadata": {
        "id": "view-in-github",
        "colab_type": "text"
      },
      "source": [
        "<a href=\"https://colab.research.google.com/github/Luis-Eduardo-P-Ch/Programacion-para-el-Analisis-de-datos/blob/main/Practica1.ipynb\" target=\"_parent\"><img src=\"https://colab.research.google.com/assets/colab-badge.svg\" alt=\"Open In Colab\"/></a>"
      ]
    },
    {
      "cell_type": "markdown",
      "metadata": {
        "id": "ZGdwGkZQ96na"
      },
      "source": [
        "# Programación para Analisis de datos\n",
        "## Práctica 1: Introducción a Python I\n",
        "## Índice:\n",
        "\n",
        "1. [Ejercicios sobre números](#Ejercicios-sobre-números)\n",
        "2. [Ejercicios sobre strings](#Ejercicios-sobre-Strings)\n",
        "3. [Ejercicios sobre listas y diccionarios](#Ejercicios-sobre-listas-y-diccionarios)\n",
        "\n",
        "<b>Nota:</b>\n",
        "Esta práctica contiene ejercicios que cubren los diferentes temas vistos en la intrudicción de Python como lenguaje de programación. En las celdas de código, donde vea $<CODIGO>$, debera completar con el código que resuelva lo que se pide. En la mayoria de los ejercicios se debera recurrir a las referencias técnicas para resolver los enunciados. Bajo cada seccion esta el link a las referencias oficiales de python, sin embargo no dude en usar otras fuentes.\n",
        "\n",
        "<hr>\n",
        "\n",
        "\n",
        "\n"
      ]
    },
    {
      "cell_type": "markdown",
      "source": [
        "## Ejercicios sobre números</b>\n",
        "referencia: https://docs.python.org/3/library/stdtypes.html#numeric-types-int-float-complex\n",
        "\n"
      ],
      "metadata": {
        "id": "2TcIPPfImz_y"
      }
    },
    {
      "cell_type": "markdown",
      "metadata": {
        "id": "4a5VZ3Uf96nj"
      },
      "source": [
        "2. Calcule el producto de todos los numeros del 1 a 10\n"
      ]
    },
    {
      "cell_type": "code",
      "metadata": {
        "id": "O77achr_96nk",
        "colab": {
          "base_uri": "https://localhost:8080/"
        },
        "outputId": "17bf8e3b-3dbf-4a5b-acd8-66b2bce91363"
      },
      "source": [
        "# complete con productos\n",
        "res = 1\n",
        "for i in range(1,11):\n",
        "    res *=i\n",
        "print('el producto es: ',res)"
      ],
      "execution_count": null,
      "outputs": [
        {
          "output_type": "stream",
          "name": "stdout",
          "text": [
            "el producto es:  3628800\n"
          ]
        }
      ]
    },
    {
      "cell_type": "markdown",
      "metadata": {
        "id": "n9vhWl0796nk"
      },
      "source": [
        "3. Escriba el codigo para calcular el cuadrado de un numero <i>x</i> y la raiz cuadrada de un número <i>y</i>. Prueba variar el valor de <i>x</i> y de <i>y</i>"
      ]
    },
    {
      "cell_type": "code",
      "metadata": {
        "id": "XdtrFopj96nl",
        "colab": {
          "base_uri": "https://localhost:8080/"
        },
        "outputId": "69609baa-d9ea-4ad5-a5a6-c348f217ac11"
      },
      "source": [
        "x = 8\n",
        "cuadrado_de_x = x*x\n",
        "print('El cuadrado de x es: ',cuadrado_de_x)\n"
      ],
      "execution_count": null,
      "outputs": [
        {
          "output_type": "stream",
          "name": "stdout",
          "text": [
            "El cuadrado de x es:  64\n"
          ]
        }
      ]
    },
    {
      "cell_type": "code",
      "source": [
        "import math \n",
        "y = 49\n",
        "raiz_de_y = math.sqrt(y)\n",
        "print('La raiz cuadrada de y es: ',raiz_de_y)"
      ],
      "metadata": {
        "id": "fI22G9OxzSl1",
        "outputId": "017a7c9b-953f-4769-8c97-eb5ff197d85b",
        "colab": {
          "base_uri": "https://localhost:8080/"
        }
      },
      "execution_count": null,
      "outputs": [
        {
          "output_type": "stream",
          "name": "stdout",
          "text": [
            "La raiz cuadrada de y es:  7.0\n"
          ]
        }
      ]
    },
    {
      "cell_type": "markdown",
      "metadata": {
        "id": "ZpiENSZt96nl"
      },
      "source": [
        "4. Convierta el valor del entero $x$ en un número decimal y  el valor de un decimal $y$ en un número entero"
      ]
    },
    {
      "cell_type": "markdown",
      "source": [
        "4.1. Resp. Se puede convertir el valor del entero  x  en un número decimal mediante 2 formas:"
      ],
      "metadata": {
        "id": "uxnwX8A72EOS"
      }
    },
    {
      "cell_type": "code",
      "source": [
        "x = 42\n",
        "x_en_decimal= x/1.0\n",
        "\n",
        "print(x_en_decimal)\n",
        "print('El tipo de x es:',type(x))\n",
        "print('El tipo de x_en_decimal es:',type(x_en_decimal))"
      ],
      "metadata": {
        "id": "wZytyQo_2SJj",
        "outputId": "e7d5cd08-1824-4f9e-ac1b-fac13ca9f17e",
        "colab": {
          "base_uri": "https://localhost:8080/"
        }
      },
      "execution_count": null,
      "outputs": [
        {
          "output_type": "stream",
          "name": "stdout",
          "text": [
            "42.0\n",
            "El tipo de x es: <class 'int'>\n",
            "El tipo de x_en_decimal es: <class 'float'>\n"
          ]
        }
      ]
    },
    {
      "cell_type": "code",
      "source": [
        "x = 42\n",
        "x_en_decimal= float(x)\n",
        "\n",
        "print(x_en_decimal)\n",
        "print('El tipo de x es:',type(x))\n",
        "print('El tipo de x_en_decimal es:',type(x_en_decimal))"
      ],
      "metadata": {
        "id": "BFJPrhnJ23pz",
        "outputId": "4dbf4147-7ff6-4efe-df60-2c997f02619c",
        "colab": {
          "base_uri": "https://localhost:8080/"
        }
      },
      "execution_count": null,
      "outputs": [
        {
          "output_type": "stream",
          "name": "stdout",
          "text": [
            "42.0\n",
            "El tipo de x es: <class 'int'>\n",
            "El tipo de x_en_decimal es: <class 'float'>\n"
          ]
        }
      ]
    },
    {
      "cell_type": "markdown",
      "source": [
        "4.2. Resp. Se puede convertir el valor de un decimal  y  en un número entero mediante 2 formas:"
      ],
      "metadata": {
        "id": "hKIfxkwd3cti"
      }
    },
    {
      "cell_type": "code",
      "source": [
        "y = 88.0\n",
        "y_en_entero = int(y)\n",
        "\n",
        "print(y_en_entero)\n",
        "print(' el tipo de dato de y es:',type(y))\n",
        "print('el tipo de dato de y_en_entero es:',type(y_en_entero))"
      ],
      "metadata": {
        "id": "wop_BWJ64NjR",
        "outputId": "8284eeb4-1384-432b-b1e6-16777d34b6ca",
        "colab": {
          "base_uri": "https://localhost:8080/"
        }
      },
      "execution_count": null,
      "outputs": [
        {
          "output_type": "stream",
          "name": "stdout",
          "text": [
            "88\n",
            " el tipo de dato de y es: <class 'float'>\n",
            "el tipo de dato de y_en_entero es: <class 'int'>\n"
          ]
        }
      ]
    },
    {
      "cell_type": "code",
      "source": [
        "y = 88.0\n",
        "redondeado= round(y)\n",
        "y_en_entero = int(redondeado)\n",
        "\n",
        "print(y_en_entero)\n",
        "print(' el tipo de dato de y es:',type(y))\n",
        "print('el tipo de dato de y_en_entero es:',type(y_en_entero))"
      ],
      "metadata": {
        "id": "AVDTqdQ34joy",
        "outputId": "5cd93bb7-a002-4d88-b89e-1cd0a662a226",
        "colab": {
          "base_uri": "https://localhost:8080/"
        }
      },
      "execution_count": null,
      "outputs": [
        {
          "output_type": "stream",
          "name": "stdout",
          "text": [
            "88\n",
            " el tipo de dato de y es: <class 'float'>\n",
            "el tipo de dato de y_en_entero es: <class 'int'>\n"
          ]
        }
      ]
    },
    {
      "cell_type": "markdown",
      "source": [
        "Conclusión: Podriamos todo en una sola linea de codigo"
      ],
      "metadata": {
        "id": "JdDWv-1f4IeL"
      }
    },
    {
      "cell_type": "code",
      "metadata": {
        "id": "qfBH2jRm96nm",
        "outputId": "c102963f-8d8c-49ff-ae08-b50a199b0c69",
        "colab": {
          "base_uri": "https://localhost:8080/"
        }
      },
      "source": [
        "x = 42\n",
        "y = 88.0\n",
        "x_en_decimal = float(x)\n",
        "y_en_entero = int(y)\n",
        "\n",
        "print('El tipo de x es:',type(x),', el tipo de dato de y es:',type(y))\n",
        "print('El tipo de x_en_decimal es:',type(x_en_decimal),', el tipo de dato de y_en_entero es:',type(y_en_entero))"
      ],
      "execution_count": null,
      "outputs": [
        {
          "output_type": "stream",
          "name": "stdout",
          "text": [
            "El tipo de x es: <class 'int'> , el tipo de dato de y es: <class 'float'>\n",
            "El tipo de x_en_decimal es: <class 'float'> , el tipo de dato de y_en_entero es: <class 'int'>\n"
          ]
        }
      ]
    },
    {
      "cell_type": "code",
      "source": [],
      "metadata": {
        "id": "6VMEkuwZ2DlT"
      },
      "execution_count": null,
      "outputs": []
    },
    {
      "cell_type": "markdown",
      "metadata": {
        "id": "oQybFzXJ96nm"
      },
      "source": [
        "5. \n",
        "\n",
        "I. Sea $a,b,c$ los factores de un poliniomio de orden 2 ($ax^2+bx+c$). Complete el código para encontrar las raices del polinomio. Encuentra algún problema en su código? Prueba cambiar los valores de $a,b$ y $c$ para testear que su algoritmo funciona. En caso de no funcionar, piense para que valores de los factores no funciona."
      ]
    },
    {
      "cell_type": "code",
      "source": [
        "num=5\n",
        "if num>10:\n",
        "  print(\"El numero es posicitvo\")\n",
        "else:\n",
        "  print(\"el numero es negativo\")"
      ],
      "metadata": {
        "id": "Cc2cmcMIrewg",
        "outputId": "3a968fb4-c4a3-4614-bf3f-7bad70d85724",
        "colab": {
          "base_uri": "https://localhost:8080/"
        }
      },
      "execution_count": null,
      "outputs": [
        {
          "output_type": "stream",
          "name": "stdout",
          "text": [
            "el numero es negativo\n"
          ]
        }
      ]
    },
    {
      "cell_type": "code",
      "metadata": {
        "id": "hre04nSf96nm",
        "outputId": "4adfa564-ce0b-41a6-a311-0e7e4ea0fa69",
        "colab": {
          "base_uri": "https://localhost:8080/"
        }
      },
      "source": [
        "import math\n",
        "a = 2\n",
        "b = 4\n",
        "c = -10\n",
        "#calculamos el discriminante\n",
        "discriminante= b**2-4*a*c\n",
        "raiz_1 =(-b + math.sqrt(discriminante)) / (2*a)  \n",
        "raiz_2 =(-b - math.sqrt(discriminante)) / (2*a)\n",
        "#verificamos si hay raices reales o complejas\n",
        "if discriminante <0:\n",
        " print(\"El polinomio no tiene raíces reales\")\n",
        "else:\n",
        "# Calculamos las raíces\n",
        " print('La raiz 1 es: ',raiz_1)\n",
        " print('La raiz 2 es: ',raiz_2)"
      ],
      "execution_count": null,
      "outputs": [
        {
          "output_type": "stream",
          "name": "stdout",
          "text": [
            "La raiz 1 es:  1.4494897427831779\n",
            "La raiz 2 es:  -3.449489742783178\n"
          ]
        }
      ]
    },
    {
      "cell_type": "markdown",
      "source": [
        "Otra forma de Hacerlo podria ser:"
      ],
      "metadata": {
        "id": "dNPFA2JRtT_F"
      }
    },
    {
      "cell_type": "code",
      "source": [
        "import math\n",
        "#definimos los factores del polinomio\n",
        "a=1\n",
        "b=-4\n",
        "c=4\n",
        "#calculamos el discriminante\n",
        "discriminante=b**2 - 4*a*c\n",
        "#Verificamos si el discriminante es positivo, negativo o cero\n",
        "if discriminante > 0:\n",
        "  raiz_1 =(-b + math.sqrt(discriminante)) / (2*a)  \n",
        "  raiz_2 =(-b - math.sqrt(discriminante)) / (2*a)\n",
        "  print(\"Las raíces del polinomio son:\", raiz_1, \"y\", raiz_2)\n",
        "elif discriminante==0:\n",
        "  x=-b/(2*a)\n",
        "  print(\"El polinomio tiene una única raiz\", x)\n",
        "else:\n",
        "  print(\"El polinomio no tiene raíces reales\")\n",
        "\n"
      ],
      "metadata": {
        "id": "-d_B7KOYtTFW",
        "outputId": "2074fd59-06be-4ad0-869b-5276f62e348f",
        "colab": {
          "base_uri": "https://localhost:8080/"
        }
      },
      "execution_count": null,
      "outputs": [
        {
          "output_type": "stream",
          "name": "stdout",
          "text": [
            "El polinomio tiene una única raiz 2.0\n"
          ]
        }
      ]
    },
    {
      "cell_type": "markdown",
      "metadata": {
        "id": "CR_FFag396nn"
      },
      "source": [
        "5. II. Escriba un codigo para chequear que los valores de las raices computados anteriormente son correctos (HINT:Piense como puede reemplazarlos en la formula de un polinimio)."
      ]
    },
    {
      "cell_type": "code",
      "metadata": {
        "id": "K-JpDMP796nn"
      },
      "source": [
        "raiz_1_es_correcta = <CODIGO>\n",
        "raiz_2_es_correcta = <CODIGO>\n",
        "print('La raiz 1 es correcta:',raiz_1_es_correcta)\n",
        "print('La raiz 2 es correcta:',raiz_2_es_correcta)"
      ],
      "execution_count": null,
      "outputs": []
    },
    {
      "cell_type": "markdown",
      "metadata": {
        "id": "LgzqBfwu96nn"
      },
      "source": [
        "6. Calcule el resto de una divisíon entre 2 enteros $a$ y $b$, sin usar el operador división entera de Python. Prueba diferentes valores de $a$ y $b$. Compare sus respuestas con el operador resto ($a$ % $b$)"
      ]
    },
    {
      "cell_type": "code",
      "metadata": {
        "id": "uJKSLdgG96nn",
        "outputId": "198f8be9-060d-4701-8119-468fa618cd6b",
        "colab": {
          "base_uri": "https://localhost:8080/"
        }
      },
      "source": [
        "a = 7\n",
        "b = 2\n",
        "resto = a%b\n",
        "print('El resto es:',resto)"
      ],
      "execution_count": null,
      "outputs": [
        {
          "output_type": "stream",
          "name": "stdout",
          "text": [
            "El resto es: 1\n"
          ]
        }
      ]
    },
    {
      "cell_type": "code",
      "source": [
        "a=7\n",
        "b=2\n",
        "#calculamos la division entre a y b\n",
        "division= int((a/b))\n",
        "#calculamos la resta entre a y b\n",
        "resta= a-division*b\n",
        "print(\"La resta de la división de\", a, \"entre\", b, \"es:\", resta)"
      ],
      "metadata": {
        "id": "rutm2a6jw_nk",
        "outputId": "42efe5a7-3bbe-49d9-dcb6-45a1609629c2",
        "colab": {
          "base_uri": "https://localhost:8080/"
        }
      },
      "execution_count": null,
      "outputs": [
        {
          "output_type": "stream",
          "name": "stdout",
          "text": [
            "La resta de la división de 7 entre 2 es: 1\n"
          ]
        }
      ]
    },
    {
      "cell_type": "markdown",
      "metadata": {
        "id": "nrAH58eb96no"
      },
      "source": [
        "7. Cree que la siguiente igualdad es verdadera o falsa. De no obtener el valor esperado, piense que puede estar fallando. Como lo arreglaria?"
      ]
    },
    {
      "cell_type": "code",
      "metadata": {
        "id": "0XIfwIvS96no",
        "colab": {
          "base_uri": "https://localhost:8080/"
        },
        "outputId": "f1af50b6-e5b7-4ce2-d7dc-2d5be5723214"
      },
      "source": [
        " (0.1 + 0.1 + 0.1 ) == 0.3"
      ],
      "execution_count": null,
      "outputs": [
        {
          "output_type": "execute_result",
          "data": {
            "text/plain": [
              "False"
            ]
          },
          "metadata": {},
          "execution_count": 37
        }
      ]
    },
    {
      "cell_type": "code",
      "source": [
        "#sumamos los tres numeros\n",
        "suma= 0.1+0.1+0.1\n",
        "#comparamos con tolerancia\n",
        "tolerancia=0.00001\n",
        "if abs(suma-0.3)<tolerancia:\n",
        "  print(\"la suma es aproximadamente igual a 0.3\")\n",
        "else:\n",
        "  print(\"la suma no es igual a 0.3\")\n"
      ],
      "metadata": {
        "id": "Gwlm9JzNzvbC",
        "outputId": "6af8d922-42d9-4506-815f-506e6c7461e4",
        "colab": {
          "base_uri": "https://localhost:8080/"
        }
      },
      "execution_count": null,
      "outputs": [
        {
          "output_type": "stream",
          "name": "stdout",
          "text": [
            "la suma es aproximadamente igual a 0.3\n"
          ]
        }
      ]
    },
    {
      "cell_type": "markdown",
      "metadata": {
        "id": "WJ89H2R496no"
      },
      "source": [
        "## Ejercicios sobre Strings\n",
        "referencia https://docs.python.org/3/library/stdtypes.html#text-sequence-type-str"
      ]
    },
    {
      "cell_type": "markdown",
      "metadata": {
        "id": "OeRMdIRG96no"
      },
      "source": [
        "8. Convierta el siguiente string en minuscula y mayuscula"
      ]
    },
    {
      "cell_type": "code",
      "metadata": {
        "id": "vjAHAwmb96no",
        "outputId": "174ce882-973d-4e88-b8b1-8413956319fd",
        "colab": {
          "base_uri": "https://localhost:8080/"
        }
      },
      "source": [
        "texto = 'HoLa CoMo EsTaS?'\n",
        "texto_todo_minuscula = texto.lower()\n",
        "print('El texto en minuscula es: ',texto_todo_minuscula)\n"
      ],
      "execution_count": null,
      "outputs": [
        {
          "output_type": "stream",
          "name": "stdout",
          "text": [
            "El texto en minuscula es:  hola como estas?\n"
          ]
        }
      ]
    },
    {
      "cell_type": "code",
      "source": [
        "texto = 'HoLa CoMo EsTaS?'\n",
        "texto_todo_en_mayuscula = texto.upper()\n",
        "print('El texto en mayuscula es:',texto_todo_en_mayuscula)\n"
      ],
      "metadata": {
        "id": "B3XS3tER03mZ",
        "outputId": "d8eed420-60f2-4aea-c001-d24a5c9b7ac9",
        "colab": {
          "base_uri": "https://localhost:8080/"
        }
      },
      "execution_count": null,
      "outputs": [
        {
          "output_type": "stream",
          "name": "stdout",
          "text": [
            "El texto en mayuscula es: HOLA COMO ESTAS?\n"
          ]
        }
      ]
    },
    {
      "cell_type": "markdown",
      "metadata": {
        "id": "pV_mLS1796np"
      },
      "source": [
        "9. Separe el siguiente texto en frases, usando comas como caracter para partir"
      ]
    },
    {
      "cell_type": "code",
      "metadata": {
        "id": "Mko4tuYU96np",
        "outputId": "43a89e50-c94b-454c-b4d5-c8626eabbb60",
        "colab": {
          "base_uri": "https://localhost:8080/"
        }
      },
      "source": [
        "# para definir un string multilinea usamos tres comillas seguidas en vez de una\n",
        "preambulo = \"\"\"Nos, los representantes del pueblo de la Nación Argentina, reunidos\n",
        " en Congreso General Constituyente por voluntad y elección de las provincias \n",
        " que la componen, en cumplimiento de pactos preexistentes, con el objeto de \n",
        " constituir la unión nacional, afianzar la justicia, consolidar la paz \n",
        " interior, proveer a la defensa común, promover el bienestar general, y \n",
        " asegurar los beneficios de la libertad, para nosotros, para nuestra \n",
        " posteridad, y para todos los hombres del mundo que quieran habitar en el\n",
        " suelo argentino: invocando la protección de Dios, fuente de toda razón y\n",
        " justicia: ordenamos, decretamos y establecemos esta Constitución, para la\n",
        " Nación Argentina.\"\"\"\n",
        "\n",
        "texto_separado_por_comas = preambulo.split(',')\n",
        "print('El texto separado por comas es:',texto_separado_por_comas)"
      ],
      "execution_count": null,
      "outputs": [
        {
          "output_type": "stream",
          "name": "stdout",
          "text": [
            "El texto separado por comas es: ['Nos', ' los representantes del pueblo de la Nación Argentina', ' reunidos\\n en Congreso General Constituyente por voluntad y elección de las provincias \\n que la componen', ' en cumplimiento de pactos preexistentes', ' con el objeto de \\n constituir la unión nacional', ' afianzar la justicia', ' consolidar la paz \\n interior', ' proveer a la defensa común', ' promover el bienestar general', ' y \\n asegurar los beneficios de la libertad', ' para nosotros', ' para nuestra \\n posteridad', ' y para todos los hombres del mundo que quieran habitar en el\\n suelo argentino: invocando la protección de Dios', ' fuente de toda razón y\\n justicia: ordenamos', ' decretamos y establecemos esta Constitución', ' para la\\n Nación Argentina.']\n"
          ]
        }
      ]
    },
    {
      "cell_type": "markdown",
      "metadata": {
        "id": "lXpXvP1196np"
      },
      "source": [
        "10. Cuente la cantidad de palabras el preambulo"
      ]
    },
    {
      "cell_type": "code",
      "metadata": {
        "id": "WGOEAF5p96nr",
        "outputId": "b25e6937-3932-451a-d094-17c16c4b7c5e",
        "colab": {
          "base_uri": "https://localhost:8080/"
        }
      },
      "source": [
        "palabras=preambulo.split()\n",
        "cantidad_de_palabras = len(palabras)\n",
        "\n",
        "print('La cantidad de palabras son:',cantidad_de_palabras)"
      ],
      "execution_count": null,
      "outputs": [
        {
          "output_type": "stream",
          "name": "stdout",
          "text": [
            "La cantidad de palabras son: 100\n"
          ]
        }
      ]
    },
    {
      "cell_type": "markdown",
      "metadata": {
        "id": "HKDcdHXL96nr"
      },
      "source": [
        "11. Cree un nuevo string que resulte de reemplazar cada apariación de palabra \"de\" en el preambulo por dos arrobas"
      ]
    },
    {
      "cell_type": "code",
      "metadata": {
        "id": "reI8MsPB96nr",
        "outputId": "6c234676-0cea-4673-bca3-075836e5e556",
        "colab": {
          "base_uri": "https://localhost:8080/"
        }
      },
      "source": [
        "nuevo_preambulo = preambulo.replace(\"de\", \"@@\")\n",
        "print('El preambulo cambiado con arrobas es: ',nuevo_preambulo)"
      ],
      "execution_count": null,
      "outputs": [
        {
          "output_type": "stream",
          "name": "stdout",
          "text": [
            "El preambulo cambiado con arrobas es:  Nos, los representantes @@l pueblo @@ la Nación Argentina, reunidos\n",
            " en Congreso General Constituyente por voluntad y elección @@ las provincias \n",
            " que la componen, en cumplimiento @@ pactos preexistentes, con el objeto @@ \n",
            " constituir la unión nacional, afianzar la justicia, consolidar la paz \n",
            " interior, proveer a la @@fensa común, promover el bienestar general, y \n",
            " asegurar los beneficios @@ la libertad, para nosotros, para nuestra \n",
            " posteridad, y para todos los hombres @@l mundo que quieran habitar en el\n",
            " suelo argentino: invocando la protección @@ Dios, fuente @@ toda razón y\n",
            " justicia: or@@namos, @@cretamos y establecemos esta Constitución, para la\n",
            " Nación Argentina.\n"
          ]
        }
      ]
    },
    {
      "cell_type": "markdown",
      "metadata": {
        "id": "DCK_3HbA96nr"
      },
      "source": [
        "## Ejercicios sobre listas y diccionarios\n",
        "referencias: \n",
        "* https://docs.python.org/3/library/stdtypes.html#sequence-types-list-tuple-range \n",
        "* https://docs.python.org/3/library/stdtypes.html#mapping-types-dict"
      ]
    },
    {
      "cell_type": "markdown",
      "metadata": {
        "id": "vZOjaWDS96nr"
      },
      "source": [
        "12. Cree una lista vacia, agregarle 10 valores y muestra por pantalla (usando la función print) el 3 elemento"
      ]
    },
    {
      "cell_type": "markdown",
      "source": [
        "Dos caminos para resolver el ejercicio 12:"
      ],
      "metadata": {
        "id": "U6qk6xLI4jbn"
      }
    },
    {
      "cell_type": "code",
      "source": [
        "#crear lista vacia\n",
        "mi_lista=[]\n",
        "#agregar valores\n",
        "mi_lista.append(1)\n",
        "mi_lista.append(2)\n",
        "mi_lista.append(3)\n",
        "mi_lista.append(4)\n",
        "mi_lista.append(5)\n",
        "mi_lista.append(6)\n",
        "mi_lista.append(7)\n",
        "mi_lista.append(8)\n",
        "mi_lista.append(9)\n",
        "mi_lista.append(10)\n",
        "#mostrar el tercer elemento\n",
        "print(mi_lista[2])\n"
      ],
      "metadata": {
        "id": "tkVRi-qX4mn2",
        "outputId": "d35b467c-2bd9-42bb-cc07-8ff4012e5d65",
        "colab": {
          "base_uri": "https://localhost:8080/"
        }
      },
      "execution_count": 52,
      "outputs": [
        {
          "output_type": "stream",
          "name": "stdout",
          "text": [
            "3\n"
          ]
        }
      ]
    },
    {
      "cell_type": "code",
      "source": [
        "#crear lista con valores del 1 al 10\n",
        "mi_lista=[i for i in range(1,11)]\n",
        "#mostrar el tercer elemento\n",
        "print(mi_lista[2])"
      ],
      "metadata": {
        "id": "k0a-u7bn46d_",
        "outputId": "c416fa68-0fb2-4ba0-c5a2-80f6e9cbd2de",
        "colab": {
          "base_uri": "https://localhost:8080/"
        }
      },
      "execution_count": 53,
      "outputs": [
        {
          "output_type": "stream",
          "name": "stdout",
          "text": [
            "3\n"
          ]
        }
      ]
    },
    {
      "cell_type": "markdown",
      "metadata": {
        "id": "lzz2GuoQ96ns"
      },
      "source": [
        "13. Obtenga el intervalo de la lista desde la posición 3 hasta la 5 incluida"
      ]
    },
    {
      "cell_type": "code",
      "metadata": {
        "id": "-mqvBcXn96ns",
        "outputId": "df002bda-055f-4ba4-b4e0-85d27df30f55",
        "colab": {
          "base_uri": "https://localhost:8080/"
        }
      },
      "source": [
        "intervalo=mi_lista[3:6]\n",
        "print(intervalo)"
      ],
      "execution_count": 55,
      "outputs": [
        {
          "output_type": "stream",
          "name": "stdout",
          "text": [
            "[4, 5, 6]\n"
          ]
        }
      ]
    },
    {
      "cell_type": "markdown",
      "metadata": {
        "id": "0EZKZaSq96ns"
      },
      "source": [
        "14. Complete el codigo para saber si un elemento pertenece a la lista"
      ]
    },
    {
      "cell_type": "code",
      "metadata": {
        "id": "foR0AMMd96ns"
      },
      "source": [
        "lista = [4,'3',3,6,7,4,3,False,'323',3,3,5,6,3]\n",
        "e = 5\n",
        "pertenece = <CODIGO>\n",
        "print('El elemento pertenece a la lista: ',pertenece)"
      ],
      "execution_count": null,
      "outputs": []
    },
    {
      "cell_type": "markdown",
      "metadata": {
        "id": "ZFBaOnUw96ns"
      },
      "source": [
        "15. Complete el codigo para obtener una lista solo con los elementos en las posiciones pares respetando el orden original de la lista. Calcule tambien la cantidad de elementos de esa lista."
      ]
    },
    {
      "cell_type": "code",
      "metadata": {
        "id": "svQXgB0_96nt"
      },
      "source": [
        "lista = [0, 1, 2, 3, 4, 5, 6, 7, 8, 9]\n",
        "lista_solo_elementos_en_posiciones_pares = <CODIGO> \n",
        "print('La lista en posiciones pares es: ',lista_solo_elementos_en_posiciones_pares)"
      ],
      "execution_count": null,
      "outputs": []
    },
    {
      "cell_type": "markdown",
      "metadata": {
        "id": "ut5823_U96nt"
      },
      "source": [
        "16. Imprima por pantalla la posición de la primaria aparición del emento e, la cantidad de veces que aparece. Prueba diferentes valores de $e$. ¿Qué sucede si el valor de $e$ no esta presente en la lista?"
      ]
    },
    {
      "cell_type": "code",
      "metadata": {
        "id": "KCmx1jTz96nt"
      },
      "source": [
        "e = 7\n",
        "lista = [36, 52, 14, 100, 31, 37, 84, 80, 93, 18, 96, 15, 28, 65, 32, 36, 17, 74, 31, 57, 11, 33, 47,\n",
        "         42, 11, 30, 7, 22, 47, 75, 52, 65, 84, 52, 68, 30, 7, 9, 59, 75, 28,]\n",
        "primera_posicion_e = <CODIGO>\n",
        "print('La primera posicion de',e,' es:',primera_posicion_e)"
      ],
      "execution_count": null,
      "outputs": []
    },
    {
      "cell_type": "markdown",
      "metadata": {
        "id": "3Uooib2a96nt"
      },
      "source": [
        "17. Cree un diccionario con alemnos 5 elementos, donde las claves sean DNIs y los significados apellidos"
      ]
    },
    {
      "cell_type": "code",
      "metadata": {
        "id": "vU4lRqRi96nt"
      },
      "source": [
        "dic_dni_apellido = {}\n",
        "<CODIGO>\n",
        "print('Diccionario DNI-APELLIDO: ',dic_dni_apellido)"
      ],
      "execution_count": null,
      "outputs": []
    },
    {
      "cell_type": "markdown",
      "metadata": {
        "id": "rvQ8ua2596nt"
      },
      "source": [
        "18. Cree otro diccionario con la misma información pero donde las claves sean apellidos y los significados DNIs."
      ]
    },
    {
      "cell_type": "code",
      "metadata": {
        "id": "tDkUKAQS96nt"
      },
      "source": [
        "dic_apellido_dni= {}\n",
        "<CODIGO>\n",
        "print('Diccionario APELLIDO-DNI: ',dic_apellido_dni)"
      ],
      "execution_count": null,
      "outputs": []
    },
    {
      "cell_type": "markdown",
      "metadata": {
        "id": "qVGNaN_Z96nu"
      },
      "source": [
        "19. Escriba código para chequar si el apellido que viene en la variable apellido pertence o no al diccionario del ejercicio 6. Escriba otro código para saber si pertenece al diccionario del ejercicio 7. Prueba diferentes apellidos para chequear todos los casos (donde esten en uno y no en otro, etc)"
      ]
    },
    {
      "cell_type": "code",
      "metadata": {
        "id": "tPszY5cP96nu"
      },
      "source": [
        "apellido = 'Perez'\n",
        "pertenece_dic_dni_apellido = <CODIGO>\n",
        "pertenece_dic_apellido_dni = <CODIGO>\n",
        "print('El apellido pertenece al diccionario DNI-APELLIDO',pertenece_dic_dni_apellido)\n",
        "print('El apellido pertenece al diccionario APELLIDO-DNI',pertenece_dic_apellido_dni)"
      ],
      "execution_count": null,
      "outputs": []
    },
    {
      "cell_type": "markdown",
      "metadata": {
        "id": "JF58fHxH96nu"
      },
      "source": [
        "20. Borre algun elemento de los diccionarios y prueba reemplazar algun valor ya definido, ¿Qué pasa con el diccionario?"
      ]
    },
    {
      "cell_type": "code",
      "metadata": {
        "id": "s8FmWfuX96nu"
      },
      "source": [],
      "execution_count": null,
      "outputs": []
    }
  ]
}