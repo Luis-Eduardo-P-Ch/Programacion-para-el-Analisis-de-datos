{
  "nbformat": 4,
  "nbformat_minor": 0,
  "metadata": {
    "kernelspec": {
      "display_name": "Python 3",
      "language": "python",
      "name": "python3"
    },
    "language_info": {
      "codemirror_mode": {
        "name": "ipython",
        "version": 3
      },
      "file_extension": ".py",
      "mimetype": "text/x-python",
      "name": "python",
      "nbconvert_exporter": "python",
      "pygments_lexer": "ipython3",
      "version": "3.7.3"
    },
    "colab": {
      "provenance": [],
      "collapsed_sections": [
        "gOsrQvZ-LWQ5",
        "89vyTtw1LWQ6",
        "BZMjBh-7LWQ8",
        "bSH0EsZsLWQ-",
        "QtdFrByQLWQ_",
        "tKL4ibUALWRD",
        "ZsNVuCJLLWRG"
      ],
      "include_colab_link": true
    }
  },
  "cells": [
    {
      "cell_type": "markdown",
      "metadata": {
        "id": "view-in-github",
        "colab_type": "text"
      },
      "source": [
        "<a href=\"https://colab.research.google.com/github/Luis-Eduardo-P-Ch/Programacion-para-el-Analisis-de-datos/blob/main/Practica4.ipynb\" target=\"_parent\"><img src=\"https://colab.research.google.com/assets/colab-badge.svg\" alt=\"Open In Colab\"/></a>"
      ]
    },
    {
      "cell_type": "markdown",
      "metadata": {
        "id": "6AwUmMspLWQs"
      },
      "source": [
        "# Programación para Análisis de datos\n",
        "## Práctica 4: Pandas\n",
        " \n",
        "\n",
        "\n",
        "<b>Nota:</b>\n",
        "Esta practica esta basada en los ejercicios de varios recursos online como:\n",
        "\n",
        "* https://github.com/ajcr/100-pandas-puzzles/blob/master/100-pandas-puzzles.ipynb\n",
        "* https://www.machinelearningplus.com/python/101-pandas-exercises-python/\n",
        "* https://www.kaggle.com/learn/pandas\n",
        "* https://github.com/facuzeta/pandas_exercises\n",
        "* https://github.com/guipsamora/pandas_exercises\n",
        "\n",
        "\n",
        "<b>Indice:</b>\n",
        "\n",
        "1. [Extracción de datos](#Extraer-datos:-Restaurant)\n",
        "2. [Filtrar datos](#Filtrar-datos)\n",
        "3. [GroupBy](#GroupBy)\n",
        "4. [Apply](#Apply:-Student-Alcohol-Consumption)\n",
        "5. [Merge](#Merge:-Housing-Market)\n",
        "6. [Stats](#Stats:-US---Baby-Names)\n",
        "7. [Deleting](#Deleting:-Iris)\n",
        "8. [Bonus](#lab#Bonus:)"
      ]
    },
    {
      "cell_type": "markdown",
      "metadata": {
        "id": "4X3UIedwLWQx"
      },
      "source": [
        "# Extraer datos: Restaurant\n",
        "Referencias:\n",
        "* [Read_csv](https://pandas.pydata.org/pandas-docs/stable/reference/api/pandas.read_csv.html)\n",
        "* [Group by](https://pandas.pydata.org/pandas-docs/stable/reference/api/pandas.DataFrame.groupby.html)\n",
        "* [dtype](https://pandas.pydata.org/pandas-docs/stable/reference/api/pandas.DataFrame.dtypes.html)\n"
      ]
    },
    {
      "cell_type": "markdown",
      "metadata": {
        "id": "okRDg6tNLWQy"
      },
      "source": [
        "1. Import the necessary libraries"
      ]
    },
    {
      "cell_type": "code",
      "metadata": {
        "jupyter": {
          "outputs_hidden": false
        },
        "id": "2iK3vIQ3LWQy"
      },
      "source": [
        "import pandas as pd"
      ],
      "execution_count": 5,
      "outputs": []
    },
    {
      "cell_type": "markdown",
      "metadata": {
        "id": "xSewdfUzLWQz"
      },
      "source": [
        "2. Import the dataset from this [address](https://facuzeta.github.io/udesa/01_programacion/guias/datasets/chipotle.tsv). "
      ]
    },
    {
      "cell_type": "code",
      "metadata": {
        "id": "_VLIMxRrLWQz",
        "outputId": "253bf189-1a8e-445a-c468-5cf8a5c2b01e",
        "colab": {
          "base_uri": "https://localhost:8080/",
          "height": 423
        }
      },
      "source": [
        "df = pd.DataFrame()\n",
        "df = pd.read_csv('https://facuzeta.github.io/udesa/01_programacion/guias/datasets/chipotle.tsv', sep='\\t')\n",
        "df"
      ],
      "execution_count": 8,
      "outputs": [
        {
          "output_type": "execute_result",
          "data": {
            "text/plain": [
              "      order_id  quantity                              item_name  \\\n",
              "0            1         1           Chips and Fresh Tomato Salsa   \n",
              "1            1         1                                   Izze   \n",
              "2            1         1                       Nantucket Nectar   \n",
              "3            1         1  Chips and Tomatillo-Green Chili Salsa   \n",
              "4            2         2                           Chicken Bowl   \n",
              "...        ...       ...                                    ...   \n",
              "4617      1833         1                          Steak Burrito   \n",
              "4618      1833         1                          Steak Burrito   \n",
              "4619      1834         1                     Chicken Salad Bowl   \n",
              "4620      1834         1                     Chicken Salad Bowl   \n",
              "4621      1834         1                     Chicken Salad Bowl   \n",
              "\n",
              "                                     choice_description item_price  \n",
              "0                                                   NaN     $2.39   \n",
              "1                                          [Clementine]     $3.39   \n",
              "2                                               [Apple]     $3.39   \n",
              "3                                                   NaN     $2.39   \n",
              "4     [Tomatillo-Red Chili Salsa (Hot), [Black Beans...    $16.98   \n",
              "...                                                 ...        ...  \n",
              "4617  [Fresh Tomato Salsa, [Rice, Black Beans, Sour ...    $11.75   \n",
              "4618  [Fresh Tomato Salsa, [Rice, Sour Cream, Cheese...    $11.75   \n",
              "4619  [Fresh Tomato Salsa, [Fajita Vegetables, Pinto...    $11.25   \n",
              "4620  [Fresh Tomato Salsa, [Fajita Vegetables, Lettu...     $8.75   \n",
              "4621  [Fresh Tomato Salsa, [Fajita Vegetables, Pinto...     $8.75   \n",
              "\n",
              "[4622 rows x 5 columns]"
            ],
            "text/html": [
              "\n",
              "  <div id=\"df-af4de9b5-46e3-46b8-b784-7c80529cd48b\">\n",
              "    <div class=\"colab-df-container\">\n",
              "      <div>\n",
              "<style scoped>\n",
              "    .dataframe tbody tr th:only-of-type {\n",
              "        vertical-align: middle;\n",
              "    }\n",
              "\n",
              "    .dataframe tbody tr th {\n",
              "        vertical-align: top;\n",
              "    }\n",
              "\n",
              "    .dataframe thead th {\n",
              "        text-align: right;\n",
              "    }\n",
              "</style>\n",
              "<table border=\"1\" class=\"dataframe\">\n",
              "  <thead>\n",
              "    <tr style=\"text-align: right;\">\n",
              "      <th></th>\n",
              "      <th>order_id</th>\n",
              "      <th>quantity</th>\n",
              "      <th>item_name</th>\n",
              "      <th>choice_description</th>\n",
              "      <th>item_price</th>\n",
              "    </tr>\n",
              "  </thead>\n",
              "  <tbody>\n",
              "    <tr>\n",
              "      <th>0</th>\n",
              "      <td>1</td>\n",
              "      <td>1</td>\n",
              "      <td>Chips and Fresh Tomato Salsa</td>\n",
              "      <td>NaN</td>\n",
              "      <td>$2.39</td>\n",
              "    </tr>\n",
              "    <tr>\n",
              "      <th>1</th>\n",
              "      <td>1</td>\n",
              "      <td>1</td>\n",
              "      <td>Izze</td>\n",
              "      <td>[Clementine]</td>\n",
              "      <td>$3.39</td>\n",
              "    </tr>\n",
              "    <tr>\n",
              "      <th>2</th>\n",
              "      <td>1</td>\n",
              "      <td>1</td>\n",
              "      <td>Nantucket Nectar</td>\n",
              "      <td>[Apple]</td>\n",
              "      <td>$3.39</td>\n",
              "    </tr>\n",
              "    <tr>\n",
              "      <th>3</th>\n",
              "      <td>1</td>\n",
              "      <td>1</td>\n",
              "      <td>Chips and Tomatillo-Green Chili Salsa</td>\n",
              "      <td>NaN</td>\n",
              "      <td>$2.39</td>\n",
              "    </tr>\n",
              "    <tr>\n",
              "      <th>4</th>\n",
              "      <td>2</td>\n",
              "      <td>2</td>\n",
              "      <td>Chicken Bowl</td>\n",
              "      <td>[Tomatillo-Red Chili Salsa (Hot), [Black Beans...</td>\n",
              "      <td>$16.98</td>\n",
              "    </tr>\n",
              "    <tr>\n",
              "      <th>...</th>\n",
              "      <td>...</td>\n",
              "      <td>...</td>\n",
              "      <td>...</td>\n",
              "      <td>...</td>\n",
              "      <td>...</td>\n",
              "    </tr>\n",
              "    <tr>\n",
              "      <th>4617</th>\n",
              "      <td>1833</td>\n",
              "      <td>1</td>\n",
              "      <td>Steak Burrito</td>\n",
              "      <td>[Fresh Tomato Salsa, [Rice, Black Beans, Sour ...</td>\n",
              "      <td>$11.75</td>\n",
              "    </tr>\n",
              "    <tr>\n",
              "      <th>4618</th>\n",
              "      <td>1833</td>\n",
              "      <td>1</td>\n",
              "      <td>Steak Burrito</td>\n",
              "      <td>[Fresh Tomato Salsa, [Rice, Sour Cream, Cheese...</td>\n",
              "      <td>$11.75</td>\n",
              "    </tr>\n",
              "    <tr>\n",
              "      <th>4619</th>\n",
              "      <td>1834</td>\n",
              "      <td>1</td>\n",
              "      <td>Chicken Salad Bowl</td>\n",
              "      <td>[Fresh Tomato Salsa, [Fajita Vegetables, Pinto...</td>\n",
              "      <td>$11.25</td>\n",
              "    </tr>\n",
              "    <tr>\n",
              "      <th>4620</th>\n",
              "      <td>1834</td>\n",
              "      <td>1</td>\n",
              "      <td>Chicken Salad Bowl</td>\n",
              "      <td>[Fresh Tomato Salsa, [Fajita Vegetables, Lettu...</td>\n",
              "      <td>$8.75</td>\n",
              "    </tr>\n",
              "    <tr>\n",
              "      <th>4621</th>\n",
              "      <td>1834</td>\n",
              "      <td>1</td>\n",
              "      <td>Chicken Salad Bowl</td>\n",
              "      <td>[Fresh Tomato Salsa, [Fajita Vegetables, Pinto...</td>\n",
              "      <td>$8.75</td>\n",
              "    </tr>\n",
              "  </tbody>\n",
              "</table>\n",
              "<p>4622 rows × 5 columns</p>\n",
              "</div>\n",
              "      <button class=\"colab-df-convert\" onclick=\"convertToInteractive('df-af4de9b5-46e3-46b8-b784-7c80529cd48b')\"\n",
              "              title=\"Convert this dataframe to an interactive table.\"\n",
              "              style=\"display:none;\">\n",
              "        \n",
              "  <svg xmlns=\"http://www.w3.org/2000/svg\" height=\"24px\"viewBox=\"0 0 24 24\"\n",
              "       width=\"24px\">\n",
              "    <path d=\"M0 0h24v24H0V0z\" fill=\"none\"/>\n",
              "    <path d=\"M18.56 5.44l.94 2.06.94-2.06 2.06-.94-2.06-.94-.94-2.06-.94 2.06-2.06.94zm-11 1L8.5 8.5l.94-2.06 2.06-.94-2.06-.94L8.5 2.5l-.94 2.06-2.06.94zm10 10l.94 2.06.94-2.06 2.06-.94-2.06-.94-.94-2.06-.94 2.06-2.06.94z\"/><path d=\"M17.41 7.96l-1.37-1.37c-.4-.4-.92-.59-1.43-.59-.52 0-1.04.2-1.43.59L10.3 9.45l-7.72 7.72c-.78.78-.78 2.05 0 2.83L4 21.41c.39.39.9.59 1.41.59.51 0 1.02-.2 1.41-.59l7.78-7.78 2.81-2.81c.8-.78.8-2.07 0-2.86zM5.41 20L4 18.59l7.72-7.72 1.47 1.35L5.41 20z\"/>\n",
              "  </svg>\n",
              "      </button>\n",
              "      \n",
              "  <style>\n",
              "    .colab-df-container {\n",
              "      display:flex;\n",
              "      flex-wrap:wrap;\n",
              "      gap: 12px;\n",
              "    }\n",
              "\n",
              "    .colab-df-convert {\n",
              "      background-color: #E8F0FE;\n",
              "      border: none;\n",
              "      border-radius: 50%;\n",
              "      cursor: pointer;\n",
              "      display: none;\n",
              "      fill: #1967D2;\n",
              "      height: 32px;\n",
              "      padding: 0 0 0 0;\n",
              "      width: 32px;\n",
              "    }\n",
              "\n",
              "    .colab-df-convert:hover {\n",
              "      background-color: #E2EBFA;\n",
              "      box-shadow: 0px 1px 2px rgba(60, 64, 67, 0.3), 0px 1px 3px 1px rgba(60, 64, 67, 0.15);\n",
              "      fill: #174EA6;\n",
              "    }\n",
              "\n",
              "    [theme=dark] .colab-df-convert {\n",
              "      background-color: #3B4455;\n",
              "      fill: #D2E3FC;\n",
              "    }\n",
              "\n",
              "    [theme=dark] .colab-df-convert:hover {\n",
              "      background-color: #434B5C;\n",
              "      box-shadow: 0px 1px 3px 1px rgba(0, 0, 0, 0.15);\n",
              "      filter: drop-shadow(0px 1px 2px rgba(0, 0, 0, 0.3));\n",
              "      fill: #FFFFFF;\n",
              "    }\n",
              "  </style>\n",
              "\n",
              "      <script>\n",
              "        const buttonEl =\n",
              "          document.querySelector('#df-af4de9b5-46e3-46b8-b784-7c80529cd48b button.colab-df-convert');\n",
              "        buttonEl.style.display =\n",
              "          google.colab.kernel.accessAllowed ? 'block' : 'none';\n",
              "\n",
              "        async function convertToInteractive(key) {\n",
              "          const element = document.querySelector('#df-af4de9b5-46e3-46b8-b784-7c80529cd48b');\n",
              "          const dataTable =\n",
              "            await google.colab.kernel.invokeFunction('convertToInteractive',\n",
              "                                                     [key], {});\n",
              "          if (!dataTable) return;\n",
              "\n",
              "          const docLinkHtml = 'Like what you see? Visit the ' +\n",
              "            '<a target=\"_blank\" href=https://colab.research.google.com/notebooks/data_table.ipynb>data table notebook</a>'\n",
              "            + ' to learn more about interactive tables.';\n",
              "          element.innerHTML = '';\n",
              "          dataTable['output_type'] = 'display_data';\n",
              "          await google.colab.output.renderOutput(dataTable, element);\n",
              "          const docLink = document.createElement('div');\n",
              "          docLink.innerHTML = docLinkHtml;\n",
              "          element.appendChild(docLink);\n",
              "        }\n",
              "      </script>\n",
              "    </div>\n",
              "  </div>\n",
              "  "
            ]
          },
          "metadata": {},
          "execution_count": 8
        }
      ]
    },
    {
      "cell_type": "markdown",
      "metadata": {
        "id": "dYY_u41uLWQz"
      },
      "source": [
        "3. Assign it to a variable called chipo."
      ]
    },
    {
      "cell_type": "code",
      "metadata": {
        "jupyter": {
          "outputs_hidden": false
        },
        "id": "ig-N5jkeLWQ0"
      },
      "source": [],
      "execution_count": null,
      "outputs": []
    },
    {
      "cell_type": "markdown",
      "metadata": {
        "id": "VKyZq0DyLWQ0"
      },
      "source": [
        "4. See the first 10 entries"
      ]
    },
    {
      "cell_type": "code",
      "metadata": {
        "jupyter": {
          "outputs_hidden": false
        },
        "id": "sFeQgelFLWQ0"
      },
      "source": [],
      "execution_count": null,
      "outputs": []
    },
    {
      "cell_type": "markdown",
      "metadata": {
        "id": "XOpgSzGTLWQ0"
      },
      "source": [
        "5. What is the number of observations in the dataset?"
      ]
    },
    {
      "cell_type": "code",
      "metadata": {
        "jupyter": {
          "outputs_hidden": false
        },
        "id": "ZlIsthm9LWQ0"
      },
      "source": [],
      "execution_count": null,
      "outputs": []
    },
    {
      "cell_type": "markdown",
      "metadata": {
        "id": "A_zyqaW2LWQ1"
      },
      "source": [
        "6. What is the number of columns in the dataset?"
      ]
    },
    {
      "cell_type": "code",
      "metadata": {
        "jupyter": {
          "outputs_hidden": false
        },
        "id": "FY5NeTYtLWQ1"
      },
      "source": [],
      "execution_count": null,
      "outputs": []
    },
    {
      "cell_type": "markdown",
      "metadata": {
        "id": "kRwZ7UorLWQ1"
      },
      "source": [
        "7. Print the name of all the columns."
      ]
    },
    {
      "cell_type": "code",
      "metadata": {
        "jupyter": {
          "outputs_hidden": false
        },
        "id": "ASWOa3-ZLWQ1"
      },
      "source": [],
      "execution_count": null,
      "outputs": []
    },
    {
      "cell_type": "markdown",
      "metadata": {
        "id": "h0VGApWHLWQ1"
      },
      "source": [
        "9. Which was the most-ordered item? "
      ]
    },
    {
      "cell_type": "code",
      "metadata": {
        "jupyter": {
          "outputs_hidden": false
        },
        "id": "vfUv6xTrLWQ2"
      },
      "source": [],
      "execution_count": null,
      "outputs": []
    },
    {
      "cell_type": "markdown",
      "metadata": {
        "id": "N4deH-NVLWQ2"
      },
      "source": [
        "10. For the most-ordered item, how many items were ordered?"
      ]
    },
    {
      "cell_type": "code",
      "metadata": {
        "jupyter": {
          "outputs_hidden": false
        },
        "id": "etwXa6J7LWQ2"
      },
      "source": [],
      "execution_count": null,
      "outputs": []
    },
    {
      "cell_type": "markdown",
      "metadata": {
        "id": "ntBJqX4SLWQ2"
      },
      "source": [
        "11. What was the most ordered item in the choice_description column?"
      ]
    },
    {
      "cell_type": "code",
      "metadata": {
        "jupyter": {
          "outputs_hidden": false
        },
        "id": "4jzikxFFLWQ2"
      },
      "source": [],
      "execution_count": null,
      "outputs": []
    },
    {
      "cell_type": "markdown",
      "metadata": {
        "id": "_Aq5-jgiLWQ2"
      },
      "source": [
        "12. How many items were orderd in total?"
      ]
    },
    {
      "cell_type": "code",
      "metadata": {
        "jupyter": {
          "outputs_hidden": false
        },
        "id": "eVTihynzLWQ2"
      },
      "source": [],
      "execution_count": null,
      "outputs": []
    },
    {
      "cell_type": "markdown",
      "metadata": {
        "id": "X0Q950_0LWQ3"
      },
      "source": [
        "13. Turn the item price into a float"
      ]
    },
    {
      "cell_type": "markdown",
      "metadata": {
        "id": "rn-xjtF3LWQ3"
      },
      "source": [
        "13.a. Check the item price type"
      ]
    },
    {
      "cell_type": "code",
      "metadata": {
        "jupyter": {
          "outputs_hidden": false
        },
        "id": "FxQw2E8_LWQ3"
      },
      "source": [],
      "execution_count": null,
      "outputs": []
    },
    {
      "cell_type": "markdown",
      "metadata": {
        "id": "52HluI67LWQ3"
      },
      "source": [
        "13.b. Change the type of the column into a float"
      ]
    },
    {
      "cell_type": "code",
      "metadata": {
        "id": "OM3AYtp9LWQ3"
      },
      "source": [],
      "execution_count": null,
      "outputs": []
    },
    {
      "cell_type": "markdown",
      "metadata": {
        "id": "qR_-i3KJLWQ3"
      },
      "source": [
        "13.c. Check the item price type"
      ]
    },
    {
      "cell_type": "code",
      "metadata": {
        "jupyter": {
          "outputs_hidden": false
        },
        "id": "3S7hCVbOLWQ3"
      },
      "source": [],
      "execution_count": null,
      "outputs": []
    },
    {
      "cell_type": "markdown",
      "metadata": {
        "id": "ZzMn0KJOLWQ3"
      },
      "source": [
        "14. How much was the revenue for the period in the dataset?"
      ]
    },
    {
      "cell_type": "code",
      "metadata": {
        "jupyter": {
          "outputs_hidden": false
        },
        "id": "PBOKPQB-LWQ4"
      },
      "source": [],
      "execution_count": null,
      "outputs": []
    },
    {
      "cell_type": "markdown",
      "metadata": {
        "id": "ysnSRPRfLWQ4"
      },
      "source": [
        "15. How many orders were made in the period?"
      ]
    },
    {
      "cell_type": "code",
      "metadata": {
        "jupyter": {
          "outputs_hidden": false
        },
        "id": "nhOFFT2_LWQ4"
      },
      "source": [],
      "execution_count": null,
      "outputs": []
    },
    {
      "cell_type": "markdown",
      "metadata": {
        "id": "BjZjbxbTLWQ4"
      },
      "source": [
        "16. What is the average revenue amount per order?"
      ]
    },
    {
      "cell_type": "code",
      "metadata": {
        "jupyter": {
          "outputs_hidden": false
        },
        "id": "t9u8Q064LWQ4"
      },
      "source": [],
      "execution_count": null,
      "outputs": []
    },
    {
      "cell_type": "markdown",
      "metadata": {
        "id": "6YOOtqiULWQ4"
      },
      "source": [
        "17. How many different items are sold?"
      ]
    },
    {
      "cell_type": "markdown",
      "metadata": {
        "id": "aPIFVViaLWQ4"
      },
      "source": []
    },
    {
      "cell_type": "markdown",
      "metadata": {
        "id": "VllGvAA5LWQ4"
      },
      "source": [
        "18. How many products cost more than $10.00?"
      ]
    },
    {
      "cell_type": "code",
      "metadata": {
        "jupyter": {
          "outputs_hidden": false
        },
        "id": "a4XchAt7LWQ4"
      },
      "source": [],
      "execution_count": null,
      "outputs": []
    },
    {
      "cell_type": "markdown",
      "metadata": {
        "id": "gOsrQvZ-LWQ5"
      },
      "source": [
        "## Filtrar datos\n",
        "Referencias:\n",
        "* [Reset Index](https://pandas.pydata.org/pandas-docs/stable/reference/api/pandas.DataFrame.reset_index.html)\n",
        "* [Sort values](https://pandas.pydata.org/pandas-docs/stable/reference/api/pandas.DataFrame.sort_values.html?highlight=sort_values#pandas.DataFrame.sort_values)"
      ]
    },
    {
      "cell_type": "markdown",
      "metadata": {
        "id": "6QGRjEOKLWQ5"
      },
      "source": [
        "19. What is the price of each item? \n",
        "###### print a data frame with only two columns item_name and item_price"
      ]
    },
    {
      "cell_type": "code",
      "metadata": {
        "jupyter": {
          "outputs_hidden": false
        },
        "id": "MY8EYx4VLWQ5"
      },
      "source": [],
      "execution_count": null,
      "outputs": []
    },
    {
      "cell_type": "markdown",
      "metadata": {
        "id": "XPtZ28GmLWQ5"
      },
      "source": [
        "20. Sort by the name of the item"
      ]
    },
    {
      "cell_type": "code",
      "metadata": {
        "jupyter": {
          "outputs_hidden": false
        },
        "id": "9n9Y_FwQLWQ5"
      },
      "source": [],
      "execution_count": null,
      "outputs": []
    },
    {
      "cell_type": "markdown",
      "metadata": {
        "id": "awtsgNgCLWQ5"
      },
      "source": [
        "21. What was the quantity of the most expensive item ordered?"
      ]
    },
    {
      "cell_type": "code",
      "metadata": {
        "jupyter": {
          "outputs_hidden": false
        },
        "id": "OeknCsF4LWQ5"
      },
      "source": [],
      "execution_count": null,
      "outputs": []
    },
    {
      "cell_type": "markdown",
      "metadata": {
        "id": "HVopqMw6LWQ6"
      },
      "source": [
        "22. How many times was a Veggie Salad Bowl ordered?"
      ]
    },
    {
      "cell_type": "code",
      "metadata": {
        "jupyter": {
          "outputs_hidden": false
        },
        "id": "G5Bc15RpLWQ6"
      },
      "source": [],
      "execution_count": null,
      "outputs": []
    },
    {
      "cell_type": "markdown",
      "metadata": {
        "id": "W3nYokIkLWQ6"
      },
      "source": [
        "23. How many times did someone order more than one Canned Soda?"
      ]
    },
    {
      "cell_type": "code",
      "metadata": {
        "jupyter": {
          "outputs_hidden": false
        },
        "id": "fRafdebdLWQ6"
      },
      "source": [],
      "execution_count": null,
      "outputs": []
    },
    {
      "cell_type": "markdown",
      "metadata": {
        "id": "89vyTtw1LWQ6"
      },
      "source": [
        "## GroupBy"
      ]
    },
    {
      "cell_type": "markdown",
      "metadata": {
        "id": "CbMBY0MaLWQ6"
      },
      "source": [
        "Referencias:\n",
        "* [Describe](https://pandas.pydata.org/pandas-docs/stable/reference/api/pandas.DataFrame.describe.html)\n",
        "\n",
        "GroupBy can be summarized as Split-Apply-Combine. Check out this [Diagram](http://i.imgur.com/yjNkiwL.png)  "
      ]
    },
    {
      "cell_type": "markdown",
      "metadata": {
        "id": "S8fUmNReLWQ6"
      },
      "source": [
        "24. Import the dataset from this [address](https://facuzeta.github.io/udesa/01_programacion/guias/datasets/drinks.csv). "
      ]
    },
    {
      "cell_type": "code",
      "metadata": {
        "id": "JWuQF3ooLWQ6"
      },
      "source": [],
      "execution_count": null,
      "outputs": []
    },
    {
      "cell_type": "markdown",
      "metadata": {
        "id": "vlWc3HFoLWQ6"
      },
      "source": [
        "25. Assign it to a variable called drinks."
      ]
    },
    {
      "cell_type": "code",
      "metadata": {
        "id": "Q_X659CnLWQ7"
      },
      "source": [],
      "execution_count": null,
      "outputs": []
    },
    {
      "cell_type": "markdown",
      "metadata": {
        "id": "tXGKzVXdLWQ7"
      },
      "source": [
        "26. Which continent drinks more beer on average?"
      ]
    },
    {
      "cell_type": "code",
      "metadata": {
        "id": "HR4J7RyPLWQ7"
      },
      "source": [],
      "execution_count": null,
      "outputs": []
    },
    {
      "cell_type": "markdown",
      "metadata": {
        "id": "p6VJItrpLWQ7"
      },
      "source": [
        "27. Print the mean alcohol consumption per continent for every column"
      ]
    },
    {
      "cell_type": "code",
      "metadata": {
        "id": "ppKNwWy8LWQ7"
      },
      "source": [],
      "execution_count": null,
      "outputs": []
    },
    {
      "cell_type": "markdown",
      "metadata": {
        "id": "N74QD1cxLWQ7"
      },
      "source": [
        "28. Print the median alcohol consumption per continent for every column"
      ]
    },
    {
      "cell_type": "code",
      "metadata": {
        "id": "6pE75UkmLWQ7"
      },
      "source": [],
      "execution_count": null,
      "outputs": []
    },
    {
      "cell_type": "markdown",
      "metadata": {
        "id": "-BSFnE3hLWQ7"
      },
      "source": [
        "29. Print the mean, min and max values for spirit consumption."
      ]
    },
    {
      "cell_type": "code",
      "metadata": {
        "id": "uBp31uKnLWQ8"
      },
      "source": [],
      "execution_count": null,
      "outputs": []
    },
    {
      "cell_type": "markdown",
      "metadata": {
        "id": "BZMjBh-7LWQ8"
      },
      "source": [
        "## Apply: Student Alcohol Consumption\n",
        "Referencias:\n",
        "* [apply](https://pandas.pydata.org/pandas-docs/stable/reference/api/pandas.core.groupby.GroupBy.apply.html?highlight=apply#pandas.core.groupby.GroupBy.apply)"
      ]
    },
    {
      "cell_type": "markdown",
      "metadata": {
        "id": "umxEWeSzLWQ8"
      },
      "source": [
        "30. Import the dataset from this [address](https://facuzeta.github.io/udesa/01_programacion/guias/datasets/student-mat.csv)."
      ]
    },
    {
      "cell_type": "code",
      "metadata": {
        "id": "M6MrL8HcLWQ8"
      },
      "source": [],
      "execution_count": null,
      "outputs": []
    },
    {
      "cell_type": "markdown",
      "metadata": {
        "id": "dyXM1qPdLWQ8"
      },
      "source": [
        "31. Assign it to a variable called df."
      ]
    },
    {
      "cell_type": "code",
      "metadata": {
        "jupyter": {
          "outputs_hidden": false
        },
        "id": "fFZ29DniLWQ8"
      },
      "source": [],
      "execution_count": null,
      "outputs": []
    },
    {
      "cell_type": "markdown",
      "metadata": {
        "id": "p6CvdotcLWQ8"
      },
      "source": [
        "32. For the purpose of this exercise slice the dataframe from 'school' until the 'guardian' column"
      ]
    },
    {
      "cell_type": "code",
      "metadata": {
        "jupyter": {
          "outputs_hidden": false
        },
        "id": "xl_mBkCvLWQ9"
      },
      "source": [],
      "execution_count": null,
      "outputs": []
    },
    {
      "cell_type": "markdown",
      "metadata": {
        "id": "YUlGLBRXLWQ9"
      },
      "source": [
        "33. Create a function that will capitalize strings."
      ]
    },
    {
      "cell_type": "code",
      "metadata": {
        "jupyter": {
          "outputs_hidden": false
        },
        "id": "DBzZrB2tLWQ9"
      },
      "source": [],
      "execution_count": null,
      "outputs": []
    },
    {
      "cell_type": "markdown",
      "metadata": {
        "id": "7QNrNaHiLWQ9"
      },
      "source": [
        "34. Capitalize both Mjob and Fjob"
      ]
    },
    {
      "cell_type": "code",
      "metadata": {
        "jupyter": {
          "outputs_hidden": false
        },
        "id": "F0GWhAy8LWQ9"
      },
      "source": [],
      "execution_count": null,
      "outputs": []
    },
    {
      "cell_type": "markdown",
      "metadata": {
        "id": "kLgQiyatLWQ9"
      },
      "source": [
        "35. Print the last elements of the data set."
      ]
    },
    {
      "cell_type": "code",
      "metadata": {
        "jupyter": {
          "outputs_hidden": false
        },
        "id": "CNiJBMoWLWQ9"
      },
      "source": [],
      "execution_count": null,
      "outputs": []
    },
    {
      "cell_type": "markdown",
      "metadata": {
        "id": "S0qa_r_PLWQ9"
      },
      "source": [
        "36. Create a function called majority that returns a boolean value to a new column called legal_drinker (Consider majority as older than 17 years old)"
      ]
    },
    {
      "cell_type": "code",
      "metadata": {
        "jupyter": {
          "outputs_hidden": false
        },
        "id": "3iD4FfR5LWQ-"
      },
      "source": [],
      "execution_count": null,
      "outputs": []
    },
    {
      "cell_type": "markdown",
      "metadata": {
        "id": "bSH0EsZsLWQ-"
      },
      "source": [
        "## Merge: Housing Market\n",
        "Referencias:\n",
        "* [randint](https://docs.scipy.org/doc/numpy-1.15.1/reference/generated/numpy.random.randint.html)"
      ]
    },
    {
      "cell_type": "markdown",
      "metadata": {
        "id": "L0ktOtYkLWQ-"
      },
      "source": [
        "This time we will create our own dataset with fictional numbers to describe a house market. As we are going to create random data don't try to reason of the numbers.\n",
        "\n",
        "37. Import the necessary libraries"
      ]
    },
    {
      "cell_type": "code",
      "metadata": {
        "jupyter": {
          "outputs_hidden": false
        },
        "id": "aS4rAwj7LWQ-"
      },
      "source": [],
      "execution_count": null,
      "outputs": []
    },
    {
      "cell_type": "markdown",
      "metadata": {
        "id": "qdAM7l1NLWQ-"
      },
      "source": [
        "38. Create 3 differents Series, each of length 100, as follows: \n",
        "<br>\n",
        "    The first a random number from 1 to 4 \n",
        "    <br>\n",
        "    The second a random number from 1 to 3\n",
        "    <br>\n",
        "    The third a random number from 10,000 to 30,000"
      ]
    },
    {
      "cell_type": "code",
      "metadata": {
        "jupyter": {
          "outputs_hidden": false
        },
        "id": "ls04bf44LWQ-"
      },
      "source": [],
      "execution_count": null,
      "outputs": []
    },
    {
      "cell_type": "markdown",
      "metadata": {
        "id": "ZZHgEOspLWQ-"
      },
      "source": [
        "39. Let's create a DataFrame by joinning the Series by column"
      ]
    },
    {
      "cell_type": "code",
      "metadata": {
        "jupyter": {
          "outputs_hidden": false
        },
        "id": "clunjO6KLWQ-"
      },
      "source": [],
      "execution_count": null,
      "outputs": []
    },
    {
      "cell_type": "markdown",
      "metadata": {
        "id": "oPQkTdB4LWQ-"
      },
      "source": [
        "40. Change the name of the columns to bedrs, bathrs, price_sqr_meter"
      ]
    },
    {
      "cell_type": "code",
      "metadata": {
        "jupyter": {
          "outputs_hidden": false
        },
        "id": "kkN464JtLWQ_"
      },
      "source": [],
      "execution_count": null,
      "outputs": []
    },
    {
      "cell_type": "markdown",
      "metadata": {
        "id": "OLnEWBTYLWQ_"
      },
      "source": [
        "41. Create a one column DataFrame with the values of the 3 Series and assign it to 'bigcolumn'"
      ]
    },
    {
      "cell_type": "code",
      "metadata": {
        "jupyter": {
          "outputs_hidden": false
        },
        "id": "w_1rlgDtLWQ_"
      },
      "source": [],
      "execution_count": null,
      "outputs": []
    },
    {
      "cell_type": "markdown",
      "metadata": {
        "id": "iiDdr4U1LWQ_"
      },
      "source": [
        "42. Oops, it seems it is going only until index 99. Is it true?"
      ]
    },
    {
      "cell_type": "code",
      "metadata": {
        "jupyter": {
          "outputs_hidden": false
        },
        "id": "hUYiF25yLWQ_"
      },
      "source": [],
      "execution_count": null,
      "outputs": []
    },
    {
      "cell_type": "markdown",
      "metadata": {
        "id": "zAN0F0WALWQ_"
      },
      "source": [
        "43. Reindex the DataFrame so it goes from 0 to 299"
      ]
    },
    {
      "cell_type": "code",
      "metadata": {
        "jupyter": {
          "outputs_hidden": false
        },
        "id": "ZsgD_8YOLWQ_"
      },
      "source": [],
      "execution_count": null,
      "outputs": []
    },
    {
      "cell_type": "markdown",
      "metadata": {
        "id": "QtdFrByQLWQ_"
      },
      "source": [
        "## Stats: US - Baby Names"
      ]
    },
    {
      "cell_type": "markdown",
      "metadata": {
        "id": "sK9aVQuDLWQ_"
      },
      "source": [
        "We are going to use a subset of [US Baby Names](https://www.kaggle.com/kaggle/us-baby-names) from Kaggle.  \n",
        "In the file it will be names from 2004 until 2014"
      ]
    },
    {
      "cell_type": "markdown",
      "metadata": {
        "id": "pE35PJdYLWRA"
      },
      "source": [
        "44. Import the dataset from this [address](https://facuzeta.github.io/udesa/01_programacion/guias/datasets/US_Baby_Names_right.csv.zip). "
      ]
    },
    {
      "cell_type": "code",
      "metadata": {
        "id": "E2tYe3A0LWRA"
      },
      "source": [],
      "execution_count": null,
      "outputs": []
    },
    {
      "cell_type": "markdown",
      "metadata": {
        "id": "rJ03xv9jLWRA"
      },
      "source": [
        "45. Assign it to a variable called baby_names."
      ]
    },
    {
      "cell_type": "code",
      "metadata": {
        "jupyter": {
          "outputs_hidden": false
        },
        "id": "CNJ6l2DHLWRA"
      },
      "source": [],
      "execution_count": null,
      "outputs": []
    },
    {
      "cell_type": "markdown",
      "metadata": {
        "id": "qsSNGjuYLWRA"
      },
      "source": [
        "46. See the first 10 entries"
      ]
    },
    {
      "cell_type": "code",
      "metadata": {
        "jupyter": {
          "outputs_hidden": false
        },
        "id": "1VtGeipNLWRA"
      },
      "source": [],
      "execution_count": null,
      "outputs": []
    },
    {
      "cell_type": "markdown",
      "metadata": {
        "id": "mcaUutMRLWRB"
      },
      "source": [
        "47. Delete the column 'Unnamed: 0' and 'Id'"
      ]
    },
    {
      "cell_type": "code",
      "metadata": {
        "jupyter": {
          "outputs_hidden": false
        },
        "id": "aJl2yJrHLWRB"
      },
      "source": [],
      "execution_count": null,
      "outputs": []
    },
    {
      "cell_type": "markdown",
      "metadata": {
        "id": "vzCo33DqLWRB"
      },
      "source": [
        "48. Is there more male or female names in the dataset?"
      ]
    },
    {
      "cell_type": "code",
      "metadata": {
        "jupyter": {
          "outputs_hidden": false
        },
        "id": "vak_88VELWRB"
      },
      "source": [],
      "execution_count": null,
      "outputs": []
    },
    {
      "cell_type": "markdown",
      "metadata": {
        "id": "1Ngp4l0qLWRB"
      },
      "source": [
        "49. Group the dataset by name and assign to names"
      ]
    },
    {
      "cell_type": "code",
      "metadata": {
        "jupyter": {
          "outputs_hidden": false
        },
        "id": "93D46L-KLWRB"
      },
      "source": [],
      "execution_count": null,
      "outputs": []
    },
    {
      "cell_type": "markdown",
      "metadata": {
        "id": "cORWN_KRLWRB"
      },
      "source": [
        "50. How many different names exist in the dataset?"
      ]
    },
    {
      "cell_type": "code",
      "metadata": {
        "jupyter": {
          "outputs_hidden": false
        },
        "id": "Ymi5Ka0XLWRC"
      },
      "source": [],
      "execution_count": null,
      "outputs": []
    },
    {
      "cell_type": "markdown",
      "metadata": {
        "id": "rFdsXAZNLWRC"
      },
      "source": [
        "51. What is the name with most occurrences?"
      ]
    },
    {
      "cell_type": "code",
      "metadata": {
        "jupyter": {
          "outputs_hidden": false
        },
        "id": "1p3J6D1kLWRC"
      },
      "source": [],
      "execution_count": null,
      "outputs": []
    },
    {
      "cell_type": "markdown",
      "metadata": {
        "id": "Qp6DtXmsLWRC"
      },
      "source": [
        "52. How many different names have the least occurrences?"
      ]
    },
    {
      "cell_type": "code",
      "metadata": {
        "jupyter": {
          "outputs_hidden": false
        },
        "id": "2XjnaGcCLWRC"
      },
      "source": [],
      "execution_count": null,
      "outputs": []
    },
    {
      "cell_type": "markdown",
      "metadata": {
        "id": "l-oJH2LJLWRC"
      },
      "source": [
        "53. What is the median name occurrence?"
      ]
    },
    {
      "cell_type": "code",
      "metadata": {
        "jupyter": {
          "outputs_hidden": false
        },
        "id": "Z_juq4aoLWRD"
      },
      "source": [],
      "execution_count": null,
      "outputs": []
    },
    {
      "cell_type": "markdown",
      "metadata": {
        "id": "9AmT30wKLWRD"
      },
      "source": [
        "54. What is the standard deviation of names?"
      ]
    },
    {
      "cell_type": "code",
      "metadata": {
        "jupyter": {
          "outputs_hidden": false
        },
        "id": "R8IEyVJHLWRD"
      },
      "source": [],
      "execution_count": null,
      "outputs": []
    },
    {
      "cell_type": "markdown",
      "metadata": {
        "id": "my1YgsznLWRD"
      },
      "source": [
        "55. Get a summary with the mean, min, max, std and quartiles."
      ]
    },
    {
      "cell_type": "code",
      "metadata": {
        "jupyter": {
          "outputs_hidden": false
        },
        "id": "rJCvu3QJLWRD"
      },
      "source": [],
      "execution_count": null,
      "outputs": []
    },
    {
      "cell_type": "markdown",
      "metadata": {
        "id": "tKL4ibUALWRD"
      },
      "source": [
        "## Deleting: Iris\n",
        "Referencias:\n",
        "* [fillna](https://pandas.pydata.org/pandas-docs/stable/reference/api/pandas.DataFrame.fillna.html)"
      ]
    },
    {
      "cell_type": "markdown",
      "metadata": {
        "id": "TodOhpWCLWRE"
      },
      "source": [
        "56. Import the dataset from this [address](https://facuzeta.github.io/udesa/01_programacion/guias/datasets/iris.data). "
      ]
    },
    {
      "cell_type": "code",
      "metadata": {
        "id": "IFUctl0HLWRE"
      },
      "source": [],
      "execution_count": null,
      "outputs": []
    },
    {
      "cell_type": "markdown",
      "metadata": {
        "id": "_BdIlmNQLWRE"
      },
      "source": [
        "57. Assign it to a variable called iris"
      ]
    },
    {
      "cell_type": "code",
      "metadata": {
        "jupyter": {
          "outputs_hidden": false
        },
        "id": "nUxhiOlkLWRE"
      },
      "source": [],
      "execution_count": null,
      "outputs": []
    },
    {
      "cell_type": "markdown",
      "metadata": {
        "id": "pjdMlOFpLWRE"
      },
      "source": [
        "58. Create columns for the dataset"
      ]
    },
    {
      "cell_type": "code",
      "metadata": {
        "jupyter": {
          "outputs_hidden": false
        },
        "id": "8oOSAZ-3LWRE"
      },
      "source": [
        "# 1. sepal_length (in cm)\n",
        "# 2. sepal_width (in cm)\n",
        "# 3. petal_length (in cm)\n",
        "# 4. petal_width (in cm)\n",
        "# 5. class"
      ],
      "execution_count": null,
      "outputs": []
    },
    {
      "cell_type": "markdown",
      "metadata": {
        "id": "u7xuSc4JLWRE"
      },
      "source": [
        "59.  Is there any missing value in the dataframe?"
      ]
    },
    {
      "cell_type": "code",
      "metadata": {
        "jupyter": {
          "outputs_hidden": false
        },
        "id": "RGi0PsW7LWRE"
      },
      "source": [],
      "execution_count": null,
      "outputs": []
    },
    {
      "cell_type": "markdown",
      "metadata": {
        "id": "miMk4ugFLWRE"
      },
      "source": [
        "60.  Lets set the values of the rows 10 to 29 of the column 'petal_length' to NaN"
      ]
    },
    {
      "cell_type": "code",
      "metadata": {
        "jupyter": {
          "outputs_hidden": false
        },
        "id": "JWxjRXy1LWRF"
      },
      "source": [],
      "execution_count": null,
      "outputs": []
    },
    {
      "cell_type": "markdown",
      "metadata": {
        "id": "CtNc6WWFLWRF"
      },
      "source": [
        "61. Good, now lets substitute the NaN values to 1.0"
      ]
    },
    {
      "cell_type": "code",
      "metadata": {
        "jupyter": {
          "outputs_hidden": false
        },
        "id": "AL5BOQdoLWRF"
      },
      "source": [],
      "execution_count": null,
      "outputs": []
    },
    {
      "cell_type": "markdown",
      "metadata": {
        "id": "RWsRRCAzLWRF"
      },
      "source": [
        "62. Now let's delete the column class"
      ]
    },
    {
      "cell_type": "code",
      "metadata": {
        "jupyter": {
          "outputs_hidden": false
        },
        "id": "OMklvz1JLWRF"
      },
      "source": [],
      "execution_count": null,
      "outputs": []
    },
    {
      "cell_type": "markdown",
      "metadata": {
        "id": "FwLeZYcCLWRF"
      },
      "source": [
        "63.  Set the first 3 rows as NaN"
      ]
    },
    {
      "cell_type": "code",
      "metadata": {
        "jupyter": {
          "outputs_hidden": false
        },
        "id": "4d0HI_4WLWRF"
      },
      "source": [],
      "execution_count": null,
      "outputs": []
    },
    {
      "cell_type": "markdown",
      "metadata": {
        "id": "h3sgAW03LWRF"
      },
      "source": [
        "64.  Delete the rows that have NaN"
      ]
    },
    {
      "cell_type": "code",
      "metadata": {
        "jupyter": {
          "outputs_hidden": false
        },
        "id": "FLyyQoa0LWRG"
      },
      "source": [],
      "execution_count": null,
      "outputs": []
    },
    {
      "cell_type": "markdown",
      "metadata": {
        "id": "5sGGCSHpLWRG"
      },
      "source": [
        "65. Reset the index so it begins with 0 again"
      ]
    },
    {
      "cell_type": "code",
      "metadata": {
        "jupyter": {
          "outputs_hidden": false
        },
        "id": "pQC3eUQ4LWRG"
      },
      "source": [],
      "execution_count": null,
      "outputs": []
    },
    {
      "cell_type": "markdown",
      "metadata": {
        "id": "ZsNVuCJLLWRG"
      },
      "source": [
        "## Bonus:\n",
        "Si quiere mas ejercicios visitar:\n",
        "* https://github.com/ajcr/100-pandas-puzzles/blob/master/100-pandas-puzzles.ipynb\n",
        "* https://www.machinelearningplus.com/python/101-pandas-exercises-python/"
      ]
    },
    {
      "cell_type": "code",
      "metadata": {
        "id": "PbtF3fLXLWRG"
      },
      "source": [],
      "execution_count": null,
      "outputs": []
    }
  ]
}