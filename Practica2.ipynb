{
  "cells": [
    {
      "cell_type": "markdown",
      "metadata": {
        "id": "view-in-github",
        "colab_type": "text"
      },
      "source": [
        "<a href=\"https://colab.research.google.com/github/Luis-Eduardo-P-Ch/Programacion-para-el-Analisis-de-datos/blob/main/Practica2.ipynb\" target=\"_parent\"><img src=\"https://colab.research.google.com/assets/colab-badge.svg\" alt=\"Open In Colab\"/></a>"
      ]
    },
    {
      "cell_type": "markdown",
      "metadata": {
        "id": "99_4eyfyxskq"
      },
      "source": [
        "# Programación para Analisis de datos\n",
        "## Práctica 2: Introducción a Python II\n",
        "## Índice:\n",
        "\n",
        "1. [Condicionales](#Ejercicios-con-condicionales)\n",
        "2. [Ciclos](#Ejercicios-con-Ciclos)\n",
        "3. [Funciones](#Ejercicios-con-funciones)\n",
        "4. [Ejercicios Extras](#Ejercicios-Extras)\n",
        "\n",
        "\n",
        "<b>Nota:</b>\n",
        "Esta práctica contiene ejercicios que cubren los diferentes temas vistos en la introducción de Python como lenguaje de programación. En las celdas de código, donde vea $<CODIGO>$, debera completar con el código que resuelva lo que se pide. En la mayoria de los ejercicios se debera recurrir a las referencias técnicas para resolver los enunciados. Bajo cada seccion esta el link a las referencias oficiales de python, sin embargo no dude en usar otras fuentes.\n",
        "\n",
        "<hr>\n",
        "\n",
        "## Ejercicios con condicionales</b>\n",
        "referencias: https://www.w3schools.com/python/python_conditions.asp\n"
      ]
    },
    {
      "cell_type": "markdown",
      "metadata": {
        "id": "1RiFw5nsxskw"
      },
      "source": [
        "1. Programa el comportamiento de un modulo de un numero, es decir, si el numero es negativo le cambia el signo. Si el numero es positivo lo deja tal como esta"
      ]
    },
    {
      "cell_type": "code",
      "execution_count": null,
      "metadata": {
        "id": "_F2eD3-Hxskx",
        "outputId": "60376978-900d-496c-ad9c-dbb340954c06",
        "colab": {
          "base_uri": "https://localhost:8080/"
        }
      },
      "outputs": [
        {
          "output_type": "stream",
          "name": "stdout",
          "text": [
            "3\n"
          ]
        }
      ],
      "source": [
        "x=3\n",
        "if x>0:\n",
        "  resultado=abs(x)\n",
        "else:\n",
        "  resultado=x*-1\n",
        "print(resultado)"
      ]
    },
    {
      "cell_type": "markdown",
      "metadata": {
        "id": "cy6c9-7Sxskz"
      },
      "source": [
        "2. El siguiente codigo imprime por pantalla si un numero es divisible por otro. Este codigo tiene un error, descubralo y arreglelo."
      ]
    },
    {
      "cell_type": "code",
      "execution_count": null,
      "metadata": {
        "id": "H244tq6Yxskz"
      },
      "outputs": [],
      "source": [
        "a = 7\n",
        "b = 2\n",
        "if a%b == 0:\n",
        "    print(a,'divide a ',b)\n",
        "else:\n",
        "    print(a,'NO divide a ',b)\n"
      ]
    },
    {
      "cell_type": "markdown",
      "source": [
        "El error en el código es que está verificando si el residuo de la división de a entre b es igual a cero para determinar si a divide a b, lo cual es incorrecto. La verificación debería ser al revés, es decir, si el residuo de la división de b entre a es igual a cero, entonces a divide a b.\n",
        "\n",
        "El código corregido debería ser el siguiente:"
      ],
      "metadata": {
        "id": "DW25D18zy_37"
      }
    },
    {
      "cell_type": "code",
      "source": [
        "a = 7\n",
        "b = 2\n",
        "if b%a == 0:\n",
        "    print(b,'divide a ',a)\n",
        "else:\n",
        "    print(b,'NO divide a ',a)"
      ],
      "metadata": {
        "id": "jbGmp_OpzAeE",
        "outputId": "5e1d5fa0-f539-4591-aa44-b43c8d165227",
        "colab": {
          "base_uri": "https://localhost:8080/"
        }
      },
      "execution_count": null,
      "outputs": [
        {
          "output_type": "stream",
          "name": "stdout",
          "text": [
            "2 NO divide a  7\n"
          ]
        }
      ]
    },
    {
      "cell_type": "markdown",
      "metadata": {
        "id": "N5pqxXhexsk1"
      },
      "source": [
        "3. Escriba un código que imprima por pantalla si un numero es divisible por 3 y por 2. Debe imprimir todas las condiciones posibles, es decir, si es divisible por uno y no por el otro."
      ]
    },
    {
      "cell_type": "code",
      "execution_count": null,
      "metadata": {
        "id": "KUhd8flDxsk1",
        "outputId": "17f36d23-3766-465b-c1d7-ecf14f914c6b",
        "colab": {
          "base_uri": "https://localhost:8080/"
        }
      },
      "outputs": [
        {
          "output_type": "stream",
          "name": "stdout",
          "text": [
            "12 es divisible por 3 y por 2\n"
          ]
        }
      ],
      "source": [
        "num=12\n",
        "\n",
        "if num % 3==0:\n",
        "  if num%2==0:\n",
        "    print(num, \"es divisible por 3 y por 2\")\n",
        "  else:\n",
        "    print(num, \"es divisible por 3 pero no por 2\")\n",
        "else:\n",
        "  if num%2==0:\n",
        "    print(num, \"no es divisible por 3 pero es divisible por 2\")\n",
        "  else:\n",
        "    print(num,\"no es divisible por 3 ni por 2\")"
      ]
    },
    {
      "cell_type": "markdown",
      "metadata": {
        "id": "8Nw3oWEYxsk2"
      },
      "source": [
        "4. Escriba un código para dado un entero del 1 al 7 imprima el dia de la semana. Ahora escriba tambien una solución que resuelva lo mismo pero no use ningun if"
      ]
    },
    {
      "cell_type": "code",
      "execution_count": null,
      "metadata": {
        "id": "tUqkWIBJxsk4",
        "outputId": "4a8339df-a0f9-44f1-f31f-e9e80171446f",
        "colab": {
          "base_uri": "https://localhost:8080/"
        }
      },
      "outputs": [
        {
          "output_type": "stream",
          "name": "stdout",
          "text": [
            "Domingo\n"
          ]
        }
      ],
      "source": [
        "num=7\n",
        "\n",
        "if num==1:\n",
        "  print(\"Lunes\")\n",
        "elif num==2:\n",
        "  print(\"Martes\")\n",
        "elif num==3:\n",
        "  print(\"Miercoles\")\n",
        "elif num==4:\n",
        "  print(\"Jueves\")\n",
        "elif num==5:\n",
        "  print(\"Viernes\")\n",
        "elif num==6:\n",
        "  print(\"Sabado\")\n",
        "elif num==7:\n",
        "  print(\"Domingo\")\n",
        "else:\n",
        "  print(\" El numero no está en el rango válido (1-7\")"
      ]
    },
    {
      "cell_type": "code",
      "source": [
        "num=7\n",
        "dias_semana=[\"Lunes\", \"Martes\", \"Miercoles\", \"Jueves\", \"Viernes\", \"Sabado\", \"Domingo\"]\n",
        "\n",
        "if num>=1 and num <=7:\n",
        "  print(dias_semana[num-1])\n",
        "else:\n",
        "  print(\"El número no está en el rango válido (1-7)\")"
      ],
      "metadata": {
        "id": "4O7-dk361Fvb",
        "outputId": "0905749d-92c7-42ce-bfb8-f835d346c839",
        "colab": {
          "base_uri": "https://localhost:8080/"
        }
      },
      "execution_count": null,
      "outputs": [
        {
          "output_type": "stream",
          "name": "stdout",
          "text": [
            "Domingo\n"
          ]
        }
      ]
    },
    {
      "cell_type": "code",
      "source": [
        "dias_semana=[\"Lunes\", \"Martes\", \"Miercoles\", \"Jueves\", \"Viernes\", \"Sabado\", \"Domingo\"]\n",
        "\n",
        "def dame_dia_i(i):\n",
        "  return dias_semana[i-1]\n",
        "dame_dia_i(2)"
      ],
      "metadata": {
        "id": "wyFyA35MnsHn",
        "outputId": "435ac734-728e-48aa-c40f-da923022f5fa",
        "colab": {
          "base_uri": "https://localhost:8080/",
          "height": 36
        }
      },
      "execution_count": 2,
      "outputs": [
        {
          "output_type": "execute_result",
          "data": {
            "text/plain": [
              "'Martes'"
            ],
            "application/vnd.google.colaboratory.intrinsic+json": {
              "type": "string"
            }
          },
          "metadata": {},
          "execution_count": 2
        }
      ]
    },
    {
      "cell_type": "markdown",
      "metadata": {
        "id": "f0ijhQ29xsk5"
      },
      "source": [
        "## Ejercicios con Ciclos\n",
        "referencias: https://www.w3schools.com/python/python_for_loops.asp"
      ]
    },
    {
      "cell_type": "markdown",
      "metadata": {
        "id": "YzwK6jO6xsk6"
      },
      "source": [
        "5. Escriba un codigo que imprima los numeros del uno al 10 un numero por linea."
      ]
    },
    {
      "cell_type": "code",
      "execution_count": null,
      "metadata": {
        "id": "n7ZS7UCCxsk6",
        "outputId": "1ae9bd0a-d72e-4a46-f627-315a069a01a1",
        "colab": {
          "base_uri": "https://localhost:8080/"
        }
      },
      "outputs": [
        {
          "output_type": "stream",
          "name": "stdout",
          "text": [
            "1\n",
            "2\n",
            "3\n",
            "4\n",
            "5\n",
            "6\n",
            "7\n",
            "8\n",
            "9\n",
            "10\n"
          ]
        }
      ],
      "source": [
        "i=1\n",
        "\n",
        "while i<=10:\n",
        "  print(i)\n",
        "  i+=1"
      ]
    },
    {
      "cell_type": "markdown",
      "metadata": {
        "id": "uSIaKE_uxsk7"
      },
      "source": [
        "6. Imprima lo mismo del ejercicio anterior pero usando for y range.\n",
        "\n"
      ]
    },
    {
      "cell_type": "code",
      "execution_count": null,
      "metadata": {
        "id": "P_iXE9D-xsk7",
        "outputId": "e3788484-a1b8-4fda-b78e-f8e991bd8c1f",
        "colab": {
          "base_uri": "https://localhost:8080/"
        }
      },
      "outputs": [
        {
          "output_type": "stream",
          "name": "stdout",
          "text": [
            "1\n",
            "2\n",
            "3\n",
            "4\n",
            "5\n",
            "6\n",
            "7\n",
            "8\n",
            "9\n",
            "10\n"
          ]
        }
      ],
      "source": [
        "for i in range(1,11):\n",
        "  print(i)"
      ]
    },
    {
      "cell_type": "markdown",
      "metadata": {
        "id": "HyclvJJ_xsk8"
      },
      "source": [
        "7. Guarde en una lista todos los numeros menores a 100 que sean pares\n",
        "\n"
      ]
    },
    {
      "cell_type": "code",
      "execution_count": null,
      "metadata": {
        "id": "lcp1mtIixsk8",
        "outputId": "82941430-188d-4d1e-e520-4e7f6cd990d1",
        "colab": {
          "base_uri": "https://localhost:8080/"
        }
      },
      "outputs": [
        {
          "output_type": "stream",
          "name": "stdout",
          "text": [
            "[2, 4, 6, 8, 10, 12, 14, 16, 18, 20, 22, 24, 26, 28, 30, 32, 34, 36, 38, 40, 42, 44, 46, 48, 50, 52, 54, 56, 58, 60, 62, 64, 66, 68, 70, 72, 74, 76, 78, 80, 82, 84, 86, 88, 90, 92, 94, 96, 98, 100]\n"
          ]
        }
      ],
      "source": [
        "numeros_pares_menores_a_100 = []\n",
        "for i in range(1, 101):\n",
        "    # Chequeamos si el numero que estoy usando para iterar es par o no\n",
        "    if i%2==0:\n",
        "        # Si estoy aca es porque el numero es par, entonces lo agrego a la lista numeros_pares_menores_a_100\n",
        "        numeros_pares_menores_a_100.append(i)\n",
        "        \n",
        "# Imprimo los numeros pares menores a 100 \n",
        "print(numeros_pares_menores_a_100)\n",
        "    \n",
        "        "
      ]
    },
    {
      "cell_type": "code",
      "source": [
        "lista_hasta_100=list(range(100))\n",
        "[numero for numero in lista_hasta_100 if numero%2==0]"
      ],
      "metadata": {
        "id": "5zQPgXZWod4h",
        "outputId": "da8e8a5f-d5be-4d20-d406-0b99dba7459c",
        "colab": {
          "base_uri": "https://localhost:8080/"
        }
      },
      "execution_count": 3,
      "outputs": [
        {
          "output_type": "execute_result",
          "data": {
            "text/plain": [
              "[0,\n",
              " 2,\n",
              " 4,\n",
              " 6,\n",
              " 8,\n",
              " 10,\n",
              " 12,\n",
              " 14,\n",
              " 16,\n",
              " 18,\n",
              " 20,\n",
              " 22,\n",
              " 24,\n",
              " 26,\n",
              " 28,\n",
              " 30,\n",
              " 32,\n",
              " 34,\n",
              " 36,\n",
              " 38,\n",
              " 40,\n",
              " 42,\n",
              " 44,\n",
              " 46,\n",
              " 48,\n",
              " 50,\n",
              " 52,\n",
              " 54,\n",
              " 56,\n",
              " 58,\n",
              " 60,\n",
              " 62,\n",
              " 64,\n",
              " 66,\n",
              " 68,\n",
              " 70,\n",
              " 72,\n",
              " 74,\n",
              " 76,\n",
              " 78,\n",
              " 80,\n",
              " 82,\n",
              " 84,\n",
              " 86,\n",
              " 88,\n",
              " 90,\n",
              " 92,\n",
              " 94,\n",
              " 96,\n",
              " 98]"
            ]
          },
          "metadata": {},
          "execution_count": 3
        }
      ]
    },
    {
      "cell_type": "markdown",
      "metadata": {
        "id": "vwuit_H_xsk8"
      },
      "source": [
        "8. Calcule todos los divisores de un número $n$. Pruebe distintos valores para la variable $n$. Pruebe escribirlos con un $while$ y con un $for$\n",
        "\n"
      ]
    },
    {
      "cell_type": "code",
      "source": [
        "numero=int(input(\"ingrese un número\"))\n",
        "\n",
        "print(\"Los numeros divisores de\", numero, \"son:\")\n",
        "for i in range(1, numero +1):\n",
        "  if numero%i==0:\n",
        "    print(i)"
      ],
      "metadata": {
        "id": "ElalExvN_MNr",
        "outputId": "4fffeec9-190c-4878-a24d-19c8099d29ad",
        "colab": {
          "base_uri": "https://localhost:8080/"
        }
      },
      "execution_count": null,
      "outputs": [
        {
          "output_type": "stream",
          "name": "stdout",
          "text": [
            "ingrese un número6\n",
            "Los numeros divisores de 6 son:\n",
            "1\n",
            "2\n",
            "3\n",
            "6\n"
          ]
        }
      ]
    },
    {
      "cell_type": "code",
      "execution_count": null,
      "metadata": {
        "id": "DqsOOWojxsk9",
        "outputId": "c3f72490-72da-471f-8c9f-64f083abef8a",
        "colab": {
          "base_uri": "https://localhost:8080/"
        }
      },
      "outputs": [
        {
          "output_type": "stream",
          "name": "stdout",
          "text": [
            "Ingrese un número: 9\n",
            "Los divisores de 9 son: \n",
            "1\n",
            "3\n",
            "9\n"
          ]
        }
      ],
      "source": [
        "numero=int(input(\"Ingrese un número: \"))\n",
        "\n",
        "print( \"Los divisores de\", numero, \"son: \")\n",
        "\n",
        "i=1\n",
        "while i<=numero:\n",
        "  if numero%i==0:\n",
        "    print(i)\n",
        "  i+=1\n",
        "\n"
      ]
    },
    {
      "cell_type": "code",
      "source": [
        "def divisores(numero):\n",
        "  lista_de_divisores=[]\n",
        "  for posible_divisor in range(1, numero+1):\n",
        "    if numero%posible_divisor==0:\n",
        "      lista_de_divisores.append(posible_divisor)\n",
        "  return lista_de_divisores\n",
        "divisores(10)\n"
      ],
      "metadata": {
        "id": "WbkCswHmq92V",
        "outputId": "e4d19ac5-e088-4df1-8294-fee042da189f",
        "colab": {
          "base_uri": "https://localhost:8080/"
        }
      },
      "execution_count": 9,
      "outputs": [
        {
          "output_type": "execute_result",
          "data": {
            "text/plain": [
              "[1, 2, 5, 10]"
            ]
          },
          "metadata": {},
          "execution_count": 9
        }
      ]
    },
    {
      "cell_type": "markdown",
      "metadata": {
        "id": "IwuDBNERxsk-"
      },
      "source": [
        "9. Imprima por pantalla todos los numeros primos menos a $n$, pruebe con diferentes valores de $n$\n",
        "\n"
      ]
    },
    {
      "cell_type": "code",
      "execution_count": null,
      "metadata": {
        "id": "nB-zbEybxsk-",
        "outputId": "56132e1d-5734-4025-8159-f65e5fa4112e",
        "colab": {
          "base_uri": "https://localhost:8080/"
        }
      },
      "outputs": [
        {
          "output_type": "stream",
          "name": "stdout",
          "text": [
            "ingrese un número: 100\n",
            "Los numeros primos menores a 100 son: \n",
            "2\n",
            "3\n",
            "5\n",
            "7\n",
            "11\n",
            "13\n",
            "17\n",
            "19\n",
            "23\n",
            "29\n",
            "31\n",
            "37\n",
            "41\n",
            "43\n",
            "47\n",
            "53\n",
            "59\n",
            "61\n",
            "67\n",
            "71\n",
            "73\n",
            "79\n",
            "83\n",
            "89\n",
            "97\n"
          ]
        }
      ],
      "source": [
        "numero= int(input(\"ingrese un número: \"))\n",
        "\n",
        "print(\"Los numeros primos menores a\", numero, \"son: \")\n",
        "\n",
        "for i in range(2, numero):\n",
        "  es_primo=True\n",
        "  for j in range(2,i):\n",
        "    if i%j==0:\n",
        "      es_primo=False\n",
        "      break\n",
        "  if es_primo:\n",
        "    print(i)"
      ]
    },
    {
      "cell_type": "code",
      "source": [
        "numero= int(input(\"Ingrese un número: \"))\n",
        "\n",
        "print(\"Los números primos menores a \", numero, \"son: \")\n",
        "\n",
        "i=2\n",
        "while i<numero:\n",
        "  es_primo=True\n",
        "  j=2\n",
        "  while j<i:\n",
        "    if i%j==0:\n",
        "      es_primo=False\n",
        "      break\n",
        "    j+=1\n",
        "  if es_primo:\n",
        "    print(i)\n",
        "  i+=1\n"
      ],
      "metadata": {
        "id": "UXFSG2AkCqoH",
        "outputId": "7688f67a-9d6e-466f-84fd-8d2e4b9d758a",
        "colab": {
          "base_uri": "https://localhost:8080/"
        }
      },
      "execution_count": null,
      "outputs": [
        {
          "output_type": "stream",
          "name": "stdout",
          "text": [
            "Ingrese un número: 10\n",
            "Los números primos menores a  10 son: \n",
            "2\n",
            "3\n",
            "5\n",
            "7\n"
          ]
        }
      ]
    },
    {
      "cell_type": "code",
      "source": [
        "def es_primo(numero):\n",
        "  return len(divisores(numero))==2\n",
        "es_primo(7)"
      ],
      "metadata": {
        "id": "HCwtEi7MtFgy",
        "outputId": "db0187eb-8f78-4f79-b415-258202c9b082",
        "colab": {
          "base_uri": "https://localhost:8080/"
        }
      },
      "execution_count": 12,
      "outputs": [
        {
          "output_type": "execute_result",
          "data": {
            "text/plain": [
              "True"
            ]
          },
          "metadata": {},
          "execution_count": 12
        }
      ]
    },
    {
      "cell_type": "markdown",
      "metadata": {
        "id": "-3UVUOoUxsk_"
      },
      "source": [
        "## Ejercicios con funciones\n",
        "Algunos de los siguientes ejercicios fueron tomados de diferentes recursos como: \n",
        "* https://github.com/zhiwehu/Python-programming-exercises/blob/master/100%2B%20Python%20challenging%20programming%20exercises.txt\n",
        "* https://github.com/darkprinx/100-plus-Python-programming-exercises-extended\n",
        "* https://projecteuler.net/"
      ]
    },
    {
      "cell_type": "markdown",
      "metadata": {
        "id": "edtda4Swxsk_"
      },
      "source": [
        "10. Encapsule las funciones de los ejercicios 8 y 9 de modo que tomen el parámetro $n$. Experimente con diferentes parámetros"
      ]
    },
    {
      "cell_type": "code",
      "execution_count": null,
      "metadata": {
        "id": "WtrRHSsKxsk_"
      },
      "outputs": [],
      "source": [
        "# Funcion lista de divisores\n",
        "def lista_de_divisores(n):\n",
        "    <CODIGO>\n",
        "\n",
        "# Funcion codigo numeros primos menores a n\n",
        "<CODIGO>\n",
        "\n",
        "\n"
      ]
    },
    {
      "cell_type": "markdown",
      "metadata": {
        "id": "f_K6fnckxslA"
      },
      "source": [
        "11. Escriba una funcion que calcule todos los numeros divisibles por 7 pero no multiplos de 5 entre 1000 y 5000.\n",
        "\n",
        "La funcion debe devolver una lista con estos numeros\n",
        "Hints: Puede usar la funcion range(desde,hasta)\n"
      ]
    },
    {
      "cell_type": "code",
      "source": [
        "def divisibles_7_no_multiplos_5():\n",
        "  resultados=[]\n",
        "  for i in range(1000,5001):\n",
        "    if i %7== 0 and i%5!=0:\n",
        "      resultados.append(i)\n",
        "  return resultados\n",
        "\n",
        "numeros=divisibles_7_no_multiplos_5()\n",
        "print(numeros)"
      ],
      "metadata": {
        "id": "d1YxLZnWEPf4",
        "outputId": "6687a168-f960-48b8-a892-f7b8f5325f68",
        "colab": {
          "base_uri": "https://localhost:8080/"
        }
      },
      "execution_count": null,
      "outputs": [
        {
          "output_type": "stream",
          "name": "stdout",
          "text": [
            "[1001, 1008, 1022, 1029, 1036, 1043, 1057, 1064, 1071, 1078, 1092, 1099, 1106, 1113, 1127, 1134, 1141, 1148, 1162, 1169, 1176, 1183, 1197, 1204, 1211, 1218, 1232, 1239, 1246, 1253, 1267, 1274, 1281, 1288, 1302, 1309, 1316, 1323, 1337, 1344, 1351, 1358, 1372, 1379, 1386, 1393, 1407, 1414, 1421, 1428, 1442, 1449, 1456, 1463, 1477, 1484, 1491, 1498, 1512, 1519, 1526, 1533, 1547, 1554, 1561, 1568, 1582, 1589, 1596, 1603, 1617, 1624, 1631, 1638, 1652, 1659, 1666, 1673, 1687, 1694, 1701, 1708, 1722, 1729, 1736, 1743, 1757, 1764, 1771, 1778, 1792, 1799, 1806, 1813, 1827, 1834, 1841, 1848, 1862, 1869, 1876, 1883, 1897, 1904, 1911, 1918, 1932, 1939, 1946, 1953, 1967, 1974, 1981, 1988, 2002, 2009, 2016, 2023, 2037, 2044, 2051, 2058, 2072, 2079, 2086, 2093, 2107, 2114, 2121, 2128, 2142, 2149, 2156, 2163, 2177, 2184, 2191, 2198, 2212, 2219, 2226, 2233, 2247, 2254, 2261, 2268, 2282, 2289, 2296, 2303, 2317, 2324, 2331, 2338, 2352, 2359, 2366, 2373, 2387, 2394, 2401, 2408, 2422, 2429, 2436, 2443, 2457, 2464, 2471, 2478, 2492, 2499, 2506, 2513, 2527, 2534, 2541, 2548, 2562, 2569, 2576, 2583, 2597, 2604, 2611, 2618, 2632, 2639, 2646, 2653, 2667, 2674, 2681, 2688, 2702, 2709, 2716, 2723, 2737, 2744, 2751, 2758, 2772, 2779, 2786, 2793, 2807, 2814, 2821, 2828, 2842, 2849, 2856, 2863, 2877, 2884, 2891, 2898, 2912, 2919, 2926, 2933, 2947, 2954, 2961, 2968, 2982, 2989, 2996, 3003, 3017, 3024, 3031, 3038, 3052, 3059, 3066, 3073, 3087, 3094, 3101, 3108, 3122, 3129, 3136, 3143, 3157, 3164, 3171, 3178, 3192, 3199, 3206, 3213, 3227, 3234, 3241, 3248, 3262, 3269, 3276, 3283, 3297, 3304, 3311, 3318, 3332, 3339, 3346, 3353, 3367, 3374, 3381, 3388, 3402, 3409, 3416, 3423, 3437, 3444, 3451, 3458, 3472, 3479, 3486, 3493, 3507, 3514, 3521, 3528, 3542, 3549, 3556, 3563, 3577, 3584, 3591, 3598, 3612, 3619, 3626, 3633, 3647, 3654, 3661, 3668, 3682, 3689, 3696, 3703, 3717, 3724, 3731, 3738, 3752, 3759, 3766, 3773, 3787, 3794, 3801, 3808, 3822, 3829, 3836, 3843, 3857, 3864, 3871, 3878, 3892, 3899, 3906, 3913, 3927, 3934, 3941, 3948, 3962, 3969, 3976, 3983, 3997, 4004, 4011, 4018, 4032, 4039, 4046, 4053, 4067, 4074, 4081, 4088, 4102, 4109, 4116, 4123, 4137, 4144, 4151, 4158, 4172, 4179, 4186, 4193, 4207, 4214, 4221, 4228, 4242, 4249, 4256, 4263, 4277, 4284, 4291, 4298, 4312, 4319, 4326, 4333, 4347, 4354, 4361, 4368, 4382, 4389, 4396, 4403, 4417, 4424, 4431, 4438, 4452, 4459, 4466, 4473, 4487, 4494, 4501, 4508, 4522, 4529, 4536, 4543, 4557, 4564, 4571, 4578, 4592, 4599, 4606, 4613, 4627, 4634, 4641, 4648, 4662, 4669, 4676, 4683, 4697, 4704, 4711, 4718, 4732, 4739, 4746, 4753, 4767, 4774, 4781, 4788, 4802, 4809, 4816, 4823, 4837, 4844, 4851, 4858, 4872, 4879, 4886, 4893, 4907, 4914, 4921, 4928, 4942, 4949, 4956, 4963, 4977, 4984, 4991, 4998]\n"
          ]
        }
      ]
    },
    {
      "cell_type": "markdown",
      "metadata": {
        "id": "hGCYDmQYxslA"
      },
      "source": [
        "12. Haga una función que calcule el factorial de un numero $n$"
      ]
    },
    {
      "cell_type": "code",
      "execution_count": null,
      "metadata": {
        "id": "iFyX_hstxslA",
        "outputId": "f57c7eb4-9397-402f-9cec-0f47c1c90ded",
        "colab": {
          "base_uri": "https://localhost:8080/"
        }
      },
      "outputs": [
        {
          "output_type": "stream",
          "name": "stdout",
          "text": [
            "Ingrese un número: 25\n",
            "El factorial de 25 es 15511210043330985984000000\n"
          ]
        }
      ],
      "source": [
        "def factorial(n):\n",
        "  resultado=1\n",
        "  for i in range(1, n+1):\n",
        "    resultado *=i\n",
        "  return resultado\n",
        "\n",
        "numero=int(input(\"Ingrese un número: \"))\n",
        "resultado= factorial(numero)\n",
        "print(\"El factorial de\", numero, \"es\", resultado)\n"
      ]
    },
    {
      "cell_type": "markdown",
      "source": [
        "La función factorial utiliza un bucle for para calcular el factorial de un número n. La variable resultado se inicializa en 1, y luego se itera desde 1 hasta n, multiplicando el valor de resultado por cada número en el rango. Al final de la iteración, la función devuelve el valor de resultado. Ademas, en este código, se utiliza la función input para solicitar al usuario que ingrese un número. Luego, se convierte la entrada en un número entero utilizando la función int. Después, se llama a la función factorial con el número ingresado y se almacena el resultado en la variable resultado. Finalmente, se imprime el resultado."
      ],
      "metadata": {
        "id": "GVHHbm0dHCUG"
      }
    },
    {
      "cell_type": "markdown",
      "metadata": {
        "id": "slI1ufw9xslB"
      },
      "source": [
        "13. Escriba una función que devuelva un diccionario donde las claves sean los numeros del 1 al $n$ (con $n$ parametro de la función) y en el significado de cada clave este guardado el cuadrado de ese numero.\n",
        "\n",
        "Por ejemplo si a la función le entra un 4 la funcion debe devolver {1:1,2:4,3:9,4:16}"
      ]
    },
    {
      "cell_type": "code",
      "execution_count": null,
      "metadata": {
        "id": "mHy0TbcOxslB"
      },
      "outputs": [],
      "source": []
    },
    {
      "cell_type": "markdown",
      "metadata": {
        "id": "GPaoW73ZxslB"
      },
      "source": [
        "14. Escriba una función que tome una lista de enteros y devuelva una lista de lista, donde cada lista contenga los divisores del numero correspondiente.\n",
        "\n",
        "Por ejemplo si función toma como entrada [3,6,12,11], la salida debe ser [[1,3],[1,2,3,6],[1,2,3,6,12],[1,11]]"
      ]
    },
    {
      "cell_type": "code",
      "execution_count": null,
      "metadata": {
        "id": "xsKtPwt2xslB"
      },
      "outputs": [],
      "source": []
    },
    {
      "cell_type": "markdown",
      "metadata": {
        "id": "tlXbFbcyxslB"
      },
      "source": [
        "15. Escriba una función que tome un numero entero y devuelva una lista con tuplas con los numeros primos que lo dividen y la cantidad de veces que el numero primo lo divide.\n",
        "\n",
        "Por ejemplo, si entra el número 2223000 la función debe devolver: [(2,3),(3,2),(13,1),(19,1)] pues $2^3 \\times 3^2 \\times 13^1 \\times 19^1 = 2223000$"
      ]
    },
    {
      "cell_type": "code",
      "execution_count": null,
      "metadata": {
        "id": "OaaiLRKNxslC"
      },
      "outputs": [],
      "source": [
        "\"\"\"\n",
        "Esto es una tupla en python, puede tener una cantidad fija \n",
        "pero arbitraria de elementos (es decir puede ser tan grande\n",
        "como se quiera pero no puede mutar)\"\"\"\n",
        "tupla = (3,6) "
      ]
    },
    {
      "cell_type": "markdown",
      "metadata": {
        "id": "5DvY3mnwxslC"
      },
      "source": [
        "16. Un número palíndromo se lee del derecho y el reves de la misma forma. El palindrome hecho por el producto de dos numeros de dos digitos mas grande es 9009 pues es producto de $91*99$\n",
        "\n",
        "Escriba un código para crear el palindromo más grande hecho por el pruducto de 2 numeros de 3 digitos\n",
        "\n",
        "Nota: Este ejercicio fue tomado de: https://projecteuler.net/problem=4\n"
      ]
    },
    {
      "cell_type": "code",
      "execution_count": null,
      "metadata": {
        "id": "PnrCvwPxxslC"
      },
      "outputs": [],
      "source": []
    },
    {
      "cell_type": "markdown",
      "metadata": {
        "id": "qjjDObK5xslC"
      },
      "source": [
        "17. Escriba una función que devuelve el $i-esimo$ número de la sucesión de Fibonacci  (https://en.wikipedia.org/wiki/Fibonacci_number)"
      ]
    },
    {
      "cell_type": "code",
      "execution_count": null,
      "metadata": {
        "id": "9-sNBAKjxslC"
      },
      "outputs": [],
      "source": []
    },
    {
      "cell_type": "markdown",
      "metadata": {
        "id": "hTjvux2ixslD"
      },
      "source": [
        "## Ejercicios Extras\n",
        "18. Registrese en https://projecteuler.net/ y complete todos los ejercicios que quiera en orden"
      ]
    },
    {
      "cell_type": "code",
      "execution_count": null,
      "metadata": {
        "id": "SjCmexHsxslD"
      },
      "outputs": [],
      "source": []
    },
    {
      "cell_type": "markdown",
      "source": [
        "Ejercicio de la clase del sabado:  Usando Numpy y considerando que el area de un circulo de radio 1 es pi, calcule pi"
      ],
      "metadata": {
        "id": "BugNRavHvUKS"
      }
    },
    {
      "cell_type": "code",
      "source": [],
      "metadata": {
        "id": "IEfduTPAvdui"
      },
      "execution_count": null,
      "outputs": []
    }
  ],
  "metadata": {
    "kernelspec": {
      "display_name": "Python 3",
      "language": "python",
      "name": "python3"
    },
    "language_info": {
      "codemirror_mode": {
        "name": "ipython",
        "version": 3
      },
      "file_extension": ".py",
      "mimetype": "text/x-python",
      "name": "python",
      "nbconvert_exporter": "python",
      "pygments_lexer": "ipython3",
      "version": "3.7.3"
    },
    "colab": {
      "provenance": [],
      "include_colab_link": true
    }
  },
  "nbformat": 4,
  "nbformat_minor": 0
}