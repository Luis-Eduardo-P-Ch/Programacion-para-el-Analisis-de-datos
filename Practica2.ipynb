{
  "cells": [
    {
      "cell_type": "markdown",
      "metadata": {
        "id": "view-in-github",
        "colab_type": "text"
      },
      "source": [
        "<a href=\"https://colab.research.google.com/github/Luis-Eduardo-P-Ch/Programacion-para-el-Analisis-de-datos/blob/main/Practica2.ipynb\" target=\"_parent\"><img src=\"https://colab.research.google.com/assets/colab-badge.svg\" alt=\"Open In Colab\"/></a>"
      ]
    },
    {
      "cell_type": "markdown",
      "metadata": {
        "id": "99_4eyfyxskq"
      },
      "source": [
        "# Programación para Analisis de datos\n",
        "## Práctica 2: Introducción a Python II\n",
        "## Índice:\n",
        "\n",
        "1. [Condicionales](#Ejercicios-con-condicionales)\n",
        "2. [Ciclos](#Ejercicios-con-Ciclos)\n",
        "3. [Funciones](#Ejercicios-con-funciones)\n",
        "4. [Ejercicios Extras](#Ejercicios-Extras)\n",
        "\n",
        "\n",
        "<b>Nota:</b>\n",
        "Esta práctica contiene ejercicios que cubren los diferentes temas vistos en la introducción de Python como lenguaje de programación. En las celdas de código, donde vea $<CODIGO>$, debera completar con el código que resuelva lo que se pide. En la mayoria de los ejercicios se debera recurrir a las referencias técnicas para resolver los enunciados. Bajo cada seccion esta el link a las referencias oficiales de python, sin embargo no dude en usar otras fuentes.\n",
        "\n",
        "<hr>\n",
        "\n",
        "## Ejercicios con condicionales</b>\n",
        "referencias: https://www.w3schools.com/python/python_conditions.asp\n"
      ]
    },
    {
      "cell_type": "markdown",
      "metadata": {
        "id": "1RiFw5nsxskw"
      },
      "source": [
        "1. Programa el comportamiento de un modulo de un numero, es decir, si el numero es negativo le cambia el signo. Si el numero es positivo lo deja tal como esta"
      ]
    },
    {
      "cell_type": "code",
      "execution_count": 4,
      "metadata": {
        "id": "_F2eD3-Hxskx",
        "outputId": "60376978-900d-496c-ad9c-dbb340954c06",
        "colab": {
          "base_uri": "https://localhost:8080/"
        }
      },
      "outputs": [
        {
          "output_type": "stream",
          "name": "stdout",
          "text": [
            "3\n"
          ]
        }
      ],
      "source": [
        "x=3\n",
        "if x>0:\n",
        "  resultado=abs(x)\n",
        "else:\n",
        "  resultado=x*-1\n",
        "print(resultado)"
      ]
    },
    {
      "cell_type": "markdown",
      "metadata": {
        "id": "cy6c9-7Sxskz"
      },
      "source": [
        "2. El siguiente codigo imprime por pantalla si un numero es divisible por otro. Este codigo tiene un error, descubralo y arreglelo."
      ]
    },
    {
      "cell_type": "code",
      "execution_count": null,
      "metadata": {
        "id": "H244tq6Yxskz"
      },
      "outputs": [],
      "source": [
        "a = 7\n",
        "b = 2\n",
        "if a%b == 0:\n",
        "    print(a,'divide a ',b)\n",
        "else:\n",
        "    print(a,'NO divide a ',b)\n"
      ]
    },
    {
      "cell_type": "markdown",
      "source": [
        "El error en el código es que está verificando si el residuo de la división de a entre b es igual a cero para determinar si a divide a b, lo cual es incorrecto. La verificación debería ser al revés, es decir, si el residuo de la división de b entre a es igual a cero, entonces a divide a b.\n",
        "\n",
        "El código corregido debería ser el siguiente:"
      ],
      "metadata": {
        "id": "DW25D18zy_37"
      }
    },
    {
      "cell_type": "code",
      "source": [
        "a = 7\n",
        "b = 2\n",
        "if b%a == 0:\n",
        "    print(b,'divide a ',a)\n",
        "else:\n",
        "    print(b,'NO divide a ',a)"
      ],
      "metadata": {
        "id": "jbGmp_OpzAeE",
        "outputId": "5e1d5fa0-f539-4591-aa44-b43c8d165227",
        "colab": {
          "base_uri": "https://localhost:8080/"
        }
      },
      "execution_count": 5,
      "outputs": [
        {
          "output_type": "stream",
          "name": "stdout",
          "text": [
            "2 NO divide a  7\n"
          ]
        }
      ]
    },
    {
      "cell_type": "markdown",
      "metadata": {
        "id": "N5pqxXhexsk1"
      },
      "source": [
        "3. Escriba un código que imprima por pantalla si un numero es divisible por 3 y por 2. Debe imprimir todas las condiciones posibles, es decir, si es divisible por uno y no por el otro."
      ]
    },
    {
      "cell_type": "code",
      "execution_count": 7,
      "metadata": {
        "id": "KUhd8flDxsk1",
        "outputId": "17f36d23-3766-465b-c1d7-ecf14f914c6b",
        "colab": {
          "base_uri": "https://localhost:8080/"
        }
      },
      "outputs": [
        {
          "output_type": "stream",
          "name": "stdout",
          "text": [
            "12 es divisible por 3 y por 2\n"
          ]
        }
      ],
      "source": [
        "num=12\n",
        "\n",
        "if num % 3==0:\n",
        "  if num%2==0:\n",
        "    print(num, \"es divisible por 3 y por 2\")\n",
        "  else:\n",
        "    print(num, \"es divisible por 3 pero no por 2\")\n",
        "else:\n",
        "  if num%2==0:\n",
        "    print(num, \"no es divisible por 3 pero es divisible por 2\")\n",
        "  else:\n",
        "    print(num,\"no es divisible por 3 ni por 2\")"
      ]
    },
    {
      "cell_type": "markdown",
      "metadata": {
        "id": "8Nw3oWEYxsk2"
      },
      "source": [
        "4. Escriba un código para dado un entero del 1 al 7 imprima el dia de la semana. Ahora escriba tambien una solución que resuelva lo mismo pero no use ningun if"
      ]
    },
    {
      "cell_type": "code",
      "execution_count": 9,
      "metadata": {
        "id": "tUqkWIBJxsk4",
        "outputId": "4a8339df-a0f9-44f1-f31f-e9e80171446f",
        "colab": {
          "base_uri": "https://localhost:8080/"
        }
      },
      "outputs": [
        {
          "output_type": "stream",
          "name": "stdout",
          "text": [
            "Domingo\n"
          ]
        }
      ],
      "source": [
        "num=7\n",
        "\n",
        "if num==1:\n",
        "  print(\"Lunes\")\n",
        "elif num==2:\n",
        "  print(\"Martes\")\n",
        "elif num==3:\n",
        "  print(\"Miercoles\")\n",
        "elif num==4:\n",
        "  print(\"Jueves\")\n",
        "elif num==5:\n",
        "  print(\"Viernes\")\n",
        "elif num==6:\n",
        "  print(\"Sabado\")\n",
        "elif num==7:\n",
        "  print(\"Domingo\")\n",
        "else:\n",
        "  print(\" El numero no está en el rango válido (1-7\")"
      ]
    },
    {
      "cell_type": "code",
      "source": [
        "num=7\n",
        "dias_semana=[\"Lunes\", \"Martes\", \"Miercoles\", \"Jueves\", \"Viernes\", \"Sabado\", \"Domingo\"]\n",
        "\n",
        "if num>=1 and num <=7:\n",
        "  print(dias_semana[num-1])\n",
        "else:\n",
        "  print(\"El número no está en el rango válido (1-7)\")"
      ],
      "metadata": {
        "id": "4O7-dk361Fvb",
        "outputId": "0905749d-92c7-42ce-bfb8-f835d346c839",
        "colab": {
          "base_uri": "https://localhost:8080/"
        }
      },
      "execution_count": 11,
      "outputs": [
        {
          "output_type": "stream",
          "name": "stdout",
          "text": [
            "Domingo\n"
          ]
        }
      ]
    },
    {
      "cell_type": "markdown",
      "metadata": {
        "id": "f0ijhQ29xsk5"
      },
      "source": [
        "## Ejercicios con Ciclos\n",
        "referencias: https://www.w3schools.com/python/python_for_loops.asp"
      ]
    },
    {
      "cell_type": "markdown",
      "metadata": {
        "id": "YzwK6jO6xsk6"
      },
      "source": [
        "5. Escriba un codigo que imprima los numeros del uno al 10 un numero por linea."
      ]
    },
    {
      "cell_type": "code",
      "execution_count": 17,
      "metadata": {
        "id": "n7ZS7UCCxsk6",
        "outputId": "1ae9bd0a-d72e-4a46-f627-315a069a01a1",
        "colab": {
          "base_uri": "https://localhost:8080/"
        }
      },
      "outputs": [
        {
          "output_type": "stream",
          "name": "stdout",
          "text": [
            "1\n",
            "2\n",
            "3\n",
            "4\n",
            "5\n",
            "6\n",
            "7\n",
            "8\n",
            "9\n",
            "10\n"
          ]
        }
      ],
      "source": [
        "i=1\n",
        "\n",
        "while i<=10:\n",
        "  print(i)\n",
        "  i+=1"
      ]
    },
    {
      "cell_type": "markdown",
      "metadata": {
        "id": "uSIaKE_uxsk7"
      },
      "source": [
        "6. Imprima lo mismo del ejercicio anterior pero usando for y range.\n",
        "\n"
      ]
    },
    {
      "cell_type": "code",
      "execution_count": 18,
      "metadata": {
        "id": "P_iXE9D-xsk7",
        "outputId": "e3788484-a1b8-4fda-b78e-f8e991bd8c1f",
        "colab": {
          "base_uri": "https://localhost:8080/"
        }
      },
      "outputs": [
        {
          "output_type": "stream",
          "name": "stdout",
          "text": [
            "1\n",
            "2\n",
            "3\n",
            "4\n",
            "5\n",
            "6\n",
            "7\n",
            "8\n",
            "9\n",
            "10\n"
          ]
        }
      ],
      "source": [
        "for i in range(1,11):\n",
        "  print(i)"
      ]
    },
    {
      "cell_type": "markdown",
      "metadata": {
        "id": "HyclvJJ_xsk8"
      },
      "source": [
        "7. Guarde en una lista todos los numeros menores a 100 que sean pares\n",
        "\n"
      ]
    },
    {
      "cell_type": "code",
      "execution_count": null,
      "metadata": {
        "id": "lcp1mtIixsk8"
      },
      "outputs": [],
      "source": [
        "numeros_pares_menores_a_100 = []\n",
        "for i in range(<CODIGO>):\n",
        "    # Chequeamos si el numero que estoy usando para iterar es par o no\n",
        "    if <CODIGO>:\n",
        "        # Si estoy aca es porque el numero es par, entonces lo agrego a la lista numeros_pares_menores_a_100\n",
        "        <CODIGO>\n",
        "        \n",
        "# Imprimo los numeros pares menores a 100 \n",
        "print(numeros_pares_menores_a_100)\n",
        "    \n",
        "        "
      ]
    },
    {
      "cell_type": "markdown",
      "metadata": {
        "id": "vwuit_H_xsk8"
      },
      "source": [
        "8. Calcule todos los divisores de un número $n$. Pruebe distintos valores para la variable $n$. Pruebe escribirlos con un $while$ y con un $for$\n",
        "\n"
      ]
    },
    {
      "cell_type": "code",
      "execution_count": null,
      "metadata": {
        "id": "DqsOOWojxsk9"
      },
      "outputs": [],
      "source": [
        "n = 123\n",
        "lista_de_divisores = []\n",
        "<CODIGO>\n",
        "# Imprimo los divisores de a 1 \n",
        "print(lista_de_divisores)\n",
        "\n"
      ]
    },
    {
      "cell_type": "markdown",
      "metadata": {
        "id": "IwuDBNERxsk-"
      },
      "source": [
        "9. Imprima por pantalla todos los numeros primos menos a $n$, pruebe con diferentes valores de $n$\n",
        "\n"
      ]
    },
    {
      "cell_type": "code",
      "execution_count": null,
      "metadata": {
        "id": "nB-zbEybxsk-"
      },
      "outputs": [],
      "source": []
    },
    {
      "cell_type": "markdown",
      "metadata": {
        "id": "-3UVUOoUxsk_"
      },
      "source": [
        "## Ejercicios con funciones\n",
        "Algunos de los siguientes ejercicios fueron tomados de diferentes recursos como: \n",
        "* https://github.com/zhiwehu/Python-programming-exercises/blob/master/100%2B%20Python%20challenging%20programming%20exercises.txt\n",
        "* https://github.com/darkprinx/100-plus-Python-programming-exercises-extended\n",
        "* https://projecteuler.net/"
      ]
    },
    {
      "cell_type": "markdown",
      "metadata": {
        "id": "edtda4Swxsk_"
      },
      "source": [
        "10. Encapsule las funciones de los ejercicios 8 y 9 de modo que tomen el parámetro $n$. Experimente con diferentes parámetros"
      ]
    },
    {
      "cell_type": "code",
      "execution_count": null,
      "metadata": {
        "id": "WtrRHSsKxsk_"
      },
      "outputs": [],
      "source": [
        "# Funcion lista de divisores\n",
        "def lista_de_divisores(n):\n",
        "    <CODIGO>\n",
        "\n",
        "# Funcion codigo numeros primos menores a n\n",
        "<CODIGO>\n",
        "\n",
        "\n"
      ]
    },
    {
      "cell_type": "markdown",
      "metadata": {
        "id": "f_K6fnckxslA"
      },
      "source": [
        "11. Escriba una funcion que calcule todos los numeros divisibles por 7 pero no multiplos de 5 entre 1000 y 5000.\n",
        "\n",
        "La funcion debe devolver una lista con estos numeros\n",
        "Hints: Puede usar la funcion range(desde,hasta)\n"
      ]
    },
    {
      "cell_type": "markdown",
      "metadata": {
        "id": "hGCYDmQYxslA"
      },
      "source": [
        "12. Haga una función que calcule el factorial de un numero $n$"
      ]
    },
    {
      "cell_type": "code",
      "execution_count": null,
      "metadata": {
        "id": "iFyX_hstxslA"
      },
      "outputs": [],
      "source": []
    },
    {
      "cell_type": "markdown",
      "metadata": {
        "id": "slI1ufw9xslB"
      },
      "source": [
        "13. Escriba una función que devuelva un diccionario donde las claves sean los numeros del 1 al $n$ (con $n$ parametro de la función) y en el significado de cada clave este guardado el cuadrado de ese numero.\n",
        "\n",
        "Por ejemplo si a la función le entra un 4 la funcion debe devolver {1:1,2:4,3:9,4:16}"
      ]
    },
    {
      "cell_type": "code",
      "execution_count": null,
      "metadata": {
        "id": "mHy0TbcOxslB"
      },
      "outputs": [],
      "source": []
    },
    {
      "cell_type": "markdown",
      "metadata": {
        "id": "GPaoW73ZxslB"
      },
      "source": [
        "14. Escriba una función que tome una lista de enteros y devuelva una lista de lista, donde cada lista contenga los divisores del numero correspondiente.\n",
        "\n",
        "Por ejemplo si función toma como entrada [3,6,12,11], la salida debe ser [[1,3],[1,2,3,6],[1,2,3,6,12],[1,11]]"
      ]
    },
    {
      "cell_type": "code",
      "execution_count": null,
      "metadata": {
        "id": "xsKtPwt2xslB"
      },
      "outputs": [],
      "source": []
    },
    {
      "cell_type": "markdown",
      "metadata": {
        "id": "tlXbFbcyxslB"
      },
      "source": [
        "15. Escriba una función que tome un numero entero y devuelva una lista con tuplas con los numeros primos que lo dividen y la cantidad de veces que el numero primo lo divide.\n",
        "\n",
        "Por ejemplo, si entra el número 2223000 la función debe devolver: [(2,3),(3,2),(13,1),(19,1)] pues $2^3 \\times 3^2 \\times 13^1 \\times 19^1 = 2223000$"
      ]
    },
    {
      "cell_type": "code",
      "execution_count": null,
      "metadata": {
        "id": "OaaiLRKNxslC"
      },
      "outputs": [],
      "source": [
        "\"\"\"\n",
        "Esto es una tupla en python, puede tener una cantidad fija \n",
        "pero arbitraria de elementos (es decir puede ser tan grande\n",
        "como se quiera pero no puede mutar)\"\"\"\n",
        "tupla = (3,6) "
      ]
    },
    {
      "cell_type": "markdown",
      "metadata": {
        "id": "5DvY3mnwxslC"
      },
      "source": [
        "16. Un número palíndromo se lee del derecho y el reves de la misma forma. El palindrome hecho por el producto de dos numeros de dos digitos mas grande es 9009 pues es producto de $91*99$\n",
        "\n",
        "Escriba un código para crear el palindromo más grande hecho por el pruducto de 2 numeros de 3 digitos\n",
        "\n",
        "Nota: Este ejercicio fue tomado de: https://projecteuler.net/problem=4\n"
      ]
    },
    {
      "cell_type": "code",
      "execution_count": null,
      "metadata": {
        "id": "PnrCvwPxxslC"
      },
      "outputs": [],
      "source": []
    },
    {
      "cell_type": "markdown",
      "metadata": {
        "id": "qjjDObK5xslC"
      },
      "source": [
        "17. Escriba una función que devuelve el $i-esimo$ número de la sucesión de Fibonacci  (https://en.wikipedia.org/wiki/Fibonacci_number)"
      ]
    },
    {
      "cell_type": "code",
      "execution_count": null,
      "metadata": {
        "id": "9-sNBAKjxslC"
      },
      "outputs": [],
      "source": []
    },
    {
      "cell_type": "markdown",
      "metadata": {
        "id": "hTjvux2ixslD"
      },
      "source": [
        "## Ejercicios Extras\n",
        "18. Registrese en https://projecteuler.net/ y complete todos los ejercicios que quiera en orden"
      ]
    },
    {
      "cell_type": "code",
      "execution_count": null,
      "metadata": {
        "id": "SjCmexHsxslD"
      },
      "outputs": [],
      "source": []
    }
  ],
  "metadata": {
    "kernelspec": {
      "display_name": "Python 3",
      "language": "python",
      "name": "python3"
    },
    "language_info": {
      "codemirror_mode": {
        "name": "ipython",
        "version": 3
      },
      "file_extension": ".py",
      "mimetype": "text/x-python",
      "name": "python",
      "nbconvert_exporter": "python",
      "pygments_lexer": "ipython3",
      "version": "3.7.3"
    },
    "colab": {
      "provenance": [],
      "include_colab_link": true
    }
  },
  "nbformat": 4,
  "nbformat_minor": 0
}